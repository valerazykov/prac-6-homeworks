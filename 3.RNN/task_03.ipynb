{
 "cells": [
  {
   "cell_type": "markdown",
   "metadata": {},
   "source": [
    "# `Практикум по программированию на языке Python`\n",
    "\n",
    "## `Задание 03. Рекуррентные Нейронные Сети. Dropout. LM`\n",
    "\n",
    "#### Фамилия, имя: \n",
    "\n",
    "Дата выдачи: <span style=\"color:red\">__30 марта 23:59__</span>.\n",
    "\n",
    "Мягкий дедлайн: <span style=\"color:red\">__13 апреля 23:59__</span>.\n",
    "\n",
    "Стоимость: __10 баллов__ (основная часть заданий) + __7 баллов__ (дополнительные задания).\n",
    "\n",
    "<span style=\"color:red\">__В ноутбуке все клетки должны выполняться без ошибок при последовательном их выполнении.__</span>\n",
    "\n",
    "#### `Москва, 2024`"
   ]
  },
  {
   "cell_type": "markdown",
   "metadata": {},
   "source": [
    "Данное задание будет состоять из двух частей:\n",
    "1. Применение рекуррентной сети для решения задачи классификации текста. Более конкретно -- предсказания рейтинга отзыва фильма.\n",
    "2. Простейшая лингвистическая модель для генерации текста на основе LSTM."
   ]
  },
  {
   "cell_type": "markdown",
   "metadata": {},
   "source": [
    "При выполнении задания вы обучите LSTM с разным уровнем \"коробочности\", а также познакомитесь с различными способами применения DropOut к рекуррентным архитектурам. В рекуррентных архитектурах вариантов, куда можно наложить бинарную маску шума, гораздо больше, чем в нейросетях прямого прохода.\n",
    "\n",
    "Во второй части вы попробуете реализовать простейший рекуррентный декодер для генерации текстов.\n",
    "\n",
    "Задание сделано так, чтобы его можно было выполнять на CPU, однако RNN - это ресурсоёмкая вещь, поэтому на GPU с ними работать приятнее. Можете попробовать использовать [https://colab.research.google.com](https://colab.research.google.com) - бесплатное облако с GPU."
   ]
  },
  {
   "cell_type": "markdown",
   "metadata": {},
   "source": [
    "**Для корректного отображения картинок, вам может понадобится сделать ноутбук доверенным (Trusted) в правом верхнем углу**"
   ]
  },
  {
   "cell_type": "markdown",
   "metadata": {},
   "source": [
    "# `Часть 0. Загрузка и предобработка данных (1 балл)`"
   ]
  },
  {
   "cell_type": "markdown",
   "metadata": {},
   "source": [
    "## `Рекомендуемые гиперпараметры`"
   ]
  },
  {
   "cell_type": "code",
   "execution_count": 1,
   "metadata": {
    "ExecuteTime": {
     "end_time": "2024-03-30T21:23:57.654183Z",
     "start_time": "2024-03-30T21:23:57.649242Z"
    },
    "execution": {
     "iopub.execute_input": "2024-04-15T18:30:35.269230Z",
     "iopub.status.busy": "2024-04-15T18:30:35.268230Z",
     "iopub.status.idle": "2024-04-15T18:30:35.281740Z",
     "shell.execute_reply": "2024-04-15T18:30:35.280739Z",
     "shell.execute_reply.started": "2024-04-15T18:30:35.269230Z"
    }
   },
   "outputs": [],
   "source": [
    "max_length = 200\n",
    "top_n_words = 5000\n",
    "\n",
    "hidden_dim = 128\n",
    "embedding_dim = 32\n",
    "\n",
    "num_epochs = 15\n",
    "batch_size = 64\n",
    "learning_rate = 1e-3"
   ]
  },
  {
   "cell_type": "markdown",
   "metadata": {},
   "source": [
    "Первое, что нужно сделать — скачать, предобработать данные и организовать их таким образом, чтобы их можно было подавать в нейронную сеть.\n",
    "\n",
    "Для обеих частей задания мы будем использовать [**Large Movie Review Dataset**](https://ai.stanford.edu/~amaas/data/sentiment/)."
   ]
  },
  {
   "cell_type": "markdown",
   "metadata": {},
   "source": [
    "## `Загрузка и предобработка данных`"
   ]
  },
  {
   "cell_type": "markdown",
   "metadata": {},
   "source": [
    "Загрузите данные по ссылке выше. (**tip**: используйте `wget`)"
   ]
  },
  {
   "cell_type": "code",
   "execution_count": 5,
   "metadata": {
    "ExecuteTime": {
     "end_time": "2024-03-30T21:24:30.812994Z",
     "start_time": "2024-03-30T21:23:57.655622Z"
    }
   },
   "outputs": [],
   "source": [
    "# В windows нет wget"
   ]
  },
  {
   "cell_type": "markdown",
   "metadata": {},
   "source": [
    "Распакуйте скачанные данные в папку `aclImdb` (**tip:** используйте `tar`)"
   ]
  },
  {
   "cell_type": "code",
   "execution_count": 6,
   "metadata": {
    "ExecuteTime": {
     "end_time": "2024-03-30T21:24:34.122786Z",
     "start_time": "2024-03-30T21:24:30.814849Z"
    }
   },
   "outputs": [],
   "source": [
    "# Распаковано вручную"
   ]
  },
  {
   "cell_type": "markdown",
   "metadata": {},
   "source": [
    "Посмотрите в файле `./aclImdb/README` как организованы данные:"
   ]
  },
  {
   "cell_type": "code",
   "execution_count": 2,
   "metadata": {
    "ExecuteTime": {
     "end_time": "2024-03-30T21:24:34.232726Z",
     "start_time": "2024-03-30T21:24:34.124249Z"
    },
    "execution": {
     "iopub.execute_input": "2024-04-15T04:27:30.643662Z",
     "iopub.status.busy": "2024-04-15T04:27:30.642663Z",
     "iopub.status.idle": "2024-04-15T04:27:30.694661Z",
     "shell.execute_reply": "2024-04-15T04:27:30.693662Z",
     "shell.execute_reply.started": "2024-04-15T04:27:30.643662Z"
    }
   },
   "outputs": [
    {
     "name": "stderr",
     "output_type": "stream",
     "text": [
      "\"cat\" ­Ґ пў«пҐвбп ў­гваҐ­­Ґ© Ё«Ё ў­Ґи­Ґ©\n",
      "Є®¬ ­¤®©, ЁбЇ®«­пҐ¬®© Їа®Ја ¬¬®© Ё«Ё Ї ЄҐв­л¬ д ©«®¬.\n"
     ]
    }
   ],
   "source": [
    "! cat ./aclImdb/train/pos/10003_8.txt"
   ]
  },
  {
   "cell_type": "code",
   "execution_count": 2,
   "metadata": {
    "ExecuteTime": {
     "end_time": "2024-03-30T21:24:34.236779Z",
     "start_time": "2024-03-30T21:24:34.234575Z"
    },
    "execution": {
     "iopub.execute_input": "2024-04-15T18:30:40.703733Z",
     "iopub.status.busy": "2024-04-15T18:30:40.703733Z",
     "iopub.status.idle": "2024-04-15T18:30:40.723801Z",
     "shell.execute_reply": "2024-04-15T18:30:40.722800Z",
     "shell.execute_reply.started": "2024-04-15T18:30:40.703733Z"
    }
   },
   "outputs": [],
   "source": [
    "test_data_path = './aclImdb/test/'\n",
    "train_data_path = './aclImdb/train/'"
   ]
  },
  {
   "cell_type": "code",
   "execution_count": 3,
   "metadata": {
    "ExecuteTime": {
     "end_time": "2024-03-30T21:24:35.529898Z",
     "start_time": "2024-03-30T21:24:34.238134Z"
    },
    "execution": {
     "iopub.execute_input": "2024-04-15T18:30:42.480480Z",
     "iopub.status.busy": "2024-04-15T18:30:42.480480Z",
     "iopub.status.idle": "2024-04-15T18:30:47.273863Z",
     "shell.execute_reply": "2024-04-15T18:30:47.273863Z",
     "shell.execute_reply.started": "2024-04-15T18:30:42.480480Z"
    }
   },
   "outputs": [
    {
     "name": "stderr",
     "output_type": "stream",
     "text": [
      "[nltk_data] Downloading package stopwords to\n",
      "[nltk_data]     C:\\Users\\valer\\AppData\\Roaming\\nltk_data...\n",
      "[nltk_data]   Package stopwords is already up-to-date!\n"
     ]
    }
   ],
   "source": [
    "import os\n",
    "from functools import partial\n",
    "from collections import defaultdict\n",
    "\n",
    "from IPython.display import Markdown, display\n",
    "\n",
    "import nltk\n",
    "nltk.download('stopwords')\n",
    "\n",
    "import regex\n",
    "import numpy as np\n",
    "\n",
    "import torch\n",
    "import torchtext\n",
    "from torch.utils.data import Dataset, DataLoader\n",
    "\n",
    "torch.backends.cudnn.benchmark = True\n",
    "torch.use_deterministic_algorithms(False)\n",
    "\n",
    "torch.autograd.profiler.profile(False)\n",
    "torch.autograd.profiler.emit_nvtx(False)\n",
    "torch.autograd.set_detect_anomaly(False)\n",
    "\n",
    "torch.set_float32_matmul_precision('high')\n",
    "torch.backends.cuda.matmul.allow_tf32 = True"
   ]
  },
  {
   "cell_type": "markdown",
   "metadata": {},
   "source": [
    "Стандартной предобработкой данных является токенизация текстов. Полученные токены можно будет закодировать и затем подавать на вход нейронной сети. Ключевым моментом, который влияет на скорость работы нейросети и её размер в памяти — размер словаря, используемого при токенизации. Для задачи классификации мы можем убрать часть слов (стоп слова, редкие слова), ускорив обучение без потери в качестве."
   ]
  },
  {
   "cell_type": "code",
   "execution_count": 4,
   "metadata": {
    "ExecuteTime": {
     "end_time": "2024-03-30T21:24:35.534374Z",
     "start_time": "2024-03-30T21:24:35.531641Z"
    },
    "execution": {
     "iopub.execute_input": "2024-04-15T18:30:53.095944Z",
     "iopub.status.busy": "2024-04-15T18:30:53.095944Z",
     "iopub.status.idle": "2024-04-15T18:30:53.127132Z",
     "shell.execute_reply": "2024-04-15T18:30:53.125231Z",
     "shell.execute_reply.started": "2024-04-15T18:30:53.095944Z"
    }
   },
   "outputs": [],
   "source": [
    "STOPWORDS = set(nltk.corpus.stopwords.words('english'))"
   ]
  },
  {
   "cell_type": "markdown",
   "metadata": {},
   "source": [
    "Реализуйте функцию для токенизации текста. Выполнять токенизацию можно по-разному, но в данном задании предлагается это делать следующим образом:\n",
    "1. Привести текст к нижнему регистру\n",
    "2. Убрать html разметку из текстов (`<br />`, ...)\n",
    "3. Убрать все символы кроме латинских букв\n",
    "4. Разбить строку по пробелам\n",
    "5. Убрать стоп слова"
   ]
  },
  {
   "cell_type": "code",
   "execution_count": 5,
   "metadata": {
    "ExecuteTime": {
     "end_time": "2024-03-30T21:24:35.544159Z",
     "start_time": "2024-03-30T21:24:35.535637Z"
    },
    "execution": {
     "iopub.execute_input": "2024-04-15T18:30:54.757287Z",
     "iopub.status.busy": "2024-04-15T18:30:54.756309Z",
     "iopub.status.idle": "2024-04-15T18:30:54.771818Z",
     "shell.execute_reply": "2024-04-15T18:30:54.770824Z",
     "shell.execute_reply.started": "2024-04-15T18:30:54.757287Z"
    }
   },
   "outputs": [],
   "source": [
    "from nltk.tokenize import word_tokenize\n",
    "import re\n",
    "\n",
    "\n",
    "CLEANR = re.compile('<.*?>') \n",
    "\n",
    "def cleanhtml(raw_html):\n",
    "    cleantext = re.sub(CLEANR, '', raw_html)\n",
    "    return cleantext\n",
    "\n",
    "def tokenize(text):\n",
    "    \"\"\"\n",
    "    :param str text: Input text \n",
    "    :return List[str]: List of words\n",
    "    \"\"\"\n",
    "    text = cleanhtml(text.lower())\n",
    "    text = \"\".join(c for c in text if c.isalpha() or c.isspace())\n",
    "\n",
    "    words = word_tokenize(text)\n",
    "    words = [word for word in words if word not in STOPWORDS]\n",
    "\n",
    "    return words"
   ]
  },
  {
   "cell_type": "code",
   "execution_count": 6,
   "metadata": {
    "ExecuteTime": {
     "end_time": "2024-03-30T21:24:35.555455Z",
     "start_time": "2024-03-30T21:24:35.545516Z"
    },
    "execution": {
     "iopub.execute_input": "2024-04-15T18:30:57.374884Z",
     "iopub.status.busy": "2024-04-15T18:30:57.374884Z",
     "iopub.status.idle": "2024-04-15T18:30:57.411105Z",
     "shell.execute_reply": "2024-04-15T18:30:57.408100Z",
     "shell.execute_reply.started": "2024-04-15T18:30:57.374884Z"
    }
   },
   "outputs": [
    {
     "data": {
      "text/plain": [
       "['hello', 'words']"
      ]
     },
     "execution_count": 6,
     "metadata": {},
     "output_type": "execute_result"
    }
   ],
   "source": [
    "tokenize('1. Hello <br /> words!! <br />')"
   ]
  },
  {
   "cell_type": "markdown",
   "metadata": {},
   "source": [
    "Теперь мы можем создать словарь, с помощью которого мы будем численно кодировать токены из текста и наоборот.\n",
    "\n",
    "Удобной обёрткой для создания словарей является класс `torchtext.vocab.Vocab` и фабрика для создания таких классов `torchtext.vocab.vocab`."
   ]
  },
  {
   "cell_type": "code",
   "execution_count": 7,
   "metadata": {
    "ExecuteTime": {
     "end_time": "2024-03-30T21:24:35.583404Z",
     "start_time": "2024-03-30T21:24:35.557077Z"
    },
    "execution": {
     "iopub.execute_input": "2024-04-15T18:30:58.970863Z",
     "iopub.status.busy": "2024-04-15T18:30:58.970863Z",
     "iopub.status.idle": "2024-04-15T18:30:59.036618Z",
     "shell.execute_reply": "2024-04-15T18:30:59.035614Z",
     "shell.execute_reply.started": "2024-04-15T18:30:58.970863Z"
    }
   },
   "outputs": [
    {
     "data": {
      "text/plain": [
       "\u001b[1;31mSignature:\u001b[0m\n",
       "\u001b[0mtorchtext\u001b[0m\u001b[1;33m.\u001b[0m\u001b[0mvocab\u001b[0m\u001b[1;33m.\u001b[0m\u001b[0mvocab\u001b[0m\u001b[1;33m(\u001b[0m\u001b[1;33m\n",
       "\u001b[0m    \u001b[0mordered_dict\u001b[0m\u001b[1;33m:\u001b[0m \u001b[0mDict\u001b[0m\u001b[1;33m,\u001b[0m\u001b[1;33m\n",
       "\u001b[0m    \u001b[0mmin_freq\u001b[0m\u001b[1;33m:\u001b[0m \u001b[0mint\u001b[0m \u001b[1;33m=\u001b[0m \u001b[1;36m1\u001b[0m\u001b[1;33m,\u001b[0m\u001b[1;33m\n",
       "\u001b[0m    \u001b[0mspecials\u001b[0m\u001b[1;33m:\u001b[0m \u001b[0mOptional\u001b[0m\u001b[1;33m[\u001b[0m\u001b[0mList\u001b[0m\u001b[1;33m[\u001b[0m\u001b[0mstr\u001b[0m\u001b[1;33m]\u001b[0m\u001b[1;33m]\u001b[0m \u001b[1;33m=\u001b[0m \u001b[1;32mNone\u001b[0m\u001b[1;33m,\u001b[0m\u001b[1;33m\n",
       "\u001b[0m    \u001b[0mspecial_first\u001b[0m\u001b[1;33m:\u001b[0m \u001b[0mbool\u001b[0m \u001b[1;33m=\u001b[0m \u001b[1;32mTrue\u001b[0m\u001b[1;33m,\u001b[0m\u001b[1;33m\n",
       "\u001b[0m\u001b[1;33m)\u001b[0m \u001b[1;33m->\u001b[0m \u001b[0mtorchtext\u001b[0m\u001b[1;33m.\u001b[0m\u001b[0mvocab\u001b[0m\u001b[1;33m.\u001b[0m\u001b[0mvocab\u001b[0m\u001b[1;33m.\u001b[0m\u001b[0mVocab\u001b[0m\u001b[1;33m\u001b[0m\u001b[1;33m\u001b[0m\u001b[0m\n",
       "\u001b[1;31mSource:\u001b[0m   \n",
       "\u001b[1;32mdef\u001b[0m \u001b[0mvocab\u001b[0m\u001b[1;33m(\u001b[0m\u001b[1;33m\n",
       "\u001b[0m    \u001b[0mordered_dict\u001b[0m\u001b[1;33m:\u001b[0m \u001b[0mDict\u001b[0m\u001b[1;33m,\u001b[0m \u001b[0mmin_freq\u001b[0m\u001b[1;33m:\u001b[0m \u001b[0mint\u001b[0m \u001b[1;33m=\u001b[0m \u001b[1;36m1\u001b[0m\u001b[1;33m,\u001b[0m \u001b[0mspecials\u001b[0m\u001b[1;33m:\u001b[0m \u001b[0mOptional\u001b[0m\u001b[1;33m[\u001b[0m\u001b[0mList\u001b[0m\u001b[1;33m[\u001b[0m\u001b[0mstr\u001b[0m\u001b[1;33m]\u001b[0m\u001b[1;33m]\u001b[0m \u001b[1;33m=\u001b[0m \u001b[1;32mNone\u001b[0m\u001b[1;33m,\u001b[0m \u001b[0mspecial_first\u001b[0m\u001b[1;33m:\u001b[0m \u001b[0mbool\u001b[0m \u001b[1;33m=\u001b[0m \u001b[1;32mTrue\u001b[0m\u001b[1;33m\n",
       "\u001b[0m\u001b[1;33m)\u001b[0m \u001b[1;33m->\u001b[0m \u001b[0mVocab\u001b[0m\u001b[1;33m:\u001b[0m\u001b[1;33m\n",
       "\u001b[0m    \u001b[1;34mr\"\"\"Factory method for creating a vocab object which maps tokens to indices.\n",
       "\n",
       "    Note that the ordering in which key value pairs were inserted in the `ordered_dict` will be respected when building the vocab.\n",
       "    Therefore if sorting by token frequency is important to the user, the `ordered_dict` should be created in a way to reflect this.\n",
       "\n",
       "    Args:\n",
       "        ordered_dict: Ordered Dictionary mapping tokens to their corresponding occurance frequencies.\n",
       "        min_freq: The minimum frequency needed to include a token in the vocabulary.\n",
       "        specials: Special symbols to add. The order of supplied tokens will be preserved.\n",
       "        special_first: Indicates whether to insert symbols at the beginning or at the end.\n",
       "\n",
       "    Returns:\n",
       "        torchtext.vocab.Vocab: A `Vocab` object\n",
       "\n",
       "    Examples:\n",
       "        >>> from torchtext.vocab import vocab\n",
       "        >>> from collections import Counter, OrderedDict\n",
       "        >>> counter = Counter([\"a\", \"a\", \"b\", \"b\", \"b\"])\n",
       "        >>> sorted_by_freq_tuples = sorted(counter.items(), key=lambda x: x[1], reverse=True)\n",
       "        >>> ordered_dict = OrderedDict(sorted_by_freq_tuples)\n",
       "        >>> v1 = vocab(ordered_dict)\n",
       "        >>> print(v1['a']) #prints 1\n",
       "        >>> print(v1['out of vocab']) #raise RuntimeError since default index is not set\n",
       "        >>> tokens = ['e', 'd', 'c', 'b', 'a']\n",
       "        >>> #adding <unk> token and default index\n",
       "        >>> unk_token = '<unk>'\n",
       "        >>> default_index = -1\n",
       "        >>> v2 = vocab(OrderedDict([(token, 1) for token in tokens]), specials=[unk_token])\n",
       "        >>> v2.set_default_index(default_index)\n",
       "        >>> print(v2['<unk>']) #prints 0\n",
       "        >>> print(v2['out of vocab']) #prints -1\n",
       "        >>> #make default index same as index of unk_token\n",
       "        >>> v2.set_default_index(v2[unk_token])\n",
       "        >>> v2['out of vocab'] is v2[unk_token] #prints True\n",
       "    \"\"\"\u001b[0m\u001b[1;33m\n",
       "\u001b[0m    \u001b[0mspecials\u001b[0m \u001b[1;33m=\u001b[0m \u001b[0mspecials\u001b[0m \u001b[1;32mor\u001b[0m \u001b[1;33m[\u001b[0m\u001b[1;33m]\u001b[0m\u001b[1;33m\n",
       "\u001b[0m    \u001b[1;32mfor\u001b[0m \u001b[0mtoken\u001b[0m \u001b[1;32min\u001b[0m \u001b[0mspecials\u001b[0m\u001b[1;33m:\u001b[0m\u001b[1;33m\n",
       "\u001b[0m        \u001b[0mordered_dict\u001b[0m\u001b[1;33m.\u001b[0m\u001b[0mpop\u001b[0m\u001b[1;33m(\u001b[0m\u001b[0mtoken\u001b[0m\u001b[1;33m,\u001b[0m \u001b[1;32mNone\u001b[0m\u001b[1;33m)\u001b[0m\u001b[1;33m\n",
       "\u001b[0m\u001b[1;33m\n",
       "\u001b[0m    \u001b[0mtokens\u001b[0m \u001b[1;33m=\u001b[0m \u001b[1;33m[\u001b[0m\u001b[1;33m]\u001b[0m\u001b[1;33m\n",
       "\u001b[0m    \u001b[1;31m# Save room for special tokens\u001b[0m\u001b[1;33m\n",
       "\u001b[0m    \u001b[1;32mfor\u001b[0m \u001b[0mtoken\u001b[0m\u001b[1;33m,\u001b[0m \u001b[0mfreq\u001b[0m \u001b[1;32min\u001b[0m \u001b[0mordered_dict\u001b[0m\u001b[1;33m.\u001b[0m\u001b[0mitems\u001b[0m\u001b[1;33m(\u001b[0m\u001b[1;33m)\u001b[0m\u001b[1;33m:\u001b[0m\u001b[1;33m\n",
       "\u001b[0m        \u001b[1;32mif\u001b[0m \u001b[0mfreq\u001b[0m \u001b[1;33m>=\u001b[0m \u001b[0mmin_freq\u001b[0m\u001b[1;33m:\u001b[0m\u001b[1;33m\n",
       "\u001b[0m            \u001b[0mtokens\u001b[0m\u001b[1;33m.\u001b[0m\u001b[0mappend\u001b[0m\u001b[1;33m(\u001b[0m\u001b[0mtoken\u001b[0m\u001b[1;33m)\u001b[0m\u001b[1;33m\n",
       "\u001b[0m\u001b[1;33m\n",
       "\u001b[0m    \u001b[1;32mif\u001b[0m \u001b[0mspecial_first\u001b[0m\u001b[1;33m:\u001b[0m\u001b[1;33m\n",
       "\u001b[0m        \u001b[0mtokens\u001b[0m\u001b[1;33m[\u001b[0m\u001b[1;36m0\u001b[0m\u001b[1;33m:\u001b[0m\u001b[1;36m0\u001b[0m\u001b[1;33m]\u001b[0m \u001b[1;33m=\u001b[0m \u001b[0mspecials\u001b[0m\u001b[1;33m\n",
       "\u001b[0m    \u001b[1;32melse\u001b[0m\u001b[1;33m:\u001b[0m\u001b[1;33m\n",
       "\u001b[0m        \u001b[0mtokens\u001b[0m\u001b[1;33m.\u001b[0m\u001b[0mextend\u001b[0m\u001b[1;33m(\u001b[0m\u001b[0mspecials\u001b[0m\u001b[1;33m)\u001b[0m\u001b[1;33m\n",
       "\u001b[0m\u001b[1;33m\n",
       "\u001b[0m    \u001b[1;32mreturn\u001b[0m \u001b[0mVocab\u001b[0m\u001b[1;33m(\u001b[0m\u001b[0mVocabPybind\u001b[0m\u001b[1;33m(\u001b[0m\u001b[0mtokens\u001b[0m\u001b[1;33m,\u001b[0m \u001b[1;32mNone\u001b[0m\u001b[1;33m)\u001b[0m\u001b[1;33m)\u001b[0m\u001b[1;33m\u001b[0m\u001b[1;33m\u001b[0m\u001b[0m\n",
       "\u001b[1;31mFile:\u001b[0m      c:\\users\\valer\\anaconda3\\lib\\site-packages\\torchtext\\vocab\\vocab_factory.py\n",
       "\u001b[1;31mType:\u001b[0m      function"
      ]
     },
     "metadata": {},
     "output_type": "display_data"
    }
   ],
   "source": [
    "torchtext.vocab.vocab??"
   ]
  },
  {
   "cell_type": "markdown",
   "metadata": {
    "ExecuteTime": {
     "end_time": "2021-04-01T19:51:55.300753Z",
     "start_time": "2021-04-01T19:51:55.275188Z"
    }
   },
   "source": [
    "Чтобы создать такой словарь, сначала нужно создать словарь со всеми токенами в тексте и их частотами встречаемости:"
   ]
  },
  {
   "cell_type": "code",
   "execution_count": 8,
   "metadata": {
    "ExecuteTime": {
     "end_time": "2024-03-30T21:24:48.727626Z",
     "start_time": "2024-03-30T21:24:35.585762Z"
    },
    "execution": {
     "iopub.execute_input": "2024-04-15T18:31:02.550260Z",
     "iopub.status.busy": "2024-04-15T18:31:02.549233Z",
     "iopub.status.idle": "2024-04-15T18:31:45.565239Z",
     "shell.execute_reply": "2024-04-15T18:31:45.564717Z",
     "shell.execute_reply.started": "2024-04-15T18:31:02.550260Z"
    }
   },
   "outputs": [],
   "source": [
    "counter = defaultdict(int)\n",
    "\n",
    "for path in ['./aclImdb/test/neg', './aclImdb/test/pos', './aclImdb/train/neg', './aclImdb/train/pos']:\n",
    "    for file_path in os.listdir(path):\n",
    "        text = open(os.path.join(path, file_path), 'r', encoding='utf-8', errors='ignore').read().strip()\n",
    "        for token in tokenize(text):\n",
    "            counter[token] += 1"
   ]
  },
  {
   "cell_type": "markdown",
   "metadata": {},
   "source": [
    "Для работы с текстами нам необходимо зарезервировать два специальных токена:\n",
    "1. `<pad>` для токена означающего паддинг\n",
    "2. `<unk>` для токенов, которые отсутствуют в словаре"
   ]
  },
  {
   "cell_type": "code",
   "execution_count": 9,
   "metadata": {
    "ExecuteTime": {
     "end_time": "2024-03-30T21:24:48.731428Z",
     "start_time": "2024-03-30T21:24:48.729316Z"
    },
    "execution": {
     "iopub.execute_input": "2024-04-15T18:31:45.823419Z",
     "iopub.status.busy": "2024-04-15T18:31:45.822422Z",
     "iopub.status.idle": "2024-04-15T18:31:45.833953Z",
     "shell.execute_reply": "2024-04-15T18:31:45.831954Z",
     "shell.execute_reply.started": "2024-04-15T18:31:45.823419Z"
    }
   },
   "outputs": [],
   "source": [
    "specials = ['<pad>', '<unk>']\n",
    "for special in specials:\n",
    "    counter[special] = 0"
   ]
  },
  {
   "cell_type": "markdown",
   "metadata": {},
   "source": [
    "Создайте словарь из словаря частот `counter`. Наименьшие *id* отдайте под специальные токены. \n",
    "\n",
    "Отбросьте низкочастотные слова, оставив только `top_n_words` слов. Можете использовать любой способ реализации этого условия, например:\n",
    "1. Оставить в словаре `counter` нужное число слов\n",
    "2. Подобрать параметр `min_freq`, чтобы оставшееся число слов было близко к необходимому порогу"
   ]
  },
  {
   "cell_type": "code",
   "execution_count": 10,
   "metadata": {
    "ExecuteTime": {
     "end_time": "2024-03-30T21:24:48.744719Z",
     "start_time": "2024-03-30T21:24:48.732795Z"
    },
    "execution": {
     "iopub.execute_input": "2024-04-15T18:31:45.835468Z",
     "iopub.status.busy": "2024-04-15T18:31:45.835468Z",
     "iopub.status.idle": "2024-04-15T18:31:45.852021Z",
     "shell.execute_reply": "2024-04-15T18:31:45.848025Z",
     "shell.execute_reply.started": "2024-04-15T18:31:45.835468Z"
    }
   },
   "outputs": [
    {
     "data": {
      "text/plain": [
       "'0.17.0+cpu'"
      ]
     },
     "execution_count": 10,
     "metadata": {},
     "output_type": "execute_result"
    }
   ],
   "source": [
    "torchtext.__version__"
   ]
  },
  {
   "cell_type": "code",
   "execution_count": 11,
   "metadata": {
    "ExecuteTime": {
     "end_time": "2024-03-30T21:24:48.792756Z",
     "start_time": "2024-03-30T21:24:48.746601Z"
    },
    "execution": {
     "iopub.execute_input": "2024-04-15T18:31:45.855535Z",
     "iopub.status.busy": "2024-04-15T18:31:45.854528Z",
     "iopub.status.idle": "2024-04-15T18:31:46.039538Z",
     "shell.execute_reply": "2024-04-15T18:31:46.036522Z",
     "shell.execute_reply.started": "2024-04-15T18:31:45.855535Z"
    }
   },
   "outputs": [],
   "source": [
    "from collections import OrderedDict\n",
    "\n",
    "\n",
    "vocab = torchtext.vocab.vocab(\n",
    "    OrderedDict(sorted(counter.items(), key=lambda x: x[1], reverse=True)[:top_n_words]),\n",
    "    min_freq=1,\n",
    "    specials=specials\n",
    ")\n",
    "vocab.set_default_index(vocab['<unk>'])"
   ]
  },
  {
   "cell_type": "code",
   "execution_count": 12,
   "metadata": {
    "ExecuteTime": {
     "end_time": "2024-03-30T21:24:48.802810Z",
     "start_time": "2024-03-30T21:24:48.794116Z"
    },
    "execution": {
     "iopub.execute_input": "2024-04-15T18:31:46.042538Z",
     "iopub.status.busy": "2024-04-15T18:31:46.041564Z",
     "iopub.status.idle": "2024-04-15T18:31:46.069765Z",
     "shell.execute_reply": "2024-04-15T18:31:46.066751Z",
     "shell.execute_reply.started": "2024-04-15T18:31:46.042538Z"
    }
   },
   "outputs": [
    {
     "data": {
      "text/plain": [
       "[0, 1]"
      ]
     },
     "execution_count": 12,
     "metadata": {},
     "output_type": "execute_result"
    }
   ],
   "source": [
    "vocab.lookup_indices(['<pad>', '<unk>'])"
   ]
  },
  {
   "cell_type": "code",
   "execution_count": 13,
   "metadata": {
    "ExecuteTime": {
     "end_time": "2024-03-30T21:24:48.811851Z",
     "start_time": "2024-03-30T21:24:48.804530Z"
    },
    "execution": {
     "iopub.execute_input": "2024-04-15T18:31:46.073139Z",
     "iopub.status.busy": "2024-04-15T18:31:46.071761Z",
     "iopub.status.idle": "2024-04-15T18:31:46.099423Z",
     "shell.execute_reply": "2024-04-15T18:31:46.098327Z",
     "shell.execute_reply.started": "2024-04-15T18:31:46.073139Z"
    }
   },
   "outputs": [
    {
     "data": {
      "text/plain": [
       "[1, 3, 1, 272]"
      ]
     },
     "execution_count": 13,
     "metadata": {},
     "output_type": "execute_result"
    }
   ],
   "source": [
    "vocab.lookup_indices(['this', 'film', 'was', 'awful'])"
   ]
  },
  {
   "cell_type": "markdown",
   "metadata": {},
   "source": [
    "Теперь мы готовы создать обёртку-датасет для наших данных. \n",
    "\n",
    "Необходимо добавить несколько опции, которые понадобятся во второй части задания:\n",
    "1. Ограничение на максимальную длину текста в токенах. Если текст оказывается длиннее, то последние токены отбрасываются\n",
    "2. Возможность добавить в специальные токены `<sos>`, `<eos>` в начало и конец токенизированного текста\n",
    "    \n",
    "**tips:**\n",
    "1. Обратите особое внимание, что у длинных текстов не должен обрезаться паддинг\n",
    "2. В исходных данных рейтинг закодирован в названии файла в виде числа от $1$ до $10$. Для удобства, вычтите $1$, чтобы рейтинг был от $0$ до $9$"
   ]
  },
  {
   "cell_type": "code",
   "execution_count": 14,
   "metadata": {
    "ExecuteTime": {
     "end_time": "2024-03-30T21:24:48.821229Z",
     "start_time": "2024-03-30T21:24:48.813451Z"
    },
    "execution": {
     "iopub.execute_input": "2024-04-15T18:31:46.100328Z",
     "iopub.status.busy": "2024-04-15T18:31:46.100328Z",
     "iopub.status.idle": "2024-04-15T18:31:46.129925Z",
     "shell.execute_reply": "2024-04-15T18:31:46.128953Z",
     "shell.execute_reply.started": "2024-04-15T18:31:46.100328Z"
    }
   },
   "outputs": [],
   "source": [
    "class LargeMovieReviewDataset(Dataset):\n",
    "    def __init__(self, data_path, vocab, max_len, pad_sos=False, pad_eos=False):\n",
    "        \"\"\"\n",
    "        :param str data_path: Path to folder with one of the data splits (train or test)\n",
    "        :param torchtext.vocab.Vocab vocab: dictionary with lookup_indices method\n",
    "        :param int max_len: Maximum length of tokenized text\n",
    "        :param bool pad_sos: If True pad sequence at the beginning with <sos> \n",
    "        :param bool pad_eos: If True pad sequence at the end with <eos>         \n",
    "        \"\"\"\n",
    "        super().__init__()\n",
    "        \n",
    "        self.pad_sos = pad_sos\n",
    "        if self.pad_sos:\n",
    "            self.sos_id = vocab.lookup_indices(['<sos>'])[0]\n",
    "        self.pad_eos = pad_eos\n",
    "        if self.pad_eos:\n",
    "            self.eos_id = vocab.lookup_indices(['<eos>'])[0]\n",
    "        \n",
    "        self.vocab = vocab\n",
    "        self.max_len = max_len\n",
    "        self.data_path = data_path\n",
    "        self.negative_path = os.path.join(data_path, 'neg')\n",
    "        self.positive_path = os.path.join(data_path, 'pos')\n",
    "        \n",
    "        self.negative_paths = []\n",
    "        self.positive_paths = []\n",
    "\n",
    "        for file_path in os.listdir(self.negative_path):\n",
    "            self.negative_paths.append(os.path.join(self.negative_path, file_path))\n",
    "\n",
    "        for file_path in os.listdir(self.positive_path):\n",
    "            self.positive_paths.append(os.path.join(self.positive_path, file_path))\n",
    "        \n",
    "        self.texts = []\n",
    "        self.tokens = []\n",
    "        self.ratings = []\n",
    "        self.labels = [0] * len(self.negative_paths) + [1] * len(self.positive_paths)\n",
    "        \n",
    "        # Read each file in data_path, tokenize it, get tokens ids, its rating and store\n",
    "        for path in self.negative_paths + self.positive_paths:\n",
    "            with open(path, 'r', encoding='utf-8', errors='ignore') as f:\n",
    "                text = f.read().strip()\n",
    "                tokens = tokenize(text)\n",
    "                tokens = vocab.lookup_indices(tokens)[:max_len - pad_sos - pad_eos]\n",
    "                if pad_sos:\n",
    "                    tokens = [self.sos_id] + tokens\n",
    "                if pad_eos:\n",
    "                    tokens = tokens + [self.eos_id]\n",
    "                rating = int(path[path.rfind(\"_\") + 1 : path.rfind(\".txt\")]) - 1\n",
    "                self.texts.append(text)\n",
    "                self.tokens.append(tokens)\n",
    "                self.ratings.append(rating)\n",
    "\n",
    "        \n",
    "    def __getitem__(self, idx):\n",
    "        \"\"\"\n",
    "        :param int idx: index of object in dataset\n",
    "        :return dict: Dictionary with all useful object data \n",
    "            {\n",
    "                'text' str: unprocessed text,\n",
    "                'label' torch.Tensor(dtype=torch.long): sentiment of the text (0 for negative, 1 for positive)\n",
    "                'rating' torch.Tensor(dtype=torch.long): rating of the text\n",
    "                'tokens' torch.Tensor(dtype=torch.long): tensor of tokens ids for the text\n",
    "                'tokens_len' torch.Tensor(dtype=torch.long): number of tokens\n",
    "            }\n",
    "        \"\"\"\n",
    "        return {\n",
    "            \"text\": self.texts[idx],\n",
    "            \"label\": torch.tensor(self.labels[idx], dtype=torch.long),\n",
    "            \"rating\": torch.tensor(self.ratings[idx], dtype=torch.long),\n",
    "            \"tokens\": torch.tensor(self.tokens[idx], dtype=torch.long),\n",
    "            \"tokens_len\": torch.tensor(len(self.tokens[idx]), dtype=torch.long)\n",
    "        }\n",
    "    \n",
    "    def __len__(self):\n",
    "        \"\"\"\n",
    "        :return int: number of objects in dataset \n",
    "        \"\"\"\n",
    "        return len(self.texts)"
   ]
  },
  {
   "cell_type": "markdown",
   "metadata": {},
   "source": [
    "Создайте датасеты для тестовой и обучающей выборки. \n",
    "\n",
    "Обратите внимание, что для задачи классификации нам не потребуется паддинг с помощью `<sos>`, `<eos>`. \n",
    "\n",
    "Не забудьте обрезать длинные тексты, передав параметр `max_length`."
   ]
  },
  {
   "cell_type": "code",
   "execution_count": 17,
   "metadata": {
    "ExecuteTime": {
     "end_time": "2024-03-30T21:25:02.011587Z",
     "start_time": "2024-03-30T21:24:48.822597Z"
    },
    "execution": {
     "iopub.execute_input": "2024-04-13T10:59:10.434868Z",
     "iopub.status.busy": "2024-04-13T10:59:10.433866Z",
     "iopub.status.idle": "2024-04-13T10:59:49.717801Z",
     "shell.execute_reply": "2024-04-13T10:59:49.712803Z",
     "shell.execute_reply.started": "2024-04-13T10:59:10.434868Z"
    }
   },
   "outputs": [],
   "source": [
    "test_dataset = LargeMovieReviewDataset(test_data_path, vocab, max_length, pad_sos=False, pad_eos=False)\n",
    "train_dataset = LargeMovieReviewDataset(train_data_path, vocab, max_length, pad_sos=False, pad_eos=False)"
   ]
  },
  {
   "cell_type": "markdown",
   "metadata": {},
   "source": [
    "Посмотрим, как выглядит объект в датасете:"
   ]
  },
  {
   "cell_type": "code",
   "execution_count": 18,
   "metadata": {
    "ExecuteTime": {
     "end_time": "2024-03-30T21:25:02.017429Z",
     "start_time": "2024-03-30T21:25:02.013091Z"
    },
    "execution": {
     "iopub.execute_input": "2024-04-13T10:59:49.719802Z",
     "iopub.status.busy": "2024-04-13T10:59:49.718804Z",
     "iopub.status.idle": "2024-04-13T10:59:49.778347Z",
     "shell.execute_reply": "2024-04-13T10:59:49.776358Z",
     "shell.execute_reply.started": "2024-04-13T10:59:49.719802Z"
    }
   },
   "outputs": [
    {
     "data": {
      "text/plain": [
       "{'text': \"Once again Mr. Costner has dragged out a movie for far longer than necessary. Aside from the terrific sea rescue sequences, of which there are very few I just did not care about any of the characters. Most of us have ghosts in the closet, and Costner's character are realized early on, and then forgotten until much later, by which time I did not care. The character we should really care about is a very cocky, overconfident Ashton Kutcher. The problem is he comes off as kid who thinks he's better than anyone else around him and shows no signs of a cluttered closet. His only obstacle appears to be winning over Costner. Finally when we are well past the half way point of this stinker, Costner tells us all about Kutcher's ghosts. We are told why Kutcher is driven to be the best with no prior inkling or foreshadowing. No magic here, it was all I could do to keep from turning it off an hour in.\",\n",
       " 'label': tensor(0),\n",
       " 'rating': tensor(1),\n",
       " 'tokens': tensor([ 337,    1, 3160,    2,  127,  992, 1550, 1075, 1149, 1514, 1955,  713,\n",
       "          339,   28,   77, 2742, 4157,    1,   34, 1496,  290, 1403,   13,  200,\n",
       "            9,  339,   34,   10,  339,    1,    1,    1,    1,  325,  158,  423,\n",
       "         1059,  130,   45,  147,  220,   89,  155, 3508,    1, 4157,    1,  587,\n",
       "         1815,    1,  322,   14,  387,  239,   27,  123, 3870,    1,  573,   77,\n",
       "            1, 2742,  434,    1, 2437,   40, 2331,    1,    1, 1168,   26,  269,\n",
       "         1423,  429]),\n",
       " 'tokens_len': tensor(74)}"
      ]
     },
     "execution_count": 18,
     "metadata": {},
     "output_type": "execute_result"
    }
   ],
   "source": [
    "test_dataset[0]"
   ]
  },
  {
   "cell_type": "markdown",
   "metadata": {},
   "source": [
    "Теперь нам нужно создать `DataLoader` для наших данных. `DataLoader` умеет из коробки объединять список объектов из датасета в один батч, даже когда датасет возвращает словарь тензоров. Однако, это работает только в случае когда все эти тензоры имеют один и тот же размер во всех батчах. В нашем случае, это не так, так как разные тексты могут иметь разную длину.\n",
    "\n",
    "Чтобы обойти эту проблему у `DataLoader` есть параметр `collate_fn`, который позволяет задать функцию для объединения списка объектов в один батч."
   ]
  },
  {
   "cell_type": "markdown",
   "metadata": {},
   "source": [
    "Чтобы объединить несколько тензоров разной длины в один можно использовать функцию `torch.nn.utils.rnn.pad_sequence`\n",
    "\n",
    "Обратите внимание на её аргументы:\n",
    "1. `batch_first` определяет по какой оси \"складывать\" тензоры. Предпочтительнее использовать `batch_first=False` так как это может упростить выполнение задания в дальнейшем \n",
    "2. `padding_value` — число, которое будет использоваться в качестве паддинга, чтобы сделать все тензоры одинаковой длины"
   ]
  },
  {
   "cell_type": "code",
   "execution_count": 19,
   "metadata": {
    "ExecuteTime": {
     "end_time": "2024-03-30T21:25:02.026862Z",
     "start_time": "2024-03-30T21:25:02.018970Z"
    },
    "execution": {
     "iopub.execute_input": "2024-04-13T10:59:49.779348Z",
     "iopub.status.busy": "2024-04-13T10:59:49.779348Z",
     "iopub.status.idle": "2024-04-13T10:59:49.808352Z",
     "shell.execute_reply": "2024-04-13T10:59:49.807346Z",
     "shell.execute_reply.started": "2024-04-13T10:59:49.779348Z"
    }
   },
   "outputs": [
    {
     "data": {
      "text/plain": [
       "tensor([[ 1,  4,  6],\n",
       "        [ 2,  5,  7],\n",
       "        [ 3, -1,  8],\n",
       "        [-1, -1,  9]])"
      ]
     },
     "execution_count": 19,
     "metadata": {},
     "output_type": "execute_result"
    }
   ],
   "source": [
    "torch.nn.utils.rnn.pad_sequence([\n",
    "    torch.tensor([1, 2, 3]),\n",
    "    torch.tensor([4, 5]),\n",
    "    torch.tensor([6, 7, 8, 9])\n",
    "], batch_first=False, padding_value=-1)"
   ]
  },
  {
   "cell_type": "code",
   "execution_count": 15,
   "metadata": {
    "ExecuteTime": {
     "end_time": "2024-03-30T21:25:02.036500Z",
     "start_time": "2024-03-30T21:25:02.027955Z"
    },
    "execution": {
     "iopub.execute_input": "2024-04-15T18:31:46.130925Z",
     "iopub.status.busy": "2024-04-15T18:31:46.130925Z",
     "iopub.status.idle": "2024-04-15T18:31:46.147001Z",
     "shell.execute_reply": "2024-04-15T18:31:46.145066Z",
     "shell.execute_reply.started": "2024-04-15T18:31:46.130925Z"
    }
   },
   "outputs": [],
   "source": [
    "def collate_fn(batch, padding_value, batch_first=False):\n",
    "    \"\"\"\n",
    "    :param List[Dict] batch: List of objects from dataset\n",
    "    :param int padding_value: Value that will be used to pad tokens\n",
    "    :param bool batch_first: If True resulting tensor with tokens must have shape [B, T] otherwise [T, B]\n",
    "    :return dict: Dictionary with all data collated\n",
    "        {\n",
    "            'ratings' torch.Tensor(dtype=torch.long): rating of the text for each object in batch\n",
    "            'labels' torch.Tensor(dtype=torch.long): sentiment of the text for each object in batch\n",
    "            \n",
    "            'texts' List[str]: All texts in one list\n",
    "            'tokens' torch.Tensor(dtype=torch.long): tensor of tokens ids padded with @padding_value\n",
    "            'tokens_lens' torch.Tensor(dtype=torch.long): number of tokens for each object in batch\n",
    "        }\n",
    "    \"\"\"\n",
    "    ratings = torch.zeros(len(batch), dtype=torch.long)\n",
    "    labels = torch.zeros_like(ratings)\n",
    "    texts = []\n",
    "    tokens = []\n",
    "    tokens_lens = torch.zeros_like(ratings)\n",
    "\n",
    "    for i, obj in enumerate(batch):\n",
    "        ratings[i] = obj[\"rating\"]\n",
    "        labels[i] = obj[\"label\"]\n",
    "        texts.append(obj[\"text\"])\n",
    "        tokens.append(obj[\"tokens\"])\n",
    "        tokens_lens[i] = obj[\"tokens_len\"]\n",
    "\n",
    "    tokens = torch.nn.utils.rnn.pad_sequence(tokens, batch_first=batch_first, padding_value=padding_value)\n",
    "\n",
    "    return {\n",
    "        \"ratings\": ratings,\n",
    "        \"labels\": labels,\n",
    "        \"texts\": texts,\n",
    "        \"tokens\": tokens,\n",
    "        \"tokens_lens\": tokens_lens\n",
    "    }"
   ]
  },
  {
   "cell_type": "markdown",
   "metadata": {},
   "source": [
    "Создайте даталоадеры с использованием `collate_fn`.\n",
    "\n",
    "**tips**:\n",
    "1. Передать в `collate_fn` правильное значение паддинга можно, например, с помощью `functools.partial`\n",
    "2. Если вы работаете в Google Colab, то, возможно, вам будет необходимо установить `num_workers=0` во избежание падения ноутбука."
   ]
  },
  {
   "cell_type": "code",
   "execution_count": 16,
   "metadata": {
    "execution": {
     "iopub.execute_input": "2024-04-15T18:31:46.149028Z",
     "iopub.status.busy": "2024-04-15T18:31:46.148031Z",
     "iopub.status.idle": "2024-04-15T18:31:46.161553Z",
     "shell.execute_reply": "2024-04-15T18:31:46.160554Z",
     "shell.execute_reply.started": "2024-04-15T18:31:46.148031Z"
    }
   },
   "outputs": [],
   "source": [
    "import random\n",
    "\n",
    "def set_global_seed(seed: int) -> None:\n",
    "    \"\"\"\n",
    "    Set global seed for reproducibility.\n",
    "    \"\"\"\n",
    "    torch.manual_seed(seed)\n",
    "    torch.cuda.manual_seed(seed)\n",
    "    torch.cuda.manual_seed_all(seed)\n",
    "    np.random.seed(seed)\n",
    "    random.seed(seed)\n",
    "    # torch.use_deterministic_algorithms(True) # если нужно гарантировать 1000% воспроизводимость\n",
    "\n",
    "    # Для Dataloader\n",
    "    g = torch.Generator()\n",
    "    g.manual_seed(seed)\n",
    "    \n",
    "    return g\n",
    "\n",
    "# Для каждого worker в Dataloader\n",
    "def seed_worker(worker_id):\n",
    "    worker_seed = torch.initial_seed() % 2**32\n",
    "    np.random.seed(worker_seed)\n",
    "    random.seed(worker_seed)"
   ]
  },
  {
   "cell_type": "code",
   "execution_count": 22,
   "metadata": {
    "ExecuteTime": {
     "end_time": "2024-03-30T21:25:02.047505Z",
     "start_time": "2024-03-30T21:25:02.037806Z"
    },
    "execution": {
     "iopub.execute_input": "2024-04-13T10:59:49.863487Z",
     "iopub.status.busy": "2024-04-13T10:59:49.862507Z",
     "iopub.status.idle": "2024-04-13T10:59:49.888494Z",
     "shell.execute_reply": "2024-04-13T10:59:49.886492Z",
     "shell.execute_reply.started": "2024-04-13T10:59:49.863487Z"
    }
   },
   "outputs": [],
   "source": [
    "g = set_global_seed(42)\n",
    "\n",
    "train_dataloader = DataLoader(train_dataset, batch_size=batch_size, shuffle=True, worker_init_fn=seed_worker, generator=g,\n",
    "                              collate_fn=partial(collate_fn, batch_first=False, padding_value=vocab.lookup_indices(['<pad>'])[0]))\n",
    "\n",
    "test_dataloader = DataLoader(test_dataset, batch_size=batch_size, shuffle=False,\n",
    "                             collate_fn=partial(collate_fn, batch_first=False, padding_value=vocab.lookup_indices(['<pad>'])[0]))"
   ]
  },
  {
   "cell_type": "markdown",
   "metadata": {},
   "source": [
    "Посмотрим на какой-нибудь батч:"
   ]
  },
  {
   "cell_type": "code",
   "execution_count": 23,
   "metadata": {
    "ExecuteTime": {
     "end_time": "2024-03-30T21:25:02.506858Z",
     "start_time": "2024-03-30T21:25:02.048584Z"
    },
    "execution": {
     "iopub.execute_input": "2024-04-13T10:59:49.890506Z",
     "iopub.status.busy": "2024-04-13T10:59:49.890506Z",
     "iopub.status.idle": "2024-04-13T10:59:49.920489Z",
     "shell.execute_reply": "2024-04-13T10:59:49.918485Z",
     "shell.execute_reply.started": "2024-04-13T10:59:49.890506Z"
    }
   },
   "outputs": [
    {
     "data": {
      "text/plain": [
       "(dict_keys(['ratings', 'labels', 'texts', 'tokens', 'tokens_lens']),\n",
       " tensor([0, 0, 0, 0, 0, 0, 0, 0, 0, 0, 0, 0, 0, 0, 0, 0, 0, 0, 0, 0, 0, 0, 0, 0,\n",
       "         0, 0, 0, 0, 0, 0, 0, 0, 0, 0, 0, 0, 0, 0, 0, 0, 0, 0, 0, 0, 0, 0, 0, 0,\n",
       "         0, 0, 0, 0, 0, 0, 0, 0, 0, 0, 0, 0, 0, 0, 0, 0]),\n",
       " tensor([1, 3, 0, 2, 2, 1, 1, 1, 3, 3, 2, 2, 1, 0, 0, 3, 1, 3, 2, 0, 0, 0, 3, 0,\n",
       "         2, 3, 3, 2, 1, 2, 0, 2, 0, 2, 2, 1, 0, 0, 0, 0, 0, 0, 3, 0, 3, 1, 0, 0,\n",
       "         0, 1, 0, 3, 0, 0, 0, 3, 3, 1, 3, 3, 2, 0, 0, 0]),\n",
       " tensor([[ 337,  346,   20,  ..., 2211,  629,    1],\n",
       "         [   1, 1995,  610,  ...,  140,    1,  303],\n",
       "         [3160,  122,    1,  ...,   80,    1,  483],\n",
       "         ...,\n",
       "         [   0,    0,    0,  ...,    0,    0,    0],\n",
       "         [   0,    0,    0,  ...,    0,    0,    0],\n",
       "         [   0,    0,    0,  ...,    0,    0,    0]]),\n",
       " tensor([ 74, 128, 108, 168, 137,  52,  74,  74,  72,  98,  59, 143, 134,  52,\n",
       "         104, 111,  67, 116, 189,  47,  36,  96, 200, 200, 136, 111, 105, 200,\n",
       "         200, 144,  75,  82, 184,  99, 156, 132, 131,  56, 182, 106,  67,  61,\n",
       "          86, 200, 113,  66, 200,  55, 115,  77,  56, 145, 130,  29,  64,  60,\n",
       "         200,  16, 151,  87,  64,  71,  83,  87]))"
      ]
     },
     "execution_count": 23,
     "metadata": {},
     "output_type": "execute_result"
    }
   ],
   "source": [
    "batch = next(iter(test_dataloader))\n",
    "batch.keys(), batch['labels'], batch['ratings'], batch['tokens'], batch['tokens_lens']"
   ]
  },
  {
   "cell_type": "markdown",
   "metadata": {},
   "source": [
    "# `Часть 1. Классификация текстов (4 балла)`"
   ]
  },
  {
   "cell_type": "markdown",
   "metadata": {},
   "source": [
    "## `Сборка и обучение RNN в pytorch (1 балл)`"
   ]
  },
  {
   "cell_type": "markdown",
   "metadata": {},
   "source": [
    "Создадим переменные для device-agnostic кода:"
   ]
  },
  {
   "cell_type": "code",
   "execution_count": 17,
   "metadata": {
    "ExecuteTime": {
     "end_time": "2024-03-30T21:25:02.686316Z",
     "start_time": "2024-03-30T21:25:02.508620Z"
    },
    "execution": {
     "iopub.execute_input": "2024-04-15T18:31:46.163560Z",
     "iopub.status.busy": "2024-04-15T18:31:46.163560Z",
     "iopub.status.idle": "2024-04-15T18:31:46.271903Z",
     "shell.execute_reply": "2024-04-15T18:31:46.269396Z",
     "shell.execute_reply.started": "2024-04-15T18:31:46.163560Z"
    }
   },
   "outputs": [
    {
     "name": "stdout",
     "output_type": "stream",
     "text": [
      "Using device: cuda:0, dtype: torch.float32\n"
     ]
    }
   ],
   "source": [
    "dtype, device, cuda_device_id = torch.float32, None, 0\n",
    "os.environ[\"CUDA_VISIBLE_DEVICES\"] = '{0}'.format(str(cuda_device_id) if cuda_device_id is not None else '')\n",
    "if cuda_device_id is not None and torch.cuda.is_available():\n",
    "    device = 'cuda:{0:d}'.format(0)\n",
    "else:\n",
    "    device = torch.device('cpu')\n",
    "print(f'Using device: {device}, dtype: {dtype}')"
   ]
  },
  {
   "cell_type": "markdown",
   "metadata": {},
   "source": [
    "Наша нейросеть будет обрабатывать входную последовательность по словам (word level). Мы будем использовать простую и стандартную рекуррентную архитектуру для классификации:\n",
    "1. Слой представлений, превращающий id токена в вектор-эмбеддинг этого слова\n",
    "2. Слой LSTM\n",
    "3. Полносвязный слой, предсказывающий выход по последнему скрытому состоянию\n",
    "\n",
    "Ниже дан код для сборки и обучения нашей нейросети."
   ]
  },
  {
   "cell_type": "markdown",
   "metadata": {},
   "source": [
    "Допишите класс-обёртку над LSTM для задачи классификации. \n",
    "**Не используйте циклы.**"
   ]
  },
  {
   "cell_type": "markdown",
   "metadata": {
    "ExecuteTime": {
     "end_time": "2021-04-01T20:59:16.467178Z",
     "start_time": "2021-04-01T20:59:16.441112Z"
    }
   },
   "source": [
    "**Для каждого тензора в функции `forward` подпишите в комментарии его размеры**"
   ]
  },
  {
   "cell_type": "code",
   "execution_count": 18,
   "metadata": {
    "ExecuteTime": {
     "end_time": "2024-03-30T21:25:02.698015Z",
     "start_time": "2024-03-30T21:25:02.687965Z"
    },
    "execution": {
     "iopub.execute_input": "2024-04-15T18:31:46.272907Z",
     "iopub.status.busy": "2024-04-15T18:31:46.272907Z",
     "iopub.status.idle": "2024-04-15T18:31:46.285931Z",
     "shell.execute_reply": "2024-04-15T18:31:46.284925Z",
     "shell.execute_reply.started": "2024-04-15T18:31:46.272907Z"
    }
   },
   "outputs": [],
   "source": [
    "class RNNClassifier(torch.nn.Module):\n",
    "    def __init__(\n",
    "        self, embedding_dim, hidden_dim, output_size, vocab,\n",
    "        rec_layer=torch.nn.LSTM, dropout=None, **kwargs\n",
    "    ):\n",
    "        super().__init__()\n",
    "\n",
    "        self.dropout = dropout\n",
    "        \n",
    "        self.vocab = vocab\n",
    "        self.hidden_dim = hidden_dim\n",
    "        self.output_size = output_size\n",
    "        self.embedding_dim = embedding_dim\n",
    "\n",
    "        # Create a simple lookup table that stores embeddings of a fixed dictionary and size.\n",
    "        self.word_embeddings = torch.nn.Embedding(\n",
    "            num_embeddings=len(vocab),\n",
    "            embedding_dim=embedding_dim,\n",
    "            padding_idx=vocab.get_stoi()['<pad>'] # Не обучаем embedding padding'а\n",
    "        )\n",
    "        \n",
    "        if dropout is not None:\n",
    "            self.rnn = rec_layer(input_size=embedding_dim, hidden_size=hidden_dim, dropout=dropout, **kwargs)\n",
    "        else:\n",
    "            self.rnn = rec_layer(input_size=embedding_dim, hidden_size=hidden_dim, **kwargs)\n",
    "        \n",
    "        # Create linear layer for classification\n",
    "        self.output = torch.nn.Linear(hidden_dim, output_size)\n",
    "    \n",
    "    def forward(self, tokens, tokens_lens):\n",
    "        \"\"\"\n",
    "        :param torch.Tensor(dtype=torch.long) tokens: Batch of texts represented with tokens.\n",
    "        :param torch.Tensor(dtype=torch.long) tokens_lens: Number of non-padding tokens for each object in batch.\n",
    "        :return torch.Tensor(dtype=torch.long): Vector representation for each sequence in batch\n",
    "        \"\"\"\n",
    "        # size of tokens: T x B (T is length of the longest sequence, B is batch size)\n",
    "        # size of tokens_lens: B\n",
    "\n",
    "        # Evaluate embeddings\n",
    "        embeddings = self.word_embeddings(tokens) # size of embeddings: T x B x embedding_dim\n",
    "        \n",
    "        # Make forward pass through recurrent network\n",
    "        outp = self.rnn(embeddings)[0] # size of outp: T x B x hidden_size\n",
    "        \n",
    "        # Pass output from rnn to linear layer \n",
    "        # Note: each object in batch has its own length \n",
    "        #     so we must take rnn hidden state after the last token for each text in batch\n",
    "        last_hiddens = outp[tokens_lens - 1, torch.arange(outp.shape[1]), :] # size of last_hiddens: B x hidden_size\n",
    "        res = self.output(last_hiddens) # size of res: B x output_size\n",
    "\n",
    "        return res"
   ]
  },
  {
   "cell_type": "markdown",
   "metadata": {},
   "source": [
    "[Исходный код LSTM](http://pytorch.org/docs/master/_modules/torch/nn/modules/rnn.html#LSTM)"
   ]
  },
  {
   "cell_type": "markdown",
   "metadata": {},
   "source": [
    "Допишите функции для обучения и оценки модели:\n",
    "\n",
    "**tip:**\n",
    "1. В функции `evaluate` при подсчёте метрик учитывайте, что батчи могут иметь разный размер. (в частности последний батч)"
   ]
  },
  {
   "cell_type": "code",
   "execution_count": 19,
   "metadata": {
    "ExecuteTime": {
     "end_time": "2024-03-30T21:25:02.709854Z",
     "start_time": "2024-03-30T21:25:02.699539Z"
    },
    "editable": true,
    "execution": {
     "iopub.execute_input": "2024-04-15T18:31:48.151147Z",
     "iopub.status.busy": "2024-04-15T18:31:48.151147Z",
     "iopub.status.idle": "2024-04-15T18:31:48.166855Z",
     "shell.execute_reply": "2024-04-15T18:31:48.164667Z",
     "shell.execute_reply.started": "2024-04-15T18:31:48.151147Z"
    },
    "slideshow": {
     "slide_type": ""
    },
    "tags": []
   },
   "outputs": [],
   "source": [
    "def train_epoch(dataloader, model, loss_fn, optimizer, device):\n",
    "    \"\"\"train `model` with `optimizer` for one epoch with data from `dataloader` to minimize `loss_fn`\"\"\"\n",
    "    model.train()\n",
    "    for idx, data in enumerate(dataloader):\n",
    "        # 1. Take data from batch\n",
    "        # 2. Perform forward pass\n",
    "        # 3. Evaluate loss\n",
    "        # 4. Make optimizer step\n",
    "        ratings = data[\"ratings\"].to(device)\n",
    "        tokens = data[\"tokens\"].to(device)\n",
    "        tokens_lens = data[\"tokens_lens\"].to(device)\n",
    "        optimizer.zero_grad()\n",
    "        logits = model(tokens, tokens_lens)\n",
    "        loss = loss_fn(logits, ratings)\n",
    "        loss.backward()\n",
    "        optimizer.step()\n",
    "        \n",
    "    \n",
    "def evaluate(dataloader, model, loss_fn, device):\n",
    "    \"\"\"calculate loss and accuracy on validation data\"\"\"\n",
    "    model.eval()\n",
    "    \n",
    "    total_loss = 0.0\n",
    "    total_accuracy = 0.0\n",
    "    with torch.no_grad():\n",
    "        for idx, data in enumerate(dataloader):\n",
    "            # 1. Take data from batch\n",
    "            # 2. Perform forward pass\n",
    "            # 3. Evaluate loss\n",
    "            # 4. Evaluate accuracy\n",
    "            ratings = data[\"ratings\"].to(device)\n",
    "            tokens = data[\"tokens\"].to(device)\n",
    "            tokens_lens = data[\"tokens_lens\"].to(device)\n",
    "            logits = model(tokens, tokens_lens)\n",
    "            total_loss += loss_fn(logits, ratings).item() * logits.shape[0]\n",
    "            pred = torch.argmax(logits, dim=1)\n",
    "            total_accuracy += torch.sum(pred == ratings).item()\n",
    "        \n",
    "    return total_loss / len(dataloader.dataset), total_accuracy / len(dataloader.dataset)\n",
    "    \n",
    "\n",
    "def train(\n",
    "    train_loader, test_loader, model, loss_fn, optimizer, device, num_epochs\n",
    "):\n",
    "    test_losses = []\n",
    "    train_losses = []\n",
    "    test_accuracies = []\n",
    "    train_accuracies = []\n",
    "    for epoch in range(num_epochs):\n",
    "        train_epoch(train_loader, model, loss_fn, optimizer, device)\n",
    "        \n",
    "        train_loss, train_acc = evaluate(train_loader, model, loss_fn, device)\n",
    "        train_accuracies.append(train_acc)\n",
    "        train_losses.append(train_loss)\n",
    "        \n",
    "        test_loss, test_acc = evaluate(test_loader, model, loss_fn, device)\n",
    "        test_accuracies.append(test_acc)\n",
    "        test_losses.append(test_loss)\n",
    "        \n",
    "        print(\n",
    "            'Epoch: {0:d}/{1:d}. Loss (Train/Test): {2:.3f}/{3:.3f}. Accuracy (Train/Test): {4:.3f}/{5:.3f}'.format(\n",
    "                epoch + 1, num_epochs, train_losses[-1], test_losses[-1], train_accuracies[-1], test_accuracies[-1]\n",
    "            )\n",
    "        )\n",
    "    return train_losses, train_accuracies, test_losses, test_accuracies"
   ]
  },
  {
   "cell_type": "markdown",
   "metadata": {},
   "source": [
    "Создадим модель:"
   ]
  },
  {
   "cell_type": "code",
   "execution_count": 49,
   "metadata": {
    "ExecuteTime": {
     "end_time": "2024-03-30T21:25:03.029866Z",
     "start_time": "2024-03-30T21:25:02.711287Z"
    },
    "execution": {
     "iopub.execute_input": "2024-04-13T17:40:45.163528Z",
     "iopub.status.busy": "2024-04-13T17:40:45.162528Z",
     "iopub.status.idle": "2024-04-13T17:40:45.255413Z",
     "shell.execute_reply": "2024-04-13T17:40:45.254420Z",
     "shell.execute_reply.started": "2024-04-13T17:40:45.163528Z"
    }
   },
   "outputs": [],
   "source": [
    "model = RNNClassifier(\n",
    "    embedding_dim=embedding_dim, hidden_dim=hidden_dim, output_size=10, vocab=vocab,\n",
    "    rec_layer=torch.nn.LSTM, dropout=None\n",
    ").to(device)"
   ]
  },
  {
   "cell_type": "markdown",
   "metadata": {},
   "source": [
    "Создадим класс для подсчёта функции потерь и оптимизатор:"
   ]
  },
  {
   "cell_type": "code",
   "execution_count": 50,
   "metadata": {
    "ExecuteTime": {
     "end_time": "2024-03-30T21:25:03.541742Z",
     "start_time": "2024-03-30T21:25:03.031367Z"
    },
    "execution": {
     "iopub.execute_input": "2024-04-13T17:40:46.791801Z",
     "iopub.status.busy": "2024-04-13T17:40:46.790816Z",
     "iopub.status.idle": "2024-04-13T17:40:46.814832Z",
     "shell.execute_reply": "2024-04-13T17:40:46.812794Z",
     "shell.execute_reply.started": "2024-04-13T17:40:46.791801Z"
    }
   },
   "outputs": [],
   "source": [
    "loss_fn = torch.nn.CrossEntropyLoss(reduction='mean')\n",
    "optimizer = torch.optim.Adam(model.parameters(), lr=learning_rate)"
   ]
  },
  {
   "cell_type": "markdown",
   "metadata": {},
   "source": [
    "Попробуем обучить модель:"
   ]
  },
  {
   "cell_type": "markdown",
   "metadata": {},
   "source": [
    "**Сохраните все метрики и время работы модели. Это потребуется в конце первой части для построения графиков обучения и сравнения времени работы для всех моделей в этой секции**"
   ]
  },
  {
   "cell_type": "code",
   "execution_count": 20,
   "metadata": {
    "execution": {
     "iopub.execute_input": "2024-04-15T18:31:57.507500Z",
     "iopub.status.busy": "2024-04-15T18:31:57.506485Z",
     "iopub.status.idle": "2024-04-15T18:31:57.513483Z",
     "shell.execute_reply": "2024-04-15T18:31:57.513483Z",
     "shell.execute_reply.started": "2024-04-15T18:31:57.507500Z"
    }
   },
   "outputs": [],
   "source": [
    "from time import time"
   ]
  },
  {
   "cell_type": "code",
   "execution_count": 51,
   "metadata": {
    "ExecuteTime": {
     "end_time": "2024-03-30T21:26:14.046392Z",
     "start_time": "2024-03-30T21:25:03.545235Z"
    },
    "execution": {
     "iopub.execute_input": "2024-04-13T17:40:57.129631Z",
     "iopub.status.busy": "2024-04-13T17:40:57.128639Z",
     "iopub.status.idle": "2024-04-13T17:42:58.984298Z",
     "shell.execute_reply": "2024-04-13T17:42:58.983298Z",
     "shell.execute_reply.started": "2024-04-13T17:40:57.129631Z"
    }
   },
   "outputs": [
    {
     "name": "stdout",
     "output_type": "stream",
     "text": [
      "Epoch: 1/15. Loss (Train/Test): 2.019/2.021. Accuracy (Train/Test): 0.223/0.229\n",
      "Epoch: 2/15. Loss (Train/Test): 1.788/1.809. Accuracy (Train/Test): 0.335/0.331\n",
      "Epoch: 3/15. Loss (Train/Test): 1.615/1.669. Accuracy (Train/Test): 0.371/0.363\n",
      "Epoch: 4/15. Loss (Train/Test): 1.532/1.626. Accuracy (Train/Test): 0.409/0.375\n",
      "Epoch: 5/15. Loss (Train/Test): 1.444/1.571. Accuracy (Train/Test): 0.435/0.392\n",
      "Epoch: 6/15. Loss (Train/Test): 1.383/1.564. Accuracy (Train/Test): 0.454/0.398\n",
      "Epoch: 7/15. Loss (Train/Test): 1.331/1.574. Accuracy (Train/Test): 0.480/0.392\n",
      "Epoch: 8/15. Loss (Train/Test): 1.274/1.568. Accuracy (Train/Test): 0.498/0.395\n",
      "Epoch: 9/15. Loss (Train/Test): 1.220/1.601. Accuracy (Train/Test): 0.524/0.387\n",
      "Epoch: 10/15. Loss (Train/Test): 1.164/1.634. Accuracy (Train/Test): 0.556/0.383\n",
      "Epoch: 11/15. Loss (Train/Test): 1.080/1.683. Accuracy (Train/Test): 0.587/0.384\n",
      "Epoch: 12/15. Loss (Train/Test): 0.998/1.732. Accuracy (Train/Test): 0.621/0.388\n",
      "Epoch: 13/15. Loss (Train/Test): 0.932/1.814. Accuracy (Train/Test): 0.649/0.373\n",
      "Epoch: 14/15. Loss (Train/Test): 0.828/1.893. Accuracy (Train/Test): 0.704/0.366\n",
      "Epoch: 15/15. Loss (Train/Test): 0.766/2.003. Accuracy (Train/Test): 0.733/0.348\n",
      "Время обучения: 121.85 c.\n"
     ]
    }
   ],
   "source": [
    "g = set_global_seed(42)\n",
    "\n",
    "train_dataloader = DataLoader(train_dataset, batch_size=batch_size, shuffle=True, worker_init_fn=seed_worker, generator=g,\n",
    "                              collate_fn=partial(collate_fn, batch_first=False, padding_value=vocab.lookup_indices(['<pad>'])[0]))\n",
    "\n",
    "test_dataloader = DataLoader(test_dataset, batch_size=batch_size, shuffle=False,\n",
    "                             collate_fn=partial(collate_fn, batch_first=False, padding_value=vocab.lookup_indices(['<pad>'])[0]))\n",
    "\n",
    "t = time()\n",
    "train_losses_pure, train_accuracies_pure, test_losses_pure, test_accuracies_pure = train(\n",
    "    train_dataloader, test_dataloader, model, loss_fn, optimizer, device, num_epochs\n",
    ")\n",
    "time_pure = time() - t\n",
    "print(f\"Время обучения: {time_pure:.2f} c.\")"
   ]
  },
  {
   "cell_type": "markdown",
   "metadata": {},
   "source": [
    "Нерегуляризованные LSTM часто быстро переобучаются (и мы это видим по точности на контроле). Чтобы с этим бороться, часто используют *L2-регуляризацию* и *дропаут*.\n",
    "Однако способов накладывать дропаут на рекуррентный слой достаточно много, и далеко не все хорошо работают. По [ссылке](https://medium.com/@bingobee01/a-review-of-dropout-as-applied-to-rnns-72e79ecd5b7b) доступен хороший обзор дропаутов для RNN.\n",
    "\n",
    "Мы реализуем два варианта DropOut для RNN (и третий дополнительно). Заодно увидим, что для реализации различных усовершенствований рекуррентной архитектуры приходится \"вскрывать\" слой до различной \"глубины\"."
   ]
  },
  {
   "cell_type": "markdown",
   "metadata": {},
   "source": [
    "## `Реализация дропаута по статье Гала и Гарамани. Variational Dropout (1 балл)`"
   ]
  },
  {
   "cell_type": "markdown",
   "metadata": {},
   "source": [
    "Начнем с дропаута, описанного в [статье Гала и Гарамани](https://arxiv.org/abs/1512.05287).\n",
    "Для этого нам потребуется перейти от использования слоя `torch.nn.LSTM`, полностью скрывающего от нас рекуррентную логику, к использованию слоя `torch.nn.LSTMCell`, обрабатывающего лишь один временной шаг нашей последовательности (а всю логику вокруг придется реализовать самостоятельно). \n",
    "\n",
    "Допишите класс `RNNLayer`. При `dropout=0` ваш класс должен работать как обычный слой LSTM, а при `dropout > 0` накладывать бинарную маску на входной и скрытый вектор на каждом временном шаге, причем эта маска должна быть одинаковой во все моменты времени.\n",
    "\n",
    "Дропаут Гала и Гарамани в виде формул (m обозначает маску дропаута):\n",
    "\n",
    "$$\n",
    "h_{t-1} = h_{t-1}*m_h, \\, x_t = x_t * m_x\n",
    "$$\n",
    "\n",
    "Далее обычный шаг рекуррентной архитектуры, например, LSTM:\n",
    "\n",
    "$$\n",
    "i = \\sigma(h_{t-1}W^i + x_t U^i+b_i) \\quad\n",
    "o = \\sigma(h_{t-1}W^o + x_t U^o+b_o) \n",
    "$$\n",
    "$$\n",
    "f = \\sigma(h_{t-1}W^f + x_t U^f+b_f) \\quad \n",
    "g = tanh(h_{t-1} W^g + x_t U^g+b_g) \n",
    "$$\n",
    "$$\n",
    "c_t = f \\odot c_{t-1} +  i \\odot  g \\quad\n",
    "h_t =  o \\odot tanh(c_t)\n",
    "$$"
   ]
  },
  {
   "cell_type": "code",
   "execution_count": 21,
   "metadata": {
    "ExecuteTime": {
     "end_time": "2024-03-30T21:26:14.050691Z",
     "start_time": "2024-03-30T21:26:14.048194Z"
    },
    "execution": {
     "iopub.execute_input": "2024-04-15T18:32:08.773971Z",
     "iopub.status.busy": "2024-04-15T18:32:08.773971Z",
     "iopub.status.idle": "2024-04-15T18:32:08.788701Z",
     "shell.execute_reply": "2024-04-15T18:32:08.787700Z",
     "shell.execute_reply.started": "2024-04-15T18:32:08.773971Z"
    }
   },
   "outputs": [],
   "source": [
    "def init_h0_c0(num_objects, hidden_size, some_existing_tensor):\n",
    "    \"\"\"\n",
    "    return h0 and c0, use some_existing_tensor.new_zeros() to gen them\n",
    "    h0 shape: num_objects x hidden_size\n",
    "    c0 shape: num_objects x hidden_size\n",
    "    \"\"\"\n",
    "    h0 = some_existing_tensor.new_zeros(size=(num_objects, hidden_size))\n",
    "    c0 = some_existing_tensor.new_zeros(size=(num_objects, hidden_size))\n",
    "    return h0, c0"
   ]
  },
  {
   "cell_type": "code",
   "execution_count": 22,
   "metadata": {
    "execution": {
     "iopub.execute_input": "2024-04-15T18:32:09.541944Z",
     "iopub.status.busy": "2024-04-15T18:32:09.541944Z",
     "iopub.status.idle": "2024-04-15T18:32:09.568989Z",
     "shell.execute_reply": "2024-04-15T18:32:09.565982Z",
     "shell.execute_reply.started": "2024-04-15T18:32:09.541944Z"
    }
   },
   "outputs": [],
   "source": [
    "def gen_dropout_mask(input_size, hidden_size, is_training, p, some_existing_tensor):\n",
    "    \"\"\"\n",
    "    is_training: if True, gen masks from Bernoulli\n",
    "                 if False, gen masks consisting of (1-p)\n",
    "    \n",
    "    return dropout masks of size input_size, hidden_size if p is not None\n",
    "    return one masks if p is None\n",
    "    \"\"\"\n",
    "    if p is None:\n",
    "        input_mask = some_existing_tensor.new_ones(size=(1, input_size))\n",
    "        hidden_mask = some_existing_tensor.new_ones(size=(1, hidden_size))\n",
    "        return input_mask, hidden_mask \n",
    "\n",
    "    device = some_existing_tensor.device\n",
    "    dtype = some_existing_tensor.dtype\n",
    "\n",
    "    input_mask = torch.full((1, input_size), 1 - p, dtype=dtype, device=device)\n",
    "    hidden_mask = torch.full((1, hidden_size), 1 - p, dtype=dtype, device=device)\n",
    "    \n",
    "    if is_training:\n",
    "        torch.bernoulli(input=input_mask, out=input_mask)\n",
    "        torch.bernoulli(input=hidden_mask, out=hidden_mask)\n",
    "        \n",
    "    return input_mask, hidden_mask"
   ]
  },
  {
   "cell_type": "markdown",
   "metadata": {
    "ExecuteTime": {
     "end_time": "2021-04-01T21:09:12.282613Z",
     "start_time": "2021-04-01T21:09:12.256019Z"
    }
   },
   "source": [
    "Допишите класс-обёртку над `LSTMCell` для реализации Variational Dropout. **Используйте только цикл по времени**"
   ]
  },
  {
   "cell_type": "markdown",
   "metadata": {},
   "source": [
    "**Для каждого тензора в функции `forward` подпишите в комментарии его размеры**"
   ]
  },
  {
   "cell_type": "code",
   "execution_count": 23,
   "metadata": {
    "ExecuteTime": {
     "end_time": "2024-03-30T21:26:14.072540Z",
     "start_time": "2024-03-30T21:26:14.064809Z"
    },
    "execution": {
     "iopub.execute_input": "2024-04-15T18:32:11.328285Z",
     "iopub.status.busy": "2024-04-15T18:32:11.327287Z",
     "iopub.status.idle": "2024-04-15T18:32:11.348331Z",
     "shell.execute_reply": "2024-04-15T18:32:11.346319Z",
     "shell.execute_reply.started": "2024-04-15T18:32:11.328285Z"
    }
   },
   "outputs": [],
   "source": [
    "class RNNLayer(torch.nn.Module):\n",
    "    def __init__(self, input_size, hidden_size, dropout=None):\n",
    "        super().__init__()\n",
    "\n",
    "        self.dropout = dropout\n",
    "        self.input_size = input_size\n",
    "        self.hidden_size = hidden_size\n",
    "        \n",
    "        self.rnn_cell = torch.nn.LSTMCell(self.input_size, self.hidden_size)\n",
    "        \n",
    "    def forward(self, x):\n",
    "        # size of x: (T, B, input_size) (where T is length of the longest sequence, B is batch size)\n",
    "        \n",
    "        # Initialize h_0, c_0\n",
    "        h, c = init_h0_c0(x.shape[1], self.hidden_size, x)\n",
    "        # size of h and c: (B, hidden_size)\n",
    "        \n",
    "        # Gen masks for input and hidden state\n",
    "        # Будем использовать одну и ту же маску для каждого объекта в батче\n",
    "        if self.dropout:\n",
    "            input_mask, hidden_mask = gen_dropout_mask(self.input_size, self.hidden_size, self.training, p=self.dropout, some_existing_tensor=x)\n",
    "        # size of input_mask: (1, input_size)\n",
    "        # size of hidden_mask: (1, hidden_size)\n",
    "        \n",
    "        # Implement recurrent logic and return what nn.LSTM returns\n",
    "        # Do not forget to apply generated dropout masks!\n",
    "        res = x.new_zeros(size=(x.shape[0], x.shape[1], self.hidden_size))\n",
    "        # size of res: (T, B, hidden_size)\n",
    "        for t, x_t in enumerate(x):\n",
    "            # size of x_t: (B, input_size)\n",
    "            if self.dropout:\n",
    "                x_t = x_t * input_mask\n",
    "                h = h * hidden_mask\n",
    "            h, c = self.rnn_cell(x_t, (h, c))\n",
    "            res[t] = h\n",
    "\n",
    "        return res, (h, c)"
   ]
  },
  {
   "cell_type": "markdown",
   "metadata": {},
   "source": [
    "Протестируйте реализованную модель с выключенным дропаутом (слой `RNNLayer` надо передать в `RNNClassifier` в качестве `rec_layer`). Замерьте время обучения. Сильно ли оно увеличилось по сравнению с `torch.nn.LSTM` (LSTM \"из коробки\")?"
   ]
  },
  {
   "cell_type": "markdown",
   "metadata": {},
   "source": [
    "**Сохраните все метрики и время работы модели. Это потребуется в конце первой части для построения графиков обучения и сравнения времени работы для всех моделей в этой секции**"
   ]
  },
  {
   "cell_type": "code",
   "execution_count": 52,
   "metadata": {
    "ExecuteTime": {
     "end_time": "2024-03-30T21:37:48.546191Z",
     "start_time": "2024-03-30T21:26:14.073988Z"
    },
    "execution": {
     "iopub.execute_input": "2024-04-13T17:42:59.159939Z",
     "iopub.status.busy": "2024-04-13T17:42:59.158905Z",
     "iopub.status.idle": "2024-04-13T18:05:21.463193Z",
     "shell.execute_reply": "2024-04-13T18:05:21.462194Z",
     "shell.execute_reply.started": "2024-04-13T17:42:59.159939Z"
    }
   },
   "outputs": [
    {
     "name": "stdout",
     "output_type": "stream",
     "text": [
      "Epoch: 1/15. Loss (Train/Test): 2.002/2.004. Accuracy (Train/Test): 0.242/0.243\n",
      "Epoch: 2/15. Loss (Train/Test): 1.908/1.921. Accuracy (Train/Test): 0.283/0.284\n",
      "Epoch: 3/15. Loss (Train/Test): 1.684/1.729. Accuracy (Train/Test): 0.358/0.346\n",
      "Epoch: 4/15. Loss (Train/Test): 1.590/1.664. Accuracy (Train/Test): 0.385/0.356\n",
      "Epoch: 5/15. Loss (Train/Test): 1.515/1.610. Accuracy (Train/Test): 0.409/0.380\n",
      "Epoch: 6/15. Loss (Train/Test): 1.456/1.596. Accuracy (Train/Test): 0.430/0.382\n",
      "Epoch: 7/15. Loss (Train/Test): 1.405/1.574. Accuracy (Train/Test): 0.453/0.385\n",
      "Epoch: 8/15. Loss (Train/Test): 1.351/1.571. Accuracy (Train/Test): 0.469/0.390\n",
      "Epoch: 9/15. Loss (Train/Test): 1.302/1.577. Accuracy (Train/Test): 0.489/0.390\n",
      "Epoch: 10/15. Loss (Train/Test): 1.273/1.603. Accuracy (Train/Test): 0.512/0.377\n",
      "Epoch: 11/15. Loss (Train/Test): 1.193/1.636. Accuracy (Train/Test): 0.537/0.386\n",
      "Epoch: 12/15. Loss (Train/Test): 1.119/1.657. Accuracy (Train/Test): 0.567/0.384\n",
      "Epoch: 13/15. Loss (Train/Test): 1.059/1.712. Accuracy (Train/Test): 0.603/0.365\n",
      "Epoch: 14/15. Loss (Train/Test): 0.973/1.757. Accuracy (Train/Test): 0.643/0.369\n",
      "Epoch: 15/15. Loss (Train/Test): 0.897/1.824. Accuracy (Train/Test): 0.681/0.357\n",
      "\n",
      "Время обучения: 1342.27 c. (увеличилось в 11.02 раз)\n"
     ]
    }
   ],
   "source": [
    "model = RNNClassifier(\n",
    "    embedding_dim=embedding_dim, hidden_dim=hidden_dim, output_size=10, vocab=vocab,\n",
    "    rec_layer=RNNLayer, dropout=None\n",
    ").to(device)\n",
    "optimizer = torch.optim.Adam(model.parameters(), lr=learning_rate)\n",
    "\n",
    "g = set_global_seed(42)\n",
    "train_dataloader = DataLoader(train_dataset, batch_size=batch_size, shuffle=True, worker_init_fn=seed_worker, generator=g,\n",
    "                              collate_fn=partial(collate_fn, batch_first=False, padding_value=vocab.lookup_indices(['<pad>'])[0]))\n",
    "test_dataloader = DataLoader(test_dataset, batch_size=batch_size, shuffle=False,\n",
    "                             collate_fn=partial(collate_fn, batch_first=False, padding_value=vocab.lookup_indices(['<pad>'])[0]))\n",
    "\n",
    "t = time()\n",
    "train_losses_no_dropout, train_accuracies_no_dropout, test_losses_no_dropout, test_accuracies_no_dropout = train(\n",
    "    train_dataloader, test_dataloader, model, loss_fn, optimizer, device, num_epochs\n",
    ")\n",
    "time_no_dropout = time() - t\n",
    "print()\n",
    "print(f\"Время обучения: {time_no_dropout:.2f} c. (увеличилось в {time_no_dropout / time_pure :.2f} раз)\")"
   ]
  },
  {
   "cell_type": "markdown",
   "metadata": {},
   "source": [
    "Протестируйте полученную модель с `dropout=0.25`, вновь замерив время обучения. Получилось ли побороть переобучение? Сильно ли дольше обучается данная модель по сравнению с предыдущей? (доп. время тратится на генерацию масок дропаута)."
   ]
  },
  {
   "cell_type": "code",
   "execution_count": 53,
   "metadata": {
    "ExecuteTime": {
     "end_time": "2024-03-30T21:50:53.803267Z",
     "start_time": "2024-03-30T21:37:48.548250Z"
    },
    "execution": {
     "iopub.execute_input": "2024-04-13T18:05:21.466193Z",
     "iopub.status.busy": "2024-04-13T18:05:21.465196Z",
     "iopub.status.idle": "2024-04-13T18:34:06.914666Z",
     "shell.execute_reply": "2024-04-13T18:34:06.913703Z",
     "shell.execute_reply.started": "2024-04-13T18:05:21.466193Z"
    }
   },
   "outputs": [
    {
     "name": "stdout",
     "output_type": "stream",
     "text": [
      "Epoch: 1/15. Loss (Train/Test): 2.001/2.003. Accuracy (Train/Test): 0.240/0.244\n",
      "Epoch: 2/15. Loss (Train/Test): 1.800/1.815. Accuracy (Train/Test): 0.326/0.330\n",
      "Epoch: 3/15. Loss (Train/Test): 1.678/1.709. Accuracy (Train/Test): 0.361/0.354\n",
      "Epoch: 4/15. Loss (Train/Test): 1.618/1.665. Accuracy (Train/Test): 0.377/0.362\n",
      "Epoch: 5/15. Loss (Train/Test): 1.570/1.626. Accuracy (Train/Test): 0.385/0.375\n",
      "Epoch: 6/15. Loss (Train/Test): 1.507/1.588. Accuracy (Train/Test): 0.410/0.382\n",
      "Epoch: 7/15. Loss (Train/Test): 1.464/1.558. Accuracy (Train/Test): 0.429/0.396\n",
      "Epoch: 8/15. Loss (Train/Test): 1.444/1.551. Accuracy (Train/Test): 0.436/0.390\n",
      "Epoch: 9/15. Loss (Train/Test): 1.408/1.535. Accuracy (Train/Test): 0.443/0.403\n",
      "Epoch: 10/15. Loss (Train/Test): 1.391/1.538. Accuracy (Train/Test): 0.457/0.397\n",
      "Epoch: 11/15. Loss (Train/Test): 1.357/1.525. Accuracy (Train/Test): 0.469/0.400\n",
      "Epoch: 12/15. Loss (Train/Test): 1.337/1.522. Accuracy (Train/Test): 0.472/0.410\n",
      "Epoch: 13/15. Loss (Train/Test): 1.308/1.515. Accuracy (Train/Test): 0.486/0.409\n",
      "Epoch: 14/15. Loss (Train/Test): 1.286/1.517. Accuracy (Train/Test): 0.493/0.411\n",
      "Epoch: 15/15. Loss (Train/Test): 1.271/1.524. Accuracy (Train/Test): 0.504/0.406\n",
      "\n",
      "Время обучения: 1725.42 c. (увеличилось в 1.29 раз по сравнению с пред. ячейкой)\n"
     ]
    }
   ],
   "source": [
    "model = RNNClassifier(\n",
    "    embedding_dim=embedding_dim, hidden_dim=hidden_dim, output_size=10, vocab=vocab,\n",
    "    rec_layer=RNNLayer, dropout=0.25\n",
    ").to(device)\n",
    "optimizer = torch.optim.Adam(model.parameters(), lr=learning_rate)\n",
    "\n",
    "g = set_global_seed(42)\n",
    "train_dataloader = DataLoader(train_dataset, batch_size=batch_size, shuffle=True, worker_init_fn=seed_worker, generator=g,\n",
    "                              collate_fn=partial(collate_fn, batch_first=False, padding_value=vocab.lookup_indices(['<pad>'])[0]))\n",
    "test_dataloader = DataLoader(test_dataset, batch_size=batch_size, shuffle=False,\n",
    "                             collate_fn=partial(collate_fn, batch_first=False, padding_value=vocab.lookup_indices(['<pad>'])[0]))\n",
    "\n",
    "t = time()\n",
    "train_losses_dropout_25, train_accuracies_dropout_25, test_losses_dropout_25, test_accuracies_dropout_25 = train(\n",
    "    train_dataloader, test_dataloader, model, loss_fn, optimizer, device, num_epochs\n",
    ")\n",
    "time_dropout_25 = time() - t\n",
    "print()\n",
    "print(f\"Время обучения: {time_dropout_25:.2f} c. (увеличилось в {time_dropout_25 / time_no_dropout :.2f} раз по сравнению с пред. ячейкой)\")"
   ]
  },
  {
   "cell_type": "markdown",
   "metadata": {},
   "source": [
    "**Ответ:**\n",
    "\n",
    "1. С RNNLayer (т.е. с циклом по времени) обучение происходит в $\\approx 11$ раз медленнее, чем с torch.nn.LSTM.\n",
    "2. dropout=0.25 помогает бороться с переобучением, но оно всё равно по-прежнему присутствует."
   ]
  },
  {
   "cell_type": "markdown",
   "metadata": {},
   "source": [
    "## `Реализация дропаута по статье Гала и Гарамани. Дубль 2 (1 балл)`"
   ]
  },
  {
   "cell_type": "markdown",
   "metadata": {},
   "source": [
    "<начало взлома pytorch>"
   ]
  },
  {
   "cell_type": "markdown",
   "metadata": {},
   "source": [
    "При разворачивании цикла по времени средствами python обучение рекуррентной нейросети сильно замедляется. Однако для реализации дропаута Гала и Гарамани необязательно явно задавать в коде умножение нейронов на маски. Можно схитрить и обойтись использованием слоя `torch.nn.LSTM`: перед вызовом `forward` слоя `torch.nn.LSTM` подменять его веса на веса, домноженные по строкам на маски. А обучаемые веса хранить отдельно. Именно так этот дропаут реализован в библиотеке `fastai`, код из которой использован в ячейке ниже.\n",
    "\n",
    "Такой слой реализуется в виде обертки над `torch.nn.LSTM`. Допишите класс:"
   ]
  },
  {
   "cell_type": "code",
   "execution_count": 24,
   "metadata": {
    "ExecuteTime": {
     "end_time": "2024-03-30T21:50:53.808422Z",
     "start_time": "2024-03-30T21:50:53.806289Z"
    },
    "execution": {
     "iopub.execute_input": "2024-04-15T18:32:16.427708Z",
     "iopub.status.busy": "2024-04-15T18:32:16.427708Z",
     "iopub.status.idle": "2024-04-15T18:32:16.446787Z",
     "shell.execute_reply": "2024-04-15T18:32:16.445723Z",
     "shell.execute_reply.started": "2024-04-15T18:32:16.427708Z"
    }
   },
   "outputs": [],
   "source": [
    "import warnings"
   ]
  },
  {
   "cell_type": "code",
   "execution_count": 25,
   "metadata": {
    "ExecuteTime": {
     "end_time": "2024-03-30T21:50:53.819063Z",
     "start_time": "2024-03-30T21:50:53.810046Z"
    },
    "execution": {
     "iopub.execute_input": "2024-04-15T18:32:17.238223Z",
     "iopub.status.busy": "2024-04-15T18:32:17.237224Z",
     "iopub.status.idle": "2024-04-15T18:32:17.264809Z",
     "shell.execute_reply": "2024-04-15T18:32:17.262245Z",
     "shell.execute_reply.started": "2024-04-15T18:32:17.238223Z"
    }
   },
   "outputs": [],
   "source": [
    "class FastRNNLayer(torch.nn.Module):\n",
    "    def __init__(self, input_size, hidden_size, dropout=0.0, layers_dropout=0.0, num_layers=1):\n",
    "        super().__init__()\n",
    "\n",
    "        self.input_size = input_size\n",
    "        self.hidden_size = hidden_size\n",
    "\n",
    "        self.num_layers = num_layers\n",
    "\n",
    "        self.dropout = dropout\n",
    "        self.layers_dropout = layers_dropout\n",
    "        self.module = torch.nn.LSTM(input_size, hidden_size, dropout=layers_dropout, num_layers=num_layers)\n",
    "\n",
    "        self.layer_names = []\n",
    "        for layer_n in range(self.num_layers):\n",
    "            self.layer_names += [f'weight_hh_l{layer_n}', f'weight_ih_l{layer_n}']\n",
    "\n",
    "        for layer in self.layer_names:\n",
    "            # Get torch.nn.Parameter with weights from torch.nn.LSTM instance\n",
    "            w = getattr(self.module, layer)\n",
    "\n",
    "            # Remove it from model\n",
    "            delattr(self.module, layer)\n",
    "\n",
    "            # And create new torch.nn.Parameter with the same data but different name\n",
    "            self.register_parameter(f'{layer}_raw', torch.nn.Parameter(w.data))\n",
    "\n",
    "            # Note. In torch.nn.LSTM.forward parameter with name `layer` will be used\n",
    "            #     so we must initialize it using `layer_raw` before forward pass\n",
    "\n",
    "    def _setweights(self, x):\n",
    "        \"\"\"\n",
    "            Apply dropout to the raw weights.\n",
    "        \"\"\"\n",
    "        for layer_n in range(self.num_layers):\n",
    "            # Get torch.nn.Parameter with weights\n",
    "            raw_w_hh = getattr(self, f'weight_hh_l{layer_n}_raw')\n",
    "            raw_w_ih = getattr(self, f'weight_ih_l{layer_n}_raw')\n",
    "\n",
    "            if self.dropout:\n",
    "                # Generate mask (use function gen_dropout_mask)            \n",
    "                input_mask, hidden_mask = gen_dropout_mask(self.input_size, self.hidden_size, self.training, p=self.dropout, some_existing_tensor=x)\n",
    "                # size of input_mask: (1, input_size)\n",
    "                # size of hidden_mask: (1, hidden_size)\n",
    "                \n",
    "                # Apply dropout mask\n",
    "                masked_raw_w_hh = raw_w_hh * hidden_mask\n",
    "                masked_raw_w_ih = raw_w_ih * input_mask\n",
    "                \n",
    "                # Set modified weights in its place\n",
    "                setattr(self.module, f'weight_hh_l{layer_n}', masked_raw_w_hh)\n",
    "                setattr(self.module, f'weight_ih_l{layer_n}', masked_raw_w_ih)\n",
    "            else:\n",
    "                setattr(self.module, f'weight_hh_l{layer_n}', raw_w_hh)\n",
    "                setattr(self.module, f'weight_ih_l{layer_n}', raw_w_ih)\n",
    "\n",
    "    def forward(self, x, h_c=None):\n",
    "        \"\"\"\n",
    "        :param x: tensor containing the features of the input sequence.\n",
    "        :param Optional[Tuple[torch.Tensor, torch.Tensor]] h_c: initial hidden state and initial cell state\n",
    "        \"\"\"\n",
    "        with warnings.catch_warnings():\n",
    "            # To avoid the warning that comes because the weights aren't flattened.\n",
    "            warnings.simplefilter(\"ignore\")\n",
    "\n",
    "            # Set new weights of self.module and call its forward\n",
    "            # Pass h_c with x if it is not None. Otherwise pass only x\n",
    "            self._setweights(x)\n",
    "\n",
    "            if h_c is not None:\n",
    "                return self.module(x, h_c)\n",
    "                \n",
    "            return self.module(x)\n",
    "            \n",
    "    def reset(self):\n",
    "        if hasattr(self.module, 'reset'):\n",
    "            self.module.reset()"
   ]
  },
  {
   "cell_type": "markdown",
   "metadata": {},
   "source": [
    "Протестируйте реализованную модель с выключенным дропаутом (слой `FastRNNLayer` надо передать в `RNNClassifier` в качестве `rec_layer`). Замерьте время обучения. Убедитесь, что модель выдаёт такое же качество, как и оригинальная реализация LSTM."
   ]
  },
  {
   "cell_type": "markdown",
   "metadata": {},
   "source": [
    "**Сохраните все метрики и время работы модели. Это потребуется в конце первой части для построения графиков обучения и сравнения времени работы для всех моделей в этой секции**"
   ]
  },
  {
   "cell_type": "code",
   "execution_count": 54,
   "metadata": {
    "ExecuteTime": {
     "end_time": "2024-03-30T21:52:22.003495Z",
     "start_time": "2024-03-30T21:50:53.820795Z"
    },
    "execution": {
     "iopub.execute_input": "2024-04-13T18:34:06.916655Z",
     "iopub.status.busy": "2024-04-13T18:34:06.916655Z",
     "iopub.status.idle": "2024-04-13T18:36:08.925794Z",
     "shell.execute_reply": "2024-04-13T18:36:08.924847Z",
     "shell.execute_reply.started": "2024-04-13T18:34:06.916655Z"
    }
   },
   "outputs": [
    {
     "name": "stdout",
     "output_type": "stream",
     "text": [
      "Epoch: 1/15. Loss (Train/Test): 2.019/2.021. Accuracy (Train/Test): 0.223/0.229\n",
      "Epoch: 2/15. Loss (Train/Test): 1.788/1.809. Accuracy (Train/Test): 0.335/0.331\n",
      "Epoch: 3/15. Loss (Train/Test): 1.615/1.669. Accuracy (Train/Test): 0.371/0.363\n",
      "Epoch: 4/15. Loss (Train/Test): 1.532/1.626. Accuracy (Train/Test): 0.409/0.375\n",
      "Epoch: 5/15. Loss (Train/Test): 1.444/1.571. Accuracy (Train/Test): 0.435/0.392\n",
      "Epoch: 6/15. Loss (Train/Test): 1.383/1.564. Accuracy (Train/Test): 0.454/0.398\n",
      "Epoch: 7/15. Loss (Train/Test): 1.331/1.574. Accuracy (Train/Test): 0.480/0.392\n",
      "Epoch: 8/15. Loss (Train/Test): 1.274/1.568. Accuracy (Train/Test): 0.498/0.395\n",
      "Epoch: 9/15. Loss (Train/Test): 1.220/1.601. Accuracy (Train/Test): 0.524/0.387\n",
      "Epoch: 10/15. Loss (Train/Test): 1.164/1.634. Accuracy (Train/Test): 0.556/0.383\n",
      "Epoch: 11/15. Loss (Train/Test): 1.080/1.683. Accuracy (Train/Test): 0.587/0.384\n",
      "Epoch: 12/15. Loss (Train/Test): 0.998/1.732. Accuracy (Train/Test): 0.621/0.388\n",
      "Epoch: 13/15. Loss (Train/Test): 0.932/1.814. Accuracy (Train/Test): 0.649/0.373\n",
      "Epoch: 14/15. Loss (Train/Test): 0.828/1.893. Accuracy (Train/Test): 0.704/0.366\n",
      "Epoch: 15/15. Loss (Train/Test): 0.766/2.003. Accuracy (Train/Test): 0.733/0.348\n",
      "\n",
      "Время обучения: 121.98 c. (уменьшилось в 11.00 раз по сравнению с циклом по времени)\n"
     ]
    }
   ],
   "source": [
    "model = RNNClassifier(\n",
    "    embedding_dim=embedding_dim, hidden_dim=hidden_dim, output_size=10, vocab=vocab,\n",
    "    rec_layer=FastRNNLayer, dropout=None\n",
    ").to(device)\n",
    "optimizer = torch.optim.Adam(model.parameters(), lr=learning_rate)\n",
    "\n",
    "g = set_global_seed(42)\n",
    "train_dataloader = DataLoader(train_dataset, batch_size=batch_size, shuffle=True, worker_init_fn=seed_worker, generator=g,\n",
    "                              collate_fn=partial(collate_fn, batch_first=False, padding_value=vocab.lookup_indices(['<pad>'])[0]))\n",
    "test_dataloader = DataLoader(test_dataset, batch_size=batch_size, shuffle=False,\n",
    "                             collate_fn=partial(collate_fn, batch_first=False, padding_value=vocab.lookup_indices(['<pad>'])[0]))\n",
    "\n",
    "t = time()\n",
    "train_losses_no_dropout_fast, train_accuracies_no_dropout_fast, test_losses_no_dropout_fast, test_accuracies_no_dropout_fast = train(\n",
    "    train_dataloader, test_dataloader, model, loss_fn, optimizer, device, num_epochs\n",
    ")\n",
    "time_no_dropout_fast = time() - t\n",
    "print()\n",
    "print(f\"Время обучения: {time_no_dropout_fast:.2f} c. (уменьшилось в {time_no_dropout / time_no_dropout_fast :.2f} раз по сравнению с циклом по времени)\")"
   ]
  },
  {
   "cell_type": "markdown",
   "metadata": {},
   "source": [
    "Протестируйте полученный слой (вновь подставив его в `RNNClassifier` в качестве `rec_layer`) с `dropout=0.25`. Сравните время обучения с предыдущими моделями. Проследите, чтобы качество получилось такое же, как при первой реализации этого дропаута."
   ]
  },
  {
   "cell_type": "code",
   "execution_count": 55,
   "metadata": {
    "ExecuteTime": {
     "end_time": "2024-03-30T21:53:49.263039Z",
     "start_time": "2024-03-30T21:52:22.005605Z"
    },
    "execution": {
     "iopub.execute_input": "2024-04-13T18:36:08.926793Z",
     "iopub.status.busy": "2024-04-13T18:36:08.926793Z",
     "iopub.status.idle": "2024-04-13T18:38:39.078723Z",
     "shell.execute_reply": "2024-04-13T18:38:39.076832Z",
     "shell.execute_reply.started": "2024-04-13T18:36:08.926793Z"
    }
   },
   "outputs": [
    {
     "name": "stdout",
     "output_type": "stream",
     "text": [
      "Epoch: 1/15. Loss (Train/Test): 1.997/1.999. Accuracy (Train/Test): 0.242/0.247\n",
      "Epoch: 2/15. Loss (Train/Test): 1.820/1.834. Accuracy (Train/Test): 0.319/0.323\n",
      "Epoch: 3/15. Loss (Train/Test): 1.693/1.722. Accuracy (Train/Test): 0.360/0.355\n",
      "Epoch: 4/15. Loss (Train/Test): 1.633/1.678. Accuracy (Train/Test): 0.373/0.357\n",
      "Epoch: 5/15. Loss (Train/Test): 1.571/1.629. Accuracy (Train/Test): 0.390/0.376\n",
      "Epoch: 6/15. Loss (Train/Test): 1.509/1.588. Accuracy (Train/Test): 0.411/0.385\n",
      "Epoch: 7/15. Loss (Train/Test): 1.469/1.560. Accuracy (Train/Test): 0.425/0.393\n",
      "Epoch: 8/15. Loss (Train/Test): 1.448/1.553. Accuracy (Train/Test): 0.433/0.392\n",
      "Epoch: 9/15. Loss (Train/Test): 1.409/1.537. Accuracy (Train/Test): 0.444/0.401\n",
      "Epoch: 10/15. Loss (Train/Test): 1.395/1.541. Accuracy (Train/Test): 0.456/0.396\n",
      "Epoch: 11/15. Loss (Train/Test): 1.362/1.530. Accuracy (Train/Test): 0.466/0.400\n",
      "Epoch: 12/15. Loss (Train/Test): 1.342/1.523. Accuracy (Train/Test): 0.472/0.408\n",
      "Epoch: 13/15. Loss (Train/Test): 1.311/1.517. Accuracy (Train/Test): 0.485/0.407\n",
      "Epoch: 14/15. Loss (Train/Test): 1.291/1.519. Accuracy (Train/Test): 0.491/0.411\n",
      "Epoch: 15/15. Loss (Train/Test): 1.272/1.524. Accuracy (Train/Test): 0.501/0.405\n",
      "\n",
      "Время обучения: 150.12 c. (уменьшилось в 11.49 раз по сравнению с циклом по времени)\n"
     ]
    }
   ],
   "source": [
    "model = RNNClassifier(\n",
    "    embedding_dim=embedding_dim, hidden_dim=hidden_dim, output_size=10, vocab=vocab,\n",
    "    rec_layer=FastRNNLayer, dropout=0.25\n",
    ").to(device)\n",
    "optimizer = torch.optim.Adam(model.parameters(), lr=learning_rate)\n",
    "\n",
    "g = set_global_seed(42)\n",
    "train_dataloader = DataLoader(train_dataset, batch_size=batch_size, shuffle=True, worker_init_fn=seed_worker, generator=g,\n",
    "                              collate_fn=partial(collate_fn, batch_first=False, padding_value=vocab.lookup_indices(['<pad>'])[0]))\n",
    "test_dataloader = DataLoader(test_dataset, batch_size=batch_size, shuffle=False,\n",
    "                             collate_fn=partial(collate_fn, batch_first=False, padding_value=vocab.lookup_indices(['<pad>'])[0]))\n",
    "\n",
    "t = time()\n",
    "train_losses_dropout_25_fast, train_accuracies_dropout_25_fast, test_losses_dropout_25_fast, test_accuracies_dropout_25_fast = train(\n",
    "    train_dataloader, test_dataloader, model, loss_fn, optimizer, device, num_epochs\n",
    ")\n",
    "time_dropout_25_fast = time() - t\n",
    "print()\n",
    "print(f\"Время обучения: {time_dropout_25_fast:.2f} c. (уменьшилось в {time_dropout_25 / time_dropout_25_fast :.2f} раз по сравнению с циклом по времени)\")"
   ]
  },
  {
   "cell_type": "markdown",
   "metadata": {},
   "source": [
    "</конец взлома pytorch>"
   ]
  },
  {
   "cell_type": "markdown",
   "metadata": {},
   "source": [
    "## `Реализация дропаута по статье Семениуты и др. (1 балл)`"
   ]
  },
  {
   "cell_type": "markdown",
   "metadata": {},
   "source": [
    "Перейдем к реализации дропаута для LSTM по статье [Semeniuta et al](http://www.aclweb.org/anthology/C16-1165). \n",
    "\n",
    "Этот метод применения дропаута не менее популярен, чем предыдущий. Его особенность состоит в том, что он придуман специально для гейтовых архитектур. В контексте LSTM этот дропаут накладывается только на информационный поток ($m_h$ — маска дропаута):\n",
    "$$\n",
    "i = \\sigma(h_{t-1}W^i + x_t U^i+b_i) \\quad\n",
    "o = \\sigma(h_{t-1}W^o + x_t U^o+b_o) \n",
    "$$\n",
    "$$\n",
    "f = \\sigma(h_{t-1}W^f + x_t U^f+b_f) \\quad \n",
    "g = tanh(h_{t-1} W^g + x_t U^g+b_g) \n",
    "$$\n",
    "$$\n",
    "c_t = f \\odot c_{t-1} +  i \\odot g \\odot {\\bf m_h} \\quad\n",
    "h_t =  o \\odot tanh(c_t)\n",
    "$$\n",
    "На входы $x_t$ маска накладывается как в предыдущем дропауте. Впрочем, на входы маску можно наложить вообще до вызова рекуррентного слоя.\n",
    "\n",
    "Согласно статье, маска дропаута может быть как одинаковая, так и разная для всех моментов времени. Мы сделаем одинаковую для всех моментов времени.\n",
    "\n",
    "Для реализации этого дропаута можно: \n",
    "1. самостоятельно реализовать LSTM (интерфейса LSTMCell не хватит) \n",
    "2. снова воспользоваться трюком с установкой весов (но тут мы опираемся на свойство $tanh(0)=0$, к тому же, трюк в данном случае выглядит менее тривиально, чем с дропаутом Гала). \n",
    "\n",
    "Предлагается реализовать дропаут по сценарию 1. Допишите класс:"
   ]
  },
  {
   "cell_type": "markdown",
   "metadata": {},
   "source": [
    "**Для каждого тензора в функции `forward` подпишите в комментарии его размеры**"
   ]
  },
  {
   "cell_type": "code",
   "execution_count": 26,
   "metadata": {
    "ExecuteTime": {
     "end_time": "2024-03-30T21:53:49.270179Z",
     "start_time": "2024-03-30T21:53:49.265063Z"
    },
    "execution": {
     "iopub.execute_input": "2024-04-15T18:32:23.883763Z",
     "iopub.status.busy": "2024-04-15T18:32:23.883763Z",
     "iopub.status.idle": "2024-04-15T18:32:23.899503Z",
     "shell.execute_reply": "2024-04-15T18:32:23.898502Z",
     "shell.execute_reply.started": "2024-04-15T18:32:23.883763Z"
    }
   },
   "outputs": [],
   "source": [
    "import torch.nn.functional as F\n",
    "\n",
    "\n",
    "class HandmadeLSTM(torch.nn.Module):\n",
    "    def __init__(self, input_size, hidden_size, dropout=0.0):\n",
    "        super().__init__()\n",
    "        \n",
    "        self.dropout = dropout\n",
    "        self.input_size = input_size\n",
    "        self.hidden_size = hidden_size\n",
    "        \n",
    "        self.input_weights = torch.nn.Linear(input_size, 4 * hidden_size)\n",
    "        self.hidden_weights = torch.nn.Linear(hidden_size, 4 * hidden_size, bias=False) # need only one bias\n",
    "        \n",
    "        self.reset_params()\n",
    "\n",
    "    def reset_params(self):\n",
    "        \"\"\"\n",
    "        Initialization as in Pytorch. \n",
    "        Do not forget to call this method!\n",
    "        https://pytorch.org/docs/stable/_modules/torch/nn/modules/rnn.html#LSTM\n",
    "        \"\"\"\n",
    "        stdv = 1.0 / np.sqrt(self.hidden_size)\n",
    "        for weight in self.parameters():\n",
    "            torch.nn.init.uniform_(weight, -stdv, stdv)\n",
    "\n",
    "    def forward(self, x):\n",
    "        # size of x: (T, B, input_size) (where T is length of the longest sequence, B is batch size)\n",
    "        \n",
    "        # Use functions init_h0_c0 and gen_dropout_masks defined above\n",
    "        # Initialize h_0, c_0\n",
    "        h, c = init_h0_c0(x.shape[1], self.hidden_size, x)\n",
    "        # size of h and c: (B, hidden_size)\n",
    "\n",
    "        # Gen masks for input and hidden state\n",
    "        # Будем использовать одну и ту же маску для каждого объекта в батче\n",
    "        if self.dropout:\n",
    "            input_mask, hidden_mask = gen_dropout_mask(self.input_size, self.hidden_size, self.training, self.dropout, x)\n",
    "        # size of input_mask: (1, input_size)\n",
    "        # size of hidden_mask: (1, hidden_size)\n",
    "        \n",
    "        # Implement recurrent logic to mimic torch.nn.LSTM\n",
    "        # Do not forget to apply dropout mask\n",
    "        res = x.new_zeros(size=(x.shape[0], x.shape[1], self.hidden_size))\n",
    "        # size of res: (T, B, hidden_size)\n",
    "\n",
    "        if self.dropout:\n",
    "            x = x * input_mask.reshape(1, 1, -1)\n",
    "        \n",
    "        for t, x_t in enumerate(x):\n",
    "            # size of x_t: (B, input_size)\n",
    "\n",
    "            gates = self.input_weights(x_t) + self.hidden_weights(h)\n",
    "            # size of gates: (B, 4 * hidden_size)\n",
    "\n",
    "            i, o, f, g = [gates[:, i * self.hidden_size : (i + 1) * self.hidden_size] for i in range(4)]\n",
    "            # size of i, o, f, g: (B, hidden_size)\n",
    "\n",
    "            i = F.sigmoid(i)\n",
    "            o = F.sigmoid(o)\n",
    "            f = F.sigmoid(f)\n",
    "            g = F.tanh(g)\n",
    "\n",
    "            if self.dropout:\n",
    "                g = g * hidden_mask\n",
    "\n",
    "            c = f * c + i * g\n",
    "            h = o * F.tanh(c)\n",
    "           \n",
    "            res[t] = h\n",
    "\n",
    "        return res, (h, c)"
   ]
  },
  {
   "cell_type": "markdown",
   "metadata": {},
   "source": [
    "Протестируйте вашу реализацию без дропаута (проконтролируйте качество и сравните время обучения с временем обучения `torch.nn.LSTM` и `RNNLayer`), а также с `dropout=0.25`. Сравните качество модели с таким дропаутом с качеством модели с дропаутом Гала и Гарамани."
   ]
  },
  {
   "cell_type": "markdown",
   "metadata": {},
   "source": [
    "**Сохраните все метрики и время работы модели. Это потребуется в конце первой части для построения графиков обучения и сравнения времени работы для всех моделей в этой секции**"
   ]
  },
  {
   "cell_type": "code",
   "execution_count": 42,
   "metadata": {
    "ExecuteTime": {
     "end_time": "2024-03-30T22:22:19.017182Z",
     "start_time": "2024-03-30T22:01:03.279800Z"
    },
    "execution": {
     "iopub.execute_input": "2024-04-13T15:29:10.557230Z",
     "iopub.status.busy": "2024-04-13T15:29:10.556230Z",
     "iopub.status.idle": "2024-04-13T16:24:22.605695Z",
     "shell.execute_reply": "2024-04-13T16:24:22.604691Z",
     "shell.execute_reply.started": "2024-04-13T15:29:10.557230Z"
    }
   },
   "outputs": [
    {
     "name": "stdout",
     "output_type": "stream",
     "text": [
      "Epoch: 1/15. Loss (Train/Test): 2.001/2.005. Accuracy (Train/Test): 0.234/0.236\n",
      "Epoch: 2/15. Loss (Train/Test): 1.728/1.754. Accuracy (Train/Test): 0.340/0.342\n",
      "Epoch: 3/15. Loss (Train/Test): 1.580/1.643. Accuracy (Train/Test): 0.382/0.365\n",
      "Epoch: 4/15. Loss (Train/Test): 1.509/1.618. Accuracy (Train/Test): 0.412/0.373\n",
      "Epoch: 5/15. Loss (Train/Test): 1.423/1.567. Accuracy (Train/Test): 0.443/0.388\n",
      "Epoch: 6/15. Loss (Train/Test): 1.365/1.568. Accuracy (Train/Test): 0.458/0.393\n",
      "Epoch: 7/15. Loss (Train/Test): 1.321/1.576. Accuracy (Train/Test): 0.482/0.386\n",
      "Epoch: 8/15. Loss (Train/Test): 1.264/1.591. Accuracy (Train/Test): 0.506/0.388\n",
      "Epoch: 9/15. Loss (Train/Test): 1.214/1.613. Accuracy (Train/Test): 0.527/0.382\n",
      "Epoch: 10/15. Loss (Train/Test): 1.141/1.655. Accuracy (Train/Test): 0.560/0.378\n",
      "Epoch: 11/15. Loss (Train/Test): 1.090/1.702. Accuracy (Train/Test): 0.578/0.376\n",
      "Epoch: 12/15. Loss (Train/Test): 1.007/1.750. Accuracy (Train/Test): 0.613/0.378\n",
      "Epoch: 13/15. Loss (Train/Test): 0.953/1.807. Accuracy (Train/Test): 0.640/0.368\n",
      "Epoch: 14/15. Loss (Train/Test): 0.861/1.910. Accuracy (Train/Test): 0.680/0.363\n",
      "Epoch: 15/15. Loss (Train/Test): 0.805/2.002. Accuracy (Train/Test): 0.709/0.352\n",
      "\n",
      "Время обучения: 3312.03 c.\n"
     ]
    }
   ],
   "source": [
    "model = RNNClassifier(\n",
    "    embedding_dim=embedding_dim, hidden_dim=hidden_dim, output_size=10, vocab=vocab,\n",
    "    rec_layer=HandmadeLSTM, dropout=None\n",
    ").to(device)\n",
    "loss_fn = torch.nn.CrossEntropyLoss(reduction='mean')\n",
    "optimizer = torch.optim.Adam(model.parameters(), lr=learning_rate)\n",
    "\n",
    "g = set_global_seed(42)\n",
    "train_dataloader = DataLoader(train_dataset, batch_size=batch_size, shuffle=True, worker_init_fn=seed_worker, generator=g,\n",
    "                              collate_fn=partial(collate_fn, batch_first=False, padding_value=vocab.lookup_indices(['<pad>'])[0]))\n",
    "test_dataloader = DataLoader(test_dataset, batch_size=batch_size, shuffle=False,\n",
    "                             collate_fn=partial(collate_fn, batch_first=False, padding_value=vocab.lookup_indices(['<pad>'])[0]))\n",
    "\n",
    "t = time()\n",
    "train_losses_no_dropout_handmade, train_accuracies_no_dropout_handmade, test_losses_no_dropout_handmade, test_accuracies_no_dropout_handmade = train(\n",
    "    train_dataloader, test_dataloader, model, loss_fn, optimizer, device, num_epochs\n",
    ")\n",
    "time_no_dropout_handmade = time() - t\n",
    "print()\n",
    "print(f\"Время обучения: {time_no_dropout_handmade:.2f} c.\")"
   ]
  },
  {
   "cell_type": "code",
   "execution_count": 56,
   "metadata": {
    "execution": {
     "iopub.execute_input": "2024-04-13T18:38:39.359040Z",
     "iopub.status.busy": "2024-04-13T18:38:39.358040Z",
     "iopub.status.idle": "2024-04-13T18:38:39.374148Z",
     "shell.execute_reply": "2024-04-13T18:38:39.371570Z",
     "shell.execute_reply.started": "2024-04-13T18:38:39.359040Z"
    }
   },
   "outputs": [
    {
     "name": "stdout",
     "output_type": "stream",
     "text": [
      "------ HandmadeLSTM(dropout=None) ------\n",
      "Время обучения увеличилось в  27.18 по сравнению с torch.nn.LSTM\n",
      "Время обучения увеличилось в  2.47 по сравнению с RNNLayer\n",
      "Время обучения увеличилось в  27.15 по сравнению с FastRNNLayer\n"
     ]
    }
   ],
   "source": [
    "print(\"------ HandmadeLSTM(dropout=None) ------\")\n",
    "print(f\"Время обучения увеличилось в {time_no_dropout_handmade / time_pure : .2f} по сравнению с torch.nn.LSTM\")\n",
    "print(f\"Время обучения увеличилось в {time_no_dropout_handmade / time_no_dropout : .2f} по сравнению с RNNLayer\")\n",
    "print(f\"Время обучения увеличилось в {time_no_dropout_handmade / time_no_dropout_fast : .2f} по сравнению с FastRNNLayer\")"
   ]
  },
  {
   "cell_type": "code",
   "execution_count": 44,
   "metadata": {
    "ExecuteTime": {
     "end_time": "2024-03-30T22:43:31.387698Z",
     "start_time": "2024-03-30T22:22:19.019606Z"
    },
    "execution": {
     "iopub.execute_input": "2024-04-13T16:27:10.467220Z",
     "iopub.status.busy": "2024-04-13T16:27:10.467220Z",
     "iopub.status.idle": "2024-04-13T17:25:59.928088Z",
     "shell.execute_reply": "2024-04-13T17:25:59.927086Z",
     "shell.execute_reply.started": "2024-04-13T16:27:10.467220Z"
    }
   },
   "outputs": [
    {
     "name": "stdout",
     "output_type": "stream",
     "text": [
      "Epoch: 1/15. Loss (Train/Test): 2.025/2.023. Accuracy (Train/Test): 0.207/0.215\n",
      "Epoch: 2/15. Loss (Train/Test): 1.966/1.969. Accuracy (Train/Test): 0.266/0.270\n",
      "Epoch: 3/15. Loss (Train/Test): 1.806/1.820. Accuracy (Train/Test): 0.328/0.331\n",
      "Epoch: 4/15. Loss (Train/Test): 1.690/1.721. Accuracy (Train/Test): 0.351/0.351\n",
      "Epoch: 5/15. Loss (Train/Test): 1.667/1.707. Accuracy (Train/Test): 0.358/0.356\n",
      "Epoch: 6/15. Loss (Train/Test): 1.608/1.660. Accuracy (Train/Test): 0.373/0.363\n",
      "Epoch: 7/15. Loss (Train/Test): 1.569/1.632. Accuracy (Train/Test): 0.385/0.366\n",
      "Epoch: 8/15. Loss (Train/Test): 1.560/1.632. Accuracy (Train/Test): 0.387/0.363\n",
      "Epoch: 9/15. Loss (Train/Test): 1.509/1.597. Accuracy (Train/Test): 0.402/0.380\n",
      "Epoch: 10/15. Loss (Train/Test): 1.498/1.600. Accuracy (Train/Test): 0.407/0.369\n",
      "Epoch: 11/15. Loss (Train/Test): 1.464/1.580. Accuracy (Train/Test): 0.424/0.389\n",
      "Epoch: 12/15. Loss (Train/Test): 1.428/1.557. Accuracy (Train/Test): 0.436/0.395\n",
      "Epoch: 13/15. Loss (Train/Test): 1.397/1.540. Accuracy (Train/Test): 0.448/0.404\n",
      "Epoch: 14/15. Loss (Train/Test): 1.382/1.546. Accuracy (Train/Test): 0.453/0.395\n",
      "Epoch: 15/15. Loss (Train/Test): 1.361/1.536. Accuracy (Train/Test): 0.462/0.406\n",
      "\n",
      "Время обучения: 3529.43 c.\n"
     ]
    }
   ],
   "source": [
    "model = RNNClassifier(\n",
    "    embedding_dim=embedding_dim, hidden_dim=hidden_dim, output_size=10, vocab=vocab,\n",
    "    rec_layer=HandmadeLSTM, dropout=0.25\n",
    ").to(device)\n",
    "loss_fn = torch.nn.CrossEntropyLoss(reduction='mean')\n",
    "optimizer = torch.optim.Adam(model.parameters(), lr=learning_rate)\n",
    "\n",
    "g = set_global_seed(42)\n",
    "train_dataloader = DataLoader(train_dataset, batch_size=batch_size, shuffle=True, worker_init_fn=seed_worker, generator=g,\n",
    "                              collate_fn=partial(collate_fn, batch_first=False, padding_value=vocab.lookup_indices(['<pad>'])[0]))\n",
    "test_dataloader = DataLoader(test_dataset, batch_size=batch_size, shuffle=False,\n",
    "                             collate_fn=partial(collate_fn, batch_first=False, padding_value=vocab.lookup_indices(['<pad>'])[0]))\n",
    "\n",
    "t = time()\n",
    "train_losses_dropout_25_handmade, train_accuracies_dropout_25_handmade, test_losses_dropout_25_handmade, test_accuracies_dropout_25_handmade = train(\n",
    "    train_dataloader, test_dataloader, model, loss_fn, optimizer, device, num_epochs\n",
    ")\n",
    "time_dropout_25_handmade = time() - t\n",
    "print()\n",
    "print(f\"Время обучения: {time_dropout_25_handmade:.2f} c.\")"
   ]
  },
  {
   "cell_type": "code",
   "execution_count": 58,
   "metadata": {
    "execution": {
     "iopub.execute_input": "2024-04-13T19:01:28.615739Z",
     "iopub.status.busy": "2024-04-13T19:01:28.614740Z",
     "iopub.status.idle": "2024-04-13T19:01:28.624741Z",
     "shell.execute_reply": "2024-04-13T19:01:28.623740Z",
     "shell.execute_reply.started": "2024-04-13T19:01:28.615739Z"
    }
   },
   "outputs": [
    {
     "name": "stdout",
     "output_type": "stream",
     "text": [
      "------HandmadeLSTM(dropout=0.25)------\n",
      "Время обучения увеличилось в  1.07 по сравнению с HandmadeLSTM(dropout=None)\n",
      "Время обучения увеличилось в  28.97 по сравнению с torch.nn.LSTM\n",
      "Время обучения увеличилось в  2.05 по сравнению с RNNLayer\n",
      "Время обучения увеличилось в  23.51 по сравнению с FastRNNLayer\n"
     ]
    }
   ],
   "source": [
    "print(\"------HandmadeLSTM(dropout=0.25)------\")\n",
    "print(f\"Время обучения увеличилось в {time_dropout_25_handmade / time_no_dropout_handmade : .2f} по сравнению с HandmadeLSTM(dropout=None)\")\n",
    "print(f\"Время обучения увеличилось в {time_dropout_25_handmade / time_pure : .2f} по сравнению с torch.nn.LSTM\")\n",
    "print(f\"Время обучения увеличилось в {time_dropout_25_handmade / time_dropout_25 : .2f} по сравнению с RNNLayer\")\n",
    "print(f\"Время обучения увеличилось в {time_dropout_25_handmade / time_dropout_25_fast : .2f} по сравнению с FastRNNLayer\")"
   ]
  },
  {
   "cell_type": "markdown",
   "metadata": {},
   "source": [
    "**Ответ:**\n",
    "\n",
    "1. Дропаут по статье Семениуты дал наибольшую accuracy на тесте $= 0.406$, что меньше, чем наибольшая accuracy на тесте для дропаута Гала и Гарамани $= 0.411$.\n",
    "2. Данная реализация дропаута по статье Семениуты работает намного дольше остальных моделей. "
   ]
  },
  {
   "cell_type": "markdown",
   "metadata": {
    "ExecuteTime": {
     "end_time": "2021-04-01T23:33:28.831346Z",
     "start_time": "2021-04-01T23:33:28.810453Z"
    }
   },
   "source": [
    "## `Сравнение всех предложенных моделей (1 балл)`"
   ]
  },
  {
   "cell_type": "markdown",
   "metadata": {
    "ExecuteTime": {
     "end_time": "2021-04-01T23:48:05.361634Z",
     "start_time": "2021-04-01T23:48:05.333901Z"
    }
   },
   "source": [
    "Используя замеры времени заполните табличку с временем работы четырёх реализованных моделей в следующей ячейке:"
   ]
  },
  {
   "cell_type": "markdown",
   "metadata": {},
   "source": [
    "| torch.nn.LSTM | RNNLayer | FastRNNLayer | HandmadeLSTM |\n",
    "|---------------|----------|--------------|--------------|\n",
    "| 2m 1s         | 22m 22s  | 2m 2s        | 55m 12s      |"
   ]
  },
  {
   "cell_type": "code",
   "execution_count": 27,
   "metadata": {
    "ExecuteTime": {
     "end_time": "2024-03-30T22:43:31.566217Z",
     "start_time": "2024-03-30T22:43:31.389958Z"
    },
    "execution": {
     "iopub.execute_input": "2024-04-15T18:32:30.477522Z",
     "iopub.status.busy": "2024-04-15T18:32:30.477522Z",
     "iopub.status.idle": "2024-04-15T18:32:31.111689Z",
     "shell.execute_reply": "2024-04-15T18:32:31.110742Z",
     "shell.execute_reply.started": "2024-04-15T18:32:30.477522Z"
    }
   },
   "outputs": [],
   "source": [
    "import matplotlib.pyplot as plt"
   ]
  },
  {
   "cell_type": "markdown",
   "metadata": {},
   "source": [
    "Крайне желательно рисовать графики в векторном формате. \n",
    "\n",
    "Если по каким-то причинам, отрисовка не будет работать, закомментируйте следующую ячейку."
   ]
  },
  {
   "cell_type": "code",
   "execution_count": 28,
   "metadata": {
    "ExecuteTime": {
     "end_time": "2024-03-30T22:43:31.573342Z",
     "start_time": "2024-03-30T22:43:31.567690Z"
    },
    "execution": {
     "iopub.execute_input": "2024-04-15T18:32:31.900096Z",
     "iopub.status.busy": "2024-04-15T18:32:31.900096Z",
     "iopub.status.idle": "2024-04-15T18:32:31.927732Z",
     "shell.execute_reply": "2024-04-15T18:32:31.924910Z",
     "shell.execute_reply.started": "2024-04-15T18:32:31.900096Z"
    }
   },
   "outputs": [],
   "source": [
    "%matplotlib inline\n",
    "\n",
    "import matplotlib_inline\n",
    "from IPython.display import set_matplotlib_formats\n",
    "\n",
    "matplotlib_inline.backend_inline.set_matplotlib_formats('pdf', 'svg')"
   ]
  },
  {
   "cell_type": "markdown",
   "metadata": {},
   "source": [
    "Нарисуйте два графика — функция потерь и качество на обучающей и тестовой выборке для всех 7 моделей обученных выше."
   ]
  },
  {
   "cell_type": "code",
   "execution_count": 64,
   "metadata": {
    "ExecuteTime": {
     "end_time": "2024-03-30T22:43:32.290598Z",
     "start_time": "2024-03-30T22:43:31.575031Z"
    },
    "execution": {
     "iopub.execute_input": "2024-04-13T19:06:48.731867Z",
     "iopub.status.busy": "2024-04-13T19:06:48.731867Z",
     "iopub.status.idle": "2024-04-13T19:06:49.792501Z",
     "shell.execute_reply": "2024-04-13T19:06:49.790497Z",
     "shell.execute_reply.started": "2024-04-13T19:06:48.731867Z"
    }
   },
   "outputs": [
    {
     "data": {
      "application/pdf": "[encoded data removed]",
      "image/svg+xml": [
       "<?xml version=\"1.0\" encoding=\"utf-8\" standalone=\"no\"?>\n",
       "<!DOCTYPE svg PUBLIC \"-//W3C//DTD SVG 1.1//EN\"\n",
       "  \"http://www.w3.org/Graphics/SVG/1.1/DTD/svg11.dtd\">\n",
       "<svg xmlns:xlink=\"http://www.w3.org/1999/xlink\" width=\"712.773125pt\" height=\"712.474375pt\" viewBox=\"0 0 712.773125 712.474375\" xmlns=\"http://www.w3.org/2000/svg\" version=\"1.1\">\n",
       " <metadata>\n",
       "  <rdf:RDF xmlns:dc=\"http://purl.org/dc/elements/1.1/\" xmlns:cc=\"http://creativecommons.org/ns#\" xmlns:rdf=\"http://www.w3.org/1999/02/22-rdf-syntax-ns#\">\n",
       "   <cc:Work>\n",
       "    <dc:type rdf:resource=\"http://purl.org/dc/dcmitype/StillImage\"/>\n",
       "    <dc:date>2024-04-13T22:06:49.127860</dc:date>\n",
       "    <dc:format>image/svg+xml</dc:format>\n",
       "    <dc:creator>\n",
       "     <cc:Agent>\n",
       "      <dc:title>Matplotlib v3.8.0, https://matplotlib.org/</dc:title>\n",
       "     </cc:Agent>\n",
       "    </dc:creator>\n",
       "   </cc:Work>\n",
       "  </rdf:RDF>\n",
       " </metadata>\n",
       " <defs>\n",
       "  <style type=\"text/css\">*{stroke-linejoin: round; stroke-linecap: butt}</style>\n",
       " </defs>\n",
       " <g id=\"figure_1\">\n",
       "  <g id=\"patch_1\">\n",
       "   <path d=\"M 0 712.474375 \n",
       "L 712.773125 712.474375 \n",
       "L 712.773125 0 \n",
       "L 0 0 \n",
       "z\n",
       "\" style=\"fill: #ffffff\"/>\n",
       "  </g>\n",
       "  <g id=\"axes_1\">\n",
       "   <g id=\"patch_2\">\n",
       "    <path d=\"M 30.103125 320.318125 \n",
       "L 705.573125 320.318125 \n",
       "L 705.573125 22.318125 \n",
       "L 30.103125 22.318125 \n",
       "z\n",
       "\" style=\"fill: #ffffff\"/>\n",
       "   </g>\n",
       "   <g id=\"matplotlib.axis_1\">\n",
       "    <g id=\"xtick_1\">\n",
       "     <g id=\"line2d_1\">\n",
       "      <path d=\"M 60.806307 320.318125 \n",
       "L 60.806307 22.318125 \n",
       "\" clip-path=\"url(#pe76faa9344)\" style=\"fill: none; stroke: #b0b0b0; stroke-width: 0.8; stroke-linecap: square\"/>\n",
       "     </g>\n",
       "     <g id=\"line2d_2\">\n",
       "      <defs>\n",
       "       <path id=\"m09f68dbdd9\" d=\"M 0 0 \n",
       "L 0 3.5 \n",
       "\" style=\"stroke: #000000; stroke-width: 0.8\"/>\n",
       "      </defs>\n",
       "      <g>\n",
       "       <use xlink:href=\"#m09f68dbdd9\" x=\"60.806307\" y=\"320.318125\" style=\"stroke: #000000; stroke-width: 0.8\"/>\n",
       "      </g>\n",
       "     </g>\n",
       "     <g id=\"text_1\">\n",
       "      <!-- 0 -->\n",
       "      <g transform=\"translate(57.625057 334.916562) scale(0.1 -0.1)\">\n",
       "       <defs>\n",
       "        <path id=\"DejaVuSans-30\" d=\"M 2034 4250 \n",
       "Q 1547 4250 1301 3770 \n",
       "Q 1056 3291 1056 2328 \n",
       "Q 1056 1369 1301 889 \n",
       "Q 1547 409 2034 409 \n",
       "Q 2525 409 2770 889 \n",
       "Q 3016 1369 3016 2328 \n",
       "Q 3016 3291 2770 3770 \n",
       "Q 2525 4250 2034 4250 \n",
       "z\n",
       "M 2034 4750 \n",
       "Q 2819 4750 3233 4129 \n",
       "Q 3647 3509 3647 2328 \n",
       "Q 3647 1150 3233 529 \n",
       "Q 2819 -91 2034 -91 \n",
       "Q 1250 -91 836 529 \n",
       "Q 422 1150 422 2328 \n",
       "Q 422 3509 836 4129 \n",
       "Q 1250 4750 2034 4750 \n",
       "z\n",
       "\" transform=\"scale(0.015625)\"/>\n",
       "       </defs>\n",
       "       <use xlink:href=\"#DejaVuSans-30\"/>\n",
       "      </g>\n",
       "     </g>\n",
       "    </g>\n",
       "    <g id=\"xtick_2\">\n",
       "     <g id=\"line2d_3\">\n",
       "      <path d=\"M 148.529683 320.318125 \n",
       "L 148.529683 22.318125 \n",
       "\" clip-path=\"url(#pe76faa9344)\" style=\"fill: none; stroke: #b0b0b0; stroke-width: 0.8; stroke-linecap: square\"/>\n",
       "     </g>\n",
       "     <g id=\"line2d_4\">\n",
       "      <g>\n",
       "       <use xlink:href=\"#m09f68dbdd9\" x=\"148.529683\" y=\"320.318125\" style=\"stroke: #000000; stroke-width: 0.8\"/>\n",
       "      </g>\n",
       "     </g>\n",
       "     <g id=\"text_2\">\n",
       "      <!-- 2 -->\n",
       "      <g transform=\"translate(145.348433 334.916562) scale(0.1 -0.1)\">\n",
       "       <defs>\n",
       "        <path id=\"DejaVuSans-32\" d=\"M 1228 531 \n",
       "L 3431 531 \n",
       "L 3431 0 \n",
       "L 469 0 \n",
       "L 469 531 \n",
       "Q 828 903 1448 1529 \n",
       "Q 2069 2156 2228 2338 \n",
       "Q 2531 2678 2651 2914 \n",
       "Q 2772 3150 2772 3378 \n",
       "Q 2772 3750 2511 3984 \n",
       "Q 2250 4219 1831 4219 \n",
       "Q 1534 4219 1204 4116 \n",
       "Q 875 4013 500 3803 \n",
       "L 500 4441 \n",
       "Q 881 4594 1212 4672 \n",
       "Q 1544 4750 1819 4750 \n",
       "Q 2544 4750 2975 4387 \n",
       "Q 3406 4025 3406 3419 \n",
       "Q 3406 3131 3298 2873 \n",
       "Q 3191 2616 2906 2266 \n",
       "Q 2828 2175 2409 1742 \n",
       "Q 1991 1309 1228 531 \n",
       "z\n",
       "\" transform=\"scale(0.015625)\"/>\n",
       "       </defs>\n",
       "       <use xlink:href=\"#DejaVuSans-32\"/>\n",
       "      </g>\n",
       "     </g>\n",
       "    </g>\n",
       "    <g id=\"xtick_3\">\n",
       "     <g id=\"line2d_5\">\n",
       "      <path d=\"M 236.25306 320.318125 \n",
       "L 236.25306 22.318125 \n",
       "\" clip-path=\"url(#pe76faa9344)\" style=\"fill: none; stroke: #b0b0b0; stroke-width: 0.8; stroke-linecap: square\"/>\n",
       "     </g>\n",
       "     <g id=\"line2d_6\">\n",
       "      <g>\n",
       "       <use xlink:href=\"#m09f68dbdd9\" x=\"236.25306\" y=\"320.318125\" style=\"stroke: #000000; stroke-width: 0.8\"/>\n",
       "      </g>\n",
       "     </g>\n",
       "     <g id=\"text_3\">\n",
       "      <!-- 4 -->\n",
       "      <g transform=\"translate(233.07181 334.916562) scale(0.1 -0.1)\">\n",
       "       <defs>\n",
       "        <path id=\"DejaVuSans-34\" d=\"M 2419 4116 \n",
       "L 825 1625 \n",
       "L 2419 1625 \n",
       "L 2419 4116 \n",
       "z\n",
       "M 2253 4666 \n",
       "L 3047 4666 \n",
       "L 3047 1625 \n",
       "L 3713 1625 \n",
       "L 3713 1100 \n",
       "L 3047 1100 \n",
       "L 3047 0 \n",
       "L 2419 0 \n",
       "L 2419 1100 \n",
       "L 313 1100 \n",
       "L 313 1709 \n",
       "L 2253 4666 \n",
       "z\n",
       "\" transform=\"scale(0.015625)\"/>\n",
       "       </defs>\n",
       "       <use xlink:href=\"#DejaVuSans-34\"/>\n",
       "      </g>\n",
       "     </g>\n",
       "    </g>\n",
       "    <g id=\"xtick_4\">\n",
       "     <g id=\"line2d_7\">\n",
       "      <path d=\"M 323.976437 320.318125 \n",
       "L 323.976437 22.318125 \n",
       "\" clip-path=\"url(#pe76faa9344)\" style=\"fill: none; stroke: #b0b0b0; stroke-width: 0.8; stroke-linecap: square\"/>\n",
       "     </g>\n",
       "     <g id=\"line2d_8\">\n",
       "      <g>\n",
       "       <use xlink:href=\"#m09f68dbdd9\" x=\"323.976437\" y=\"320.318125\" style=\"stroke: #000000; stroke-width: 0.8\"/>\n",
       "      </g>\n",
       "     </g>\n",
       "     <g id=\"text_4\">\n",
       "      <!-- 6 -->\n",
       "      <g transform=\"translate(320.795187 334.916562) scale(0.1 -0.1)\">\n",
       "       <defs>\n",
       "        <path id=\"DejaVuSans-36\" d=\"M 2113 2584 \n",
       "Q 1688 2584 1439 2293 \n",
       "Q 1191 2003 1191 1497 \n",
       "Q 1191 994 1439 701 \n",
       "Q 1688 409 2113 409 \n",
       "Q 2538 409 2786 701 \n",
       "Q 3034 994 3034 1497 \n",
       "Q 3034 2003 2786 2293 \n",
       "Q 2538 2584 2113 2584 \n",
       "z\n",
       "M 3366 4563 \n",
       "L 3366 3988 \n",
       "Q 3128 4100 2886 4159 \n",
       "Q 2644 4219 2406 4219 \n",
       "Q 1781 4219 1451 3797 \n",
       "Q 1122 3375 1075 2522 \n",
       "Q 1259 2794 1537 2939 \n",
       "Q 1816 3084 2150 3084 \n",
       "Q 2853 3084 3261 2657 \n",
       "Q 3669 2231 3669 1497 \n",
       "Q 3669 778 3244 343 \n",
       "Q 2819 -91 2113 -91 \n",
       "Q 1303 -91 875 529 \n",
       "Q 447 1150 447 2328 \n",
       "Q 447 3434 972 4092 \n",
       "Q 1497 4750 2381 4750 \n",
       "Q 2619 4750 2861 4703 \n",
       "Q 3103 4656 3366 4563 \n",
       "z\n",
       "\" transform=\"scale(0.015625)\"/>\n",
       "       </defs>\n",
       "       <use xlink:href=\"#DejaVuSans-36\"/>\n",
       "      </g>\n",
       "     </g>\n",
       "    </g>\n",
       "    <g id=\"xtick_5\">\n",
       "     <g id=\"line2d_9\">\n",
       "      <path d=\"M 411.699813 320.318125 \n",
       "L 411.699813 22.318125 \n",
       "\" clip-path=\"url(#pe76faa9344)\" style=\"fill: none; stroke: #b0b0b0; stroke-width: 0.8; stroke-linecap: square\"/>\n",
       "     </g>\n",
       "     <g id=\"line2d_10\">\n",
       "      <g>\n",
       "       <use xlink:href=\"#m09f68dbdd9\" x=\"411.699813\" y=\"320.318125\" style=\"stroke: #000000; stroke-width: 0.8\"/>\n",
       "      </g>\n",
       "     </g>\n",
       "     <g id=\"text_5\">\n",
       "      <!-- 8 -->\n",
       "      <g transform=\"translate(408.518563 334.916562) scale(0.1 -0.1)\">\n",
       "       <defs>\n",
       "        <path id=\"DejaVuSans-38\" d=\"M 2034 2216 \n",
       "Q 1584 2216 1326 1975 \n",
       "Q 1069 1734 1069 1313 \n",
       "Q 1069 891 1326 650 \n",
       "Q 1584 409 2034 409 \n",
       "Q 2484 409 2743 651 \n",
       "Q 3003 894 3003 1313 \n",
       "Q 3003 1734 2745 1975 \n",
       "Q 2488 2216 2034 2216 \n",
       "z\n",
       "M 1403 2484 \n",
       "Q 997 2584 770 2862 \n",
       "Q 544 3141 544 3541 \n",
       "Q 544 4100 942 4425 \n",
       "Q 1341 4750 2034 4750 \n",
       "Q 2731 4750 3128 4425 \n",
       "Q 3525 4100 3525 3541 \n",
       "Q 3525 3141 3298 2862 \n",
       "Q 3072 2584 2669 2484 \n",
       "Q 3125 2378 3379 2068 \n",
       "Q 3634 1759 3634 1313 \n",
       "Q 3634 634 3220 271 \n",
       "Q 2806 -91 2034 -91 \n",
       "Q 1263 -91 848 271 \n",
       "Q 434 634 434 1313 \n",
       "Q 434 1759 690 2068 \n",
       "Q 947 2378 1403 2484 \n",
       "z\n",
       "M 1172 3481 \n",
       "Q 1172 3119 1398 2916 \n",
       "Q 1625 2713 2034 2713 \n",
       "Q 2441 2713 2670 2916 \n",
       "Q 2900 3119 2900 3481 \n",
       "Q 2900 3844 2670 4047 \n",
       "Q 2441 4250 2034 4250 \n",
       "Q 1625 4250 1398 4047 \n",
       "Q 1172 3844 1172 3481 \n",
       "z\n",
       "\" transform=\"scale(0.015625)\"/>\n",
       "       </defs>\n",
       "       <use xlink:href=\"#DejaVuSans-38\"/>\n",
       "      </g>\n",
       "     </g>\n",
       "    </g>\n",
       "    <g id=\"xtick_6\">\n",
       "     <g id=\"line2d_11\">\n",
       "      <path d=\"M 499.42319 320.318125 \n",
       "L 499.42319 22.318125 \n",
       "\" clip-path=\"url(#pe76faa9344)\" style=\"fill: none; stroke: #b0b0b0; stroke-width: 0.8; stroke-linecap: square\"/>\n",
       "     </g>\n",
       "     <g id=\"line2d_12\">\n",
       "      <g>\n",
       "       <use xlink:href=\"#m09f68dbdd9\" x=\"499.42319\" y=\"320.318125\" style=\"stroke: #000000; stroke-width: 0.8\"/>\n",
       "      </g>\n",
       "     </g>\n",
       "     <g id=\"text_6\">\n",
       "      <!-- 10 -->\n",
       "      <g transform=\"translate(493.06069 334.916562) scale(0.1 -0.1)\">\n",
       "       <defs>\n",
       "        <path id=\"DejaVuSans-31\" d=\"M 794 531 \n",
       "L 1825 531 \n",
       "L 1825 4091 \n",
       "L 703 3866 \n",
       "L 703 4441 \n",
       "L 1819 4666 \n",
       "L 2450 4666 \n",
       "L 2450 531 \n",
       "L 3481 531 \n",
       "L 3481 0 \n",
       "L 794 0 \n",
       "L 794 531 \n",
       "z\n",
       "\" transform=\"scale(0.015625)\"/>\n",
       "       </defs>\n",
       "       <use xlink:href=\"#DejaVuSans-31\"/>\n",
       "       <use xlink:href=\"#DejaVuSans-30\" x=\"63.623047\"/>\n",
       "      </g>\n",
       "     </g>\n",
       "    </g>\n",
       "    <g id=\"xtick_7\">\n",
       "     <g id=\"line2d_13\">\n",
       "      <path d=\"M 587.146567 320.318125 \n",
       "L 587.146567 22.318125 \n",
       "\" clip-path=\"url(#pe76faa9344)\" style=\"fill: none; stroke: #b0b0b0; stroke-width: 0.8; stroke-linecap: square\"/>\n",
       "     </g>\n",
       "     <g id=\"line2d_14\">\n",
       "      <g>\n",
       "       <use xlink:href=\"#m09f68dbdd9\" x=\"587.146567\" y=\"320.318125\" style=\"stroke: #000000; stroke-width: 0.8\"/>\n",
       "      </g>\n",
       "     </g>\n",
       "     <g id=\"text_7\">\n",
       "      <!-- 12 -->\n",
       "      <g transform=\"translate(580.784067 334.916562) scale(0.1 -0.1)\">\n",
       "       <use xlink:href=\"#DejaVuSans-31\"/>\n",
       "       <use xlink:href=\"#DejaVuSans-32\" x=\"63.623047\"/>\n",
       "      </g>\n",
       "     </g>\n",
       "    </g>\n",
       "    <g id=\"xtick_8\">\n",
       "     <g id=\"line2d_15\">\n",
       "      <path d=\"M 674.869943 320.318125 \n",
       "L 674.869943 22.318125 \n",
       "\" clip-path=\"url(#pe76faa9344)\" style=\"fill: none; stroke: #b0b0b0; stroke-width: 0.8; stroke-linecap: square\"/>\n",
       "     </g>\n",
       "     <g id=\"line2d_16\">\n",
       "      <g>\n",
       "       <use xlink:href=\"#m09f68dbdd9\" x=\"674.869943\" y=\"320.318125\" style=\"stroke: #000000; stroke-width: 0.8\"/>\n",
       "      </g>\n",
       "     </g>\n",
       "     <g id=\"text_8\">\n",
       "      <!-- 14 -->\n",
       "      <g transform=\"translate(668.507443 334.916562) scale(0.1 -0.1)\">\n",
       "       <use xlink:href=\"#DejaVuSans-31\"/>\n",
       "       <use xlink:href=\"#DejaVuSans-34\" x=\"63.623047\"/>\n",
       "      </g>\n",
       "     </g>\n",
       "    </g>\n",
       "    <g id=\"text_9\">\n",
       "     <!-- Epoch -->\n",
       "     <g transform=\"translate(352.527187 348.594687) scale(0.1 -0.1)\">\n",
       "      <defs>\n",
       "       <path id=\"DejaVuSans-45\" d=\"M 628 4666 \n",
       "L 3578 4666 \n",
       "L 3578 4134 \n",
       "L 1259 4134 \n",
       "L 1259 2753 \n",
       "L 3481 2753 \n",
       "L 3481 2222 \n",
       "L 1259 2222 \n",
       "L 1259 531 \n",
       "L 3634 531 \n",
       "L 3634 0 \n",
       "L 628 0 \n",
       "L 628 4666 \n",
       "z\n",
       "\" transform=\"scale(0.015625)\"/>\n",
       "       <path id=\"DejaVuSans-70\" d=\"M 1159 525 \n",
       "L 1159 -1331 \n",
       "L 581 -1331 \n",
       "L 581 3500 \n",
       "L 1159 3500 \n",
       "L 1159 2969 \n",
       "Q 1341 3281 1617 3432 \n",
       "Q 1894 3584 2278 3584 \n",
       "Q 2916 3584 3314 3078 \n",
       "Q 3713 2572 3713 1747 \n",
       "Q 3713 922 3314 415 \n",
       "Q 2916 -91 2278 -91 \n",
       "Q 1894 -91 1617 61 \n",
       "Q 1341 213 1159 525 \n",
       "z\n",
       "M 3116 1747 \n",
       "Q 3116 2381 2855 2742 \n",
       "Q 2594 3103 2138 3103 \n",
       "Q 1681 3103 1420 2742 \n",
       "Q 1159 2381 1159 1747 \n",
       "Q 1159 1113 1420 752 \n",
       "Q 1681 391 2138 391 \n",
       "Q 2594 391 2855 752 \n",
       "Q 3116 1113 3116 1747 \n",
       "z\n",
       "\" transform=\"scale(0.015625)\"/>\n",
       "       <path id=\"DejaVuSans-6f\" d=\"M 1959 3097 \n",
       "Q 1497 3097 1228 2736 \n",
       "Q 959 2375 959 1747 \n",
       "Q 959 1119 1226 758 \n",
       "Q 1494 397 1959 397 \n",
       "Q 2419 397 2687 759 \n",
       "Q 2956 1122 2956 1747 \n",
       "Q 2956 2369 2687 2733 \n",
       "Q 2419 3097 1959 3097 \n",
       "z\n",
       "M 1959 3584 \n",
       "Q 2709 3584 3137 3096 \n",
       "Q 3566 2609 3566 1747 \n",
       "Q 3566 888 3137 398 \n",
       "Q 2709 -91 1959 -91 \n",
       "Q 1206 -91 779 398 \n",
       "Q 353 888 353 1747 \n",
       "Q 353 2609 779 3096 \n",
       "Q 1206 3584 1959 3584 \n",
       "z\n",
       "\" transform=\"scale(0.015625)\"/>\n",
       "       <path id=\"DejaVuSans-63\" d=\"M 3122 3366 \n",
       "L 3122 2828 \n",
       "Q 2878 2963 2633 3030 \n",
       "Q 2388 3097 2138 3097 \n",
       "Q 1578 3097 1268 2742 \n",
       "Q 959 2388 959 1747 \n",
       "Q 959 1106 1268 751 \n",
       "Q 1578 397 2138 397 \n",
       "Q 2388 397 2633 464 \n",
       "Q 2878 531 3122 666 \n",
       "L 3122 134 \n",
       "Q 2881 22 2623 -34 \n",
       "Q 2366 -91 2075 -91 \n",
       "Q 1284 -91 818 406 \n",
       "Q 353 903 353 1747 \n",
       "Q 353 2603 823 3093 \n",
       "Q 1294 3584 2113 3584 \n",
       "Q 2378 3584 2631 3529 \n",
       "Q 2884 3475 3122 3366 \n",
       "z\n",
       "\" transform=\"scale(0.015625)\"/>\n",
       "       <path id=\"DejaVuSans-68\" d=\"M 3513 2113 \n",
       "L 3513 0 \n",
       "L 2938 0 \n",
       "L 2938 2094 \n",
       "Q 2938 2591 2744 2837 \n",
       "Q 2550 3084 2163 3084 \n",
       "Q 1697 3084 1428 2787 \n",
       "Q 1159 2491 1159 1978 \n",
       "L 1159 0 \n",
       "L 581 0 \n",
       "L 581 4863 \n",
       "L 1159 4863 \n",
       "L 1159 2956 \n",
       "Q 1366 3272 1645 3428 \n",
       "Q 1925 3584 2291 3584 \n",
       "Q 2894 3584 3203 3211 \n",
       "Q 3513 2838 3513 2113 \n",
       "z\n",
       "\" transform=\"scale(0.015625)\"/>\n",
       "      </defs>\n",
       "      <use xlink:href=\"#DejaVuSans-45\"/>\n",
       "      <use xlink:href=\"#DejaVuSans-70\" x=\"63.183594\"/>\n",
       "      <use xlink:href=\"#DejaVuSans-6f\" x=\"126.660156\"/>\n",
       "      <use xlink:href=\"#DejaVuSans-63\" x=\"187.841797\"/>\n",
       "      <use xlink:href=\"#DejaVuSans-68\" x=\"242.822266\"/>\n",
       "     </g>\n",
       "    </g>\n",
       "   </g>\n",
       "   <g id=\"matplotlib.axis_2\">\n",
       "    <g id=\"ytick_1\">\n",
       "     <g id=\"line2d_17\">\n",
       "      <path d=\"M 30.103125 299.377374 \n",
       "L 705.573125 299.377374 \n",
       "\" clip-path=\"url(#pe76faa9344)\" style=\"fill: none; stroke: #b0b0b0; stroke-width: 0.8; stroke-linecap: square\"/>\n",
       "     </g>\n",
       "     <g id=\"line2d_18\">\n",
       "      <defs>\n",
       "       <path id=\"m3b39f2e89a\" d=\"M 0 0 \n",
       "L -3.5 0 \n",
       "\" style=\"stroke: #000000; stroke-width: 0.8\"/>\n",
       "      </defs>\n",
       "      <g>\n",
       "       <use xlink:href=\"#m3b39f2e89a\" x=\"30.103125\" y=\"299.377374\" style=\"stroke: #000000; stroke-width: 0.8\"/>\n",
       "      </g>\n",
       "     </g>\n",
       "     <g id=\"text_10\">\n",
       "      <!-- 0.8 -->\n",
       "      <g transform=\"translate(7.2 303.176592) scale(0.1 -0.1)\">\n",
       "       <defs>\n",
       "        <path id=\"DejaVuSans-2e\" d=\"M 684 794 \n",
       "L 1344 794 \n",
       "L 1344 0 \n",
       "L 684 0 \n",
       "L 684 794 \n",
       "z\n",
       "\" transform=\"scale(0.015625)\"/>\n",
       "       </defs>\n",
       "       <use xlink:href=\"#DejaVuSans-30\"/>\n",
       "       <use xlink:href=\"#DejaVuSans-2e\" x=\"63.623047\"/>\n",
       "       <use xlink:href=\"#DejaVuSans-38\" x=\"95.410156\"/>\n",
       "      </g>\n",
       "     </g>\n",
       "    </g>\n",
       "    <g id=\"ytick_2\">\n",
       "     <g id=\"line2d_19\">\n",
       "      <path d=\"M 30.103125 256.355556 \n",
       "L 705.573125 256.355556 \n",
       "\" clip-path=\"url(#pe76faa9344)\" style=\"fill: none; stroke: #b0b0b0; stroke-width: 0.8; stroke-linecap: square\"/>\n",
       "     </g>\n",
       "     <g id=\"line2d_20\">\n",
       "      <g>\n",
       "       <use xlink:href=\"#m3b39f2e89a\" x=\"30.103125\" y=\"256.355556\" style=\"stroke: #000000; stroke-width: 0.8\"/>\n",
       "      </g>\n",
       "     </g>\n",
       "     <g id=\"text_11\">\n",
       "      <!-- 1.0 -->\n",
       "      <g transform=\"translate(7.2 260.154774) scale(0.1 -0.1)\">\n",
       "       <use xlink:href=\"#DejaVuSans-31\"/>\n",
       "       <use xlink:href=\"#DejaVuSans-2e\" x=\"63.623047\"/>\n",
       "       <use xlink:href=\"#DejaVuSans-30\" x=\"95.410156\"/>\n",
       "      </g>\n",
       "     </g>\n",
       "    </g>\n",
       "    <g id=\"ytick_3\">\n",
       "     <g id=\"line2d_21\">\n",
       "      <path d=\"M 30.103125 213.333737 \n",
       "L 705.573125 213.333737 \n",
       "\" clip-path=\"url(#pe76faa9344)\" style=\"fill: none; stroke: #b0b0b0; stroke-width: 0.8; stroke-linecap: square\"/>\n",
       "     </g>\n",
       "     <g id=\"line2d_22\">\n",
       "      <g>\n",
       "       <use xlink:href=\"#m3b39f2e89a\" x=\"30.103125\" y=\"213.333737\" style=\"stroke: #000000; stroke-width: 0.8\"/>\n",
       "      </g>\n",
       "     </g>\n",
       "     <g id=\"text_12\">\n",
       "      <!-- 1.2 -->\n",
       "      <g transform=\"translate(7.2 217.132956) scale(0.1 -0.1)\">\n",
       "       <use xlink:href=\"#DejaVuSans-31\"/>\n",
       "       <use xlink:href=\"#DejaVuSans-2e\" x=\"63.623047\"/>\n",
       "       <use xlink:href=\"#DejaVuSans-32\" x=\"95.410156\"/>\n",
       "      </g>\n",
       "     </g>\n",
       "    </g>\n",
       "    <g id=\"ytick_4\">\n",
       "     <g id=\"line2d_23\">\n",
       "      <path d=\"M 30.103125 170.311919 \n",
       "L 705.573125 170.311919 \n",
       "\" clip-path=\"url(#pe76faa9344)\" style=\"fill: none; stroke: #b0b0b0; stroke-width: 0.8; stroke-linecap: square\"/>\n",
       "     </g>\n",
       "     <g id=\"line2d_24\">\n",
       "      <g>\n",
       "       <use xlink:href=\"#m3b39f2e89a\" x=\"30.103125\" y=\"170.311919\" style=\"stroke: #000000; stroke-width: 0.8\"/>\n",
       "      </g>\n",
       "     </g>\n",
       "     <g id=\"text_13\">\n",
       "      <!-- 1.4 -->\n",
       "      <g transform=\"translate(7.2 174.111138) scale(0.1 -0.1)\">\n",
       "       <use xlink:href=\"#DejaVuSans-31\"/>\n",
       "       <use xlink:href=\"#DejaVuSans-2e\" x=\"63.623047\"/>\n",
       "       <use xlink:href=\"#DejaVuSans-34\" x=\"95.410156\"/>\n",
       "      </g>\n",
       "     </g>\n",
       "    </g>\n",
       "    <g id=\"ytick_5\">\n",
       "     <g id=\"line2d_25\">\n",
       "      <path d=\"M 30.103125 127.290101 \n",
       "L 705.573125 127.290101 \n",
       "\" clip-path=\"url(#pe76faa9344)\" style=\"fill: none; stroke: #b0b0b0; stroke-width: 0.8; stroke-linecap: square\"/>\n",
       "     </g>\n",
       "     <g id=\"line2d_26\">\n",
       "      <g>\n",
       "       <use xlink:href=\"#m3b39f2e89a\" x=\"30.103125\" y=\"127.290101\" style=\"stroke: #000000; stroke-width: 0.8\"/>\n",
       "      </g>\n",
       "     </g>\n",
       "     <g id=\"text_14\">\n",
       "      <!-- 1.6 -->\n",
       "      <g transform=\"translate(7.2 131.08932) scale(0.1 -0.1)\">\n",
       "       <use xlink:href=\"#DejaVuSans-31\"/>\n",
       "       <use xlink:href=\"#DejaVuSans-2e\" x=\"63.623047\"/>\n",
       "       <use xlink:href=\"#DejaVuSans-36\" x=\"95.410156\"/>\n",
       "      </g>\n",
       "     </g>\n",
       "    </g>\n",
       "    <g id=\"ytick_6\">\n",
       "     <g id=\"line2d_27\">\n",
       "      <path d=\"M 30.103125 84.268283 \n",
       "L 705.573125 84.268283 \n",
       "\" clip-path=\"url(#pe76faa9344)\" style=\"fill: none; stroke: #b0b0b0; stroke-width: 0.8; stroke-linecap: square\"/>\n",
       "     </g>\n",
       "     <g id=\"line2d_28\">\n",
       "      <g>\n",
       "       <use xlink:href=\"#m3b39f2e89a\" x=\"30.103125\" y=\"84.268283\" style=\"stroke: #000000; stroke-width: 0.8\"/>\n",
       "      </g>\n",
       "     </g>\n",
       "     <g id=\"text_15\">\n",
       "      <!-- 1.8 -->\n",
       "      <g transform=\"translate(7.2 88.067502) scale(0.1 -0.1)\">\n",
       "       <use xlink:href=\"#DejaVuSans-31\"/>\n",
       "       <use xlink:href=\"#DejaVuSans-2e\" x=\"63.623047\"/>\n",
       "       <use xlink:href=\"#DejaVuSans-38\" x=\"95.410156\"/>\n",
       "      </g>\n",
       "     </g>\n",
       "    </g>\n",
       "    <g id=\"ytick_7\">\n",
       "     <g id=\"line2d_29\">\n",
       "      <path d=\"M 30.103125 41.246465 \n",
       "L 705.573125 41.246465 \n",
       "\" clip-path=\"url(#pe76faa9344)\" style=\"fill: none; stroke: #b0b0b0; stroke-width: 0.8; stroke-linecap: square\"/>\n",
       "     </g>\n",
       "     <g id=\"line2d_30\">\n",
       "      <g>\n",
       "       <use xlink:href=\"#m3b39f2e89a\" x=\"30.103125\" y=\"41.246465\" style=\"stroke: #000000; stroke-width: 0.8\"/>\n",
       "      </g>\n",
       "     </g>\n",
       "     <g id=\"text_16\">\n",
       "      <!-- 2.0 -->\n",
       "      <g transform=\"translate(7.2 45.045684) scale(0.1 -0.1)\">\n",
       "       <use xlink:href=\"#DejaVuSans-32\"/>\n",
       "       <use xlink:href=\"#DejaVuSans-2e\" x=\"63.623047\"/>\n",
       "       <use xlink:href=\"#DejaVuSans-30\" x=\"95.410156\"/>\n",
       "      </g>\n",
       "     </g>\n",
       "    </g>\n",
       "   </g>\n",
       "   <g id=\"line2d_31\">\n",
       "    <path d=\"M 60.806307 37.229653 \n",
       "L 104.667995 86.933237 \n",
       "L 148.529683 124.168263 \n",
       "L 192.391372 141.894075 \n",
       "L 236.25306 160.867613 \n",
       "L 280.114748 174.054193 \n",
       "L 323.976437 185.110885 \n",
       "L 367.838125 197.463458 \n",
       "L 411.699813 209.125645 \n",
       "L 455.561502 221.15521 \n",
       "L 499.42319 239.041806 \n",
       "L 543.284878 256.871364 \n",
       "L 587.146567 271.029575 \n",
       "L 631.008255 293.384753 \n",
       "L 674.869943 306.77267 \n",
       "\" clip-path=\"url(#pe76faa9344)\" style=\"fill: none; stroke-dasharray: 5.55,2.4; stroke-dashoffset: 0; stroke: #ff0000; stroke-width: 1.5\"/>\n",
       "   </g>\n",
       "   <g id=\"line2d_32\">\n",
       "    <path d=\"M 60.806307 36.804647 \n",
       "L 104.667995 82.336237 \n",
       "L 148.529683 112.344113 \n",
       "L 192.391372 121.652394 \n",
       "L 236.25306 133.427984 \n",
       "L 280.114748 135.141333 \n",
       "L 323.976437 132.982551 \n",
       "L 367.838125 134.212224 \n",
       "L 411.699813 127.175925 \n",
       "L 455.561502 120.030411 \n",
       "L 499.42319 109.379378 \n",
       "L 543.284878 98.966306 \n",
       "L 587.146567 81.286917 \n",
       "L 631.008255 64.257728 \n",
       "L 674.869943 40.591173 \n",
       "\" clip-path=\"url(#pe76faa9344)\" style=\"fill: none; stroke: #ff0000; stroke-width: 1.5; stroke-linecap: square\"/>\n",
       "   </g>\n",
       "   <g id=\"line2d_33\">\n",
       "    <path d=\"M 60.806307 40.911629 \n",
       "L 104.667995 61.092628 \n",
       "L 148.529683 109.171104 \n",
       "L 192.391372 129.435766 \n",
       "L 236.25306 145.491318 \n",
       "L 280.114748 158.311116 \n",
       "L 323.976437 169.128879 \n",
       "L 367.838125 180.809391 \n",
       "L 411.699813 191.311501 \n",
       "L 455.561502 197.599312 \n",
       "L 499.42319 214.851715 \n",
       "L 543.284878 230.857594 \n",
       "L 587.146567 243.672437 \n",
       "L 631.008255 262.210751 \n",
       "L 674.869943 278.525156 \n",
       "\" clip-path=\"url(#pe76faa9344)\" style=\"fill: none; stroke-dasharray: 5.55,2.4; stroke-dashoffset: 0; stroke: #008000; stroke-width: 1.5\"/>\n",
       "   </g>\n",
       "   <g id=\"line2d_34\">\n",
       "    <path d=\"M 60.806307 40.40312 \n",
       "L 104.667995 58.167249 \n",
       "L 148.529683 99.501582 \n",
       "L 192.391372 113.475665 \n",
       "L 236.25306 125.229644 \n",
       "L 280.114748 128.216867 \n",
       "L 323.976437 132.979278 \n",
       "L 367.838125 133.481174 \n",
       "L 411.699813 132.311066 \n",
       "L 455.561502 126.578196 \n",
       "L 499.42319 119.622979 \n",
       "L 543.284878 115.061707 \n",
       "L 587.146567 103.126224 \n",
       "L 631.008255 93.430001 \n",
       "L 674.869943 79.095856 \n",
       "\" clip-path=\"url(#pe76faa9344)\" style=\"fill: none; stroke: #008000; stroke-width: 1.5; stroke-linecap: square\"/>\n",
       "   </g>\n",
       "   <g id=\"line2d_35\">\n",
       "    <path d=\"M 60.806307 41.062357 \n",
       "L 104.667995 84.310069 \n",
       "L 148.529683 110.559609 \n",
       "L 192.391372 123.442551 \n",
       "L 236.25306 133.679655 \n",
       "L 280.114748 147.285124 \n",
       "L 323.976437 156.523661 \n",
       "L 367.838125 160.781508 \n",
       "L 411.699813 168.664304 \n",
       "L 455.561502 172.25246 \n",
       "L 499.42319 179.649236 \n",
       "L 543.284878 183.853112 \n",
       "L 587.146567 190.14164 \n",
       "L 631.008255 194.862521 \n",
       "L 674.869943 198.07206 \n",
       "\" clip-path=\"url(#pe76faa9344)\" style=\"fill: none; stroke-dasharray: 5.55,2.4; stroke-dashoffset: 0; stroke: #0000ff; stroke-width: 1.5\"/>\n",
       "   </g>\n",
       "   <g id=\"line2d_36\">\n",
       "    <path d=\"M 60.806307 40.496064 \n",
       "L 104.667995 81.074238 \n",
       "L 148.529683 103.877444 \n",
       "L 192.391372 113.313001 \n",
       "L 236.25306 121.728769 \n",
       "L 280.114748 129.927686 \n",
       "L 323.976437 136.309305 \n",
       "L 367.838125 137.893101 \n",
       "L 411.699813 141.189035 \n",
       "L 455.561502 140.561348 \n",
       "L 499.42319 143.345232 \n",
       "L 543.284878 144.140925 \n",
       "L 587.146567 145.562463 \n",
       "L 631.008255 145.160375 \n",
       "L 674.869943 143.556982 \n",
       "\" clip-path=\"url(#pe76faa9344)\" style=\"fill: none; stroke: #0000ff; stroke-width: 1.5; stroke-linecap: square\"/>\n",
       "   </g>\n",
       "   <g id=\"line2d_37\">\n",
       "    <path d=\"M 60.806307 37.229653 \n",
       "L 104.667995 86.933237 \n",
       "L 148.529683 124.168263 \n",
       "L 192.391372 141.894075 \n",
       "L 236.25306 160.867613 \n",
       "L 280.114748 174.054193 \n",
       "L 323.976437 185.110885 \n",
       "L 367.838125 197.463458 \n",
       "L 411.699813 209.125645 \n",
       "L 455.561502 221.15521 \n",
       "L 499.42319 239.041806 \n",
       "L 543.284878 256.871364 \n",
       "L 587.146567 271.029575 \n",
       "L 631.008255 293.384753 \n",
       "L 674.869943 306.77267 \n",
       "\" clip-path=\"url(#pe76faa9344)\" style=\"fill: none; stroke-dasharray: 5.55,2.4; stroke-dashoffset: 0; stroke: #ffff00; stroke-width: 1.5\"/>\n",
       "   </g>\n",
       "   <g id=\"line2d_38\">\n",
       "    <path d=\"M 60.806307 36.804647 \n",
       "L 104.667995 82.336237 \n",
       "L 148.529683 112.344113 \n",
       "L 192.391372 121.652394 \n",
       "L 236.25306 133.427984 \n",
       "L 280.114748 135.141333 \n",
       "L 323.976437 132.982551 \n",
       "L 367.838125 134.212224 \n",
       "L 411.699813 127.175925 \n",
       "L 455.561502 120.030411 \n",
       "L 499.42319 109.379378 \n",
       "L 543.284878 98.966306 \n",
       "L 587.146567 81.286917 \n",
       "L 631.008255 64.257728 \n",
       "L 674.869943 40.591173 \n",
       "\" clip-path=\"url(#pe76faa9344)\" style=\"fill: none; stroke: #ffff00; stroke-width: 1.5; stroke-linecap: square\"/>\n",
       "   </g>\n",
       "   <g id=\"line2d_39\">\n",
       "    <path d=\"M 60.806307 41.936022 \n",
       "L 104.667995 79.871855 \n",
       "L 148.529683 107.392339 \n",
       "L 192.391372 120.202942 \n",
       "L 236.25306 133.463339 \n",
       "L 280.114748 146.971636 \n",
       "L 323.976437 155.530643 \n",
       "L 367.838125 159.964358 \n",
       "L 411.699813 168.284753 \n",
       "L 455.561502 171.431042 \n",
       "L 499.42319 178.382817 \n",
       "L 543.284878 182.74102 \n",
       "L 587.146567 189.413304 \n",
       "L 631.008255 193.851981 \n",
       "L 674.869943 197.870571 \n",
       "\" clip-path=\"url(#pe76faa9344)\" style=\"fill: none; stroke-dasharray: 5.55,2.4; stroke-dashoffset: 0; stroke: #ffa500; stroke-width: 1.5\"/>\n",
       "   </g>\n",
       "   <g id=\"line2d_40\">\n",
       "    <path d=\"M 60.806307 41.44865 \n",
       "L 104.667995 76.938307 \n",
       "L 148.529683 101.009273 \n",
       "L 192.391372 110.424508 \n",
       "L 236.25306 121.090088 \n",
       "L 280.114748 129.8843 \n",
       "L 323.976437 135.830539 \n",
       "L 367.838125 137.294973 \n",
       "L 411.699813 140.831026 \n",
       "L 455.561502 139.91255 \n",
       "L 499.42319 142.398131 \n",
       "L 543.284878 143.78046 \n",
       "L 587.146567 145.247504 \n",
       "L 631.008255 144.801268 \n",
       "L 674.869943 143.682503 \n",
       "\" clip-path=\"url(#pe76faa9344)\" style=\"fill: none; stroke: #ffa500; stroke-width: 1.5; stroke-linecap: square\"/>\n",
       "   </g>\n",
       "   <g id=\"line2d_41\">\n",
       "    <path d=\"M 60.806307 40.988922 \n",
       "L 104.667995 99.773471 \n",
       "L 148.529683 131.650513 \n",
       "L 192.391372 146.791646 \n",
       "L 236.25306 165.458044 \n",
       "L 280.114748 177.7612 \n",
       "L 323.976437 187.233473 \n",
       "L 367.838125 199.497162 \n",
       "L 411.699813 210.243114 \n",
       "L 455.561502 226.074359 \n",
       "L 499.42319 236.994513 \n",
       "L 543.284878 254.803602 \n",
       "L 587.146567 266.506748 \n",
       "L 631.008255 286.267789 \n",
       "L 674.869943 298.208927 \n",
       "\" clip-path=\"url(#pe76faa9344)\" style=\"fill: none; stroke-dasharray: 5.55,2.4; stroke-dashoffset: 0; stroke: #ee82ee; stroke-width: 1.5\"/>\n",
       "   </g>\n",
       "   <g id=\"line2d_42\">\n",
       "    <path d=\"M 60.806307 40.17109 \n",
       "L 104.667995 94.087931 \n",
       "L 148.529683 117.940209 \n",
       "L 192.391372 123.504698 \n",
       "L 236.25306 134.316203 \n",
       "L 280.114748 134.202133 \n",
       "L 323.976437 132.39375 \n",
       "L 367.838125 129.204433 \n",
       "L 411.699813 124.48683 \n",
       "L 455.561502 115.410086 \n",
       "L 499.42319 105.260503 \n",
       "L 543.284878 95.100504 \n",
       "L 587.146567 82.787361 \n",
       "L 631.008255 60.670857 \n",
       "L 674.869943 40.804762 \n",
       "\" clip-path=\"url(#pe76faa9344)\" style=\"fill: none; stroke: #ee82ee; stroke-width: 1.5; stroke-linecap: square\"/>\n",
       "   </g>\n",
       "   <g id=\"line2d_43\">\n",
       "    <path d=\"M 60.806307 35.86358 \n",
       "L 104.667995 48.564868 \n",
       "L 148.529683 82.968609 \n",
       "L 192.391372 107.902091 \n",
       "L 236.25306 112.835277 \n",
       "L 280.114748 125.585946 \n",
       "L 323.976437 134.024434 \n",
       "L 367.838125 135.950125 \n",
       "L 411.699813 146.90475 \n",
       "L 455.561502 149.180194 \n",
       "L 499.42319 156.545261 \n",
       "L 543.284878 164.306972 \n",
       "L 587.146567 170.860595 \n",
       "L 631.008255 174.151155 \n",
       "L 674.869943 178.758605 \n",
       "\" clip-path=\"url(#pe76faa9344)\" style=\"fill: none; stroke-dasharray: 5.55,2.4; stroke-dashoffset: 0; stroke: #000000; stroke-width: 1.5\"/>\n",
       "   </g>\n",
       "   <g id=\"line2d_44\">\n",
       "    <path d=\"M 60.806307 36.341696 \n",
       "L 104.667995 48.002426 \n",
       "L 148.529683 80.026688 \n",
       "L 192.391372 101.258151 \n",
       "L 236.25306 104.309 \n",
       "L 280.114748 114.368326 \n",
       "L 323.976437 120.444891 \n",
       "L 367.838125 120.424278 \n",
       "L 411.699813 127.933342 \n",
       "L 455.561502 127.391545 \n",
       "L 499.42319 131.68807 \n",
       "L 543.284878 136.48444 \n",
       "L 587.146567 140.104537 \n",
       "L 631.008255 138.939199 \n",
       "L 674.869943 141.153726 \n",
       "\" clip-path=\"url(#pe76faa9344)\" style=\"fill: none; stroke: #000000; stroke-width: 1.5; stroke-linecap: square\"/>\n",
       "   </g>\n",
       "   <g id=\"patch_3\">\n",
       "    <path d=\"M 30.103125 320.318125 \n",
       "L 30.103125 22.318125 \n",
       "\" style=\"fill: none; stroke: #000000; stroke-width: 0.8; stroke-linejoin: miter; stroke-linecap: square\"/>\n",
       "   </g>\n",
       "   <g id=\"patch_4\">\n",
       "    <path d=\"M 705.573125 320.318125 \n",
       "L 705.573125 22.318125 \n",
       "\" style=\"fill: none; stroke: #000000; stroke-width: 0.8; stroke-linejoin: miter; stroke-linecap: square\"/>\n",
       "   </g>\n",
       "   <g id=\"patch_5\">\n",
       "    <path d=\"M 30.103125 320.318125 \n",
       "L 705.573125 320.318125 \n",
       "\" style=\"fill: none; stroke: #000000; stroke-width: 0.8; stroke-linejoin: miter; stroke-linecap: square\"/>\n",
       "   </g>\n",
       "   <g id=\"patch_6\">\n",
       "    <path d=\"M 30.103125 22.318125 \n",
       "L 705.573125 22.318125 \n",
       "\" style=\"fill: none; stroke: #000000; stroke-width: 0.8; stroke-linejoin: miter; stroke-linecap: square\"/>\n",
       "   </g>\n",
       "   <g id=\"text_17\">\n",
       "    <!-- CrossEntropy Loss -->\n",
       "    <g transform=\"translate(313.017812 16.318125) scale(0.12 -0.12)\">\n",
       "     <defs>\n",
       "      <path id=\"DejaVuSans-43\" d=\"M 4122 4306 \n",
       "L 4122 3641 \n",
       "Q 3803 3938 3442 4084 \n",
       "Q 3081 4231 2675 4231 \n",
       "Q 1875 4231 1450 3742 \n",
       "Q 1025 3253 1025 2328 \n",
       "Q 1025 1406 1450 917 \n",
       "Q 1875 428 2675 428 \n",
       "Q 3081 428 3442 575 \n",
       "Q 3803 722 4122 1019 \n",
       "L 4122 359 \n",
       "Q 3791 134 3420 21 \n",
       "Q 3050 -91 2638 -91 \n",
       "Q 1578 -91 968 557 \n",
       "Q 359 1206 359 2328 \n",
       "Q 359 3453 968 4101 \n",
       "Q 1578 4750 2638 4750 \n",
       "Q 3056 4750 3426 4639 \n",
       "Q 3797 4528 4122 4306 \n",
       "z\n",
       "\" transform=\"scale(0.015625)\"/>\n",
       "      <path id=\"DejaVuSans-72\" d=\"M 2631 2963 \n",
       "Q 2534 3019 2420 3045 \n",
       "Q 2306 3072 2169 3072 \n",
       "Q 1681 3072 1420 2755 \n",
       "Q 1159 2438 1159 1844 \n",
       "L 1159 0 \n",
       "L 581 0 \n",
       "L 581 3500 \n",
       "L 1159 3500 \n",
       "L 1159 2956 \n",
       "Q 1341 3275 1631 3429 \n",
       "Q 1922 3584 2338 3584 \n",
       "Q 2397 3584 2469 3576 \n",
       "Q 2541 3569 2628 3553 \n",
       "L 2631 2963 \n",
       "z\n",
       "\" transform=\"scale(0.015625)\"/>\n",
       "      <path id=\"DejaVuSans-73\" d=\"M 2834 3397 \n",
       "L 2834 2853 \n",
       "Q 2591 2978 2328 3040 \n",
       "Q 2066 3103 1784 3103 \n",
       "Q 1356 3103 1142 2972 \n",
       "Q 928 2841 928 2578 \n",
       "Q 928 2378 1081 2264 \n",
       "Q 1234 2150 1697 2047 \n",
       "L 1894 2003 \n",
       "Q 2506 1872 2764 1633 \n",
       "Q 3022 1394 3022 966 \n",
       "Q 3022 478 2636 193 \n",
       "Q 2250 -91 1575 -91 \n",
       "Q 1294 -91 989 -36 \n",
       "Q 684 19 347 128 \n",
       "L 347 722 \n",
       "Q 666 556 975 473 \n",
       "Q 1284 391 1588 391 \n",
       "Q 1994 391 2212 530 \n",
       "Q 2431 669 2431 922 \n",
       "Q 2431 1156 2273 1281 \n",
       "Q 2116 1406 1581 1522 \n",
       "L 1381 1569 \n",
       "Q 847 1681 609 1914 \n",
       "Q 372 2147 372 2553 \n",
       "Q 372 3047 722 3315 \n",
       "Q 1072 3584 1716 3584 \n",
       "Q 2034 3584 2315 3537 \n",
       "Q 2597 3491 2834 3397 \n",
       "z\n",
       "\" transform=\"scale(0.015625)\"/>\n",
       "      <path id=\"DejaVuSans-6e\" d=\"M 3513 2113 \n",
       "L 3513 0 \n",
       "L 2938 0 \n",
       "L 2938 2094 \n",
       "Q 2938 2591 2744 2837 \n",
       "Q 2550 3084 2163 3084 \n",
       "Q 1697 3084 1428 2787 \n",
       "Q 1159 2491 1159 1978 \n",
       "L 1159 0 \n",
       "L 581 0 \n",
       "L 581 3500 \n",
       "L 1159 3500 \n",
       "L 1159 2956 \n",
       "Q 1366 3272 1645 3428 \n",
       "Q 1925 3584 2291 3584 \n",
       "Q 2894 3584 3203 3211 \n",
       "Q 3513 2838 3513 2113 \n",
       "z\n",
       "\" transform=\"scale(0.015625)\"/>\n",
       "      <path id=\"DejaVuSans-74\" d=\"M 1172 4494 \n",
       "L 1172 3500 \n",
       "L 2356 3500 \n",
       "L 2356 3053 \n",
       "L 1172 3053 \n",
       "L 1172 1153 \n",
       "Q 1172 725 1289 603 \n",
       "Q 1406 481 1766 481 \n",
       "L 2356 481 \n",
       "L 2356 0 \n",
       "L 1766 0 \n",
       "Q 1100 0 847 248 \n",
       "Q 594 497 594 1153 \n",
       "L 594 3053 \n",
       "L 172 3053 \n",
       "L 172 3500 \n",
       "L 594 3500 \n",
       "L 594 4494 \n",
       "L 1172 4494 \n",
       "z\n",
       "\" transform=\"scale(0.015625)\"/>\n",
       "      <path id=\"DejaVuSans-79\" d=\"M 2059 -325 \n",
       "Q 1816 -950 1584 -1140 \n",
       "Q 1353 -1331 966 -1331 \n",
       "L 506 -1331 \n",
       "L 506 -850 \n",
       "L 844 -850 \n",
       "Q 1081 -850 1212 -737 \n",
       "Q 1344 -625 1503 -206 \n",
       "L 1606 56 \n",
       "L 191 3500 \n",
       "L 800 3500 \n",
       "L 1894 763 \n",
       "L 2988 3500 \n",
       "L 3597 3500 \n",
       "L 2059 -325 \n",
       "z\n",
       "\" transform=\"scale(0.015625)\"/>\n",
       "      <path id=\"DejaVuSans-20\" transform=\"scale(0.015625)\"/>\n",
       "      <path id=\"DejaVuSans-4c\" d=\"M 628 4666 \n",
       "L 1259 4666 \n",
       "L 1259 531 \n",
       "L 3531 531 \n",
       "L 3531 0 \n",
       "L 628 0 \n",
       "L 628 4666 \n",
       "z\n",
       "\" transform=\"scale(0.015625)\"/>\n",
       "     </defs>\n",
       "     <use xlink:href=\"#DejaVuSans-43\"/>\n",
       "     <use xlink:href=\"#DejaVuSans-72\" x=\"69.824219\"/>\n",
       "     <use xlink:href=\"#DejaVuSans-6f\" x=\"108.6875\"/>\n",
       "     <use xlink:href=\"#DejaVuSans-73\" x=\"169.869141\"/>\n",
       "     <use xlink:href=\"#DejaVuSans-73\" x=\"221.96875\"/>\n",
       "     <use xlink:href=\"#DejaVuSans-45\" x=\"274.068359\"/>\n",
       "     <use xlink:href=\"#DejaVuSans-6e\" x=\"337.251953\"/>\n",
       "     <use xlink:href=\"#DejaVuSans-74\" x=\"400.630859\"/>\n",
       "     <use xlink:href=\"#DejaVuSans-72\" x=\"439.839844\"/>\n",
       "     <use xlink:href=\"#DejaVuSans-6f\" x=\"478.703125\"/>\n",
       "     <use xlink:href=\"#DejaVuSans-70\" x=\"539.884766\"/>\n",
       "     <use xlink:href=\"#DejaVuSans-79\" x=\"603.361328\"/>\n",
       "     <use xlink:href=\"#DejaVuSans-20\" x=\"662.541016\"/>\n",
       "     <use xlink:href=\"#DejaVuSans-4c\" x=\"694.328125\"/>\n",
       "     <use xlink:href=\"#DejaVuSans-6f\" x=\"748.291016\"/>\n",
       "     <use xlink:href=\"#DejaVuSans-73\" x=\"809.472656\"/>\n",
       "     <use xlink:href=\"#DejaVuSans-73\" x=\"861.572266\"/>\n",
       "    </g>\n",
       "   </g>\n",
       "   <g id=\"legend_1\">\n",
       "    <g id=\"patch_7\">\n",
       "     <path d=\"M 37.103125 315.318125 \n",
       "L 266.071875 315.318125 \n",
       "Q 268.071875 315.318125 268.071875 313.318125 \n",
       "L 268.071875 108.824375 \n",
       "Q 268.071875 106.824375 266.071875 106.824375 \n",
       "L 37.103125 106.824375 \n",
       "Q 35.103125 106.824375 35.103125 108.824375 \n",
       "L 35.103125 313.318125 \n",
       "Q 35.103125 315.318125 37.103125 315.318125 \n",
       "z\n",
       "\" style=\"fill: #ffffff; opacity: 0.8; stroke: #cccccc; stroke-linejoin: miter\"/>\n",
       "    </g>\n",
       "    <g id=\"line2d_45\">\n",
       "     <path d=\"M 39.103125 114.922812 \n",
       "L 49.103125 114.922812 \n",
       "L 59.103125 114.922812 \n",
       "\" style=\"fill: none; stroke-dasharray: 5.55,2.4; stroke-dashoffset: 0; stroke: #ff0000; stroke-width: 1.5\"/>\n",
       "    </g>\n",
       "    <g id=\"text_18\">\n",
       "     <!-- torch.nn.LSTM (train) -->\n",
       "     <g transform=\"translate(67.103125 118.422812) scale(0.1 -0.1)\">\n",
       "      <defs>\n",
       "       <path id=\"DejaVuSans-53\" d=\"M 3425 4513 \n",
       "L 3425 3897 \n",
       "Q 3066 4069 2747 4153 \n",
       "Q 2428 4238 2131 4238 \n",
       "Q 1616 4238 1336 4038 \n",
       "Q 1056 3838 1056 3469 \n",
       "Q 1056 3159 1242 3001 \n",
       "Q 1428 2844 1947 2747 \n",
       "L 2328 2669 \n",
       "Q 3034 2534 3370 2195 \n",
       "Q 3706 1856 3706 1288 \n",
       "Q 3706 609 3251 259 \n",
       "Q 2797 -91 1919 -91 \n",
       "Q 1588 -91 1214 -16 \n",
       "Q 841 59 441 206 \n",
       "L 441 856 \n",
       "Q 825 641 1194 531 \n",
       "Q 1563 422 1919 422 \n",
       "Q 2459 422 2753 634 \n",
       "Q 3047 847 3047 1241 \n",
       "Q 3047 1584 2836 1778 \n",
       "Q 2625 1972 2144 2069 \n",
       "L 1759 2144 \n",
       "Q 1053 2284 737 2584 \n",
       "Q 422 2884 422 3419 \n",
       "Q 422 4038 858 4394 \n",
       "Q 1294 4750 2059 4750 \n",
       "Q 2388 4750 2728 4690 \n",
       "Q 3069 4631 3425 4513 \n",
       "z\n",
       "\" transform=\"scale(0.015625)\"/>\n",
       "       <path id=\"DejaVuSans-54\" d=\"M -19 4666 \n",
       "L 3928 4666 \n",
       "L 3928 4134 \n",
       "L 2272 4134 \n",
       "L 2272 0 \n",
       "L 1638 0 \n",
       "L 1638 4134 \n",
       "L -19 4134 \n",
       "L -19 4666 \n",
       "z\n",
       "\" transform=\"scale(0.015625)\"/>\n",
       "       <path id=\"DejaVuSans-4d\" d=\"M 628 4666 \n",
       "L 1569 4666 \n",
       "L 2759 1491 \n",
       "L 3956 4666 \n",
       "L 4897 4666 \n",
       "L 4897 0 \n",
       "L 4281 0 \n",
       "L 4281 4097 \n",
       "L 3078 897 \n",
       "L 2444 897 \n",
       "L 1241 4097 \n",
       "L 1241 0 \n",
       "L 628 0 \n",
       "L 628 4666 \n",
       "z\n",
       "\" transform=\"scale(0.015625)\"/>\n",
       "       <path id=\"DejaVuSans-28\" d=\"M 1984 4856 \n",
       "Q 1566 4138 1362 3434 \n",
       "Q 1159 2731 1159 2009 \n",
       "Q 1159 1288 1364 580 \n",
       "Q 1569 -128 1984 -844 \n",
       "L 1484 -844 \n",
       "Q 1016 -109 783 600 \n",
       "Q 550 1309 550 2009 \n",
       "Q 550 2706 781 3412 \n",
       "Q 1013 4119 1484 4856 \n",
       "L 1984 4856 \n",
       "z\n",
       "\" transform=\"scale(0.015625)\"/>\n",
       "       <path id=\"DejaVuSans-61\" d=\"M 2194 1759 \n",
       "Q 1497 1759 1228 1600 \n",
       "Q 959 1441 959 1056 \n",
       "Q 959 750 1161 570 \n",
       "Q 1363 391 1709 391 \n",
       "Q 2188 391 2477 730 \n",
       "Q 2766 1069 2766 1631 \n",
       "L 2766 1759 \n",
       "L 2194 1759 \n",
       "z\n",
       "M 3341 1997 \n",
       "L 3341 0 \n",
       "L 2766 0 \n",
       "L 2766 531 \n",
       "Q 2569 213 2275 61 \n",
       "Q 1981 -91 1556 -91 \n",
       "Q 1019 -91 701 211 \n",
       "Q 384 513 384 1019 \n",
       "Q 384 1609 779 1909 \n",
       "Q 1175 2209 1959 2209 \n",
       "L 2766 2209 \n",
       "L 2766 2266 \n",
       "Q 2766 2663 2505 2880 \n",
       "Q 2244 3097 1772 3097 \n",
       "Q 1472 3097 1187 3025 \n",
       "Q 903 2953 641 2809 \n",
       "L 641 3341 \n",
       "Q 956 3463 1253 3523 \n",
       "Q 1550 3584 1831 3584 \n",
       "Q 2591 3584 2966 3190 \n",
       "Q 3341 2797 3341 1997 \n",
       "z\n",
       "\" transform=\"scale(0.015625)\"/>\n",
       "       <path id=\"DejaVuSans-69\" d=\"M 603 3500 \n",
       "L 1178 3500 \n",
       "L 1178 0 \n",
       "L 603 0 \n",
       "L 603 3500 \n",
       "z\n",
       "M 603 4863 \n",
       "L 1178 4863 \n",
       "L 1178 4134 \n",
       "L 603 4134 \n",
       "L 603 4863 \n",
       "z\n",
       "\" transform=\"scale(0.015625)\"/>\n",
       "       <path id=\"DejaVuSans-29\" d=\"M 513 4856 \n",
       "L 1013 4856 \n",
       "Q 1481 4119 1714 3412 \n",
       "Q 1947 2706 1947 2009 \n",
       "Q 1947 1309 1714 600 \n",
       "Q 1481 -109 1013 -844 \n",
       "L 513 -844 \n",
       "Q 928 -128 1133 580 \n",
       "Q 1338 1288 1338 2009 \n",
       "Q 1338 2731 1133 3434 \n",
       "Q 928 4138 513 4856 \n",
       "z\n",
       "\" transform=\"scale(0.015625)\"/>\n",
       "      </defs>\n",
       "      <use xlink:href=\"#DejaVuSans-74\"/>\n",
       "      <use xlink:href=\"#DejaVuSans-6f\" x=\"39.208984\"/>\n",
       "      <use xlink:href=\"#DejaVuSans-72\" x=\"100.390625\"/>\n",
       "      <use xlink:href=\"#DejaVuSans-63\" x=\"139.253906\"/>\n",
       "      <use xlink:href=\"#DejaVuSans-68\" x=\"194.234375\"/>\n",
       "      <use xlink:href=\"#DejaVuSans-2e\" x=\"257.613281\"/>\n",
       "      <use xlink:href=\"#DejaVuSans-6e\" x=\"289.400391\"/>\n",
       "      <use xlink:href=\"#DejaVuSans-6e\" x=\"352.779297\"/>\n",
       "      <use xlink:href=\"#DejaVuSans-2e\" x=\"416.158203\"/>\n",
       "      <use xlink:href=\"#DejaVuSans-4c\" x=\"447.945312\"/>\n",
       "      <use xlink:href=\"#DejaVuSans-53\" x=\"503.658203\"/>\n",
       "      <use xlink:href=\"#DejaVuSans-54\" x=\"567.134766\"/>\n",
       "      <use xlink:href=\"#DejaVuSans-4d\" x=\"628.21875\"/>\n",
       "      <use xlink:href=\"#DejaVuSans-20\" x=\"714.498047\"/>\n",
       "      <use xlink:href=\"#DejaVuSans-28\" x=\"746.285156\"/>\n",
       "      <use xlink:href=\"#DejaVuSans-74\" x=\"785.298828\"/>\n",
       "      <use xlink:href=\"#DejaVuSans-72\" x=\"824.507812\"/>\n",
       "      <use xlink:href=\"#DejaVuSans-61\" x=\"865.621094\"/>\n",
       "      <use xlink:href=\"#DejaVuSans-69\" x=\"926.900391\"/>\n",
       "      <use xlink:href=\"#DejaVuSans-6e\" x=\"954.683594\"/>\n",
       "      <use xlink:href=\"#DejaVuSans-29\" x=\"1018.0625\"/>\n",
       "     </g>\n",
       "    </g>\n",
       "    <g id=\"line2d_46\">\n",
       "     <path d=\"M 39.103125 129.600937 \n",
       "L 49.103125 129.600937 \n",
       "L 59.103125 129.600937 \n",
       "\" style=\"fill: none; stroke: #ff0000; stroke-width: 1.5; stroke-linecap: square\"/>\n",
       "    </g>\n",
       "    <g id=\"text_19\">\n",
       "     <!-- torch.nn.LSTM (test) -->\n",
       "     <g transform=\"translate(67.103125 133.100937) scale(0.1 -0.1)\">\n",
       "      <defs>\n",
       "       <path id=\"DejaVuSans-65\" d=\"M 3597 1894 \n",
       "L 3597 1613 \n",
       "L 953 1613 \n",
       "Q 991 1019 1311 708 \n",
       "Q 1631 397 2203 397 \n",
       "Q 2534 397 2845 478 \n",
       "Q 3156 559 3463 722 \n",
       "L 3463 178 \n",
       "Q 3153 47 2828 -22 \n",
       "Q 2503 -91 2169 -91 \n",
       "Q 1331 -91 842 396 \n",
       "Q 353 884 353 1716 \n",
       "Q 353 2575 817 3079 \n",
       "Q 1281 3584 2069 3584 \n",
       "Q 2775 3584 3186 3129 \n",
       "Q 3597 2675 3597 1894 \n",
       "z\n",
       "M 3022 2063 \n",
       "Q 3016 2534 2758 2815 \n",
       "Q 2500 3097 2075 3097 \n",
       "Q 1594 3097 1305 2825 \n",
       "Q 1016 2553 972 2059 \n",
       "L 3022 2063 \n",
       "z\n",
       "\" transform=\"scale(0.015625)\"/>\n",
       "      </defs>\n",
       "      <use xlink:href=\"#DejaVuSans-74\"/>\n",
       "      <use xlink:href=\"#DejaVuSans-6f\" x=\"39.208984\"/>\n",
       "      <use xlink:href=\"#DejaVuSans-72\" x=\"100.390625\"/>\n",
       "      <use xlink:href=\"#DejaVuSans-63\" x=\"139.253906\"/>\n",
       "      <use xlink:href=\"#DejaVuSans-68\" x=\"194.234375\"/>\n",
       "      <use xlink:href=\"#DejaVuSans-2e\" x=\"257.613281\"/>\n",
       "      <use xlink:href=\"#DejaVuSans-6e\" x=\"289.400391\"/>\n",
       "      <use xlink:href=\"#DejaVuSans-6e\" x=\"352.779297\"/>\n",
       "      <use xlink:href=\"#DejaVuSans-2e\" x=\"416.158203\"/>\n",
       "      <use xlink:href=\"#DejaVuSans-4c\" x=\"447.945312\"/>\n",
       "      <use xlink:href=\"#DejaVuSans-53\" x=\"503.658203\"/>\n",
       "      <use xlink:href=\"#DejaVuSans-54\" x=\"567.134766\"/>\n",
       "      <use xlink:href=\"#DejaVuSans-4d\" x=\"628.21875\"/>\n",
       "      <use xlink:href=\"#DejaVuSans-20\" x=\"714.498047\"/>\n",
       "      <use xlink:href=\"#DejaVuSans-28\" x=\"746.285156\"/>\n",
       "      <use xlink:href=\"#DejaVuSans-74\" x=\"785.298828\"/>\n",
       "      <use xlink:href=\"#DejaVuSans-65\" x=\"824.507812\"/>\n",
       "      <use xlink:href=\"#DejaVuSans-73\" x=\"886.03125\"/>\n",
       "      <use xlink:href=\"#DejaVuSans-74\" x=\"938.130859\"/>\n",
       "      <use xlink:href=\"#DejaVuSans-29\" x=\"977.339844\"/>\n",
       "     </g>\n",
       "    </g>\n",
       "    <g id=\"line2d_47\">\n",
       "     <path d=\"M 39.103125 144.279063 \n",
       "L 49.103125 144.279063 \n",
       "L 59.103125 144.279063 \n",
       "\" style=\"fill: none; stroke-dasharray: 5.55,2.4; stroke-dashoffset: 0; stroke: #008000; stroke-width: 1.5\"/>\n",
       "    </g>\n",
       "    <g id=\"text_20\">\n",
       "     <!-- RNNLayer(dropout=None) (train) -->\n",
       "     <g transform=\"translate(67.103125 147.779063) scale(0.1 -0.1)\">\n",
       "      <defs>\n",
       "       <path id=\"DejaVuSans-52\" d=\"M 2841 2188 \n",
       "Q 3044 2119 3236 1894 \n",
       "Q 3428 1669 3622 1275 \n",
       "L 4263 0 \n",
       "L 3584 0 \n",
       "L 2988 1197 \n",
       "Q 2756 1666 2539 1819 \n",
       "Q 2322 1972 1947 1972 \n",
       "L 1259 1972 \n",
       "L 1259 0 \n",
       "L 628 0 \n",
       "L 628 4666 \n",
       "L 2053 4666 \n",
       "Q 2853 4666 3247 4331 \n",
       "Q 3641 3997 3641 3322 \n",
       "Q 3641 2881 3436 2590 \n",
       "Q 3231 2300 2841 2188 \n",
       "z\n",
       "M 1259 4147 \n",
       "L 1259 2491 \n",
       "L 2053 2491 \n",
       "Q 2509 2491 2742 2702 \n",
       "Q 2975 2913 2975 3322 \n",
       "Q 2975 3731 2742 3939 \n",
       "Q 2509 4147 2053 4147 \n",
       "L 1259 4147 \n",
       "z\n",
       "\" transform=\"scale(0.015625)\"/>\n",
       "       <path id=\"DejaVuSans-4e\" d=\"M 628 4666 \n",
       "L 1478 4666 \n",
       "L 3547 763 \n",
       "L 3547 4666 \n",
       "L 4159 4666 \n",
       "L 4159 0 \n",
       "L 3309 0 \n",
       "L 1241 3903 \n",
       "L 1241 0 \n",
       "L 628 0 \n",
       "L 628 4666 \n",
       "z\n",
       "\" transform=\"scale(0.015625)\"/>\n",
       "       <path id=\"DejaVuSans-64\" d=\"M 2906 2969 \n",
       "L 2906 4863 \n",
       "L 3481 4863 \n",
       "L 3481 0 \n",
       "L 2906 0 \n",
       "L 2906 525 \n",
       "Q 2725 213 2448 61 \n",
       "Q 2172 -91 1784 -91 \n",
       "Q 1150 -91 751 415 \n",
       "Q 353 922 353 1747 \n",
       "Q 353 2572 751 3078 \n",
       "Q 1150 3584 1784 3584 \n",
       "Q 2172 3584 2448 3432 \n",
       "Q 2725 3281 2906 2969 \n",
       "z\n",
       "M 947 1747 \n",
       "Q 947 1113 1208 752 \n",
       "Q 1469 391 1925 391 \n",
       "Q 2381 391 2643 752 \n",
       "Q 2906 1113 2906 1747 \n",
       "Q 2906 2381 2643 2742 \n",
       "Q 2381 3103 1925 3103 \n",
       "Q 1469 3103 1208 2742 \n",
       "Q 947 2381 947 1747 \n",
       "z\n",
       "\" transform=\"scale(0.015625)\"/>\n",
       "       <path id=\"DejaVuSans-75\" d=\"M 544 1381 \n",
       "L 544 3500 \n",
       "L 1119 3500 \n",
       "L 1119 1403 \n",
       "Q 1119 906 1312 657 \n",
       "Q 1506 409 1894 409 \n",
       "Q 2359 409 2629 706 \n",
       "Q 2900 1003 2900 1516 \n",
       "L 2900 3500 \n",
       "L 3475 3500 \n",
       "L 3475 0 \n",
       "L 2900 0 \n",
       "L 2900 538 \n",
       "Q 2691 219 2414 64 \n",
       "Q 2138 -91 1772 -91 \n",
       "Q 1169 -91 856 284 \n",
       "Q 544 659 544 1381 \n",
       "z\n",
       "M 1991 3584 \n",
       "L 1991 3584 \n",
       "z\n",
       "\" transform=\"scale(0.015625)\"/>\n",
       "       <path id=\"DejaVuSans-3d\" d=\"M 678 2906 \n",
       "L 4684 2906 \n",
       "L 4684 2381 \n",
       "L 678 2381 \n",
       "L 678 2906 \n",
       "z\n",
       "M 678 1631 \n",
       "L 4684 1631 \n",
       "L 4684 1100 \n",
       "L 678 1100 \n",
       "L 678 1631 \n",
       "z\n",
       "\" transform=\"scale(0.015625)\"/>\n",
       "      </defs>\n",
       "      <use xlink:href=\"#DejaVuSans-52\"/>\n",
       "      <use xlink:href=\"#DejaVuSans-4e\" x=\"69.482422\"/>\n",
       "      <use xlink:href=\"#DejaVuSans-4e\" x=\"144.287109\"/>\n",
       "      <use xlink:href=\"#DejaVuSans-4c\" x=\"219.091797\"/>\n",
       "      <use xlink:href=\"#DejaVuSans-61\" x=\"274.804688\"/>\n",
       "      <use xlink:href=\"#DejaVuSans-79\" x=\"336.083984\"/>\n",
       "      <use xlink:href=\"#DejaVuSans-65\" x=\"395.263672\"/>\n",
       "      <use xlink:href=\"#DejaVuSans-72\" x=\"456.787109\"/>\n",
       "      <use xlink:href=\"#DejaVuSans-28\" x=\"497.900391\"/>\n",
       "      <use xlink:href=\"#DejaVuSans-64\" x=\"536.914062\"/>\n",
       "      <use xlink:href=\"#DejaVuSans-72\" x=\"600.390625\"/>\n",
       "      <use xlink:href=\"#DejaVuSans-6f\" x=\"639.253906\"/>\n",
       "      <use xlink:href=\"#DejaVuSans-70\" x=\"700.435547\"/>\n",
       "      <use xlink:href=\"#DejaVuSans-6f\" x=\"763.912109\"/>\n",
       "      <use xlink:href=\"#DejaVuSans-75\" x=\"825.09375\"/>\n",
       "      <use xlink:href=\"#DejaVuSans-74\" x=\"888.472656\"/>\n",
       "      <use xlink:href=\"#DejaVuSans-3d\" x=\"927.681641\"/>\n",
       "      <use xlink:href=\"#DejaVuSans-4e\" x=\"1011.470703\"/>\n",
       "      <use xlink:href=\"#DejaVuSans-6f\" x=\"1086.275391\"/>\n",
       "      <use xlink:href=\"#DejaVuSans-6e\" x=\"1147.457031\"/>\n",
       "      <use xlink:href=\"#DejaVuSans-65\" x=\"1210.835938\"/>\n",
       "      <use xlink:href=\"#DejaVuSans-29\" x=\"1272.359375\"/>\n",
       "      <use xlink:href=\"#DejaVuSans-20\" x=\"1311.373047\"/>\n",
       "      <use xlink:href=\"#DejaVuSans-28\" x=\"1343.160156\"/>\n",
       "      <use xlink:href=\"#DejaVuSans-74\" x=\"1382.173828\"/>\n",
       "      <use xlink:href=\"#DejaVuSans-72\" x=\"1421.382812\"/>\n",
       "      <use xlink:href=\"#DejaVuSans-61\" x=\"1462.496094\"/>\n",
       "      <use xlink:href=\"#DejaVuSans-69\" x=\"1523.775391\"/>\n",
       "      <use xlink:href=\"#DejaVuSans-6e\" x=\"1551.558594\"/>\n",
       "      <use xlink:href=\"#DejaVuSans-29\" x=\"1614.9375\"/>\n",
       "     </g>\n",
       "    </g>\n",
       "    <g id=\"line2d_48\">\n",
       "     <path d=\"M 39.103125 158.957188 \n",
       "L 49.103125 158.957188 \n",
       "L 59.103125 158.957188 \n",
       "\" style=\"fill: none; stroke: #008000; stroke-width: 1.5; stroke-linecap: square\"/>\n",
       "    </g>\n",
       "    <g id=\"text_21\">\n",
       "     <!-- RNNLayer(dropout=None) (test) -->\n",
       "     <g transform=\"translate(67.103125 162.457188) scale(0.1 -0.1)\">\n",
       "      <use xlink:href=\"#DejaVuSans-52\"/>\n",
       "      <use xlink:href=\"#DejaVuSans-4e\" x=\"69.482422\"/>\n",
       "      <use xlink:href=\"#DejaVuSans-4e\" x=\"144.287109\"/>\n",
       "      <use xlink:href=\"#DejaVuSans-4c\" x=\"219.091797\"/>\n",
       "      <use xlink:href=\"#DejaVuSans-61\" x=\"274.804688\"/>\n",
       "      <use xlink:href=\"#DejaVuSans-79\" x=\"336.083984\"/>\n",
       "      <use xlink:href=\"#DejaVuSans-65\" x=\"395.263672\"/>\n",
       "      <use xlink:href=\"#DejaVuSans-72\" x=\"456.787109\"/>\n",
       "      <use xlink:href=\"#DejaVuSans-28\" x=\"497.900391\"/>\n",
       "      <use xlink:href=\"#DejaVuSans-64\" x=\"536.914062\"/>\n",
       "      <use xlink:href=\"#DejaVuSans-72\" x=\"600.390625\"/>\n",
       "      <use xlink:href=\"#DejaVuSans-6f\" x=\"639.253906\"/>\n",
       "      <use xlink:href=\"#DejaVuSans-70\" x=\"700.435547\"/>\n",
       "      <use xlink:href=\"#DejaVuSans-6f\" x=\"763.912109\"/>\n",
       "      <use xlink:href=\"#DejaVuSans-75\" x=\"825.09375\"/>\n",
       "      <use xlink:href=\"#DejaVuSans-74\" x=\"888.472656\"/>\n",
       "      <use xlink:href=\"#DejaVuSans-3d\" x=\"927.681641\"/>\n",
       "      <use xlink:href=\"#DejaVuSans-4e\" x=\"1011.470703\"/>\n",
       "      <use xlink:href=\"#DejaVuSans-6f\" x=\"1086.275391\"/>\n",
       "      <use xlink:href=\"#DejaVuSans-6e\" x=\"1147.457031\"/>\n",
       "      <use xlink:href=\"#DejaVuSans-65\" x=\"1210.835938\"/>\n",
       "      <use xlink:href=\"#DejaVuSans-29\" x=\"1272.359375\"/>\n",
       "      <use xlink:href=\"#DejaVuSans-20\" x=\"1311.373047\"/>\n",
       "      <use xlink:href=\"#DejaVuSans-28\" x=\"1343.160156\"/>\n",
       "      <use xlink:href=\"#DejaVuSans-74\" x=\"1382.173828\"/>\n",
       "      <use xlink:href=\"#DejaVuSans-65\" x=\"1421.382812\"/>\n",
       "      <use xlink:href=\"#DejaVuSans-73\" x=\"1482.90625\"/>\n",
       "      <use xlink:href=\"#DejaVuSans-74\" x=\"1535.005859\"/>\n",
       "      <use xlink:href=\"#DejaVuSans-29\" x=\"1574.214844\"/>\n",
       "     </g>\n",
       "    </g>\n",
       "    <g id=\"line2d_49\">\n",
       "     <path d=\"M 39.103125 173.635312 \n",
       "L 49.103125 173.635312 \n",
       "L 59.103125 173.635312 \n",
       "\" style=\"fill: none; stroke-dasharray: 5.55,2.4; stroke-dashoffset: 0; stroke: #0000ff; stroke-width: 1.5\"/>\n",
       "    </g>\n",
       "    <g id=\"text_22\">\n",
       "     <!-- RNNLayer(dropout=0.25) (train) -->\n",
       "     <g transform=\"translate(67.103125 177.135312) scale(0.1 -0.1)\">\n",
       "      <defs>\n",
       "       <path id=\"DejaVuSans-35\" d=\"M 691 4666 \n",
       "L 3169 4666 \n",
       "L 3169 4134 \n",
       "L 1269 4134 \n",
       "L 1269 2991 \n",
       "Q 1406 3038 1543 3061 \n",
       "Q 1681 3084 1819 3084 \n",
       "Q 2600 3084 3056 2656 \n",
       "Q 3513 2228 3513 1497 \n",
       "Q 3513 744 3044 326 \n",
       "Q 2575 -91 1722 -91 \n",
       "Q 1428 -91 1123 -41 \n",
       "Q 819 9 494 109 \n",
       "L 494 744 \n",
       "Q 775 591 1075 516 \n",
       "Q 1375 441 1709 441 \n",
       "Q 2250 441 2565 725 \n",
       "Q 2881 1009 2881 1497 \n",
       "Q 2881 1984 2565 2268 \n",
       "Q 2250 2553 1709 2553 \n",
       "Q 1456 2553 1204 2497 \n",
       "Q 953 2441 691 2322 \n",
       "L 691 4666 \n",
       "z\n",
       "\" transform=\"scale(0.015625)\"/>\n",
       "      </defs>\n",
       "      <use xlink:href=\"#DejaVuSans-52\"/>\n",
       "      <use xlink:href=\"#DejaVuSans-4e\" x=\"69.482422\"/>\n",
       "      <use xlink:href=\"#DejaVuSans-4e\" x=\"144.287109\"/>\n",
       "      <use xlink:href=\"#DejaVuSans-4c\" x=\"219.091797\"/>\n",
       "      <use xlink:href=\"#DejaVuSans-61\" x=\"274.804688\"/>\n",
       "      <use xlink:href=\"#DejaVuSans-79\" x=\"336.083984\"/>\n",
       "      <use xlink:href=\"#DejaVuSans-65\" x=\"395.263672\"/>\n",
       "      <use xlink:href=\"#DejaVuSans-72\" x=\"456.787109\"/>\n",
       "      <use xlink:href=\"#DejaVuSans-28\" x=\"497.900391\"/>\n",
       "      <use xlink:href=\"#DejaVuSans-64\" x=\"536.914062\"/>\n",
       "      <use xlink:href=\"#DejaVuSans-72\" x=\"600.390625\"/>\n",
       "      <use xlink:href=\"#DejaVuSans-6f\" x=\"639.253906\"/>\n",
       "      <use xlink:href=\"#DejaVuSans-70\" x=\"700.435547\"/>\n",
       "      <use xlink:href=\"#DejaVuSans-6f\" x=\"763.912109\"/>\n",
       "      <use xlink:href=\"#DejaVuSans-75\" x=\"825.09375\"/>\n",
       "      <use xlink:href=\"#DejaVuSans-74\" x=\"888.472656\"/>\n",
       "      <use xlink:href=\"#DejaVuSans-3d\" x=\"927.681641\"/>\n",
       "      <use xlink:href=\"#DejaVuSans-30\" x=\"1011.470703\"/>\n",
       "      <use xlink:href=\"#DejaVuSans-2e\" x=\"1075.09375\"/>\n",
       "      <use xlink:href=\"#DejaVuSans-32\" x=\"1106.880859\"/>\n",
       "      <use xlink:href=\"#DejaVuSans-35\" x=\"1170.503906\"/>\n",
       "      <use xlink:href=\"#DejaVuSans-29\" x=\"1234.126953\"/>\n",
       "      <use xlink:href=\"#DejaVuSans-20\" x=\"1273.140625\"/>\n",
       "      <use xlink:href=\"#DejaVuSans-28\" x=\"1304.927734\"/>\n",
       "      <use xlink:href=\"#DejaVuSans-74\" x=\"1343.941406\"/>\n",
       "      <use xlink:href=\"#DejaVuSans-72\" x=\"1383.150391\"/>\n",
       "      <use xlink:href=\"#DejaVuSans-61\" x=\"1424.263672\"/>\n",
       "      <use xlink:href=\"#DejaVuSans-69\" x=\"1485.542969\"/>\n",
       "      <use xlink:href=\"#DejaVuSans-6e\" x=\"1513.326172\"/>\n",
       "      <use xlink:href=\"#DejaVuSans-29\" x=\"1576.705078\"/>\n",
       "     </g>\n",
       "    </g>\n",
       "    <g id=\"line2d_50\">\n",
       "     <path d=\"M 39.103125 188.313437 \n",
       "L 49.103125 188.313437 \n",
       "L 59.103125 188.313437 \n",
       "\" style=\"fill: none; stroke: #0000ff; stroke-width: 1.5; stroke-linecap: square\"/>\n",
       "    </g>\n",
       "    <g id=\"text_23\">\n",
       "     <!-- RNNLayer(dropout=0.25) (test) -->\n",
       "     <g transform=\"translate(67.103125 191.813437) scale(0.1 -0.1)\">\n",
       "      <use xlink:href=\"#DejaVuSans-52\"/>\n",
       "      <use xlink:href=\"#DejaVuSans-4e\" x=\"69.482422\"/>\n",
       "      <use xlink:href=\"#DejaVuSans-4e\" x=\"144.287109\"/>\n",
       "      <use xlink:href=\"#DejaVuSans-4c\" x=\"219.091797\"/>\n",
       "      <use xlink:href=\"#DejaVuSans-61\" x=\"274.804688\"/>\n",
       "      <use xlink:href=\"#DejaVuSans-79\" x=\"336.083984\"/>\n",
       "      <use xlink:href=\"#DejaVuSans-65\" x=\"395.263672\"/>\n",
       "      <use xlink:href=\"#DejaVuSans-72\" x=\"456.787109\"/>\n",
       "      <use xlink:href=\"#DejaVuSans-28\" x=\"497.900391\"/>\n",
       "      <use xlink:href=\"#DejaVuSans-64\" x=\"536.914062\"/>\n",
       "      <use xlink:href=\"#DejaVuSans-72\" x=\"600.390625\"/>\n",
       "      <use xlink:href=\"#DejaVuSans-6f\" x=\"639.253906\"/>\n",
       "      <use xlink:href=\"#DejaVuSans-70\" x=\"700.435547\"/>\n",
       "      <use xlink:href=\"#DejaVuSans-6f\" x=\"763.912109\"/>\n",
       "      <use xlink:href=\"#DejaVuSans-75\" x=\"825.09375\"/>\n",
       "      <use xlink:href=\"#DejaVuSans-74\" x=\"888.472656\"/>\n",
       "      <use xlink:href=\"#DejaVuSans-3d\" x=\"927.681641\"/>\n",
       "      <use xlink:href=\"#DejaVuSans-30\" x=\"1011.470703\"/>\n",
       "      <use xlink:href=\"#DejaVuSans-2e\" x=\"1075.09375\"/>\n",
       "      <use xlink:href=\"#DejaVuSans-32\" x=\"1106.880859\"/>\n",
       "      <use xlink:href=\"#DejaVuSans-35\" x=\"1170.503906\"/>\n",
       "      <use xlink:href=\"#DejaVuSans-29\" x=\"1234.126953\"/>\n",
       "      <use xlink:href=\"#DejaVuSans-20\" x=\"1273.140625\"/>\n",
       "      <use xlink:href=\"#DejaVuSans-28\" x=\"1304.927734\"/>\n",
       "      <use xlink:href=\"#DejaVuSans-74\" x=\"1343.941406\"/>\n",
       "      <use xlink:href=\"#DejaVuSans-65\" x=\"1383.150391\"/>\n",
       "      <use xlink:href=\"#DejaVuSans-73\" x=\"1444.673828\"/>\n",
       "      <use xlink:href=\"#DejaVuSans-74\" x=\"1496.773438\"/>\n",
       "      <use xlink:href=\"#DejaVuSans-29\" x=\"1535.982422\"/>\n",
       "     </g>\n",
       "    </g>\n",
       "    <g id=\"line2d_51\">\n",
       "     <path d=\"M 39.103125 202.991562 \n",
       "L 49.103125 202.991562 \n",
       "L 59.103125 202.991562 \n",
       "\" style=\"fill: none; stroke-dasharray: 5.55,2.4; stroke-dashoffset: 0; stroke: #ffff00; stroke-width: 1.5\"/>\n",
       "    </g>\n",
       "    <g id=\"text_24\">\n",
       "     <!-- FastRNNLayer(dropout=None) (train) -->\n",
       "     <g transform=\"translate(67.103125 206.491562) scale(0.1 -0.1)\">\n",
       "      <defs>\n",
       "       <path id=\"DejaVuSans-46\" d=\"M 628 4666 \n",
       "L 3309 4666 \n",
       "L 3309 4134 \n",
       "L 1259 4134 \n",
       "L 1259 2759 \n",
       "L 3109 2759 \n",
       "L 3109 2228 \n",
       "L 1259 2228 \n",
       "L 1259 0 \n",
       "L 628 0 \n",
       "L 628 4666 \n",
       "z\n",
       "\" transform=\"scale(0.015625)\"/>\n",
       "      </defs>\n",
       "      <use xlink:href=\"#DejaVuSans-46\"/>\n",
       "      <use xlink:href=\"#DejaVuSans-61\" x=\"48.394531\"/>\n",
       "      <use xlink:href=\"#DejaVuSans-73\" x=\"109.673828\"/>\n",
       "      <use xlink:href=\"#DejaVuSans-74\" x=\"161.773438\"/>\n",
       "      <use xlink:href=\"#DejaVuSans-52\" x=\"200.982422\"/>\n",
       "      <use xlink:href=\"#DejaVuSans-4e\" x=\"270.464844\"/>\n",
       "      <use xlink:href=\"#DejaVuSans-4e\" x=\"345.269531\"/>\n",
       "      <use xlink:href=\"#DejaVuSans-4c\" x=\"420.074219\"/>\n",
       "      <use xlink:href=\"#DejaVuSans-61\" x=\"475.787109\"/>\n",
       "      <use xlink:href=\"#DejaVuSans-79\" x=\"537.066406\"/>\n",
       "      <use xlink:href=\"#DejaVuSans-65\" x=\"596.246094\"/>\n",
       "      <use xlink:href=\"#DejaVuSans-72\" x=\"657.769531\"/>\n",
       "      <use xlink:href=\"#DejaVuSans-28\" x=\"698.882812\"/>\n",
       "      <use xlink:href=\"#DejaVuSans-64\" x=\"737.896484\"/>\n",
       "      <use xlink:href=\"#DejaVuSans-72\" x=\"801.373047\"/>\n",
       "      <use xlink:href=\"#DejaVuSans-6f\" x=\"840.236328\"/>\n",
       "      <use xlink:href=\"#DejaVuSans-70\" x=\"901.417969\"/>\n",
       "      <use xlink:href=\"#DejaVuSans-6f\" x=\"964.894531\"/>\n",
       "      <use xlink:href=\"#DejaVuSans-75\" x=\"1026.076172\"/>\n",
       "      <use xlink:href=\"#DejaVuSans-74\" x=\"1089.455078\"/>\n",
       "      <use xlink:href=\"#DejaVuSans-3d\" x=\"1128.664062\"/>\n",
       "      <use xlink:href=\"#DejaVuSans-4e\" x=\"1212.453125\"/>\n",
       "      <use xlink:href=\"#DejaVuSans-6f\" x=\"1287.257812\"/>\n",
       "      <use xlink:href=\"#DejaVuSans-6e\" x=\"1348.439453\"/>\n",
       "      <use xlink:href=\"#DejaVuSans-65\" x=\"1411.818359\"/>\n",
       "      <use xlink:href=\"#DejaVuSans-29\" x=\"1473.341797\"/>\n",
       "      <use xlink:href=\"#DejaVuSans-20\" x=\"1512.355469\"/>\n",
       "      <use xlink:href=\"#DejaVuSans-28\" x=\"1544.142578\"/>\n",
       "      <use xlink:href=\"#DejaVuSans-74\" x=\"1583.15625\"/>\n",
       "      <use xlink:href=\"#DejaVuSans-72\" x=\"1622.365234\"/>\n",
       "      <use xlink:href=\"#DejaVuSans-61\" x=\"1663.478516\"/>\n",
       "      <use xlink:href=\"#DejaVuSans-69\" x=\"1724.757812\"/>\n",
       "      <use xlink:href=\"#DejaVuSans-6e\" x=\"1752.541016\"/>\n",
       "      <use xlink:href=\"#DejaVuSans-29\" x=\"1815.919922\"/>\n",
       "     </g>\n",
       "    </g>\n",
       "    <g id=\"line2d_52\">\n",
       "     <path d=\"M 39.103125 217.669687 \n",
       "L 49.103125 217.669687 \n",
       "L 59.103125 217.669687 \n",
       "\" style=\"fill: none; stroke: #ffff00; stroke-width: 1.5; stroke-linecap: square\"/>\n",
       "    </g>\n",
       "    <g id=\"text_25\">\n",
       "     <!-- FastRNNLayer(dropout=None) (test) -->\n",
       "     <g transform=\"translate(67.103125 221.169687) scale(0.1 -0.1)\">\n",
       "      <use xlink:href=\"#DejaVuSans-46\"/>\n",
       "      <use xlink:href=\"#DejaVuSans-61\" x=\"48.394531\"/>\n",
       "      <use xlink:href=\"#DejaVuSans-73\" x=\"109.673828\"/>\n",
       "      <use xlink:href=\"#DejaVuSans-74\" x=\"161.773438\"/>\n",
       "      <use xlink:href=\"#DejaVuSans-52\" x=\"200.982422\"/>\n",
       "      <use xlink:href=\"#DejaVuSans-4e\" x=\"270.464844\"/>\n",
       "      <use xlink:href=\"#DejaVuSans-4e\" x=\"345.269531\"/>\n",
       "      <use xlink:href=\"#DejaVuSans-4c\" x=\"420.074219\"/>\n",
       "      <use xlink:href=\"#DejaVuSans-61\" x=\"475.787109\"/>\n",
       "      <use xlink:href=\"#DejaVuSans-79\" x=\"537.066406\"/>\n",
       "      <use xlink:href=\"#DejaVuSans-65\" x=\"596.246094\"/>\n",
       "      <use xlink:href=\"#DejaVuSans-72\" x=\"657.769531\"/>\n",
       "      <use xlink:href=\"#DejaVuSans-28\" x=\"698.882812\"/>\n",
       "      <use xlink:href=\"#DejaVuSans-64\" x=\"737.896484\"/>\n",
       "      <use xlink:href=\"#DejaVuSans-72\" x=\"801.373047\"/>\n",
       "      <use xlink:href=\"#DejaVuSans-6f\" x=\"840.236328\"/>\n",
       "      <use xlink:href=\"#DejaVuSans-70\" x=\"901.417969\"/>\n",
       "      <use xlink:href=\"#DejaVuSans-6f\" x=\"964.894531\"/>\n",
       "      <use xlink:href=\"#DejaVuSans-75\" x=\"1026.076172\"/>\n",
       "      <use xlink:href=\"#DejaVuSans-74\" x=\"1089.455078\"/>\n",
       "      <use xlink:href=\"#DejaVuSans-3d\" x=\"1128.664062\"/>\n",
       "      <use xlink:href=\"#DejaVuSans-4e\" x=\"1212.453125\"/>\n",
       "      <use xlink:href=\"#DejaVuSans-6f\" x=\"1287.257812\"/>\n",
       "      <use xlink:href=\"#DejaVuSans-6e\" x=\"1348.439453\"/>\n",
       "      <use xlink:href=\"#DejaVuSans-65\" x=\"1411.818359\"/>\n",
       "      <use xlink:href=\"#DejaVuSans-29\" x=\"1473.341797\"/>\n",
       "      <use xlink:href=\"#DejaVuSans-20\" x=\"1512.355469\"/>\n",
       "      <use xlink:href=\"#DejaVuSans-28\" x=\"1544.142578\"/>\n",
       "      <use xlink:href=\"#DejaVuSans-74\" x=\"1583.15625\"/>\n",
       "      <use xlink:href=\"#DejaVuSans-65\" x=\"1622.365234\"/>\n",
       "      <use xlink:href=\"#DejaVuSans-73\" x=\"1683.888672\"/>\n",
       "      <use xlink:href=\"#DejaVuSans-74\" x=\"1735.988281\"/>\n",
       "      <use xlink:href=\"#DejaVuSans-29\" x=\"1775.197266\"/>\n",
       "     </g>\n",
       "    </g>\n",
       "    <g id=\"line2d_53\">\n",
       "     <path d=\"M 39.103125 232.347812 \n",
       "L 49.103125 232.347812 \n",
       "L 59.103125 232.347812 \n",
       "\" style=\"fill: none; stroke-dasharray: 5.55,2.4; stroke-dashoffset: 0; stroke: #ffa500; stroke-width: 1.5\"/>\n",
       "    </g>\n",
       "    <g id=\"text_26\">\n",
       "     <!-- FastRNNLayer(dropout=0.25) (train) -->\n",
       "     <g transform=\"translate(67.103125 235.847812) scale(0.1 -0.1)\">\n",
       "      <use xlink:href=\"#DejaVuSans-46\"/>\n",
       "      <use xlink:href=\"#DejaVuSans-61\" x=\"48.394531\"/>\n",
       "      <use xlink:href=\"#DejaVuSans-73\" x=\"109.673828\"/>\n",
       "      <use xlink:href=\"#DejaVuSans-74\" x=\"161.773438\"/>\n",
       "      <use xlink:href=\"#DejaVuSans-52\" x=\"200.982422\"/>\n",
       "      <use xlink:href=\"#DejaVuSans-4e\" x=\"270.464844\"/>\n",
       "      <use xlink:href=\"#DejaVuSans-4e\" x=\"345.269531\"/>\n",
       "      <use xlink:href=\"#DejaVuSans-4c\" x=\"420.074219\"/>\n",
       "      <use xlink:href=\"#DejaVuSans-61\" x=\"475.787109\"/>\n",
       "      <use xlink:href=\"#DejaVuSans-79\" x=\"537.066406\"/>\n",
       "      <use xlink:href=\"#DejaVuSans-65\" x=\"596.246094\"/>\n",
       "      <use xlink:href=\"#DejaVuSans-72\" x=\"657.769531\"/>\n",
       "      <use xlink:href=\"#DejaVuSans-28\" x=\"698.882812\"/>\n",
       "      <use xlink:href=\"#DejaVuSans-64\" x=\"737.896484\"/>\n",
       "      <use xlink:href=\"#DejaVuSans-72\" x=\"801.373047\"/>\n",
       "      <use xlink:href=\"#DejaVuSans-6f\" x=\"840.236328\"/>\n",
       "      <use xlink:href=\"#DejaVuSans-70\" x=\"901.417969\"/>\n",
       "      <use xlink:href=\"#DejaVuSans-6f\" x=\"964.894531\"/>\n",
       "      <use xlink:href=\"#DejaVuSans-75\" x=\"1026.076172\"/>\n",
       "      <use xlink:href=\"#DejaVuSans-74\" x=\"1089.455078\"/>\n",
       "      <use xlink:href=\"#DejaVuSans-3d\" x=\"1128.664062\"/>\n",
       "      <use xlink:href=\"#DejaVuSans-30\" x=\"1212.453125\"/>\n",
       "      <use xlink:href=\"#DejaVuSans-2e\" x=\"1276.076172\"/>\n",
       "      <use xlink:href=\"#DejaVuSans-32\" x=\"1307.863281\"/>\n",
       "      <use xlink:href=\"#DejaVuSans-35\" x=\"1371.486328\"/>\n",
       "      <use xlink:href=\"#DejaVuSans-29\" x=\"1435.109375\"/>\n",
       "      <use xlink:href=\"#DejaVuSans-20\" x=\"1474.123047\"/>\n",
       "      <use xlink:href=\"#DejaVuSans-28\" x=\"1505.910156\"/>\n",
       "      <use xlink:href=\"#DejaVuSans-74\" x=\"1544.923828\"/>\n",
       "      <use xlink:href=\"#DejaVuSans-72\" x=\"1584.132812\"/>\n",
       "      <use xlink:href=\"#DejaVuSans-61\" x=\"1625.246094\"/>\n",
       "      <use xlink:href=\"#DejaVuSans-69\" x=\"1686.525391\"/>\n",
       "      <use xlink:href=\"#DejaVuSans-6e\" x=\"1714.308594\"/>\n",
       "      <use xlink:href=\"#DejaVuSans-29\" x=\"1777.6875\"/>\n",
       "     </g>\n",
       "    </g>\n",
       "    <g id=\"line2d_54\">\n",
       "     <path d=\"M 39.103125 247.025937 \n",
       "L 49.103125 247.025937 \n",
       "L 59.103125 247.025937 \n",
       "\" style=\"fill: none; stroke: #ffa500; stroke-width: 1.5; stroke-linecap: square\"/>\n",
       "    </g>\n",
       "    <g id=\"text_27\">\n",
       "     <!-- FastRNNLayer(dropout=0.25) (test) -->\n",
       "     <g transform=\"translate(67.103125 250.525937) scale(0.1 -0.1)\">\n",
       "      <use xlink:href=\"#DejaVuSans-46\"/>\n",
       "      <use xlink:href=\"#DejaVuSans-61\" x=\"48.394531\"/>\n",
       "      <use xlink:href=\"#DejaVuSans-73\" x=\"109.673828\"/>\n",
       "      <use xlink:href=\"#DejaVuSans-74\" x=\"161.773438\"/>\n",
       "      <use xlink:href=\"#DejaVuSans-52\" x=\"200.982422\"/>\n",
       "      <use xlink:href=\"#DejaVuSans-4e\" x=\"270.464844\"/>\n",
       "      <use xlink:href=\"#DejaVuSans-4e\" x=\"345.269531\"/>\n",
       "      <use xlink:href=\"#DejaVuSans-4c\" x=\"420.074219\"/>\n",
       "      <use xlink:href=\"#DejaVuSans-61\" x=\"475.787109\"/>\n",
       "      <use xlink:href=\"#DejaVuSans-79\" x=\"537.066406\"/>\n",
       "      <use xlink:href=\"#DejaVuSans-65\" x=\"596.246094\"/>\n",
       "      <use xlink:href=\"#DejaVuSans-72\" x=\"657.769531\"/>\n",
       "      <use xlink:href=\"#DejaVuSans-28\" x=\"698.882812\"/>\n",
       "      <use xlink:href=\"#DejaVuSans-64\" x=\"737.896484\"/>\n",
       "      <use xlink:href=\"#DejaVuSans-72\" x=\"801.373047\"/>\n",
       "      <use xlink:href=\"#DejaVuSans-6f\" x=\"840.236328\"/>\n",
       "      <use xlink:href=\"#DejaVuSans-70\" x=\"901.417969\"/>\n",
       "      <use xlink:href=\"#DejaVuSans-6f\" x=\"964.894531\"/>\n",
       "      <use xlink:href=\"#DejaVuSans-75\" x=\"1026.076172\"/>\n",
       "      <use xlink:href=\"#DejaVuSans-74\" x=\"1089.455078\"/>\n",
       "      <use xlink:href=\"#DejaVuSans-3d\" x=\"1128.664062\"/>\n",
       "      <use xlink:href=\"#DejaVuSans-30\" x=\"1212.453125\"/>\n",
       "      <use xlink:href=\"#DejaVuSans-2e\" x=\"1276.076172\"/>\n",
       "      <use xlink:href=\"#DejaVuSans-32\" x=\"1307.863281\"/>\n",
       "      <use xlink:href=\"#DejaVuSans-35\" x=\"1371.486328\"/>\n",
       "      <use xlink:href=\"#DejaVuSans-29\" x=\"1435.109375\"/>\n",
       "      <use xlink:href=\"#DejaVuSans-20\" x=\"1474.123047\"/>\n",
       "      <use xlink:href=\"#DejaVuSans-28\" x=\"1505.910156\"/>\n",
       "      <use xlink:href=\"#DejaVuSans-74\" x=\"1544.923828\"/>\n",
       "      <use xlink:href=\"#DejaVuSans-65\" x=\"1584.132812\"/>\n",
       "      <use xlink:href=\"#DejaVuSans-73\" x=\"1645.65625\"/>\n",
       "      <use xlink:href=\"#DejaVuSans-74\" x=\"1697.755859\"/>\n",
       "      <use xlink:href=\"#DejaVuSans-29\" x=\"1736.964844\"/>\n",
       "     </g>\n",
       "    </g>\n",
       "    <g id=\"line2d_55\">\n",
       "     <path d=\"M 39.103125 261.704062 \n",
       "L 49.103125 261.704062 \n",
       "L 59.103125 261.704062 \n",
       "\" style=\"fill: none; stroke-dasharray: 5.55,2.4; stroke-dashoffset: 0; stroke: #ee82ee; stroke-width: 1.5\"/>\n",
       "    </g>\n",
       "    <g id=\"text_28\">\n",
       "     <!-- HandmadeLSTM(dropout=None) (train) -->\n",
       "     <g transform=\"translate(67.103125 265.204062) scale(0.1 -0.1)\">\n",
       "      <defs>\n",
       "       <path id=\"DejaVuSans-48\" d=\"M 628 4666 \n",
       "L 1259 4666 \n",
       "L 1259 2753 \n",
       "L 3553 2753 \n",
       "L 3553 4666 \n",
       "L 4184 4666 \n",
       "L 4184 0 \n",
       "L 3553 0 \n",
       "L 3553 2222 \n",
       "L 1259 2222 \n",
       "L 1259 0 \n",
       "L 628 0 \n",
       "L 628 4666 \n",
       "z\n",
       "\" transform=\"scale(0.015625)\"/>\n",
       "       <path id=\"DejaVuSans-6d\" d=\"M 3328 2828 \n",
       "Q 3544 3216 3844 3400 \n",
       "Q 4144 3584 4550 3584 \n",
       "Q 5097 3584 5394 3201 \n",
       "Q 5691 2819 5691 2113 \n",
       "L 5691 0 \n",
       "L 5113 0 \n",
       "L 5113 2094 \n",
       "Q 5113 2597 4934 2840 \n",
       "Q 4756 3084 4391 3084 \n",
       "Q 3944 3084 3684 2787 \n",
       "Q 3425 2491 3425 1978 \n",
       "L 3425 0 \n",
       "L 2847 0 \n",
       "L 2847 2094 \n",
       "Q 2847 2600 2669 2842 \n",
       "Q 2491 3084 2119 3084 \n",
       "Q 1678 3084 1418 2786 \n",
       "Q 1159 2488 1159 1978 \n",
       "L 1159 0 \n",
       "L 581 0 \n",
       "L 581 3500 \n",
       "L 1159 3500 \n",
       "L 1159 2956 \n",
       "Q 1356 3278 1631 3431 \n",
       "Q 1906 3584 2284 3584 \n",
       "Q 2666 3584 2933 3390 \n",
       "Q 3200 3197 3328 2828 \n",
       "z\n",
       "\" transform=\"scale(0.015625)\"/>\n",
       "      </defs>\n",
       "      <use xlink:href=\"#DejaVuSans-48\"/>\n",
       "      <use xlink:href=\"#DejaVuSans-61\" x=\"75.195312\"/>\n",
       "      <use xlink:href=\"#DejaVuSans-6e\" x=\"136.474609\"/>\n",
       "      <use xlink:href=\"#DejaVuSans-64\" x=\"199.853516\"/>\n",
       "      <use xlink:href=\"#DejaVuSans-6d\" x=\"263.330078\"/>\n",
       "      <use xlink:href=\"#DejaVuSans-61\" x=\"360.742188\"/>\n",
       "      <use xlink:href=\"#DejaVuSans-64\" x=\"422.021484\"/>\n",
       "      <use xlink:href=\"#DejaVuSans-65\" x=\"485.498047\"/>\n",
       "      <use xlink:href=\"#DejaVuSans-4c\" x=\"547.021484\"/>\n",
       "      <use xlink:href=\"#DejaVuSans-53\" x=\"602.734375\"/>\n",
       "      <use xlink:href=\"#DejaVuSans-54\" x=\"666.210938\"/>\n",
       "      <use xlink:href=\"#DejaVuSans-4d\" x=\"727.294922\"/>\n",
       "      <use xlink:href=\"#DejaVuSans-28\" x=\"813.574219\"/>\n",
       "      <use xlink:href=\"#DejaVuSans-64\" x=\"852.587891\"/>\n",
       "      <use xlink:href=\"#DejaVuSans-72\" x=\"916.064453\"/>\n",
       "      <use xlink:href=\"#DejaVuSans-6f\" x=\"954.927734\"/>\n",
       "      <use xlink:href=\"#DejaVuSans-70\" x=\"1016.109375\"/>\n",
       "      <use xlink:href=\"#DejaVuSans-6f\" x=\"1079.585938\"/>\n",
       "      <use xlink:href=\"#DejaVuSans-75\" x=\"1140.767578\"/>\n",
       "      <use xlink:href=\"#DejaVuSans-74\" x=\"1204.146484\"/>\n",
       "      <use xlink:href=\"#DejaVuSans-3d\" x=\"1243.355469\"/>\n",
       "      <use xlink:href=\"#DejaVuSans-4e\" x=\"1327.144531\"/>\n",
       "      <use xlink:href=\"#DejaVuSans-6f\" x=\"1401.949219\"/>\n",
       "      <use xlink:href=\"#DejaVuSans-6e\" x=\"1463.130859\"/>\n",
       "      <use xlink:href=\"#DejaVuSans-65\" x=\"1526.509766\"/>\n",
       "      <use xlink:href=\"#DejaVuSans-29\" x=\"1588.033203\"/>\n",
       "      <use xlink:href=\"#DejaVuSans-20\" x=\"1627.046875\"/>\n",
       "      <use xlink:href=\"#DejaVuSans-28\" x=\"1658.833984\"/>\n",
       "      <use xlink:href=\"#DejaVuSans-74\" x=\"1697.847656\"/>\n",
       "      <use xlink:href=\"#DejaVuSans-72\" x=\"1737.056641\"/>\n",
       "      <use xlink:href=\"#DejaVuSans-61\" x=\"1778.169922\"/>\n",
       "      <use xlink:href=\"#DejaVuSans-69\" x=\"1839.449219\"/>\n",
       "      <use xlink:href=\"#DejaVuSans-6e\" x=\"1867.232422\"/>\n",
       "      <use xlink:href=\"#DejaVuSans-29\" x=\"1930.611328\"/>\n",
       "     </g>\n",
       "    </g>\n",
       "    <g id=\"line2d_56\">\n",
       "     <path d=\"M 39.103125 276.382187 \n",
       "L 49.103125 276.382187 \n",
       "L 59.103125 276.382187 \n",
       "\" style=\"fill: none; stroke: #ee82ee; stroke-width: 1.5; stroke-linecap: square\"/>\n",
       "    </g>\n",
       "    <g id=\"text_29\">\n",
       "     <!-- HandmadeLSTM(dropout=None) (test) -->\n",
       "     <g transform=\"translate(67.103125 279.882187) scale(0.1 -0.1)\">\n",
       "      <use xlink:href=\"#DejaVuSans-48\"/>\n",
       "      <use xlink:href=\"#DejaVuSans-61\" x=\"75.195312\"/>\n",
       "      <use xlink:href=\"#DejaVuSans-6e\" x=\"136.474609\"/>\n",
       "      <use xlink:href=\"#DejaVuSans-64\" x=\"199.853516\"/>\n",
       "      <use xlink:href=\"#DejaVuSans-6d\" x=\"263.330078\"/>\n",
       "      <use xlink:href=\"#DejaVuSans-61\" x=\"360.742188\"/>\n",
       "      <use xlink:href=\"#DejaVuSans-64\" x=\"422.021484\"/>\n",
       "      <use xlink:href=\"#DejaVuSans-65\" x=\"485.498047\"/>\n",
       "      <use xlink:href=\"#DejaVuSans-4c\" x=\"547.021484\"/>\n",
       "      <use xlink:href=\"#DejaVuSans-53\" x=\"602.734375\"/>\n",
       "      <use xlink:href=\"#DejaVuSans-54\" x=\"666.210938\"/>\n",
       "      <use xlink:href=\"#DejaVuSans-4d\" x=\"727.294922\"/>\n",
       "      <use xlink:href=\"#DejaVuSans-28\" x=\"813.574219\"/>\n",
       "      <use xlink:href=\"#DejaVuSans-64\" x=\"852.587891\"/>\n",
       "      <use xlink:href=\"#DejaVuSans-72\" x=\"916.064453\"/>\n",
       "      <use xlink:href=\"#DejaVuSans-6f\" x=\"954.927734\"/>\n",
       "      <use xlink:href=\"#DejaVuSans-70\" x=\"1016.109375\"/>\n",
       "      <use xlink:href=\"#DejaVuSans-6f\" x=\"1079.585938\"/>\n",
       "      <use xlink:href=\"#DejaVuSans-75\" x=\"1140.767578\"/>\n",
       "      <use xlink:href=\"#DejaVuSans-74\" x=\"1204.146484\"/>\n",
       "      <use xlink:href=\"#DejaVuSans-3d\" x=\"1243.355469\"/>\n",
       "      <use xlink:href=\"#DejaVuSans-4e\" x=\"1327.144531\"/>\n",
       "      <use xlink:href=\"#DejaVuSans-6f\" x=\"1401.949219\"/>\n",
       "      <use xlink:href=\"#DejaVuSans-6e\" x=\"1463.130859\"/>\n",
       "      <use xlink:href=\"#DejaVuSans-65\" x=\"1526.509766\"/>\n",
       "      <use xlink:href=\"#DejaVuSans-29\" x=\"1588.033203\"/>\n",
       "      <use xlink:href=\"#DejaVuSans-20\" x=\"1627.046875\"/>\n",
       "      <use xlink:href=\"#DejaVuSans-28\" x=\"1658.833984\"/>\n",
       "      <use xlink:href=\"#DejaVuSans-74\" x=\"1697.847656\"/>\n",
       "      <use xlink:href=\"#DejaVuSans-65\" x=\"1737.056641\"/>\n",
       "      <use xlink:href=\"#DejaVuSans-73\" x=\"1798.580078\"/>\n",
       "      <use xlink:href=\"#DejaVuSans-74\" x=\"1850.679688\"/>\n",
       "      <use xlink:href=\"#DejaVuSans-29\" x=\"1889.888672\"/>\n",
       "     </g>\n",
       "    </g>\n",
       "    <g id=\"line2d_57\">\n",
       "     <path d=\"M 39.103125 291.060312 \n",
       "L 49.103125 291.060312 \n",
       "L 59.103125 291.060312 \n",
       "\" style=\"fill: none; stroke-dasharray: 5.55,2.4; stroke-dashoffset: 0; stroke: #000000; stroke-width: 1.5\"/>\n",
       "    </g>\n",
       "    <g id=\"text_30\">\n",
       "     <!-- HandmadeLSTM(dropout=0.25) (train) -->\n",
       "     <g transform=\"translate(67.103125 294.560312) scale(0.1 -0.1)\">\n",
       "      <use xlink:href=\"#DejaVuSans-48\"/>\n",
       "      <use xlink:href=\"#DejaVuSans-61\" x=\"75.195312\"/>\n",
       "      <use xlink:href=\"#DejaVuSans-6e\" x=\"136.474609\"/>\n",
       "      <use xlink:href=\"#DejaVuSans-64\" x=\"199.853516\"/>\n",
       "      <use xlink:href=\"#DejaVuSans-6d\" x=\"263.330078\"/>\n",
       "      <use xlink:href=\"#DejaVuSans-61\" x=\"360.742188\"/>\n",
       "      <use xlink:href=\"#DejaVuSans-64\" x=\"422.021484\"/>\n",
       "      <use xlink:href=\"#DejaVuSans-65\" x=\"485.498047\"/>\n",
       "      <use xlink:href=\"#DejaVuSans-4c\" x=\"547.021484\"/>\n",
       "      <use xlink:href=\"#DejaVuSans-53\" x=\"602.734375\"/>\n",
       "      <use xlink:href=\"#DejaVuSans-54\" x=\"666.210938\"/>\n",
       "      <use xlink:href=\"#DejaVuSans-4d\" x=\"727.294922\"/>\n",
       "      <use xlink:href=\"#DejaVuSans-28\" x=\"813.574219\"/>\n",
       "      <use xlink:href=\"#DejaVuSans-64\" x=\"852.587891\"/>\n",
       "      <use xlink:href=\"#DejaVuSans-72\" x=\"916.064453\"/>\n",
       "      <use xlink:href=\"#DejaVuSans-6f\" x=\"954.927734\"/>\n",
       "      <use xlink:href=\"#DejaVuSans-70\" x=\"1016.109375\"/>\n",
       "      <use xlink:href=\"#DejaVuSans-6f\" x=\"1079.585938\"/>\n",
       "      <use xlink:href=\"#DejaVuSans-75\" x=\"1140.767578\"/>\n",
       "      <use xlink:href=\"#DejaVuSans-74\" x=\"1204.146484\"/>\n",
       "      <use xlink:href=\"#DejaVuSans-3d\" x=\"1243.355469\"/>\n",
       "      <use xlink:href=\"#DejaVuSans-30\" x=\"1327.144531\"/>\n",
       "      <use xlink:href=\"#DejaVuSans-2e\" x=\"1390.767578\"/>\n",
       "      <use xlink:href=\"#DejaVuSans-32\" x=\"1422.554688\"/>\n",
       "      <use xlink:href=\"#DejaVuSans-35\" x=\"1486.177734\"/>\n",
       "      <use xlink:href=\"#DejaVuSans-29\" x=\"1549.800781\"/>\n",
       "      <use xlink:href=\"#DejaVuSans-20\" x=\"1588.814453\"/>\n",
       "      <use xlink:href=\"#DejaVuSans-28\" x=\"1620.601562\"/>\n",
       "      <use xlink:href=\"#DejaVuSans-74\" x=\"1659.615234\"/>\n",
       "      <use xlink:href=\"#DejaVuSans-72\" x=\"1698.824219\"/>\n",
       "      <use xlink:href=\"#DejaVuSans-61\" x=\"1739.9375\"/>\n",
       "      <use xlink:href=\"#DejaVuSans-69\" x=\"1801.216797\"/>\n",
       "      <use xlink:href=\"#DejaVuSans-6e\" x=\"1829\"/>\n",
       "      <use xlink:href=\"#DejaVuSans-29\" x=\"1892.378906\"/>\n",
       "     </g>\n",
       "    </g>\n",
       "    <g id=\"line2d_58\">\n",
       "     <path d=\"M 39.103125 305.738437 \n",
       "L 49.103125 305.738437 \n",
       "L 59.103125 305.738437 \n",
       "\" style=\"fill: none; stroke: #000000; stroke-width: 1.5; stroke-linecap: square\"/>\n",
       "    </g>\n",
       "    <g id=\"text_31\">\n",
       "     <!-- HandmadeLSTM(dropout=0.25) (test) -->\n",
       "     <g transform=\"translate(67.103125 309.238437) scale(0.1 -0.1)\">\n",
       "      <use xlink:href=\"#DejaVuSans-48\"/>\n",
       "      <use xlink:href=\"#DejaVuSans-61\" x=\"75.195312\"/>\n",
       "      <use xlink:href=\"#DejaVuSans-6e\" x=\"136.474609\"/>\n",
       "      <use xlink:href=\"#DejaVuSans-64\" x=\"199.853516\"/>\n",
       "      <use xlink:href=\"#DejaVuSans-6d\" x=\"263.330078\"/>\n",
       "      <use xlink:href=\"#DejaVuSans-61\" x=\"360.742188\"/>\n",
       "      <use xlink:href=\"#DejaVuSans-64\" x=\"422.021484\"/>\n",
       "      <use xlink:href=\"#DejaVuSans-65\" x=\"485.498047\"/>\n",
       "      <use xlink:href=\"#DejaVuSans-4c\" x=\"547.021484\"/>\n",
       "      <use xlink:href=\"#DejaVuSans-53\" x=\"602.734375\"/>\n",
       "      <use xlink:href=\"#DejaVuSans-54\" x=\"666.210938\"/>\n",
       "      <use xlink:href=\"#DejaVuSans-4d\" x=\"727.294922\"/>\n",
       "      <use xlink:href=\"#DejaVuSans-28\" x=\"813.574219\"/>\n",
       "      <use xlink:href=\"#DejaVuSans-64\" x=\"852.587891\"/>\n",
       "      <use xlink:href=\"#DejaVuSans-72\" x=\"916.064453\"/>\n",
       "      <use xlink:href=\"#DejaVuSans-6f\" x=\"954.927734\"/>\n",
       "      <use xlink:href=\"#DejaVuSans-70\" x=\"1016.109375\"/>\n",
       "      <use xlink:href=\"#DejaVuSans-6f\" x=\"1079.585938\"/>\n",
       "      <use xlink:href=\"#DejaVuSans-75\" x=\"1140.767578\"/>\n",
       "      <use xlink:href=\"#DejaVuSans-74\" x=\"1204.146484\"/>\n",
       "      <use xlink:href=\"#DejaVuSans-3d\" x=\"1243.355469\"/>\n",
       "      <use xlink:href=\"#DejaVuSans-30\" x=\"1327.144531\"/>\n",
       "      <use xlink:href=\"#DejaVuSans-2e\" x=\"1390.767578\"/>\n",
       "      <use xlink:href=\"#DejaVuSans-32\" x=\"1422.554688\"/>\n",
       "      <use xlink:href=\"#DejaVuSans-35\" x=\"1486.177734\"/>\n",
       "      <use xlink:href=\"#DejaVuSans-29\" x=\"1549.800781\"/>\n",
       "      <use xlink:href=\"#DejaVuSans-20\" x=\"1588.814453\"/>\n",
       "      <use xlink:href=\"#DejaVuSans-28\" x=\"1620.601562\"/>\n",
       "      <use xlink:href=\"#DejaVuSans-74\" x=\"1659.615234\"/>\n",
       "      <use xlink:href=\"#DejaVuSans-65\" x=\"1698.824219\"/>\n",
       "      <use xlink:href=\"#DejaVuSans-73\" x=\"1760.347656\"/>\n",
       "      <use xlink:href=\"#DejaVuSans-74\" x=\"1812.447266\"/>\n",
       "      <use xlink:href=\"#DejaVuSans-29\" x=\"1851.65625\"/>\n",
       "     </g>\n",
       "    </g>\n",
       "   </g>\n",
       "  </g>\n",
       "  <g id=\"axes_2\">\n",
       "   <g id=\"patch_8\">\n",
       "    <path d=\"M 30.103125 674.918125 \n",
       "L 705.573125 674.918125 \n",
       "L 705.573125 376.918125 \n",
       "L 30.103125 376.918125 \n",
       "z\n",
       "\" style=\"fill: #ffffff\"/>\n",
       "   </g>\n",
       "   <g id=\"matplotlib.axis_3\">\n",
       "    <g id=\"xtick_9\">\n",
       "     <g id=\"line2d_59\">\n",
       "      <path d=\"M 60.806307 674.918125 \n",
       "L 60.806307 376.918125 \n",
       "\" clip-path=\"url(#p6701ccc770)\" style=\"fill: none; stroke: #b0b0b0; stroke-width: 0.8; stroke-linecap: square\"/>\n",
       "     </g>\n",
       "     <g id=\"line2d_60\">\n",
       "      <g>\n",
       "       <use xlink:href=\"#m09f68dbdd9\" x=\"60.806307\" y=\"674.918125\" style=\"stroke: #000000; stroke-width: 0.8\"/>\n",
       "      </g>\n",
       "     </g>\n",
       "     <g id=\"text_32\">\n",
       "      <!-- 0 -->\n",
       "      <g transform=\"translate(57.625057 689.516562) scale(0.1 -0.1)\">\n",
       "       <use xlink:href=\"#DejaVuSans-30\"/>\n",
       "      </g>\n",
       "     </g>\n",
       "    </g>\n",
       "    <g id=\"xtick_10\">\n",
       "     <g id=\"line2d_61\">\n",
       "      <path d=\"M 148.529683 674.918125 \n",
       "L 148.529683 376.918125 \n",
       "\" clip-path=\"url(#p6701ccc770)\" style=\"fill: none; stroke: #b0b0b0; stroke-width: 0.8; stroke-linecap: square\"/>\n",
       "     </g>\n",
       "     <g id=\"line2d_62\">\n",
       "      <g>\n",
       "       <use xlink:href=\"#m09f68dbdd9\" x=\"148.529683\" y=\"674.918125\" style=\"stroke: #000000; stroke-width: 0.8\"/>\n",
       "      </g>\n",
       "     </g>\n",
       "     <g id=\"text_33\">\n",
       "      <!-- 2 -->\n",
       "      <g transform=\"translate(145.348433 689.516562) scale(0.1 -0.1)\">\n",
       "       <use xlink:href=\"#DejaVuSans-32\"/>\n",
       "      </g>\n",
       "     </g>\n",
       "    </g>\n",
       "    <g id=\"xtick_11\">\n",
       "     <g id=\"line2d_63\">\n",
       "      <path d=\"M 236.25306 674.918125 \n",
       "L 236.25306 376.918125 \n",
       "\" clip-path=\"url(#p6701ccc770)\" style=\"fill: none; stroke: #b0b0b0; stroke-width: 0.8; stroke-linecap: square\"/>\n",
       "     </g>\n",
       "     <g id=\"line2d_64\">\n",
       "      <g>\n",
       "       <use xlink:href=\"#m09f68dbdd9\" x=\"236.25306\" y=\"674.918125\" style=\"stroke: #000000; stroke-width: 0.8\"/>\n",
       "      </g>\n",
       "     </g>\n",
       "     <g id=\"text_34\">\n",
       "      <!-- 4 -->\n",
       "      <g transform=\"translate(233.07181 689.516562) scale(0.1 -0.1)\">\n",
       "       <use xlink:href=\"#DejaVuSans-34\"/>\n",
       "      </g>\n",
       "     </g>\n",
       "    </g>\n",
       "    <g id=\"xtick_12\">\n",
       "     <g id=\"line2d_65\">\n",
       "      <path d=\"M 323.976437 674.918125 \n",
       "L 323.976437 376.918125 \n",
       "\" clip-path=\"url(#p6701ccc770)\" style=\"fill: none; stroke: #b0b0b0; stroke-width: 0.8; stroke-linecap: square\"/>\n",
       "     </g>\n",
       "     <g id=\"line2d_66\">\n",
       "      <g>\n",
       "       <use xlink:href=\"#m09f68dbdd9\" x=\"323.976437\" y=\"674.918125\" style=\"stroke: #000000; stroke-width: 0.8\"/>\n",
       "      </g>\n",
       "     </g>\n",
       "     <g id=\"text_35\">\n",
       "      <!-- 6 -->\n",
       "      <g transform=\"translate(320.795187 689.516562) scale(0.1 -0.1)\">\n",
       "       <use xlink:href=\"#DejaVuSans-36\"/>\n",
       "      </g>\n",
       "     </g>\n",
       "    </g>\n",
       "    <g id=\"xtick_13\">\n",
       "     <g id=\"line2d_67\">\n",
       "      <path d=\"M 411.699813 674.918125 \n",
       "L 411.699813 376.918125 \n",
       "\" clip-path=\"url(#p6701ccc770)\" style=\"fill: none; stroke: #b0b0b0; stroke-width: 0.8; stroke-linecap: square\"/>\n",
       "     </g>\n",
       "     <g id=\"line2d_68\">\n",
       "      <g>\n",
       "       <use xlink:href=\"#m09f68dbdd9\" x=\"411.699813\" y=\"674.918125\" style=\"stroke: #000000; stroke-width: 0.8\"/>\n",
       "      </g>\n",
       "     </g>\n",
       "     <g id=\"text_36\">\n",
       "      <!-- 8 -->\n",
       "      <g transform=\"translate(408.518563 689.516562) scale(0.1 -0.1)\">\n",
       "       <use xlink:href=\"#DejaVuSans-38\"/>\n",
       "      </g>\n",
       "     </g>\n",
       "    </g>\n",
       "    <g id=\"xtick_14\">\n",
       "     <g id=\"line2d_69\">\n",
       "      <path d=\"M 499.42319 674.918125 \n",
       "L 499.42319 376.918125 \n",
       "\" clip-path=\"url(#p6701ccc770)\" style=\"fill: none; stroke: #b0b0b0; stroke-width: 0.8; stroke-linecap: square\"/>\n",
       "     </g>\n",
       "     <g id=\"line2d_70\">\n",
       "      <g>\n",
       "       <use xlink:href=\"#m09f68dbdd9\" x=\"499.42319\" y=\"674.918125\" style=\"stroke: #000000; stroke-width: 0.8\"/>\n",
       "      </g>\n",
       "     </g>\n",
       "     <g id=\"text_37\">\n",
       "      <!-- 10 -->\n",
       "      <g transform=\"translate(493.06069 689.516562) scale(0.1 -0.1)\">\n",
       "       <use xlink:href=\"#DejaVuSans-31\"/>\n",
       "       <use xlink:href=\"#DejaVuSans-30\" x=\"63.623047\"/>\n",
       "      </g>\n",
       "     </g>\n",
       "    </g>\n",
       "    <g id=\"xtick_15\">\n",
       "     <g id=\"line2d_71\">\n",
       "      <path d=\"M 587.146567 674.918125 \n",
       "L 587.146567 376.918125 \n",
       "\" clip-path=\"url(#p6701ccc770)\" style=\"fill: none; stroke: #b0b0b0; stroke-width: 0.8; stroke-linecap: square\"/>\n",
       "     </g>\n",
       "     <g id=\"line2d_72\">\n",
       "      <g>\n",
       "       <use xlink:href=\"#m09f68dbdd9\" x=\"587.146567\" y=\"674.918125\" style=\"stroke: #000000; stroke-width: 0.8\"/>\n",
       "      </g>\n",
       "     </g>\n",
       "     <g id=\"text_38\">\n",
       "      <!-- 12 -->\n",
       "      <g transform=\"translate(580.784067 689.516562) scale(0.1 -0.1)\">\n",
       "       <use xlink:href=\"#DejaVuSans-31\"/>\n",
       "       <use xlink:href=\"#DejaVuSans-32\" x=\"63.623047\"/>\n",
       "      </g>\n",
       "     </g>\n",
       "    </g>\n",
       "    <g id=\"xtick_16\">\n",
       "     <g id=\"line2d_73\">\n",
       "      <path d=\"M 674.869943 674.918125 \n",
       "L 674.869943 376.918125 \n",
       "\" clip-path=\"url(#p6701ccc770)\" style=\"fill: none; stroke: #b0b0b0; stroke-width: 0.8; stroke-linecap: square\"/>\n",
       "     </g>\n",
       "     <g id=\"line2d_74\">\n",
       "      <g>\n",
       "       <use xlink:href=\"#m09f68dbdd9\" x=\"674.869943\" y=\"674.918125\" style=\"stroke: #000000; stroke-width: 0.8\"/>\n",
       "      </g>\n",
       "     </g>\n",
       "     <g id=\"text_39\">\n",
       "      <!-- 14 -->\n",
       "      <g transform=\"translate(668.507443 689.516562) scale(0.1 -0.1)\">\n",
       "       <use xlink:href=\"#DejaVuSans-31\"/>\n",
       "       <use xlink:href=\"#DejaVuSans-34\" x=\"63.623047\"/>\n",
       "      </g>\n",
       "     </g>\n",
       "    </g>\n",
       "    <g id=\"text_40\">\n",
       "     <!-- Epoch -->\n",
       "     <g transform=\"translate(352.527187 703.194687) scale(0.1 -0.1)\">\n",
       "      <use xlink:href=\"#DejaVuSans-45\"/>\n",
       "      <use xlink:href=\"#DejaVuSans-70\" x=\"63.183594\"/>\n",
       "      <use xlink:href=\"#DejaVuSans-6f\" x=\"126.660156\"/>\n",
       "      <use xlink:href=\"#DejaVuSans-63\" x=\"187.841797\"/>\n",
       "      <use xlink:href=\"#DejaVuSans-68\" x=\"242.822266\"/>\n",
       "     </g>\n",
       "    </g>\n",
       "   </g>\n",
       "   <g id=\"matplotlib.axis_4\">\n",
       "    <g id=\"ytick_8\">\n",
       "     <g id=\"line2d_75\">\n",
       "      <path d=\"M 30.103125 664.87332 \n",
       "L 705.573125 664.87332 \n",
       "\" clip-path=\"url(#p6701ccc770)\" style=\"fill: none; stroke: #b0b0b0; stroke-width: 0.8; stroke-linecap: square\"/>\n",
       "     </g>\n",
       "     <g id=\"line2d_76\">\n",
       "      <g>\n",
       "       <use xlink:href=\"#m3b39f2e89a\" x=\"30.103125\" y=\"664.87332\" style=\"stroke: #000000; stroke-width: 0.8\"/>\n",
       "      </g>\n",
       "     </g>\n",
       "     <g id=\"text_41\">\n",
       "      <!-- 0.2 -->\n",
       "      <g transform=\"translate(7.2 668.672539) scale(0.1 -0.1)\">\n",
       "       <use xlink:href=\"#DejaVuSans-30\"/>\n",
       "       <use xlink:href=\"#DejaVuSans-2e\" x=\"63.623047\"/>\n",
       "       <use xlink:href=\"#DejaVuSans-32\" x=\"95.410156\"/>\n",
       "      </g>\n",
       "     </g>\n",
       "    </g>\n",
       "    <g id=\"ytick_9\">\n",
       "     <g id=\"line2d_77\">\n",
       "      <path d=\"M 30.103125 613.39318 \n",
       "L 705.573125 613.39318 \n",
       "\" clip-path=\"url(#p6701ccc770)\" style=\"fill: none; stroke: #b0b0b0; stroke-width: 0.8; stroke-linecap: square\"/>\n",
       "     </g>\n",
       "     <g id=\"line2d_78\">\n",
       "      <g>\n",
       "       <use xlink:href=\"#m3b39f2e89a\" x=\"30.103125\" y=\"613.39318\" style=\"stroke: #000000; stroke-width: 0.8\"/>\n",
       "      </g>\n",
       "     </g>\n",
       "     <g id=\"text_42\">\n",
       "      <!-- 0.3 -->\n",
       "      <g transform=\"translate(7.2 617.192398) scale(0.1 -0.1)\">\n",
       "       <defs>\n",
       "        <path id=\"DejaVuSans-33\" d=\"M 2597 2516 \n",
       "Q 3050 2419 3304 2112 \n",
       "Q 3559 1806 3559 1356 \n",
       "Q 3559 666 3084 287 \n",
       "Q 2609 -91 1734 -91 \n",
       "Q 1441 -91 1130 -33 \n",
       "Q 819 25 488 141 \n",
       "L 488 750 \n",
       "Q 750 597 1062 519 \n",
       "Q 1375 441 1716 441 \n",
       "Q 2309 441 2620 675 \n",
       "Q 2931 909 2931 1356 \n",
       "Q 2931 1769 2642 2001 \n",
       "Q 2353 2234 1838 2234 \n",
       "L 1294 2234 \n",
       "L 1294 2753 \n",
       "L 1863 2753 \n",
       "Q 2328 2753 2575 2939 \n",
       "Q 2822 3125 2822 3475 \n",
       "Q 2822 3834 2567 4026 \n",
       "Q 2313 4219 1838 4219 \n",
       "Q 1578 4219 1281 4162 \n",
       "Q 984 4106 628 3988 \n",
       "L 628 4550 \n",
       "Q 988 4650 1302 4700 \n",
       "Q 1616 4750 1894 4750 \n",
       "Q 2613 4750 3031 4423 \n",
       "Q 3450 4097 3450 3541 \n",
       "Q 3450 3153 3228 2886 \n",
       "Q 3006 2619 2597 2516 \n",
       "z\n",
       "\" transform=\"scale(0.015625)\"/>\n",
       "       </defs>\n",
       "       <use xlink:href=\"#DejaVuSans-30\"/>\n",
       "       <use xlink:href=\"#DejaVuSans-2e\" x=\"63.623047\"/>\n",
       "       <use xlink:href=\"#DejaVuSans-33\" x=\"95.410156\"/>\n",
       "      </g>\n",
       "     </g>\n",
       "    </g>\n",
       "    <g id=\"ytick_10\">\n",
       "     <g id=\"line2d_79\">\n",
       "      <path d=\"M 30.103125 561.913039 \n",
       "L 705.573125 561.913039 \n",
       "\" clip-path=\"url(#p6701ccc770)\" style=\"fill: none; stroke: #b0b0b0; stroke-width: 0.8; stroke-linecap: square\"/>\n",
       "     </g>\n",
       "     <g id=\"line2d_80\">\n",
       "      <g>\n",
       "       <use xlink:href=\"#m3b39f2e89a\" x=\"30.103125\" y=\"561.913039\" style=\"stroke: #000000; stroke-width: 0.8\"/>\n",
       "      </g>\n",
       "     </g>\n",
       "     <g id=\"text_43\">\n",
       "      <!-- 0.4 -->\n",
       "      <g transform=\"translate(7.2 565.712258) scale(0.1 -0.1)\">\n",
       "       <use xlink:href=\"#DejaVuSans-30\"/>\n",
       "       <use xlink:href=\"#DejaVuSans-2e\" x=\"63.623047\"/>\n",
       "       <use xlink:href=\"#DejaVuSans-34\" x=\"95.410156\"/>\n",
       "      </g>\n",
       "     </g>\n",
       "    </g>\n",
       "    <g id=\"ytick_11\">\n",
       "     <g id=\"line2d_81\">\n",
       "      <path d=\"M 30.103125 510.432899 \n",
       "L 705.573125 510.432899 \n",
       "\" clip-path=\"url(#p6701ccc770)\" style=\"fill: none; stroke: #b0b0b0; stroke-width: 0.8; stroke-linecap: square\"/>\n",
       "     </g>\n",
       "     <g id=\"line2d_82\">\n",
       "      <g>\n",
       "       <use xlink:href=\"#m3b39f2e89a\" x=\"30.103125\" y=\"510.432899\" style=\"stroke: #000000; stroke-width: 0.8\"/>\n",
       "      </g>\n",
       "     </g>\n",
       "     <g id=\"text_44\">\n",
       "      <!-- 0.5 -->\n",
       "      <g transform=\"translate(7.2 514.232118) scale(0.1 -0.1)\">\n",
       "       <use xlink:href=\"#DejaVuSans-30\"/>\n",
       "       <use xlink:href=\"#DejaVuSans-2e\" x=\"63.623047\"/>\n",
       "       <use xlink:href=\"#DejaVuSans-35\" x=\"95.410156\"/>\n",
       "      </g>\n",
       "     </g>\n",
       "    </g>\n",
       "    <g id=\"ytick_12\">\n",
       "     <g id=\"line2d_83\">\n",
       "      <path d=\"M 30.103125 458.952758 \n",
       "L 705.573125 458.952758 \n",
       "\" clip-path=\"url(#p6701ccc770)\" style=\"fill: none; stroke: #b0b0b0; stroke-width: 0.8; stroke-linecap: square\"/>\n",
       "     </g>\n",
       "     <g id=\"line2d_84\">\n",
       "      <g>\n",
       "       <use xlink:href=\"#m3b39f2e89a\" x=\"30.103125\" y=\"458.952758\" style=\"stroke: #000000; stroke-width: 0.8\"/>\n",
       "      </g>\n",
       "     </g>\n",
       "     <g id=\"text_45\">\n",
       "      <!-- 0.6 -->\n",
       "      <g transform=\"translate(7.2 462.751977) scale(0.1 -0.1)\">\n",
       "       <use xlink:href=\"#DejaVuSans-30\"/>\n",
       "       <use xlink:href=\"#DejaVuSans-2e\" x=\"63.623047\"/>\n",
       "       <use xlink:href=\"#DejaVuSans-36\" x=\"95.410156\"/>\n",
       "      </g>\n",
       "     </g>\n",
       "    </g>\n",
       "    <g id=\"ytick_13\">\n",
       "     <g id=\"line2d_85\">\n",
       "      <path d=\"M 30.103125 407.472618 \n",
       "L 705.573125 407.472618 \n",
       "\" clip-path=\"url(#p6701ccc770)\" style=\"fill: none; stroke: #b0b0b0; stroke-width: 0.8; stroke-linecap: square\"/>\n",
       "     </g>\n",
       "     <g id=\"line2d_86\">\n",
       "      <g>\n",
       "       <use xlink:href=\"#m3b39f2e89a\" x=\"30.103125\" y=\"407.472618\" style=\"stroke: #000000; stroke-width: 0.8\"/>\n",
       "      </g>\n",
       "     </g>\n",
       "     <g id=\"text_46\">\n",
       "      <!-- 0.7 -->\n",
       "      <g transform=\"translate(7.2 411.271837) scale(0.1 -0.1)\">\n",
       "       <defs>\n",
       "        <path id=\"DejaVuSans-37\" d=\"M 525 4666 \n",
       "L 3525 4666 \n",
       "L 3525 4397 \n",
       "L 1831 0 \n",
       "L 1172 0 \n",
       "L 2766 4134 \n",
       "L 525 4134 \n",
       "L 525 4666 \n",
       "z\n",
       "\" transform=\"scale(0.015625)\"/>\n",
       "       </defs>\n",
       "       <use xlink:href=\"#DejaVuSans-30\"/>\n",
       "       <use xlink:href=\"#DejaVuSans-2e\" x=\"63.623047\"/>\n",
       "       <use xlink:href=\"#DejaVuSans-37\" x=\"95.410156\"/>\n",
       "      </g>\n",
       "     </g>\n",
       "    </g>\n",
       "   </g>\n",
       "   <g id=\"line2d_87\">\n",
       "    <path d=\"M 60.806307 652.847559 \n",
       "L 104.667995 595.457499 \n",
       "L 148.529683 576.698136 \n",
       "L 192.391372 557.135682 \n",
       "L 236.25306 544.100911 \n",
       "L 280.114748 534.319684 \n",
       "L 323.976437 520.893663 \n",
       "L 367.838125 511.44191 \n",
       "L 411.699813 497.912929 \n",
       "L 455.561502 481.727572 \n",
       "L 499.42319 465.727545 \n",
       "L 543.284878 448.306665 \n",
       "L 587.146567 433.480385 \n",
       "L 631.008255 405.269268 \n",
       "L 674.869943 390.46358 \n",
       "\" clip-path=\"url(#p6701ccc770)\" style=\"fill: none; stroke-dasharray: 5.55,2.4; stroke-dashoffset: 0; stroke: #ff0000; stroke-width: 1.5\"/>\n",
       "   </g>\n",
       "   <g id=\"line2d_88\">\n",
       "    <path d=\"M 60.806307 649.820527 \n",
       "L 104.667995 597.454928 \n",
       "L 148.529683 581.063651 \n",
       "L 192.391372 574.988995 \n",
       "L 236.25306 565.990266 \n",
       "L 280.114748 562.736721 \n",
       "L 323.976437 565.949082 \n",
       "L 367.838125 564.672375 \n",
       "L 411.699813 568.584865 \n",
       "L 455.561502 570.458742 \n",
       "L 499.42319 570.191046 \n",
       "L 543.284878 568.090656 \n",
       "L 587.146567 575.709717 \n",
       "L 631.008255 579.333919 \n",
       "L 674.869943 588.55916 \n",
       "\" clip-path=\"url(#p6701ccc770)\" style=\"fill: none; stroke: #ff0000; stroke-width: 1.5; stroke-linecap: square\"/>\n",
       "   </g>\n",
       "   <g id=\"line2d_89\">\n",
       "    <path d=\"M 60.806307 643.395805 \n",
       "L 104.667995 622.371316 \n",
       "L 148.529683 583.431738 \n",
       "L 192.391372 569.799797 \n",
       "L 236.25306 557.403379 \n",
       "L 280.114748 546.324853 \n",
       "L 323.976437 534.752117 \n",
       "L 367.838125 526.227006 \n",
       "L 411.699813 516.260451 \n",
       "L 455.561502 504.008177 \n",
       "L 499.42319 491.632351 \n",
       "L 543.284878 475.6941 \n",
       "L 587.146567 457.387762 \n",
       "L 631.008255 436.73393 \n",
       "L 674.869943 417.00674 \n",
       "\" clip-path=\"url(#p6701ccc770)\" style=\"fill: none; stroke-dasharray: 5.55,2.4; stroke-dashoffset: 0; stroke: #008000; stroke-width: 1.5\"/>\n",
       "   </g>\n",
       "   <g id=\"line2d_90\">\n",
       "    <path d=\"M 60.806307 642.798636 \n",
       "L 104.667995 621.856515 \n",
       "L 148.529683 589.588763 \n",
       "L 192.391372 584.605485 \n",
       "L 236.25306 572.106107 \n",
       "L 280.114748 571.385385 \n",
       "L 323.976437 569.861573 \n",
       "L 367.838125 566.813949 \n",
       "L 411.699813 567.266974 \n",
       "L 455.561502 573.691695 \n",
       "L 499.42319 568.996706 \n",
       "L 543.284878 570.067493 \n",
       "L 587.146567 579.683984 \n",
       "L 631.008255 578.098395 \n",
       "L 674.869943 583.987723 \n",
       "\" clip-path=\"url(#p6701ccc770)\" style=\"fill: none; stroke: #008000; stroke-width: 1.5; stroke-linecap: square\"/>\n",
       "   </g>\n",
       "   <g id=\"line2d_91\">\n",
       "    <path d=\"M 60.806307 644.34304 \n",
       "L 104.667995 599.905383 \n",
       "L 148.529683 582.093254 \n",
       "L 192.391372 573.959392 \n",
       "L 236.25306 569.552692 \n",
       "L 280.114748 556.620881 \n",
       "L 323.976437 546.942614 \n",
       "L 367.838125 543.627293 \n",
       "L 411.699813 539.632434 \n",
       "L 455.561502 532.507583 \n",
       "L 499.42319 526.185822 \n",
       "L 543.284878 524.66201 \n",
       "L 587.146567 517.45479 \n",
       "L 631.008255 513.809996 \n",
       "L 674.869943 508.270733 \n",
       "\" clip-path=\"url(#p6701ccc770)\" style=\"fill: none; stroke-dasharray: 5.55,2.4; stroke-dashoffset: 0; stroke: #0000ff; stroke-width: 1.5\"/>\n",
       "   </g>\n",
       "   <g id=\"line2d_92\">\n",
       "    <path d=\"M 60.806307 642.13969 \n",
       "L 104.667995 597.743217 \n",
       "L 148.529683 585.470351 \n",
       "L 192.391372 581.702005 \n",
       "L 236.25306 574.659522 \n",
       "L 280.114748 570.973544 \n",
       "L 323.976437 563.8281 \n",
       "L 367.838125 566.999277 \n",
       "L 411.699813 560.492187 \n",
       "L 455.561502 563.539812 \n",
       "L 499.42319 561.851263 \n",
       "L 543.284878 556.744433 \n",
       "L 587.146567 557.135682 \n",
       "L 631.008255 556.353184 \n",
       "L 674.869943 558.577126 \n",
       "\" clip-path=\"url(#p6701ccc770)\" style=\"fill: none; stroke: #0000ff; stroke-width: 1.5; stroke-linecap: square\"/>\n",
       "   </g>\n",
       "   <g id=\"line2d_93\">\n",
       "    <path d=\"M 60.806307 652.847559 \n",
       "L 104.667995 595.457499 \n",
       "L 148.529683 576.698136 \n",
       "L 192.391372 557.135682 \n",
       "L 236.25306 544.100911 \n",
       "L 280.114748 534.319684 \n",
       "L 323.976437 520.893663 \n",
       "L 367.838125 511.44191 \n",
       "L 411.699813 497.912929 \n",
       "L 455.561502 481.727572 \n",
       "L 499.42319 465.727545 \n",
       "L 543.284878 448.306665 \n",
       "L 587.146567 433.480385 \n",
       "L 631.008255 405.269268 \n",
       "L 674.869943 390.46358 \n",
       "\" clip-path=\"url(#p6701ccc770)\" style=\"fill: none; stroke-dasharray: 5.55,2.4; stroke-dashoffset: 0; stroke: #ffff00; stroke-width: 1.5\"/>\n",
       "   </g>\n",
       "   <g id=\"line2d_94\">\n",
       "    <path d=\"M 60.806307 649.820527 \n",
       "L 104.667995 597.454928 \n",
       "L 148.529683 581.063651 \n",
       "L 192.391372 574.988995 \n",
       "L 236.25306 565.990266 \n",
       "L 280.114748 562.736721 \n",
       "L 323.976437 565.949082 \n",
       "L 367.838125 564.672375 \n",
       "L 411.699813 568.584865 \n",
       "L 455.561502 570.458742 \n",
       "L 499.42319 570.191046 \n",
       "L 543.284878 568.090656 \n",
       "L 587.146567 575.709717 \n",
       "L 631.008255 579.333919 \n",
       "L 674.869943 588.55916 \n",
       "\" clip-path=\"url(#p6701ccc770)\" style=\"fill: none; stroke: #ffff00; stroke-width: 1.5; stroke-linecap: square\"/>\n",
       "   </g>\n",
       "   <g id=\"line2d_95\">\n",
       "    <path d=\"M 60.806307 643.231069 \n",
       "L 104.667995 603.364848 \n",
       "L 148.529683 582.669832 \n",
       "L 192.391372 575.812677 \n",
       "L 236.25306 567.019869 \n",
       "L 280.114748 556.435552 \n",
       "L 323.976437 548.878268 \n",
       "L 367.838125 545.089329 \n",
       "L 411.699813 539.138225 \n",
       "L 455.561502 533.104753 \n",
       "L 499.42319 527.956739 \n",
       "L 543.284878 524.806154 \n",
       "L 587.146567 518.25788 \n",
       "L 631.008255 514.860191 \n",
       "L 674.869943 509.918097 \n",
       "\" clip-path=\"url(#p6701ccc770)\" style=\"fill: none; stroke-dasharray: 5.55,2.4; stroke-dashoffset: 0; stroke: #ffa500; stroke-width: 1.5\"/>\n",
       "   </g>\n",
       "   <g id=\"line2d_96\">\n",
       "    <path d=\"M 60.806307 640.862983 \n",
       "L 104.667995 601.511563 \n",
       "L 148.529683 585.264431 \n",
       "L 192.391372 584.028907 \n",
       "L 236.25306 574.268273 \n",
       "L 280.114748 569.820389 \n",
       "L 323.976437 565.660793 \n",
       "L 367.838125 565.804938 \n",
       "L 411.699813 561.562974 \n",
       "L 455.561502 564.034021 \n",
       "L 499.42319 562.098368 \n",
       "L 543.284878 557.71226 \n",
       "L 587.146567 558.268245 \n",
       "L 631.008255 556.291408 \n",
       "L 674.869943 559.153704 \n",
       "\" clip-path=\"url(#p6701ccc770)\" style=\"fill: none; stroke: #ffa500; stroke-width: 1.5; stroke-linecap: square\"/>\n",
       "   </g>\n",
       "   <g id=\"line2d_97\">\n",
       "    <path d=\"M 60.806307 647.411256 \n",
       "L 104.667995 592.904084 \n",
       "L 148.529683 571.261833 \n",
       "L 192.391372 555.982527 \n",
       "L 236.25306 539.920723 \n",
       "L 280.114748 532.116334 \n",
       "L 323.976437 519.452219 \n",
       "L 367.838125 507.550011 \n",
       "L 411.699813 496.450893 \n",
       "L 455.561502 479.730143 \n",
       "L 499.42319 470.031285 \n",
       "L 543.284878 452.507445 \n",
       "L 587.146567 438.422478 \n",
       "L 631.008255 417.727462 \n",
       "L 674.869943 403.024734 \n",
       "\" clip-path=\"url(#p6701ccc770)\" style=\"fill: none; stroke-dasharray: 5.55,2.4; stroke-dashoffset: 0; stroke: #ee82ee; stroke-width: 1.5\"/>\n",
       "   </g>\n",
       "   <g id=\"line2d_98\">\n",
       "    <path d=\"M 60.806307 646.566982 \n",
       "L 104.667995 591.750929 \n",
       "L 148.529683 580.054641 \n",
       "L 192.391372 575.586164 \n",
       "L 236.25306 567.864143 \n",
       "L 280.114748 565.434281 \n",
       "L 323.976437 568.955522 \n",
       "L 367.838125 568.275985 \n",
       "L 411.699813 571.117688 \n",
       "L 455.561502 573.053342 \n",
       "L 499.42319 574.124128 \n",
       "L 543.284878 573.073934 \n",
       "L 587.146567 578.24254 \n",
       "L 631.008255 581.104836 \n",
       "L 674.869943 586.396994 \n",
       "\" clip-path=\"url(#p6701ccc770)\" style=\"fill: none; stroke: #ee82ee; stroke-width: 1.5; stroke-linecap: square\"/>\n",
       "   </g>\n",
       "   <g id=\"line2d_99\">\n",
       "    <path d=\"M 60.806307 661.37267 \n",
       "L 104.667995 630.649323 \n",
       "L 148.529683 599.081701 \n",
       "L 192.391372 586.994164 \n",
       "L 236.25306 583.472922 \n",
       "L 280.114748 575.606757 \n",
       "L 323.976437 569.758613 \n",
       "L 367.838125 568.543681 \n",
       "L 411.699813 560.7187 \n",
       "L 455.561502 558.268245 \n",
       "L 499.42319 549.351885 \n",
       "L 543.284878 543.359597 \n",
       "L 587.146567 537.140796 \n",
       "L 631.008255 534.875669 \n",
       "L 674.869943 529.8718 \n",
       "\" clip-path=\"url(#p6701ccc770)\" style=\"fill: none; stroke-dasharray: 5.55,2.4; stroke-dashoffset: 0; stroke: #000000; stroke-width: 1.5\"/>\n",
       "   </g>\n",
       "   <g id=\"line2d_100\">\n",
       "    <path d=\"M 60.806307 657.110115 \n",
       "L 104.667995 628.878406 \n",
       "L 148.529683 597.2696 \n",
       "L 192.391372 587.303044 \n",
       "L 236.25306 584.770222 \n",
       "L 280.114748 581.084243 \n",
       "L 323.976437 579.539839 \n",
       "L 367.838125 581.063651 \n",
       "L 411.699813 572.106107 \n",
       "L 455.561502 577.810107 \n",
       "L 499.42319 567.658223 \n",
       "L 543.284878 564.466454 \n",
       "L 587.146567 560.059754 \n",
       "L 631.008255 564.548822 \n",
       "L 674.869943 558.865415 \n",
       "\" clip-path=\"url(#p6701ccc770)\" style=\"fill: none; stroke: #000000; stroke-width: 1.5; stroke-linecap: square\"/>\n",
       "   </g>\n",
       "   <g id=\"patch_9\">\n",
       "    <path d=\"M 30.103125 674.918125 \n",
       "L 30.103125 376.918125 \n",
       "\" style=\"fill: none; stroke: #000000; stroke-width: 0.8; stroke-linejoin: miter; stroke-linecap: square\"/>\n",
       "   </g>\n",
       "   <g id=\"patch_10\">\n",
       "    <path d=\"M 705.573125 674.918125 \n",
       "L 705.573125 376.918125 \n",
       "\" style=\"fill: none; stroke: #000000; stroke-width: 0.8; stroke-linejoin: miter; stroke-linecap: square\"/>\n",
       "   </g>\n",
       "   <g id=\"patch_11\">\n",
       "    <path d=\"M 30.103125 674.918125 \n",
       "L 705.573125 674.918125 \n",
       "\" style=\"fill: none; stroke: #000000; stroke-width: 0.8; stroke-linejoin: miter; stroke-linecap: square\"/>\n",
       "   </g>\n",
       "   <g id=\"patch_12\">\n",
       "    <path d=\"M 30.103125 376.918125 \n",
       "L 705.573125 376.918125 \n",
       "\" style=\"fill: none; stroke: #000000; stroke-width: 0.8; stroke-linejoin: miter; stroke-linecap: square\"/>\n",
       "   </g>\n",
       "   <g id=\"text_47\">\n",
       "    <!-- Accuracy -->\n",
       "    <g transform=\"translate(340.444375 370.918125) scale(0.12 -0.12)\">\n",
       "     <defs>\n",
       "      <path id=\"DejaVuSans-41\" d=\"M 2188 4044 \n",
       "L 1331 1722 \n",
       "L 3047 1722 \n",
       "L 2188 4044 \n",
       "z\n",
       "M 1831 4666 \n",
       "L 2547 4666 \n",
       "L 4325 0 \n",
       "L 3669 0 \n",
       "L 3244 1197 \n",
       "L 1141 1197 \n",
       "L 716 0 \n",
       "L 50 0 \n",
       "L 1831 4666 \n",
       "z\n",
       "\" transform=\"scale(0.015625)\"/>\n",
       "     </defs>\n",
       "     <use xlink:href=\"#DejaVuSans-41\"/>\n",
       "     <use xlink:href=\"#DejaVuSans-63\" x=\"66.658203\"/>\n",
       "     <use xlink:href=\"#DejaVuSans-63\" x=\"121.638672\"/>\n",
       "     <use xlink:href=\"#DejaVuSans-75\" x=\"176.619141\"/>\n",
       "     <use xlink:href=\"#DejaVuSans-72\" x=\"239.998047\"/>\n",
       "     <use xlink:href=\"#DejaVuSans-61\" x=\"281.111328\"/>\n",
       "     <use xlink:href=\"#DejaVuSans-63\" x=\"342.390625\"/>\n",
       "     <use xlink:href=\"#DejaVuSans-79\" x=\"397.371094\"/>\n",
       "    </g>\n",
       "   </g>\n",
       "   <g id=\"legend_2\">\n",
       "    <g id=\"patch_13\">\n",
       "     <path d=\"M 37.103125 590.411875 \n",
       "L 266.071875 590.411875 \n",
       "Q 268.071875 590.411875 268.071875 588.411875 \n",
       "L 268.071875 383.918125 \n",
       "Q 268.071875 381.918125 266.071875 381.918125 \n",
       "L 37.103125 381.918125 \n",
       "Q 35.103125 381.918125 35.103125 383.918125 \n",
       "L 35.103125 588.411875 \n",
       "Q 35.103125 590.411875 37.103125 590.411875 \n",
       "z\n",
       "\" style=\"fill: #ffffff; opacity: 0.8; stroke: #cccccc; stroke-linejoin: miter\"/>\n",
       "    </g>\n",
       "    <g id=\"line2d_101\">\n",
       "     <path d=\"M 39.103125 390.016562 \n",
       "L 49.103125 390.016562 \n",
       "L 59.103125 390.016562 \n",
       "\" style=\"fill: none; stroke-dasharray: 5.55,2.4; stroke-dashoffset: 0; stroke: #ff0000; stroke-width: 1.5\"/>\n",
       "    </g>\n",
       "    <g id=\"text_48\">\n",
       "     <!-- torch.nn.LSTM (train) -->\n",
       "     <g transform=\"translate(67.103125 393.516562) scale(0.1 -0.1)\">\n",
       "      <use xlink:href=\"#DejaVuSans-74\"/>\n",
       "      <use xlink:href=\"#DejaVuSans-6f\" x=\"39.208984\"/>\n",
       "      <use xlink:href=\"#DejaVuSans-72\" x=\"100.390625\"/>\n",
       "      <use xlink:href=\"#DejaVuSans-63\" x=\"139.253906\"/>\n",
       "      <use xlink:href=\"#DejaVuSans-68\" x=\"194.234375\"/>\n",
       "      <use xlink:href=\"#DejaVuSans-2e\" x=\"257.613281\"/>\n",
       "      <use xlink:href=\"#DejaVuSans-6e\" x=\"289.400391\"/>\n",
       "      <use xlink:href=\"#DejaVuSans-6e\" x=\"352.779297\"/>\n",
       "      <use xlink:href=\"#DejaVuSans-2e\" x=\"416.158203\"/>\n",
       "      <use xlink:href=\"#DejaVuSans-4c\" x=\"447.945312\"/>\n",
       "      <use xlink:href=\"#DejaVuSans-53\" x=\"503.658203\"/>\n",
       "      <use xlink:href=\"#DejaVuSans-54\" x=\"567.134766\"/>\n",
       "      <use xlink:href=\"#DejaVuSans-4d\" x=\"628.21875\"/>\n",
       "      <use xlink:href=\"#DejaVuSans-20\" x=\"714.498047\"/>\n",
       "      <use xlink:href=\"#DejaVuSans-28\" x=\"746.285156\"/>\n",
       "      <use xlink:href=\"#DejaVuSans-74\" x=\"785.298828\"/>\n",
       "      <use xlink:href=\"#DejaVuSans-72\" x=\"824.507812\"/>\n",
       "      <use xlink:href=\"#DejaVuSans-61\" x=\"865.621094\"/>\n",
       "      <use xlink:href=\"#DejaVuSans-69\" x=\"926.900391\"/>\n",
       "      <use xlink:href=\"#DejaVuSans-6e\" x=\"954.683594\"/>\n",
       "      <use xlink:href=\"#DejaVuSans-29\" x=\"1018.0625\"/>\n",
       "     </g>\n",
       "    </g>\n",
       "    <g id=\"line2d_102\">\n",
       "     <path d=\"M 39.103125 404.694687 \n",
       "L 49.103125 404.694687 \n",
       "L 59.103125 404.694687 \n",
       "\" style=\"fill: none; stroke: #ff0000; stroke-width: 1.5; stroke-linecap: square\"/>\n",
       "    </g>\n",
       "    <g id=\"text_49\">\n",
       "     <!-- torch.nn.LSTM (test) -->\n",
       "     <g transform=\"translate(67.103125 408.194687) scale(0.1 -0.1)\">\n",
       "      <use xlink:href=\"#DejaVuSans-74\"/>\n",
       "      <use xlink:href=\"#DejaVuSans-6f\" x=\"39.208984\"/>\n",
       "      <use xlink:href=\"#DejaVuSans-72\" x=\"100.390625\"/>\n",
       "      <use xlink:href=\"#DejaVuSans-63\" x=\"139.253906\"/>\n",
       "      <use xlink:href=\"#DejaVuSans-68\" x=\"194.234375\"/>\n",
       "      <use xlink:href=\"#DejaVuSans-2e\" x=\"257.613281\"/>\n",
       "      <use xlink:href=\"#DejaVuSans-6e\" x=\"289.400391\"/>\n",
       "      <use xlink:href=\"#DejaVuSans-6e\" x=\"352.779297\"/>\n",
       "      <use xlink:href=\"#DejaVuSans-2e\" x=\"416.158203\"/>\n",
       "      <use xlink:href=\"#DejaVuSans-4c\" x=\"447.945312\"/>\n",
       "      <use xlink:href=\"#DejaVuSans-53\" x=\"503.658203\"/>\n",
       "      <use xlink:href=\"#DejaVuSans-54\" x=\"567.134766\"/>\n",
       "      <use xlink:href=\"#DejaVuSans-4d\" x=\"628.21875\"/>\n",
       "      <use xlink:href=\"#DejaVuSans-20\" x=\"714.498047\"/>\n",
       "      <use xlink:href=\"#DejaVuSans-28\" x=\"746.285156\"/>\n",
       "      <use xlink:href=\"#DejaVuSans-74\" x=\"785.298828\"/>\n",
       "      <use xlink:href=\"#DejaVuSans-65\" x=\"824.507812\"/>\n",
       "      <use xlink:href=\"#DejaVuSans-73\" x=\"886.03125\"/>\n",
       "      <use xlink:href=\"#DejaVuSans-74\" x=\"938.130859\"/>\n",
       "      <use xlink:href=\"#DejaVuSans-29\" x=\"977.339844\"/>\n",
       "     </g>\n",
       "    </g>\n",
       "    <g id=\"line2d_103\">\n",
       "     <path d=\"M 39.103125 419.372812 \n",
       "L 49.103125 419.372812 \n",
       "L 59.103125 419.372812 \n",
       "\" style=\"fill: none; stroke-dasharray: 5.55,2.4; stroke-dashoffset: 0; stroke: #008000; stroke-width: 1.5\"/>\n",
       "    </g>\n",
       "    <g id=\"text_50\">\n",
       "     <!-- RNNLayer(dropout=None) (train) -->\n",
       "     <g transform=\"translate(67.103125 422.872812) scale(0.1 -0.1)\">\n",
       "      <use xlink:href=\"#DejaVuSans-52\"/>\n",
       "      <use xlink:href=\"#DejaVuSans-4e\" x=\"69.482422\"/>\n",
       "      <use xlink:href=\"#DejaVuSans-4e\" x=\"144.287109\"/>\n",
       "      <use xlink:href=\"#DejaVuSans-4c\" x=\"219.091797\"/>\n",
       "      <use xlink:href=\"#DejaVuSans-61\" x=\"274.804688\"/>\n",
       "      <use xlink:href=\"#DejaVuSans-79\" x=\"336.083984\"/>\n",
       "      <use xlink:href=\"#DejaVuSans-65\" x=\"395.263672\"/>\n",
       "      <use xlink:href=\"#DejaVuSans-72\" x=\"456.787109\"/>\n",
       "      <use xlink:href=\"#DejaVuSans-28\" x=\"497.900391\"/>\n",
       "      <use xlink:href=\"#DejaVuSans-64\" x=\"536.914062\"/>\n",
       "      <use xlink:href=\"#DejaVuSans-72\" x=\"600.390625\"/>\n",
       "      <use xlink:href=\"#DejaVuSans-6f\" x=\"639.253906\"/>\n",
       "      <use xlink:href=\"#DejaVuSans-70\" x=\"700.435547\"/>\n",
       "      <use xlink:href=\"#DejaVuSans-6f\" x=\"763.912109\"/>\n",
       "      <use xlink:href=\"#DejaVuSans-75\" x=\"825.09375\"/>\n",
       "      <use xlink:href=\"#DejaVuSans-74\" x=\"888.472656\"/>\n",
       "      <use xlink:href=\"#DejaVuSans-3d\" x=\"927.681641\"/>\n",
       "      <use xlink:href=\"#DejaVuSans-4e\" x=\"1011.470703\"/>\n",
       "      <use xlink:href=\"#DejaVuSans-6f\" x=\"1086.275391\"/>\n",
       "      <use xlink:href=\"#DejaVuSans-6e\" x=\"1147.457031\"/>\n",
       "      <use xlink:href=\"#DejaVuSans-65\" x=\"1210.835938\"/>\n",
       "      <use xlink:href=\"#DejaVuSans-29\" x=\"1272.359375\"/>\n",
       "      <use xlink:href=\"#DejaVuSans-20\" x=\"1311.373047\"/>\n",
       "      <use xlink:href=\"#DejaVuSans-28\" x=\"1343.160156\"/>\n",
       "      <use xlink:href=\"#DejaVuSans-74\" x=\"1382.173828\"/>\n",
       "      <use xlink:href=\"#DejaVuSans-72\" x=\"1421.382812\"/>\n",
       "      <use xlink:href=\"#DejaVuSans-61\" x=\"1462.496094\"/>\n",
       "      <use xlink:href=\"#DejaVuSans-69\" x=\"1523.775391\"/>\n",
       "      <use xlink:href=\"#DejaVuSans-6e\" x=\"1551.558594\"/>\n",
       "      <use xlink:href=\"#DejaVuSans-29\" x=\"1614.9375\"/>\n",
       "     </g>\n",
       "    </g>\n",
       "    <g id=\"line2d_104\">\n",
       "     <path d=\"M 39.103125 434.050937 \n",
       "L 49.103125 434.050937 \n",
       "L 59.103125 434.050937 \n",
       "\" style=\"fill: none; stroke: #008000; stroke-width: 1.5; stroke-linecap: square\"/>\n",
       "    </g>\n",
       "    <g id=\"text_51\">\n",
       "     <!-- RNNLayer(dropout=None) (test) -->\n",
       "     <g transform=\"translate(67.103125 437.550937) scale(0.1 -0.1)\">\n",
       "      <use xlink:href=\"#DejaVuSans-52\"/>\n",
       "      <use xlink:href=\"#DejaVuSans-4e\" x=\"69.482422\"/>\n",
       "      <use xlink:href=\"#DejaVuSans-4e\" x=\"144.287109\"/>\n",
       "      <use xlink:href=\"#DejaVuSans-4c\" x=\"219.091797\"/>\n",
       "      <use xlink:href=\"#DejaVuSans-61\" x=\"274.804688\"/>\n",
       "      <use xlink:href=\"#DejaVuSans-79\" x=\"336.083984\"/>\n",
       "      <use xlink:href=\"#DejaVuSans-65\" x=\"395.263672\"/>\n",
       "      <use xlink:href=\"#DejaVuSans-72\" x=\"456.787109\"/>\n",
       "      <use xlink:href=\"#DejaVuSans-28\" x=\"497.900391\"/>\n",
       "      <use xlink:href=\"#DejaVuSans-64\" x=\"536.914062\"/>\n",
       "      <use xlink:href=\"#DejaVuSans-72\" x=\"600.390625\"/>\n",
       "      <use xlink:href=\"#DejaVuSans-6f\" x=\"639.253906\"/>\n",
       "      <use xlink:href=\"#DejaVuSans-70\" x=\"700.435547\"/>\n",
       "      <use xlink:href=\"#DejaVuSans-6f\" x=\"763.912109\"/>\n",
       "      <use xlink:href=\"#DejaVuSans-75\" x=\"825.09375\"/>\n",
       "      <use xlink:href=\"#DejaVuSans-74\" x=\"888.472656\"/>\n",
       "      <use xlink:href=\"#DejaVuSans-3d\" x=\"927.681641\"/>\n",
       "      <use xlink:href=\"#DejaVuSans-4e\" x=\"1011.470703\"/>\n",
       "      <use xlink:href=\"#DejaVuSans-6f\" x=\"1086.275391\"/>\n",
       "      <use xlink:href=\"#DejaVuSans-6e\" x=\"1147.457031\"/>\n",
       "      <use xlink:href=\"#DejaVuSans-65\" x=\"1210.835938\"/>\n",
       "      <use xlink:href=\"#DejaVuSans-29\" x=\"1272.359375\"/>\n",
       "      <use xlink:href=\"#DejaVuSans-20\" x=\"1311.373047\"/>\n",
       "      <use xlink:href=\"#DejaVuSans-28\" x=\"1343.160156\"/>\n",
       "      <use xlink:href=\"#DejaVuSans-74\" x=\"1382.173828\"/>\n",
       "      <use xlink:href=\"#DejaVuSans-65\" x=\"1421.382812\"/>\n",
       "      <use xlink:href=\"#DejaVuSans-73\" x=\"1482.90625\"/>\n",
       "      <use xlink:href=\"#DejaVuSans-74\" x=\"1535.005859\"/>\n",
       "      <use xlink:href=\"#DejaVuSans-29\" x=\"1574.214844\"/>\n",
       "     </g>\n",
       "    </g>\n",
       "    <g id=\"line2d_105\">\n",
       "     <path d=\"M 39.103125 448.729062 \n",
       "L 49.103125 448.729062 \n",
       "L 59.103125 448.729062 \n",
       "\" style=\"fill: none; stroke-dasharray: 5.55,2.4; stroke-dashoffset: 0; stroke: #0000ff; stroke-width: 1.5\"/>\n",
       "    </g>\n",
       "    <g id=\"text_52\">\n",
       "     <!-- RNNLayer(dropout=0.25) (train) -->\n",
       "     <g transform=\"translate(67.103125 452.229062) scale(0.1 -0.1)\">\n",
       "      <use xlink:href=\"#DejaVuSans-52\"/>\n",
       "      <use xlink:href=\"#DejaVuSans-4e\" x=\"69.482422\"/>\n",
       "      <use xlink:href=\"#DejaVuSans-4e\" x=\"144.287109\"/>\n",
       "      <use xlink:href=\"#DejaVuSans-4c\" x=\"219.091797\"/>\n",
       "      <use xlink:href=\"#DejaVuSans-61\" x=\"274.804688\"/>\n",
       "      <use xlink:href=\"#DejaVuSans-79\" x=\"336.083984\"/>\n",
       "      <use xlink:href=\"#DejaVuSans-65\" x=\"395.263672\"/>\n",
       "      <use xlink:href=\"#DejaVuSans-72\" x=\"456.787109\"/>\n",
       "      <use xlink:href=\"#DejaVuSans-28\" x=\"497.900391\"/>\n",
       "      <use xlink:href=\"#DejaVuSans-64\" x=\"536.914062\"/>\n",
       "      <use xlink:href=\"#DejaVuSans-72\" x=\"600.390625\"/>\n",
       "      <use xlink:href=\"#DejaVuSans-6f\" x=\"639.253906\"/>\n",
       "      <use xlink:href=\"#DejaVuSans-70\" x=\"700.435547\"/>\n",
       "      <use xlink:href=\"#DejaVuSans-6f\" x=\"763.912109\"/>\n",
       "      <use xlink:href=\"#DejaVuSans-75\" x=\"825.09375\"/>\n",
       "      <use xlink:href=\"#DejaVuSans-74\" x=\"888.472656\"/>\n",
       "      <use xlink:href=\"#DejaVuSans-3d\" x=\"927.681641\"/>\n",
       "      <use xlink:href=\"#DejaVuSans-30\" x=\"1011.470703\"/>\n",
       "      <use xlink:href=\"#DejaVuSans-2e\" x=\"1075.09375\"/>\n",
       "      <use xlink:href=\"#DejaVuSans-32\" x=\"1106.880859\"/>\n",
       "      <use xlink:href=\"#DejaVuSans-35\" x=\"1170.503906\"/>\n",
       "      <use xlink:href=\"#DejaVuSans-29\" x=\"1234.126953\"/>\n",
       "      <use xlink:href=\"#DejaVuSans-20\" x=\"1273.140625\"/>\n",
       "      <use xlink:href=\"#DejaVuSans-28\" x=\"1304.927734\"/>\n",
       "      <use xlink:href=\"#DejaVuSans-74\" x=\"1343.941406\"/>\n",
       "      <use xlink:href=\"#DejaVuSans-72\" x=\"1383.150391\"/>\n",
       "      <use xlink:href=\"#DejaVuSans-61\" x=\"1424.263672\"/>\n",
       "      <use xlink:href=\"#DejaVuSans-69\" x=\"1485.542969\"/>\n",
       "      <use xlink:href=\"#DejaVuSans-6e\" x=\"1513.326172\"/>\n",
       "      <use xlink:href=\"#DejaVuSans-29\" x=\"1576.705078\"/>\n",
       "     </g>\n",
       "    </g>\n",
       "    <g id=\"line2d_106\">\n",
       "     <path d=\"M 39.103125 463.407187 \n",
       "L 49.103125 463.407187 \n",
       "L 59.103125 463.407187 \n",
       "\" style=\"fill: none; stroke: #0000ff; stroke-width: 1.5; stroke-linecap: square\"/>\n",
       "    </g>\n",
       "    <g id=\"text_53\">\n",
       "     <!-- RNNLayer(dropout=0.25) (test) -->\n",
       "     <g transform=\"translate(67.103125 466.907187) scale(0.1 -0.1)\">\n",
       "      <use xlink:href=\"#DejaVuSans-52\"/>\n",
       "      <use xlink:href=\"#DejaVuSans-4e\" x=\"69.482422\"/>\n",
       "      <use xlink:href=\"#DejaVuSans-4e\" x=\"144.287109\"/>\n",
       "      <use xlink:href=\"#DejaVuSans-4c\" x=\"219.091797\"/>\n",
       "      <use xlink:href=\"#DejaVuSans-61\" x=\"274.804688\"/>\n",
       "      <use xlink:href=\"#DejaVuSans-79\" x=\"336.083984\"/>\n",
       "      <use xlink:href=\"#DejaVuSans-65\" x=\"395.263672\"/>\n",
       "      <use xlink:href=\"#DejaVuSans-72\" x=\"456.787109\"/>\n",
       "      <use xlink:href=\"#DejaVuSans-28\" x=\"497.900391\"/>\n",
       "      <use xlink:href=\"#DejaVuSans-64\" x=\"536.914062\"/>\n",
       "      <use xlink:href=\"#DejaVuSans-72\" x=\"600.390625\"/>\n",
       "      <use xlink:href=\"#DejaVuSans-6f\" x=\"639.253906\"/>\n",
       "      <use xlink:href=\"#DejaVuSans-70\" x=\"700.435547\"/>\n",
       "      <use xlink:href=\"#DejaVuSans-6f\" x=\"763.912109\"/>\n",
       "      <use xlink:href=\"#DejaVuSans-75\" x=\"825.09375\"/>\n",
       "      <use xlink:href=\"#DejaVuSans-74\" x=\"888.472656\"/>\n",
       "      <use xlink:href=\"#DejaVuSans-3d\" x=\"927.681641\"/>\n",
       "      <use xlink:href=\"#DejaVuSans-30\" x=\"1011.470703\"/>\n",
       "      <use xlink:href=\"#DejaVuSans-2e\" x=\"1075.09375\"/>\n",
       "      <use xlink:href=\"#DejaVuSans-32\" x=\"1106.880859\"/>\n",
       "      <use xlink:href=\"#DejaVuSans-35\" x=\"1170.503906\"/>\n",
       "      <use xlink:href=\"#DejaVuSans-29\" x=\"1234.126953\"/>\n",
       "      <use xlink:href=\"#DejaVuSans-20\" x=\"1273.140625\"/>\n",
       "      <use xlink:href=\"#DejaVuSans-28\" x=\"1304.927734\"/>\n",
       "      <use xlink:href=\"#DejaVuSans-74\" x=\"1343.941406\"/>\n",
       "      <use xlink:href=\"#DejaVuSans-65\" x=\"1383.150391\"/>\n",
       "      <use xlink:href=\"#DejaVuSans-73\" x=\"1444.673828\"/>\n",
       "      <use xlink:href=\"#DejaVuSans-74\" x=\"1496.773438\"/>\n",
       "      <use xlink:href=\"#DejaVuSans-29\" x=\"1535.982422\"/>\n",
       "     </g>\n",
       "    </g>\n",
       "    <g id=\"line2d_107\">\n",
       "     <path d=\"M 39.103125 478.085312 \n",
       "L 49.103125 478.085312 \n",
       "L 59.103125 478.085312 \n",
       "\" style=\"fill: none; stroke-dasharray: 5.55,2.4; stroke-dashoffset: 0; stroke: #ffff00; stroke-width: 1.5\"/>\n",
       "    </g>\n",
       "    <g id=\"text_54\">\n",
       "     <!-- FastRNNLayer(dropout=None) (train) -->\n",
       "     <g transform=\"translate(67.103125 481.585312) scale(0.1 -0.1)\">\n",
       "      <use xlink:href=\"#DejaVuSans-46\"/>\n",
       "      <use xlink:href=\"#DejaVuSans-61\" x=\"48.394531\"/>\n",
       "      <use xlink:href=\"#DejaVuSans-73\" x=\"109.673828\"/>\n",
       "      <use xlink:href=\"#DejaVuSans-74\" x=\"161.773438\"/>\n",
       "      <use xlink:href=\"#DejaVuSans-52\" x=\"200.982422\"/>\n",
       "      <use xlink:href=\"#DejaVuSans-4e\" x=\"270.464844\"/>\n",
       "      <use xlink:href=\"#DejaVuSans-4e\" x=\"345.269531\"/>\n",
       "      <use xlink:href=\"#DejaVuSans-4c\" x=\"420.074219\"/>\n",
       "      <use xlink:href=\"#DejaVuSans-61\" x=\"475.787109\"/>\n",
       "      <use xlink:href=\"#DejaVuSans-79\" x=\"537.066406\"/>\n",
       "      <use xlink:href=\"#DejaVuSans-65\" x=\"596.246094\"/>\n",
       "      <use xlink:href=\"#DejaVuSans-72\" x=\"657.769531\"/>\n",
       "      <use xlink:href=\"#DejaVuSans-28\" x=\"698.882812\"/>\n",
       "      <use xlink:href=\"#DejaVuSans-64\" x=\"737.896484\"/>\n",
       "      <use xlink:href=\"#DejaVuSans-72\" x=\"801.373047\"/>\n",
       "      <use xlink:href=\"#DejaVuSans-6f\" x=\"840.236328\"/>\n",
       "      <use xlink:href=\"#DejaVuSans-70\" x=\"901.417969\"/>\n",
       "      <use xlink:href=\"#DejaVuSans-6f\" x=\"964.894531\"/>\n",
       "      <use xlink:href=\"#DejaVuSans-75\" x=\"1026.076172\"/>\n",
       "      <use xlink:href=\"#DejaVuSans-74\" x=\"1089.455078\"/>\n",
       "      <use xlink:href=\"#DejaVuSans-3d\" x=\"1128.664062\"/>\n",
       "      <use xlink:href=\"#DejaVuSans-4e\" x=\"1212.453125\"/>\n",
       "      <use xlink:href=\"#DejaVuSans-6f\" x=\"1287.257812\"/>\n",
       "      <use xlink:href=\"#DejaVuSans-6e\" x=\"1348.439453\"/>\n",
       "      <use xlink:href=\"#DejaVuSans-65\" x=\"1411.818359\"/>\n",
       "      <use xlink:href=\"#DejaVuSans-29\" x=\"1473.341797\"/>\n",
       "      <use xlink:href=\"#DejaVuSans-20\" x=\"1512.355469\"/>\n",
       "      <use xlink:href=\"#DejaVuSans-28\" x=\"1544.142578\"/>\n",
       "      <use xlink:href=\"#DejaVuSans-74\" x=\"1583.15625\"/>\n",
       "      <use xlink:href=\"#DejaVuSans-72\" x=\"1622.365234\"/>\n",
       "      <use xlink:href=\"#DejaVuSans-61\" x=\"1663.478516\"/>\n",
       "      <use xlink:href=\"#DejaVuSans-69\" x=\"1724.757812\"/>\n",
       "      <use xlink:href=\"#DejaVuSans-6e\" x=\"1752.541016\"/>\n",
       "      <use xlink:href=\"#DejaVuSans-29\" x=\"1815.919922\"/>\n",
       "     </g>\n",
       "    </g>\n",
       "    <g id=\"line2d_108\">\n",
       "     <path d=\"M 39.103125 492.763437 \n",
       "L 49.103125 492.763437 \n",
       "L 59.103125 492.763437 \n",
       "\" style=\"fill: none; stroke: #ffff00; stroke-width: 1.5; stroke-linecap: square\"/>\n",
       "    </g>\n",
       "    <g id=\"text_55\">\n",
       "     <!-- FastRNNLayer(dropout=None) (test) -->\n",
       "     <g transform=\"translate(67.103125 496.263437) scale(0.1 -0.1)\">\n",
       "      <use xlink:href=\"#DejaVuSans-46\"/>\n",
       "      <use xlink:href=\"#DejaVuSans-61\" x=\"48.394531\"/>\n",
       "      <use xlink:href=\"#DejaVuSans-73\" x=\"109.673828\"/>\n",
       "      <use xlink:href=\"#DejaVuSans-74\" x=\"161.773438\"/>\n",
       "      <use xlink:href=\"#DejaVuSans-52\" x=\"200.982422\"/>\n",
       "      <use xlink:href=\"#DejaVuSans-4e\" x=\"270.464844\"/>\n",
       "      <use xlink:href=\"#DejaVuSans-4e\" x=\"345.269531\"/>\n",
       "      <use xlink:href=\"#DejaVuSans-4c\" x=\"420.074219\"/>\n",
       "      <use xlink:href=\"#DejaVuSans-61\" x=\"475.787109\"/>\n",
       "      <use xlink:href=\"#DejaVuSans-79\" x=\"537.066406\"/>\n",
       "      <use xlink:href=\"#DejaVuSans-65\" x=\"596.246094\"/>\n",
       "      <use xlink:href=\"#DejaVuSans-72\" x=\"657.769531\"/>\n",
       "      <use xlink:href=\"#DejaVuSans-28\" x=\"698.882812\"/>\n",
       "      <use xlink:href=\"#DejaVuSans-64\" x=\"737.896484\"/>\n",
       "      <use xlink:href=\"#DejaVuSans-72\" x=\"801.373047\"/>\n",
       "      <use xlink:href=\"#DejaVuSans-6f\" x=\"840.236328\"/>\n",
       "      <use xlink:href=\"#DejaVuSans-70\" x=\"901.417969\"/>\n",
       "      <use xlink:href=\"#DejaVuSans-6f\" x=\"964.894531\"/>\n",
       "      <use xlink:href=\"#DejaVuSans-75\" x=\"1026.076172\"/>\n",
       "      <use xlink:href=\"#DejaVuSans-74\" x=\"1089.455078\"/>\n",
       "      <use xlink:href=\"#DejaVuSans-3d\" x=\"1128.664062\"/>\n",
       "      <use xlink:href=\"#DejaVuSans-4e\" x=\"1212.453125\"/>\n",
       "      <use xlink:href=\"#DejaVuSans-6f\" x=\"1287.257812\"/>\n",
       "      <use xlink:href=\"#DejaVuSans-6e\" x=\"1348.439453\"/>\n",
       "      <use xlink:href=\"#DejaVuSans-65\" x=\"1411.818359\"/>\n",
       "      <use xlink:href=\"#DejaVuSans-29\" x=\"1473.341797\"/>\n",
       "      <use xlink:href=\"#DejaVuSans-20\" x=\"1512.355469\"/>\n",
       "      <use xlink:href=\"#DejaVuSans-28\" x=\"1544.142578\"/>\n",
       "      <use xlink:href=\"#DejaVuSans-74\" x=\"1583.15625\"/>\n",
       "      <use xlink:href=\"#DejaVuSans-65\" x=\"1622.365234\"/>\n",
       "      <use xlink:href=\"#DejaVuSans-73\" x=\"1683.888672\"/>\n",
       "      <use xlink:href=\"#DejaVuSans-74\" x=\"1735.988281\"/>\n",
       "      <use xlink:href=\"#DejaVuSans-29\" x=\"1775.197266\"/>\n",
       "     </g>\n",
       "    </g>\n",
       "    <g id=\"line2d_109\">\n",
       "     <path d=\"M 39.103125 507.441562 \n",
       "L 49.103125 507.441562 \n",
       "L 59.103125 507.441562 \n",
       "\" style=\"fill: none; stroke-dasharray: 5.55,2.4; stroke-dashoffset: 0; stroke: #ffa500; stroke-width: 1.5\"/>\n",
       "    </g>\n",
       "    <g id=\"text_56\">\n",
       "     <!-- FastRNNLayer(dropout=0.25) (train) -->\n",
       "     <g transform=\"translate(67.103125 510.941562) scale(0.1 -0.1)\">\n",
       "      <use xlink:href=\"#DejaVuSans-46\"/>\n",
       "      <use xlink:href=\"#DejaVuSans-61\" x=\"48.394531\"/>\n",
       "      <use xlink:href=\"#DejaVuSans-73\" x=\"109.673828\"/>\n",
       "      <use xlink:href=\"#DejaVuSans-74\" x=\"161.773438\"/>\n",
       "      <use xlink:href=\"#DejaVuSans-52\" x=\"200.982422\"/>\n",
       "      <use xlink:href=\"#DejaVuSans-4e\" x=\"270.464844\"/>\n",
       "      <use xlink:href=\"#DejaVuSans-4e\" x=\"345.269531\"/>\n",
       "      <use xlink:href=\"#DejaVuSans-4c\" x=\"420.074219\"/>\n",
       "      <use xlink:href=\"#DejaVuSans-61\" x=\"475.787109\"/>\n",
       "      <use xlink:href=\"#DejaVuSans-79\" x=\"537.066406\"/>\n",
       "      <use xlink:href=\"#DejaVuSans-65\" x=\"596.246094\"/>\n",
       "      <use xlink:href=\"#DejaVuSans-72\" x=\"657.769531\"/>\n",
       "      <use xlink:href=\"#DejaVuSans-28\" x=\"698.882812\"/>\n",
       "      <use xlink:href=\"#DejaVuSans-64\" x=\"737.896484\"/>\n",
       "      <use xlink:href=\"#DejaVuSans-72\" x=\"801.373047\"/>\n",
       "      <use xlink:href=\"#DejaVuSans-6f\" x=\"840.236328\"/>\n",
       "      <use xlink:href=\"#DejaVuSans-70\" x=\"901.417969\"/>\n",
       "      <use xlink:href=\"#DejaVuSans-6f\" x=\"964.894531\"/>\n",
       "      <use xlink:href=\"#DejaVuSans-75\" x=\"1026.076172\"/>\n",
       "      <use xlink:href=\"#DejaVuSans-74\" x=\"1089.455078\"/>\n",
       "      <use xlink:href=\"#DejaVuSans-3d\" x=\"1128.664062\"/>\n",
       "      <use xlink:href=\"#DejaVuSans-30\" x=\"1212.453125\"/>\n",
       "      <use xlink:href=\"#DejaVuSans-2e\" x=\"1276.076172\"/>\n",
       "      <use xlink:href=\"#DejaVuSans-32\" x=\"1307.863281\"/>\n",
       "      <use xlink:href=\"#DejaVuSans-35\" x=\"1371.486328\"/>\n",
       "      <use xlink:href=\"#DejaVuSans-29\" x=\"1435.109375\"/>\n",
       "      <use xlink:href=\"#DejaVuSans-20\" x=\"1474.123047\"/>\n",
       "      <use xlink:href=\"#DejaVuSans-28\" x=\"1505.910156\"/>\n",
       "      <use xlink:href=\"#DejaVuSans-74\" x=\"1544.923828\"/>\n",
       "      <use xlink:href=\"#DejaVuSans-72\" x=\"1584.132812\"/>\n",
       "      <use xlink:href=\"#DejaVuSans-61\" x=\"1625.246094\"/>\n",
       "      <use xlink:href=\"#DejaVuSans-69\" x=\"1686.525391\"/>\n",
       "      <use xlink:href=\"#DejaVuSans-6e\" x=\"1714.308594\"/>\n",
       "      <use xlink:href=\"#DejaVuSans-29\" x=\"1777.6875\"/>\n",
       "     </g>\n",
       "    </g>\n",
       "    <g id=\"line2d_110\">\n",
       "     <path d=\"M 39.103125 522.119687 \n",
       "L 49.103125 522.119687 \n",
       "L 59.103125 522.119687 \n",
       "\" style=\"fill: none; stroke: #ffa500; stroke-width: 1.5; stroke-linecap: square\"/>\n",
       "    </g>\n",
       "    <g id=\"text_57\">\n",
       "     <!-- FastRNNLayer(dropout=0.25) (test) -->\n",
       "     <g transform=\"translate(67.103125 525.619687) scale(0.1 -0.1)\">\n",
       "      <use xlink:href=\"#DejaVuSans-46\"/>\n",
       "      <use xlink:href=\"#DejaVuSans-61\" x=\"48.394531\"/>\n",
       "      <use xlink:href=\"#DejaVuSans-73\" x=\"109.673828\"/>\n",
       "      <use xlink:href=\"#DejaVuSans-74\" x=\"161.773438\"/>\n",
       "      <use xlink:href=\"#DejaVuSans-52\" x=\"200.982422\"/>\n",
       "      <use xlink:href=\"#DejaVuSans-4e\" x=\"270.464844\"/>\n",
       "      <use xlink:href=\"#DejaVuSans-4e\" x=\"345.269531\"/>\n",
       "      <use xlink:href=\"#DejaVuSans-4c\" x=\"420.074219\"/>\n",
       "      <use xlink:href=\"#DejaVuSans-61\" x=\"475.787109\"/>\n",
       "      <use xlink:href=\"#DejaVuSans-79\" x=\"537.066406\"/>\n",
       "      <use xlink:href=\"#DejaVuSans-65\" x=\"596.246094\"/>\n",
       "      <use xlink:href=\"#DejaVuSans-72\" x=\"657.769531\"/>\n",
       "      <use xlink:href=\"#DejaVuSans-28\" x=\"698.882812\"/>\n",
       "      <use xlink:href=\"#DejaVuSans-64\" x=\"737.896484\"/>\n",
       "      <use xlink:href=\"#DejaVuSans-72\" x=\"801.373047\"/>\n",
       "      <use xlink:href=\"#DejaVuSans-6f\" x=\"840.236328\"/>\n",
       "      <use xlink:href=\"#DejaVuSans-70\" x=\"901.417969\"/>\n",
       "      <use xlink:href=\"#DejaVuSans-6f\" x=\"964.894531\"/>\n",
       "      <use xlink:href=\"#DejaVuSans-75\" x=\"1026.076172\"/>\n",
       "      <use xlink:href=\"#DejaVuSans-74\" x=\"1089.455078\"/>\n",
       "      <use xlink:href=\"#DejaVuSans-3d\" x=\"1128.664062\"/>\n",
       "      <use xlink:href=\"#DejaVuSans-30\" x=\"1212.453125\"/>\n",
       "      <use xlink:href=\"#DejaVuSans-2e\" x=\"1276.076172\"/>\n",
       "      <use xlink:href=\"#DejaVuSans-32\" x=\"1307.863281\"/>\n",
       "      <use xlink:href=\"#DejaVuSans-35\" x=\"1371.486328\"/>\n",
       "      <use xlink:href=\"#DejaVuSans-29\" x=\"1435.109375\"/>\n",
       "      <use xlink:href=\"#DejaVuSans-20\" x=\"1474.123047\"/>\n",
       "      <use xlink:href=\"#DejaVuSans-28\" x=\"1505.910156\"/>\n",
       "      <use xlink:href=\"#DejaVuSans-74\" x=\"1544.923828\"/>\n",
       "      <use xlink:href=\"#DejaVuSans-65\" x=\"1584.132812\"/>\n",
       "      <use xlink:href=\"#DejaVuSans-73\" x=\"1645.65625\"/>\n",
       "      <use xlink:href=\"#DejaVuSans-74\" x=\"1697.755859\"/>\n",
       "      <use xlink:href=\"#DejaVuSans-29\" x=\"1736.964844\"/>\n",
       "     </g>\n",
       "    </g>\n",
       "    <g id=\"line2d_111\">\n",
       "     <path d=\"M 39.103125 536.797812 \n",
       "L 49.103125 536.797812 \n",
       "L 59.103125 536.797812 \n",
       "\" style=\"fill: none; stroke-dasharray: 5.55,2.4; stroke-dashoffset: 0; stroke: #ee82ee; stroke-width: 1.5\"/>\n",
       "    </g>\n",
       "    <g id=\"text_58\">\n",
       "     <!-- HandmadeLSTM(dropout=None) (train) -->\n",
       "     <g transform=\"translate(67.103125 540.297812) scale(0.1 -0.1)\">\n",
       "      <use xlink:href=\"#DejaVuSans-48\"/>\n",
       "      <use xlink:href=\"#DejaVuSans-61\" x=\"75.195312\"/>\n",
       "      <use xlink:href=\"#DejaVuSans-6e\" x=\"136.474609\"/>\n",
       "      <use xlink:href=\"#DejaVuSans-64\" x=\"199.853516\"/>\n",
       "      <use xlink:href=\"#DejaVuSans-6d\" x=\"263.330078\"/>\n",
       "      <use xlink:href=\"#DejaVuSans-61\" x=\"360.742188\"/>\n",
       "      <use xlink:href=\"#DejaVuSans-64\" x=\"422.021484\"/>\n",
       "      <use xlink:href=\"#DejaVuSans-65\" x=\"485.498047\"/>\n",
       "      <use xlink:href=\"#DejaVuSans-4c\" x=\"547.021484\"/>\n",
       "      <use xlink:href=\"#DejaVuSans-53\" x=\"602.734375\"/>\n",
       "      <use xlink:href=\"#DejaVuSans-54\" x=\"666.210938\"/>\n",
       "      <use xlink:href=\"#DejaVuSans-4d\" x=\"727.294922\"/>\n",
       "      <use xlink:href=\"#DejaVuSans-28\" x=\"813.574219\"/>\n",
       "      <use xlink:href=\"#DejaVuSans-64\" x=\"852.587891\"/>\n",
       "      <use xlink:href=\"#DejaVuSans-72\" x=\"916.064453\"/>\n",
       "      <use xlink:href=\"#DejaVuSans-6f\" x=\"954.927734\"/>\n",
       "      <use xlink:href=\"#DejaVuSans-70\" x=\"1016.109375\"/>\n",
       "      <use xlink:href=\"#DejaVuSans-6f\" x=\"1079.585938\"/>\n",
       "      <use xlink:href=\"#DejaVuSans-75\" x=\"1140.767578\"/>\n",
       "      <use xlink:href=\"#DejaVuSans-74\" x=\"1204.146484\"/>\n",
       "      <use xlink:href=\"#DejaVuSans-3d\" x=\"1243.355469\"/>\n",
       "      <use xlink:href=\"#DejaVuSans-4e\" x=\"1327.144531\"/>\n",
       "      <use xlink:href=\"#DejaVuSans-6f\" x=\"1401.949219\"/>\n",
       "      <use xlink:href=\"#DejaVuSans-6e\" x=\"1463.130859\"/>\n",
       "      <use xlink:href=\"#DejaVuSans-65\" x=\"1526.509766\"/>\n",
       "      <use xlink:href=\"#DejaVuSans-29\" x=\"1588.033203\"/>\n",
       "      <use xlink:href=\"#DejaVuSans-20\" x=\"1627.046875\"/>\n",
       "      <use xlink:href=\"#DejaVuSans-28\" x=\"1658.833984\"/>\n",
       "      <use xlink:href=\"#DejaVuSans-74\" x=\"1697.847656\"/>\n",
       "      <use xlink:href=\"#DejaVuSans-72\" x=\"1737.056641\"/>\n",
       "      <use xlink:href=\"#DejaVuSans-61\" x=\"1778.169922\"/>\n",
       "      <use xlink:href=\"#DejaVuSans-69\" x=\"1839.449219\"/>\n",
       "      <use xlink:href=\"#DejaVuSans-6e\" x=\"1867.232422\"/>\n",
       "      <use xlink:href=\"#DejaVuSans-29\" x=\"1930.611328\"/>\n",
       "     </g>\n",
       "    </g>\n",
       "    <g id=\"line2d_112\">\n",
       "     <path d=\"M 39.103125 551.475937 \n",
       "L 49.103125 551.475937 \n",
       "L 59.103125 551.475937 \n",
       "\" style=\"fill: none; stroke: #ee82ee; stroke-width: 1.5; stroke-linecap: square\"/>\n",
       "    </g>\n",
       "    <g id=\"text_59\">\n",
       "     <!-- HandmadeLSTM(dropout=None) (test) -->\n",
       "     <g transform=\"translate(67.103125 554.975937) scale(0.1 -0.1)\">\n",
       "      <use xlink:href=\"#DejaVuSans-48\"/>\n",
       "      <use xlink:href=\"#DejaVuSans-61\" x=\"75.195312\"/>\n",
       "      <use xlink:href=\"#DejaVuSans-6e\" x=\"136.474609\"/>\n",
       "      <use xlink:href=\"#DejaVuSans-64\" x=\"199.853516\"/>\n",
       "      <use xlink:href=\"#DejaVuSans-6d\" x=\"263.330078\"/>\n",
       "      <use xlink:href=\"#DejaVuSans-61\" x=\"360.742188\"/>\n",
       "      <use xlink:href=\"#DejaVuSans-64\" x=\"422.021484\"/>\n",
       "      <use xlink:href=\"#DejaVuSans-65\" x=\"485.498047\"/>\n",
       "      <use xlink:href=\"#DejaVuSans-4c\" x=\"547.021484\"/>\n",
       "      <use xlink:href=\"#DejaVuSans-53\" x=\"602.734375\"/>\n",
       "      <use xlink:href=\"#DejaVuSans-54\" x=\"666.210938\"/>\n",
       "      <use xlink:href=\"#DejaVuSans-4d\" x=\"727.294922\"/>\n",
       "      <use xlink:href=\"#DejaVuSans-28\" x=\"813.574219\"/>\n",
       "      <use xlink:href=\"#DejaVuSans-64\" x=\"852.587891\"/>\n",
       "      <use xlink:href=\"#DejaVuSans-72\" x=\"916.064453\"/>\n",
       "      <use xlink:href=\"#DejaVuSans-6f\" x=\"954.927734\"/>\n",
       "      <use xlink:href=\"#DejaVuSans-70\" x=\"1016.109375\"/>\n",
       "      <use xlink:href=\"#DejaVuSans-6f\" x=\"1079.585938\"/>\n",
       "      <use xlink:href=\"#DejaVuSans-75\" x=\"1140.767578\"/>\n",
       "      <use xlink:href=\"#DejaVuSans-74\" x=\"1204.146484\"/>\n",
       "      <use xlink:href=\"#DejaVuSans-3d\" x=\"1243.355469\"/>\n",
       "      <use xlink:href=\"#DejaVuSans-4e\" x=\"1327.144531\"/>\n",
       "      <use xlink:href=\"#DejaVuSans-6f\" x=\"1401.949219\"/>\n",
       "      <use xlink:href=\"#DejaVuSans-6e\" x=\"1463.130859\"/>\n",
       "      <use xlink:href=\"#DejaVuSans-65\" x=\"1526.509766\"/>\n",
       "      <use xlink:href=\"#DejaVuSans-29\" x=\"1588.033203\"/>\n",
       "      <use xlink:href=\"#DejaVuSans-20\" x=\"1627.046875\"/>\n",
       "      <use xlink:href=\"#DejaVuSans-28\" x=\"1658.833984\"/>\n",
       "      <use xlink:href=\"#DejaVuSans-74\" x=\"1697.847656\"/>\n",
       "      <use xlink:href=\"#DejaVuSans-65\" x=\"1737.056641\"/>\n",
       "      <use xlink:href=\"#DejaVuSans-73\" x=\"1798.580078\"/>\n",
       "      <use xlink:href=\"#DejaVuSans-74\" x=\"1850.679688\"/>\n",
       "      <use xlink:href=\"#DejaVuSans-29\" x=\"1889.888672\"/>\n",
       "     </g>\n",
       "    </g>\n",
       "    <g id=\"line2d_113\">\n",
       "     <path d=\"M 39.103125 566.154062 \n",
       "L 49.103125 566.154062 \n",
       "L 59.103125 566.154062 \n",
       "\" style=\"fill: none; stroke-dasharray: 5.55,2.4; stroke-dashoffset: 0; stroke: #000000; stroke-width: 1.5\"/>\n",
       "    </g>\n",
       "    <g id=\"text_60\">\n",
       "     <!-- HandmadeLSTM(dropout=0.25) (train) -->\n",
       "     <g transform=\"translate(67.103125 569.654062) scale(0.1 -0.1)\">\n",
       "      <use xlink:href=\"#DejaVuSans-48\"/>\n",
       "      <use xlink:href=\"#DejaVuSans-61\" x=\"75.195312\"/>\n",
       "      <use xlink:href=\"#DejaVuSans-6e\" x=\"136.474609\"/>\n",
       "      <use xlink:href=\"#DejaVuSans-64\" x=\"199.853516\"/>\n",
       "      <use xlink:href=\"#DejaVuSans-6d\" x=\"263.330078\"/>\n",
       "      <use xlink:href=\"#DejaVuSans-61\" x=\"360.742188\"/>\n",
       "      <use xlink:href=\"#DejaVuSans-64\" x=\"422.021484\"/>\n",
       "      <use xlink:href=\"#DejaVuSans-65\" x=\"485.498047\"/>\n",
       "      <use xlink:href=\"#DejaVuSans-4c\" x=\"547.021484\"/>\n",
       "      <use xlink:href=\"#DejaVuSans-53\" x=\"602.734375\"/>\n",
       "      <use xlink:href=\"#DejaVuSans-54\" x=\"666.210938\"/>\n",
       "      <use xlink:href=\"#DejaVuSans-4d\" x=\"727.294922\"/>\n",
       "      <use xlink:href=\"#DejaVuSans-28\" x=\"813.574219\"/>\n",
       "      <use xlink:href=\"#DejaVuSans-64\" x=\"852.587891\"/>\n",
       "      <use xlink:href=\"#DejaVuSans-72\" x=\"916.064453\"/>\n",
       "      <use xlink:href=\"#DejaVuSans-6f\" x=\"954.927734\"/>\n",
       "      <use xlink:href=\"#DejaVuSans-70\" x=\"1016.109375\"/>\n",
       "      <use xlink:href=\"#DejaVuSans-6f\" x=\"1079.585938\"/>\n",
       "      <use xlink:href=\"#DejaVuSans-75\" x=\"1140.767578\"/>\n",
       "      <use xlink:href=\"#DejaVuSans-74\" x=\"1204.146484\"/>\n",
       "      <use xlink:href=\"#DejaVuSans-3d\" x=\"1243.355469\"/>\n",
       "      <use xlink:href=\"#DejaVuSans-30\" x=\"1327.144531\"/>\n",
       "      <use xlink:href=\"#DejaVuSans-2e\" x=\"1390.767578\"/>\n",
       "      <use xlink:href=\"#DejaVuSans-32\" x=\"1422.554688\"/>\n",
       "      <use xlink:href=\"#DejaVuSans-35\" x=\"1486.177734\"/>\n",
       "      <use xlink:href=\"#DejaVuSans-29\" x=\"1549.800781\"/>\n",
       "      <use xlink:href=\"#DejaVuSans-20\" x=\"1588.814453\"/>\n",
       "      <use xlink:href=\"#DejaVuSans-28\" x=\"1620.601562\"/>\n",
       "      <use xlink:href=\"#DejaVuSans-74\" x=\"1659.615234\"/>\n",
       "      <use xlink:href=\"#DejaVuSans-72\" x=\"1698.824219\"/>\n",
       "      <use xlink:href=\"#DejaVuSans-61\" x=\"1739.9375\"/>\n",
       "      <use xlink:href=\"#DejaVuSans-69\" x=\"1801.216797\"/>\n",
       "      <use xlink:href=\"#DejaVuSans-6e\" x=\"1829\"/>\n",
       "      <use xlink:href=\"#DejaVuSans-29\" x=\"1892.378906\"/>\n",
       "     </g>\n",
       "    </g>\n",
       "    <g id=\"line2d_114\">\n",
       "     <path d=\"M 39.103125 580.832187 \n",
       "L 49.103125 580.832187 \n",
       "L 59.103125 580.832187 \n",
       "\" style=\"fill: none; stroke: #000000; stroke-width: 1.5; stroke-linecap: square\"/>\n",
       "    </g>\n",
       "    <g id=\"text_61\">\n",
       "     <!-- HandmadeLSTM(dropout=0.25) (test) -->\n",
       "     <g transform=\"translate(67.103125 584.332187) scale(0.1 -0.1)\">\n",
       "      <use xlink:href=\"#DejaVuSans-48\"/>\n",
       "      <use xlink:href=\"#DejaVuSans-61\" x=\"75.195312\"/>\n",
       "      <use xlink:href=\"#DejaVuSans-6e\" x=\"136.474609\"/>\n",
       "      <use xlink:href=\"#DejaVuSans-64\" x=\"199.853516\"/>\n",
       "      <use xlink:href=\"#DejaVuSans-6d\" x=\"263.330078\"/>\n",
       "      <use xlink:href=\"#DejaVuSans-61\" x=\"360.742188\"/>\n",
       "      <use xlink:href=\"#DejaVuSans-64\" x=\"422.021484\"/>\n",
       "      <use xlink:href=\"#DejaVuSans-65\" x=\"485.498047\"/>\n",
       "      <use xlink:href=\"#DejaVuSans-4c\" x=\"547.021484\"/>\n",
       "      <use xlink:href=\"#DejaVuSans-53\" x=\"602.734375\"/>\n",
       "      <use xlink:href=\"#DejaVuSans-54\" x=\"666.210938\"/>\n",
       "      <use xlink:href=\"#DejaVuSans-4d\" x=\"727.294922\"/>\n",
       "      <use xlink:href=\"#DejaVuSans-28\" x=\"813.574219\"/>\n",
       "      <use xlink:href=\"#DejaVuSans-64\" x=\"852.587891\"/>\n",
       "      <use xlink:href=\"#DejaVuSans-72\" x=\"916.064453\"/>\n",
       "      <use xlink:href=\"#DejaVuSans-6f\" x=\"954.927734\"/>\n",
       "      <use xlink:href=\"#DejaVuSans-70\" x=\"1016.109375\"/>\n",
       "      <use xlink:href=\"#DejaVuSans-6f\" x=\"1079.585938\"/>\n",
       "      <use xlink:href=\"#DejaVuSans-75\" x=\"1140.767578\"/>\n",
       "      <use xlink:href=\"#DejaVuSans-74\" x=\"1204.146484\"/>\n",
       "      <use xlink:href=\"#DejaVuSans-3d\" x=\"1243.355469\"/>\n",
       "      <use xlink:href=\"#DejaVuSans-30\" x=\"1327.144531\"/>\n",
       "      <use xlink:href=\"#DejaVuSans-2e\" x=\"1390.767578\"/>\n",
       "      <use xlink:href=\"#DejaVuSans-32\" x=\"1422.554688\"/>\n",
       "      <use xlink:href=\"#DejaVuSans-35\" x=\"1486.177734\"/>\n",
       "      <use xlink:href=\"#DejaVuSans-29\" x=\"1549.800781\"/>\n",
       "      <use xlink:href=\"#DejaVuSans-20\" x=\"1588.814453\"/>\n",
       "      <use xlink:href=\"#DejaVuSans-28\" x=\"1620.601562\"/>\n",
       "      <use xlink:href=\"#DejaVuSans-74\" x=\"1659.615234\"/>\n",
       "      <use xlink:href=\"#DejaVuSans-65\" x=\"1698.824219\"/>\n",
       "      <use xlink:href=\"#DejaVuSans-73\" x=\"1760.347656\"/>\n",
       "      <use xlink:href=\"#DejaVuSans-74\" x=\"1812.447266\"/>\n",
       "      <use xlink:href=\"#DejaVuSans-29\" x=\"1851.65625\"/>\n",
       "     </g>\n",
       "    </g>\n",
       "   </g>\n",
       "  </g>\n",
       " </g>\n",
       " <defs>\n",
       "  <clipPath id=\"pe76faa9344\">\n",
       "   <rect x=\"30.103125\" y=\"22.318125\" width=\"675.47\" height=\"298\"/>\n",
       "  </clipPath>\n",
       "  <clipPath id=\"p6701ccc770\">\n",
       "   <rect x=\"30.103125\" y=\"376.918125\" width=\"675.47\" height=\"298\"/>\n",
       "  </clipPath>\n",
       " </defs>\n",
       "</svg>\n"
      ],
      "text/plain": [
       "<Figure size 1000x1000 with 2 Axes>"
      ]
     },
     "metadata": {},
     "output_type": "display_data"
    }
   ],
   "source": [
    "fig, axes = plt.subplots(2, 1, figsize=(10, 10))\n",
    "\n",
    "colors = [\"red\", \"green\", \"blue\", \"yellow\", \"orange\", \"violet\", \"black\"]\n",
    "\n",
    "# losses\n",
    "\n",
    "axes[0].plot(train_losses_pure, label=\"torch.nn.LSTM (train)\", linestyle=\"--\", c=colors[0])\n",
    "axes[0].plot(test_losses_pure, label=\"torch.nn.LSTM (test)\", c=colors[0])\n",
    "\n",
    "axes[0].plot(train_losses_no_dropout, label=\"RNNLayer(dropout=None) (train)\", linestyle=\"--\", c=colors[1])\n",
    "axes[0].plot(test_losses_no_dropout, label=\"RNNLayer(dropout=None) (test)\", c=colors[1])\n",
    "axes[0].plot(train_losses_dropout_25, label=\"RNNLayer(dropout=0.25) (train)\", linestyle=\"--\", c=colors[2])\n",
    "axes[0].plot(test_losses_dropout_25, label=\"RNNLayer(dropout=0.25) (test)\", c=colors[2])\n",
    "\n",
    "axes[0].plot(train_losses_no_dropout_fast, label=\"FastRNNLayer(dropout=None) (train)\", linestyle=\"--\", c=colors[3])\n",
    "axes[0].plot(test_losses_no_dropout_fast, label=\"FastRNNLayer(dropout=None) (test)\", c=colors[3])\n",
    "axes[0].plot(train_losses_dropout_25_fast, label=\"FastRNNLayer(dropout=0.25) (train)\", linestyle=\"--\", c=colors[4])\n",
    "axes[0].plot(test_losses_dropout_25_fast, label=\"FastRNNLayer(dropout=0.25) (test)\", c=colors[4])\n",
    "\n",
    "axes[0].plot(train_losses_no_dropout_handmade, label=\"HandmadeLSTM(dropout=None) (train)\", linestyle=\"--\", c=colors[5])\n",
    "axes[0].plot(test_losses_no_dropout_handmade, label=\"HandmadeLSTM(dropout=None) (test)\", c=colors[5])\n",
    "axes[0].plot(train_losses_dropout_25_handmade, label=\"HandmadeLSTM(dropout=0.25) (train)\", linestyle=\"--\", c=colors[6])\n",
    "axes[0].plot(test_losses_dropout_25_handmade, label=\"HandmadeLSTM(dropout=0.25) (test)\", c=colors[6])\n",
    "\n",
    "# accuracies\n",
    "\n",
    "axes[1].plot(train_accuracies_pure, label=\"torch.nn.LSTM (train)\", linestyle=\"--\", c=colors[0])\n",
    "axes[1].plot(test_accuracies_pure, label=\"torch.nn.LSTM (test)\", c=colors[0])\n",
    "\n",
    "axes[1].plot(train_accuracies_no_dropout, label=\"RNNLayer(dropout=None) (train)\", linestyle=\"--\", c=colors[1])\n",
    "axes[1].plot(test_accuracies_no_dropout, label=\"RNNLayer(dropout=None) (test)\", c=colors[1])\n",
    "axes[1].plot(train_accuracies_dropout_25, label=\"RNNLayer(dropout=0.25) (train)\", linestyle=\"--\", c=colors[2])\n",
    "axes[1].plot(test_accuracies_dropout_25, label=\"RNNLayer(dropout=0.25) (test)\", c=colors[2])\n",
    "\n",
    "axes[1].plot(train_accuracies_no_dropout_fast, label=\"FastRNNLayer(dropout=None) (train)\", linestyle=\"--\", c=colors[3])\n",
    "axes[1].plot(test_accuracies_no_dropout_fast, label=\"FastRNNLayer(dropout=None) (test)\", c=colors[3])\n",
    "axes[1].plot(train_accuracies_dropout_25_fast, label=\"FastRNNLayer(dropout=0.25) (train)\", linestyle=\"--\", c=colors[4])\n",
    "axes[1].plot(test_accuracies_dropout_25_fast, label=\"FastRNNLayer(dropout=0.25) (test)\", c=colors[4])\n",
    "\n",
    "axes[1].plot(train_accuracies_no_dropout_handmade, label=\"HandmadeLSTM(dropout=None) (train)\", linestyle=\"--\", c=colors[5])\n",
    "axes[1].plot(test_accuracies_no_dropout_handmade, label=\"HandmadeLSTM(dropout=None) (test)\", c=colors[5])\n",
    "axes[1].plot(train_accuracies_dropout_25_handmade, label=\"HandmadeLSTM(dropout=0.25) (train)\", linestyle=\"--\", c=colors[6])\n",
    "axes[1].plot(test_accuracies_dropout_25_handmade, label=\"HandmadeLSTM(dropout=0.25) (test)\", c=colors[6])\n",
    "\n",
    "\n",
    "axes[0].legend()\n",
    "axes[0].grid(True)\n",
    "axes[0].set_xlabel('Epoch')\n",
    "axes[0].set_title('CrossEntropy Loss')\n",
    "\n",
    "axes[1].legend()\n",
    "axes[1].grid(True)\n",
    "axes[1].set_xlabel('Epoch')\n",
    "axes[1].set_title('Accuracy')\n",
    "\n",
    "fig.tight_layout()\n",
    "plt.show()"
   ]
  },
  {
   "cell_type": "markdown",
   "metadata": {},
   "source": [
    "Сделайте итоговые выводы о качестве работы моделей с разными реализациями DropOut:"
   ]
  },
  {
   "cell_type": "markdown",
   "metadata": {},
   "source": [
    "**Выводы:**\n",
    "\n",
    "1. Как и ожидалось, дропаут Гала и Гарамани с FastRNNLayer работает намного быстрее, чем с RNNLayer (т.е. с циклом по времени), причем время работы практически такое же, как с torch.nn.LSTM.\n",
    "2. Дропаут Гала и Гарамани (с dropout$=0.25$) дал наилучшую accuracy на тесте среди всех рассмотренных алгоритмов - $0.411$.\n",
    "3. Дропаут по статье Семениуты также помогает боротья с переобучением, но с ним accuracy на тесте оказалась меньше - $0.406$.\n",
    "4. Данная реализация дропаута по статье Семениуты работает дольше, чем дропаут Гала и Гарамани с циклом по времени (разница в 2 раза).\n",
    "5. Таким образом, наилучшим по качесту (и лоссу) на тестовой выборке и наилучшим по времени работы оказался дропаут Гала и Гарамани с FastRNNLayer (и dropout=0.25)."
   ]
  },
  {
   "cell_type": "markdown",
   "metadata": {
    "collapsed": true,
    "jupyter": {
     "outputs_hidden": true
    }
   },
   "source": [
    "## `Бонус. Zoneout (0.5 балла)`"
   ]
  },
  {
   "cell_type": "markdown",
   "metadata": {
    "collapsed": true,
    "jupyter": {
     "outputs_hidden": true
    }
   },
   "source": [
    "Это еще одна модификация идеи дропаута применительно к рекуррентным нейросетям. В Zoneout на каждом временном шаге с вероятностью $p$ компонента скрытого состояния обновляется, а с вероятностью $1-p$ берется с предыдущего шага. \n",
    "В Виде формул ($m^t_h$ - бинарная маска):\n",
    " \n",
    "(сначала обычный рекуррентный переход, например LSTM)\n",
    "$$\n",
    "i = \\sigma(h_{t-1}W^i + x_t U^i+b_i) \\quad\n",
    "o = \\sigma(h_{t-1}W^o + x_t U^o+b_o) \n",
    "$$\n",
    "$$\n",
    "f = \\sigma(h_{t-1}W^f + x_t U^f+b_f) \\quad \n",
    "g = tanh(h_{t-1} W^g + x_t U^g+b_g) \n",
    "$$\n",
    "$$\n",
    "c_t = f \\odot c_{t-1} +  i \\odot  g \\quad\n",
    "h_t =  o \\odot tanh(c_t)\n",
    "$$\n",
    "Затем Zoneout:\n",
    "$$\n",
    "h_t = h_t * m_h^t + h_{t-1}*(1-m_h^t)\n",
    "$$\n",
    "В этом методе маска уже должна быть разная во все моменты времени (иначе метод упрощается до дропаута Гала и Гарамани). На входы $x_t$ вновь можно накладывать маску до начала работы рекуррентного слоя.  \n",
    "\n",
    "Если у вас осталось время, вы можете реализовать этот метод. Выберите основу из трех рассмотренных случаев самостоятельно.\n",
    "\n",
    "**Полный балл ставится только при наличии качественного и количественного сравнения с предыдущими моделями.**"
   ]
  },
  {
   "cell_type": "markdown",
   "metadata": {
    "ExecuteTime": {
     "end_time": "2021-03-31T16:05:00.702763Z",
     "start_time": "2021-03-31T16:05:00.674835Z"
    }
   },
   "source": [
    "# `Часть 2. Language Modeling с помощью LSTM (5 баллов)`"
   ]
  },
  {
   "cell_type": "markdown",
   "metadata": {},
   "source": [
    "Во второй части мы попробуем обучить модель для генерации отзывов по их началу."
   ]
  },
  {
   "cell_type": "markdown",
   "metadata": {},
   "source": [
    "Концептуально модель будет выглядеть следующим образом:\n",
    "    \n",
    "![image info](https://blog.feedly.com/wp-content/uploads/2019/03/Screen-Shot-2019-03-06-at-12.08.35-PM.png)"
   ]
  },
  {
   "cell_type": "markdown",
   "metadata": {},
   "source": [
    "В процессе обучения будем тренировать сеть предсказывать вероятность следующего символа при условии всех предыдущих. Эту вероятность можно моделировать с помощью скрытого состояния $h^{(t)}$ пропуская его через линейный слой с выходной размерностью равной размерности словаря:\n",
    "$$\n",
    "p(x^{t}|x^{t-1}, ..., x^{1}) = SoftMax(Linear(h^{(t)}))\n",
    "$$"
   ]
  },
  {
   "cell_type": "markdown",
   "metadata": {},
   "source": [
    "Обратите внимание, что для вычисления $p(x^{t}|x^{t-1}, ..., x^{1})$ для всех моментов времени достаточно сделать один проход по RNN, а затем применить линейное преобразование ко всем скрытым состояниям."
   ]
  },
  {
   "cell_type": "markdown",
   "metadata": {
    "ExecuteTime": {
     "end_time": "2021-04-02T00:37:56.100520Z",
     "start_time": "2021-04-02T00:37:56.072747Z"
    }
   },
   "source": [
    "В качестве функции потерь необходимо использовать `CrossEntropy`."
   ]
  },
  {
   "cell_type": "markdown",
   "metadata": {},
   "source": [
    "Рассмотрим другой важный момент. Для того, чтобы решить данную задачу, модель должна уметь определять момент начала генерации предложения и оповещать о завершении генерации — конце предложения. Для этого добавим в словарь вспомогательные токены `<sos>`, `<eos>`. Добавив `<sos>` в начало каждого предложения и `<eos>` в конец.\n",
    "\n",
    "Модель сможет начинать генерацию как только ей будет передан токен `<sos>` и заканчивать генерацию, как только на очередном месте самым вероятным токеном оказывается `<eos>`."
   ]
  },
  {
   "cell_type": "markdown",
   "metadata": {},
   "source": [
    "Для решения этой задачи мы воспользуемся уже реализованной LSTM с дропаутом `FastRNNLayer` и классом `RNNClassifier`, то есть архитектура сети принципиально не поменяется. "
   ]
  },
  {
   "cell_type": "markdown",
   "metadata": {},
   "source": [
    "## `Реализация модели и цикла обучения (2 балла)`"
   ]
  },
  {
   "cell_type": "markdown",
   "metadata": {},
   "source": [
    "**Не используйте циклы в `RNNLM`, `LMCrossEntropyLoss`, `LMAccuracy`**"
   ]
  },
  {
   "cell_type": "code",
   "execution_count": 29,
   "metadata": {
    "ExecuteTime": {
     "end_time": "2024-03-30T22:43:32.296358Z",
     "start_time": "2024-03-30T22:43:32.292787Z"
    },
    "execution": {
     "iopub.execute_input": "2024-04-15T18:32:41.791234Z",
     "iopub.status.busy": "2024-04-15T18:32:41.791234Z",
     "iopub.status.idle": "2024-04-15T18:32:41.805256Z",
     "shell.execute_reply": "2024-04-15T18:32:41.803749Z",
     "shell.execute_reply.started": "2024-04-15T18:32:41.791234Z"
    }
   },
   "outputs": [],
   "source": [
    "class RNNLM(RNNClassifier):\n",
    "    def __init__(\n",
    "        self, embedding_dim, hidden_dim, vocab, dropout=0.5, layers_dropout=0.5, num_layers=1\n",
    "    ):\n",
    "        super().__init__(\n",
    "            embedding_dim=embedding_dim, hidden_dim=hidden_dim, output_size=len(vocab), vocab=vocab,\n",
    "            rec_layer=FastRNNLayer, dropout=dropout, layers_dropout=layers_dropout, num_layers=num_layers\n",
    "        )\n",
    "    \n",
    "    def forward(self, tokens, tokens_lens):\n",
    "        \"\"\"\n",
    "        :param torch.Tensor(dtype=torch.long) tokens: \n",
    "            Batch of texts represented with tokens. Shape: [T, B]\n",
    "        :param torch.Tensor(dtype=torch.long) tokens_lens: \n",
    "            Number of non-padding tokens for each object in batch. Shape: [B]\n",
    "        :return torch.Tensor: \n",
    "            Distribution of next token for each time step. Shape: [T, B, V], V — size of vocabulary\n",
    "        \"\"\"\n",
    "        # Make embeddings for all tokens\n",
    "        embeddings = self.word_embeddings(tokens) # size of embeddings: T x B x embedding_dim\n",
    "        \n",
    "        # Forward pass embeddings through network\n",
    "        outp = self.rnn(embeddings)[0] # size of outp: T x B x hidden_size\n",
    "        \n",
    "        # Take all hidden states from the last layer of LSTM for each step and perform linear transformation\n",
    "        outp = self.output(outp) # size of outp: T x B x output_size, where output_size = size of vocabulary = V\n",
    "        return outp"
   ]
  },
  {
   "cell_type": "markdown",
   "metadata": {},
   "source": [
    "Реализуем функцию потерь для данной задачи. \n",
    "\n",
    "Моменты на которые нужно обратить внимание:\n",
    "1. Распределение вероятности следующего токена для последнего токена в последовательности не участвует в подсчёте функции потерь.\n",
    "2. Необходимо учитывать, что в одном батче могут быть тексты разной длины."
   ]
  },
  {
   "cell_type": "markdown",
   "metadata": {},
   "source": [
    "Для решения второй проблемы можно воспользоваться функцией `torch.nn.utils.rnn.pack_padded_sequence`. \n",
    "\n",
    "Принимая на вход батч тензоров и длину каждого тензора без учёта паддинга эта функция позволяет получить все элементы в тензорах, которые не относятся к паддингу в виде плоского массива:"
   ]
  },
  {
   "cell_type": "code",
   "execution_count": 30,
   "metadata": {
    "ExecuteTime": {
     "end_time": "2024-03-30T22:43:32.679509Z",
     "start_time": "2024-03-30T22:43:32.676456Z"
    },
    "execution": {
     "iopub.execute_input": "2024-04-15T18:32:44.829751Z",
     "iopub.status.busy": "2024-04-15T18:32:44.828750Z",
     "iopub.status.idle": "2024-04-15T18:32:44.853801Z",
     "shell.execute_reply": "2024-04-15T18:32:44.850799Z",
     "shell.execute_reply.started": "2024-04-15T18:32:44.829751Z"
    }
   },
   "outputs": [],
   "source": [
    "padded_tensors = torch.tensor([\n",
    "    [[1, 11, 111], [2, 22, 222], [3, 33, 333]],\n",
    "    [[4, 44, 444], [5, 55, 555], [6, 66, 666]],\n",
    "    [[7, 77, 777], [0, 0, 0], [8, 88, 888]],\n",
    "    [[9, 99, 999], [0, 0, 0], [0, 0, 0]]\n",
    "])\n",
    "tensors_lens = torch.tensor([4, 2, 3])"
   ]
  },
  {
   "cell_type": "markdown",
   "metadata": {},
   "source": [
    "Обратите внимание, что `torch.nn.utils.rnn.pack_padded_sequence` автоматически переупорядочивает тензоры в батче по убыванию их длины."
   ]
  },
  {
   "cell_type": "code",
   "execution_count": 31,
   "metadata": {
    "ExecuteTime": {
     "end_time": "2024-03-30T22:43:32.986692Z",
     "start_time": "2024-03-30T22:43:32.982235Z"
    },
    "execution": {
     "iopub.execute_input": "2024-04-15T18:32:46.725656Z",
     "iopub.status.busy": "2024-04-15T18:32:46.724650Z",
     "iopub.status.idle": "2024-04-15T18:32:46.751702Z",
     "shell.execute_reply": "2024-04-15T18:32:46.747702Z",
     "shell.execute_reply.started": "2024-04-15T18:32:46.725656Z"
    }
   },
   "outputs": [
    {
     "data": {
      "text/plain": [
       "PackedSequence(data=tensor([[  1,  11, 111],\n",
       "        [  3,  33, 333],\n",
       "        [  2,  22, 222],\n",
       "        [  4,  44, 444],\n",
       "        [  6,  66, 666],\n",
       "        [  5,  55, 555],\n",
       "        [  7,  77, 777],\n",
       "        [  8,  88, 888],\n",
       "        [  9,  99, 999]]), batch_sizes=tensor([3, 3, 2, 1]), sorted_indices=tensor([0, 2, 1]), unsorted_indices=tensor([0, 2, 1]))"
      ]
     },
     "execution_count": 31,
     "metadata": {},
     "output_type": "execute_result"
    }
   ],
   "source": [
    "torch.nn.utils.rnn.pack_padded_sequence(padded_tensors, tensors_lens, batch_first=False, enforce_sorted=False)"
   ]
  },
  {
   "cell_type": "code",
   "execution_count": 50,
   "metadata": {
    "ExecuteTime": {
     "end_time": "2024-03-30T22:43:33.678363Z",
     "start_time": "2024-03-30T22:43:33.675046Z"
    },
    "execution": {
     "iopub.execute_input": "2024-04-15T18:40:08.197031Z",
     "iopub.status.busy": "2024-04-15T18:40:08.196018Z",
     "iopub.status.idle": "2024-04-15T18:40:08.212528Z",
     "shell.execute_reply": "2024-04-15T18:40:08.211526Z",
     "shell.execute_reply.started": "2024-04-15T18:40:08.197031Z"
    }
   },
   "outputs": [],
   "source": [
    "class LMCrossEntropyLoss(torch.nn.CrossEntropyLoss):\n",
    "    def __init__(self, *args, **kwargs):\n",
    "        super().__init__(*args, **kwargs)\n",
    "        \n",
    "    def forward(self, outputs, tokens, tokens_lens):\n",
    "        \"\"\"\n",
    "        :param torch.Tensor outputs: Output from RNNLM.forward. Shape: [T, B, V]\n",
    "        :param torch.Tensor tokens: Batch of tokens. Shape: [T, B]\n",
    "        :param torch.Tensor tokens_lens: Length of each sequence in batch\n",
    "        :return torch.Tensor: CrossEntropyLoss between corresponding logits and tokens\n",
    "        \"\"\"\n",
    "        # Use torch.nn.utils.rnn.pack_padded_sequence().data to remove padding and flatten logits and tokens\n",
    "        # Do not forget specify enforce_sorted=False and correct value of batch_first \n",
    "        packed_outputs = torch.nn.utils.rnn.pack_padded_sequence(outputs[:-1], tokens_lens - 1, batch_first=False, enforce_sorted=False).data\n",
    "        packed_tokens = torch.nn.utils.rnn.pack_padded_sequence(tokens[1:], tokens_lens - 1, batch_first=False, enforce_sorted=False).data\n",
    "        \n",
    "        # Use super().forward(..., ...) to compute CrossEntropyLoss\n",
    "        return super().forward(packed_outputs, packed_tokens)"
   ]
  },
  {
   "cell_type": "markdown",
   "metadata": {},
   "source": [
    "Для оценки качества нам также необходимо вычислять долю правильно предсказанных токенов. Реализуйте класс для вычисления точности."
   ]
  },
  {
   "cell_type": "code",
   "execution_count": 33,
   "metadata": {
    "ExecuteTime": {
     "end_time": "2024-03-30T22:43:34.348345Z",
     "start_time": "2024-03-30T22:43:34.343850Z"
    },
    "execution": {
     "iopub.execute_input": "2024-04-15T18:32:57.009433Z",
     "iopub.status.busy": "2024-04-15T18:32:57.009433Z",
     "iopub.status.idle": "2024-04-15T18:32:57.025086Z",
     "shell.execute_reply": "2024-04-15T18:32:57.022577Z",
     "shell.execute_reply.started": "2024-04-15T18:32:57.009433Z"
    }
   },
   "outputs": [],
   "source": [
    "class LMAccuracy(torch.nn.Module):\n",
    "    def __init__(self):\n",
    "        super().__init__()\n",
    "        \n",
    "    def forward(self, outputs, tokens, tokens_lens, norm=True):\n",
    "        \"\"\"\n",
    "        :param torch.Tensor outputs: Output from RNNLM.forward. Shape: [T, B, V]\n",
    "        :param torch.Tensor tokens: Batch of tokens. Shape: [T, B]\n",
    "        :param torch.Tensor tokens_lens: Length of each sequence in batch\n",
    "        :return torch.Tensor: Accuracy for given logits and tokens\n",
    "        \"\"\"\n",
    "        # Use torch.nn.utils.rnn.pack_padded_sequence().data to remove padding and flatten logits and tokens\n",
    "        # Do not forget specify enforce_sorted=False and correct value of batch_first\n",
    "        preds = torch.argmax(outputs[:-1], dim=2)\n",
    "        packed_preds = torch.nn.utils.rnn.pack_padded_sequence(preds, tokens_lens - 1, batch_first=False, enforce_sorted=False).data\n",
    "        packed_tokens = torch.nn.utils.rnn.pack_padded_sequence(tokens[1:], tokens_lens - 1, batch_first=False, enforce_sorted=False).data\n",
    "        res = (packed_preds == packed_tokens).sum()\n",
    "        if norm:\n",
    "            res = res / packed_outputs.shape[0]\n",
    "        return res"
   ]
  },
  {
   "cell_type": "markdown",
   "metadata": {},
   "source": [
    "Модифицируйте функции `train_epoch`, `evaluate`, `train` для обучения LM.\n",
    "\n",
    "**При вычислении точности, обратите внимание на то, что мы не предсказываем первый токен в каждой последовательности и токены, относящиеся к паддингу.**"
   ]
  },
  {
   "cell_type": "code",
   "execution_count": 59,
   "metadata": {
    "ExecuteTime": {
     "end_time": "2024-03-30T22:43:35.025284Z",
     "start_time": "2024-03-30T22:43:35.019283Z"
    },
    "execution": {
     "iopub.execute_input": "2024-04-15T18:41:11.744410Z",
     "iopub.status.busy": "2024-04-15T18:41:11.743401Z",
     "iopub.status.idle": "2024-04-15T18:41:11.770455Z",
     "shell.execute_reply": "2024-04-15T18:41:11.768488Z",
     "shell.execute_reply.started": "2024-04-15T18:41:11.744410Z"
    }
   },
   "outputs": [],
   "source": [
    "def train_epoch_lm(dataloader, model, loss_fn, optimizer, device):\n",
    "    model.train()\n",
    "    for idx, data in enumerate(dataloader):\n",
    "        # 1. Take data from batch\n",
    "        # 2. Perform forward pass\n",
    "        # 3. Evaluate loss\n",
    "        # 4. Make optimizer step\n",
    "        tokens = data[\"tokens\"].to(device)\n",
    "        tokens_lens = data[\"tokens_lens\"]\n",
    "        optimizer.zero_grad()\n",
    "        logits = model(tokens, tokens_lens)\n",
    "        loss = loss_fn(logits, tokens, tokens_lens)\n",
    "        loss.backward()\n",
    "        optimizer.step()\n",
    "\n",
    "def evaluate_lm(dataloader, model, loss_fn, device):\n",
    "    model.eval()\n",
    "    \n",
    "    total_tokens = 0\n",
    "    total_loss = 0.0\n",
    "    total_accuracy = 0.0\n",
    "    \n",
    "    accuracy_fn = LMAccuracy()\n",
    "    with torch.no_grad():\n",
    "        for idx, data in enumerate(dataloader):\n",
    "            # 1. Take data from batch\n",
    "            # 2. Perform forward pass\n",
    "            # 3. Evaluate loss\n",
    "            # 4. Evaluate accuracy\n",
    "            tokens = data[\"tokens\"].to(device)\n",
    "            tokens_lens = data[\"tokens_lens\"]\n",
    "            logits = model(tokens, tokens_lens)\n",
    "            total_loss += loss_fn(logits, tokens, tokens_lens).item() * logits.shape[0] * logits.shape[1]\n",
    "            total_accuracy += accuracy_fn(logits, tokens, tokens_lens, norm=False).item()\n",
    "            total_tokens += (tokens_lens - 1).sum().item()\n",
    "            \n",
    "    return total_loss / total_tokens, total_accuracy / total_tokens\n",
    "\n",
    "def train_lm(\n",
    "    train_loader, test_loader, model, loss_fn, optimizer, device, num_epochs\n",
    "):\n",
    "    test_losses = []\n",
    "    train_losses = []\n",
    "    test_accuracies = []\n",
    "    train_accuracies = []\n",
    "    for epoch in range(num_epochs):\n",
    "        train_epoch_lm(train_loader, model, loss_fn, optimizer, device)\n",
    "        \n",
    "        train_loss, train_acc = evaluate_lm(train_loader, model, loss_fn, device)\n",
    "        train_accuracies.append(train_acc)\n",
    "        train_losses.append(train_loss)\n",
    "        \n",
    "        test_loss, test_acc = evaluate_lm(test_loader, model, loss_fn, device)\n",
    "        test_accuracies.append(test_acc)\n",
    "        test_losses.append(test_loss)\n",
    "        \n",
    "        print(\n",
    "            'Epoch: {0:d}/{1:d}. Loss (Train/Test): {2:.3f}/{3:.3f}. Accuracy (Train/Test): {4:.3f}/{5:.3f}'.format(\n",
    "                epoch + 1, num_epochs, train_losses[-1], test_losses[-1], train_accuracies[-1], test_accuracies[-1]\n",
    "            )\n",
    "        )\n",
    "    return train_losses, train_accuracies, test_losses, test_accuracies"
   ]
  },
  {
   "cell_type": "markdown",
   "metadata": {},
   "source": [
    "Теперь у нас всё готово для обучения модели."
   ]
  },
  {
   "cell_type": "markdown",
   "metadata": {
    "ExecuteTime": {
     "end_time": "2021-04-02T01:06:12.736180Z",
     "start_time": "2021-04-02T01:06:12.708814Z"
    }
   },
   "source": [
    "Создадим словарь с `<sos>`, `<eos>` токенами.\n",
    "\n",
    "Обратите внимание, что в отличие от классификации текстов нам необходимо значительно увеличить размер словаря, чтобы доля `<unk>` токенов была не велика.\n",
    "\n",
    "Так же, так как задача генерации значительно сложнее задачи классификации текстов будем обучать модель только на префиксах рецензий длины $20$. Это позволяет значительно ускорить обучение."
   ]
  },
  {
   "cell_type": "code",
   "execution_count": 35,
   "metadata": {
    "ExecuteTime": {
     "end_time": "2024-03-30T22:43:35.906116Z",
     "start_time": "2024-03-30T22:43:35.859122Z"
    },
    "execution": {
     "iopub.execute_input": "2024-04-15T18:33:01.472521Z",
     "iopub.status.busy": "2024-04-15T18:33:01.471521Z",
     "iopub.status.idle": "2024-04-15T18:33:01.551782Z",
     "shell.execute_reply": "2024-04-15T18:33:01.550781Z",
     "shell.execute_reply.started": "2024-04-15T18:33:01.472521Z"
    }
   },
   "outputs": [],
   "source": [
    "specials = ['<pad>', '<unk>', '<sos>', '<eos>']\n",
    "for special in specials:\n",
    "    counter[special] = 0\n",
    "# min_freq=8 is approximately equivalent to max_size=30000. \n",
    "#   You can lower min_freq in order to make model vocabulary more diverse \n",
    "lm_vocab = torchtext.vocab.vocab(counter, specials=specials, special_first=True, min_freq=8)\n",
    "lm_vocab.set_default_index(vocab['<unk>'])"
   ]
  },
  {
   "cell_type": "code",
   "execution_count": 36,
   "metadata": {
    "ExecuteTime": {
     "end_time": "2024-03-30T22:43:49.510042Z",
     "start_time": "2024-03-30T22:43:36.069005Z"
    },
    "execution": {
     "iopub.execute_input": "2024-04-15T18:33:03.581556Z",
     "iopub.status.busy": "2024-04-15T18:33:03.580556Z",
     "iopub.status.idle": "2024-04-15T18:33:40.748765Z",
     "shell.execute_reply": "2024-04-15T18:33:40.747472Z",
     "shell.execute_reply.started": "2024-04-15T18:33:03.581556Z"
    }
   },
   "outputs": [],
   "source": [
    "lm_test_dataset = LargeMovieReviewDataset(test_data_path, lm_vocab, max_len=20, pad_sos=True, pad_eos=True)\n",
    "lm_train_dataset = LargeMovieReviewDataset(train_data_path, lm_vocab, max_len=20, pad_sos=True, pad_eos=True)"
   ]
  },
  {
   "cell_type": "markdown",
   "metadata": {},
   "source": [
    "Создадим даталоадеры для тестовой и обучающей выборок:"
   ]
  },
  {
   "cell_type": "code",
   "execution_count": 37,
   "metadata": {
    "ExecuteTime": {
     "end_time": "2024-03-30T22:43:49.514599Z",
     "start_time": "2024-03-30T22:43:49.511905Z"
    },
    "execution": {
     "iopub.execute_input": "2024-04-15T18:33:40.921484Z",
     "iopub.status.busy": "2024-04-15T18:33:40.920481Z",
     "iopub.status.idle": "2024-04-15T18:33:40.937391Z",
     "shell.execute_reply": "2024-04-15T18:33:40.935356Z",
     "shell.execute_reply.started": "2024-04-15T18:33:40.921484Z"
    }
   },
   "outputs": [],
   "source": [
    "g = set_global_seed(42)\n",
    "\n",
    "lm_test_dataloader = DataLoader(\n",
    "    lm_test_dataset, batch_size=196, shuffle=False, num_workers=0, \n",
    "    collate_fn=partial(collate_fn, padding_value=lm_vocab.lookup_indices(['<pad>'])[0])\n",
    ")\n",
    "lm_train_dataloader = DataLoader(\n",
    "    lm_train_dataset, batch_size=196, shuffle=True, num_workers=0, \n",
    "    collate_fn=partial(collate_fn, padding_value=lm_vocab.lookup_indices(['<pad>'])[0]),\n",
    "    worker_init_fn=seed_worker, generator=g\n",
    ")"
   ]
  },
  {
   "cell_type": "markdown",
   "metadata": {},
   "source": [
    "Убедитесь, что все предложения имеют в начале `<sos>` токен, а в конце — `<eos>` токен."
   ]
  },
  {
   "cell_type": "code",
   "execution_count": 38,
   "metadata": {
    "ExecuteTime": {
     "end_time": "2024-03-30T22:43:49.750508Z",
     "start_time": "2024-03-30T22:43:49.516160Z"
    },
    "execution": {
     "iopub.execute_input": "2024-04-15T18:33:40.939351Z",
     "iopub.status.busy": "2024-04-15T18:33:40.939351Z",
     "iopub.status.idle": "2024-04-15T18:33:40.983009Z",
     "shell.execute_reply": "2024-04-15T18:33:40.982035Z",
     "shell.execute_reply.started": "2024-04-15T18:33:40.939351Z"
    }
   },
   "outputs": [
    {
     "data": {
      "text/plain": [
       "(tensor([[    2,     2,     2,  ...,     2,     2,     2],\n",
       "         [  937,  1301,   278,  ...,   236,  9897,    93],\n",
       "         [ 1957,    95,   416,  ..., 15209,  6747,  7369],\n",
       "         ...,\n",
       "         [  506,  1013,  4299,  ...,     7,    75,   867],\n",
       "         [14378,   253,  9603,  ...,  7205,   689,  2322],\n",
       "         [    3,     3,     3,  ...,     3,     3,     3]]),\n",
       " tensor([20, 20, 20, 20, 20, 20, 20, 20, 20, 20, 20, 20, 20, 20, 20, 20, 20, 20,\n",
       "         20, 20, 20, 20, 20, 20, 20, 20, 20, 20, 20, 20, 20, 20, 20, 20, 20, 20,\n",
       "         20, 20, 20, 20, 20, 20, 20, 20, 20, 20, 20, 20, 20, 20, 20, 20, 20, 20,\n",
       "         20, 20, 20, 20, 20, 20, 20, 20, 20, 20, 20, 20, 20, 20, 20, 20, 20, 20,\n",
       "         20, 20, 20, 20, 20, 20, 20, 20, 20, 20, 20, 20, 20, 20, 20, 20, 20, 20,\n",
       "         20, 20, 20, 20, 20, 20, 20, 20, 20, 20, 20, 20, 20, 20, 20, 20, 20, 20,\n",
       "         20, 20, 20, 20, 20, 20, 20, 20, 20, 20, 20, 20, 20, 20, 20, 20, 20, 14,\n",
       "         20, 20, 20, 20, 20, 20, 20, 20, 20, 20, 20, 20, 20, 20, 20, 20, 20, 20,\n",
       "         20, 20, 20, 20, 20, 20, 20, 20, 20, 20, 20, 20, 20, 20, 20, 20, 20, 20,\n",
       "         20, 20, 20, 20, 20, 20, 20, 20, 20, 20, 20, 20, 20, 20, 20, 20, 20, 20,\n",
       "         20, 20, 20, 20, 20, 20, 20, 20, 20, 20, 20, 20, 20, 20, 20, 20]))"
      ]
     },
     "execution_count": 38,
     "metadata": {},
     "output_type": "execute_result"
    }
   ],
   "source": [
    "batch = next(iter(lm_train_dataloader))\n",
    "batch['tokens'], batch['tokens_lens']"
   ]
  },
  {
   "cell_type": "code",
   "execution_count": 67,
   "metadata": {
    "execution": {
     "iopub.execute_input": "2024-04-15T18:44:24.477555Z",
     "iopub.status.busy": "2024-04-15T18:44:24.477555Z",
     "iopub.status.idle": "2024-04-15T18:44:26.318446Z",
     "shell.execute_reply": "2024-04-15T18:44:26.315462Z",
     "shell.execute_reply.started": "2024-04-15T18:44:24.477555Z"
    }
   },
   "outputs": [
    {
     "data": {
      "text/plain": [
       "5068"
      ]
     },
     "execution_count": 67,
     "metadata": {},
     "output_type": "execute_result"
    }
   ],
   "source": [
    "import gc\n",
    "\n",
    "torch.cuda.empty_cache()\n",
    "gc.collect()"
   ]
  },
  {
   "cell_type": "markdown",
   "metadata": {},
   "source": [
    "Создадим модель, функцию потерь и оптимизатор: "
   ]
  },
  {
   "cell_type": "code",
   "execution_count": 68,
   "metadata": {
    "ExecuteTime": {
     "end_time": "2024-03-30T22:44:12.583751Z",
     "start_time": "2024-03-30T22:44:12.396308Z"
    },
    "execution": {
     "iopub.execute_input": "2024-04-15T18:44:37.051838Z",
     "iopub.status.busy": "2024-04-15T18:44:37.050839Z",
     "iopub.status.idle": "2024-04-15T18:44:37.508547Z",
     "shell.execute_reply": "2024-04-15T18:44:37.507547Z",
     "shell.execute_reply.started": "2024-04-15T18:44:37.051838Z"
    }
   },
   "outputs": [],
   "source": [
    "lm_model = RNNLM(\n",
    "    embedding_dim=512, hidden_dim=512, vocab=lm_vocab, dropout=0.6, layers_dropout=0.6, num_layers=2\n",
    ").to(device=device)"
   ]
  },
  {
   "cell_type": "code",
   "execution_count": 69,
   "metadata": {
    "ExecuteTime": {
     "end_time": "2024-03-30T22:44:13.200355Z",
     "start_time": "2024-03-30T22:44:13.197422Z"
    },
    "execution": {
     "iopub.execute_input": "2024-04-15T18:44:38.799875Z",
     "iopub.status.busy": "2024-04-15T18:44:38.798875Z",
     "iopub.status.idle": "2024-04-15T18:44:38.810417Z",
     "shell.execute_reply": "2024-04-15T18:44:38.809446Z",
     "shell.execute_reply.started": "2024-04-15T18:44:38.799875Z"
    }
   },
   "outputs": [],
   "source": [
    "lm_loss_fn = LMCrossEntropyLoss(reduction='mean')\n",
    "lm_optimizer = torch.optim.Adam(lm_model.parameters(), lr=0.005, weight_decay=1.2e-6)"
   ]
  },
  {
   "cell_type": "markdown",
   "metadata": {},
   "source": [
    "Обучим модель:"
   ]
  },
  {
   "cell_type": "code",
   "execution_count": 42,
   "metadata": {
    "ExecuteTime": {
     "end_time": "2024-03-30T22:43:49.959423Z",
     "start_time": "2024-03-30T22:43:49.950621Z"
    },
    "execution": {
     "iopub.execute_input": "2024-04-15T18:37:19.293062Z",
     "iopub.status.busy": "2024-04-15T18:37:19.292075Z",
     "iopub.status.idle": "2024-04-15T18:37:19.306587Z",
     "shell.execute_reply": "2024-04-15T18:37:19.305588Z",
     "shell.execute_reply.started": "2024-04-15T18:37:19.293062Z"
    }
   },
   "outputs": [],
   "source": [
    "# lm_model = torch.compile(lm_model)\n",
    "# RuntimeError: Windows not yet supported for torch.compile"
   ]
  },
  {
   "cell_type": "code",
   "execution_count": 70,
   "metadata": {
    "ExecuteTime": {
     "end_time": "2024-03-30T22:45:24.729739Z",
     "start_time": "2024-03-30T22:44:15.095894Z"
    },
    "execution": {
     "iopub.execute_input": "2024-04-15T18:44:40.930659Z",
     "iopub.status.busy": "2024-04-15T18:44:40.929659Z",
     "iopub.status.idle": "2024-04-15T18:52:13.125521Z",
     "shell.execute_reply": "2024-04-15T18:52:13.108502Z",
     "shell.execute_reply.started": "2024-04-15T18:44:40.930659Z"
    }
   },
   "outputs": [
    {
     "name": "stdout",
     "output_type": "stream",
     "text": [
      "Epoch: 1/10. Loss (Train/Test): 7.998/8.135. Accuracy (Train/Test): 0.074/0.074\n",
      "Epoch: 2/10. Loss (Train/Test): 7.894/8.078. Accuracy (Train/Test): 0.082/0.082\n",
      "Epoch: 3/10. Loss (Train/Test): 7.719/7.949. Accuracy (Train/Test): 0.096/0.096\n",
      "Epoch: 4/10. Loss (Train/Test): 7.518/7.831. Accuracy (Train/Test): 0.098/0.097\n",
      "Epoch: 5/10. Loss (Train/Test): 7.359/7.780. Accuracy (Train/Test): 0.102/0.101\n",
      "Epoch: 6/10. Loss (Train/Test): 7.193/7.736. Accuracy (Train/Test): 0.107/0.105\n",
      "Epoch: 7/10. Loss (Train/Test): 7.014/7.697. Accuracy (Train/Test): 0.109/0.107\n",
      "Epoch: 8/10. Loss (Train/Test): 6.851/7.695. Accuracy (Train/Test): 0.112/0.108\n",
      "Epoch: 9/10. Loss (Train/Test): 6.685/7.709. Accuracy (Train/Test): 0.114/0.109\n",
      "Epoch: 10/10. Loss (Train/Test): 6.509/7.721. Accuracy (Train/Test): 0.119/0.111\n"
     ]
    }
   ],
   "source": [
    "lm_train_losses, lm_train_accuracies, lm_test_losses, lm_test_accuracies = train_lm(\n",
    "    lm_train_dataloader, lm_test_dataloader, lm_model, lm_loss_fn, lm_optimizer, device, 10\n",
    ")"
   ]
  },
  {
   "cell_type": "markdown",
   "metadata": {},
   "source": [
    "## `Реализация декодера (1 балл)`"
   ]
  },
  {
   "cell_type": "markdown",
   "metadata": {},
   "source": [
    "Теперь, реализуем последнюю деталь — декодирование с использованием обученной модели.\n",
    "Есть несколько вариантов. Рассмотрим два самых простых:\n",
    "1. **Жадное декодирование.** На каждом шаге мы выбираем токен с максимальной вероятностью и используем его для обновления скрытого состояния RNN.\n",
    "2. **Top-k sampling.** На очередном шаге рассматриваются $k$ токенов с самыми большими вероятностями. Остальные токены игнорируются. Из выбранных токенов семплируется следующий токен пропорционально их вероятностям.\n",
    "\n",
    "Прочитать подробнее про разные варианты декодирования можно по ссылкам:\n",
    "1. [От huggingface](https://huggingface.co/blog/how-to-generate)\n",
    "2. [На towardsdatascience](https://towardsdatascience.com/decoding-strategies-that-you-need-to-know-for-response-generation-ba95ee0faadc)"
   ]
  },
  {
   "cell_type": "markdown",
   "metadata": {},
   "source": [
    "Существенным в процессе декодирования является критерий останова. Как только очередной самый вероятный символ оказался `<eos>`, то данная последовательность считается сгенерированной. Однако, может так оказаться, что `<eos>` никогда не будет выбран, тогда необходимо прекратить генерацию, как только длина последовательности перейдёт порог `max_generated_len`."
   ]
  },
  {
   "cell_type": "code",
   "execution_count": 71,
   "metadata": {
    "ExecuteTime": {
     "end_time": "2024-03-30T22:46:24.344570Z",
     "start_time": "2024-03-30T22:46:24.337751Z"
    },
    "execution": {
     "iopub.execute_input": "2024-04-15T20:29:12.589738Z",
     "iopub.status.busy": "2024-04-15T20:29:12.583736Z",
     "iopub.status.idle": "2024-04-15T20:29:12.734770Z",
     "shell.execute_reply": "2024-04-15T20:29:12.733767Z",
     "shell.execute_reply.started": "2024-04-15T20:29:12.588737Z"
    }
   },
   "outputs": [],
   "source": [
    "import torch.distributions as dist\n",
    "\n",
    "\n",
    "@torch.no_grad()\n",
    "def decode(model, start_tokens, start_tokens_lens, max_generated_len=20, top_k=None):\n",
    "    \"\"\"\n",
    "    :param RNNLM model: Model\n",
    "    :param torch.Tensor start_tokens: Batch of seed tokens. Shape: [T, B]\n",
    "    :param torch.Tensor start_tokens_lens: Length of each sequence in batch. Shape: [B]\n",
    "    :param int max_generated_len: Maximum lenght of generated samples\n",
    "    :param Optional[int] top_k: Number of tokens with the largest probability to sample from\n",
    "    :return Tuple[torch.Tensor, torch.Tensor]. \n",
    "        Newly predicted tokens and length of generated part. Shape [T*, B], [B]\n",
    "    \"\"\"\n",
    "    # Get embedding for start_tokens\n",
    "    embedding = model.word_embeddings(start_tokens)\n",
    "    \n",
    "    # Pass embedding through rnn and collect hidden states and cell states for each time moment\n",
    "    all_h, all_c = [], []\n",
    "    h = embedding.new_zeros([model.rnn.num_layers, start_tokens.shape[1], model.hidden_dim])\n",
    "    c = embedding.new_zeros([model.rnn.num_layers, start_tokens.shape[1], model.hidden_dim])\n",
    "    for time_step in range(start_tokens.shape[0]):\n",
    "        h, c = model.rnn(embedding[time_step].reshape(1, *embedding[0].shape), (h, c))[1]\n",
    "        all_h.append(h)\n",
    "        all_c.append(c)\n",
    "    \n",
    "    all_h = torch.stack(all_h, dim=1)\n",
    "    all_c = torch.stack(all_c, dim=1)\n",
    "    # Take final hidden state and cell state for each start sequence in batch\n",
    "    # We will use them as h_0, c_0 for generation new tokens\n",
    "    h = all_h[:, start_tokens_lens - 1, torch.arange(start_tokens_lens.shape[0])]\n",
    "    c = all_c[:, start_tokens_lens - 1, torch.arange(start_tokens_lens.shape[0])]\n",
    "    \n",
    "    # List of predicted tokens for each time step\n",
    "    predicted_tokens = []\n",
    "    # Length of generated part for each object in the batch\n",
    "    decoded_lens = torch.zeros_like(start_tokens_lens, dtype=torch.long)\n",
    "    # Boolean mask where we store if the sequence has already generated\n",
    "    # i.e. `<eos>` was selected on any step\n",
    "    is_finished_decoding = torch.zeros_like(start_tokens_lens, dtype=torch.bool)\n",
    "    \n",
    "    # Stop when all sequences in the batch are finished\n",
    "    while not torch.all(is_finished_decoding) and torch.max(decoded_lens) < max_generated_len:\n",
    "        # Evaluate next token distribution using hidden state h.\n",
    "        # Note. Over first dimension h has hidden states for each layer of LSTM.\n",
    "        #     We must use hidden state from the last layer\n",
    "        logits = model.output(h[-1])\n",
    "        \n",
    "        if top_k is not None:\n",
    "            # Top-k sampling. Use only top-k most probable logits to sample next token\n",
    "            indices_to_remove = logits < torch.topk(logits, top_k)[0][..., -1, None]\n",
    "            # Mask non top-k logits\n",
    "            logits[indices_to_remove] = -1e10\n",
    "            # Sample next_token.\n",
    "            probabilities = torch.softmax(logits, dim=-1)\n",
    "            categorical_dist = dist.Categorical(probabilities)\n",
    "            next_token = categorical_dist.sample((1,)).squeeze(0)\n",
    "        else:\n",
    "            # Select most probable token\n",
    "            next_token = torch.argmax(logits, dim=-1)\n",
    "            \n",
    "        predicted_tokens.append(next_token)\n",
    "        \n",
    "        decoded_lens += (~is_finished_decoding)\n",
    "        is_finished_decoding |= (next_token == torch.tensor(model.vocab.lookup_indices(['<eos>'])[0]))\n",
    "\n",
    "        # Compute embedding for next token\n",
    "        embedding = model.word_embeddings(next_token)\n",
    "        \n",
    "        # Update hidden and cell states\n",
    "        h, c = model.rnn(embedding.reshape(1, *embedding.shape), (h, c))[1]\n",
    "        \n",
    "    return torch.stack(predicted_tokens), decoded_lens"
   ]
  },
  {
   "cell_type": "markdown",
   "metadata": {
    "ExecuteTime": {
     "end_time": "2021-04-02T01:38:06.232189Z",
     "start_time": "2021-04-02T01:38:06.205413Z"
    }
   },
   "source": [
    "Попробуем сгенерировать продолжения для нескольких префиксов:"
   ]
  },
  {
   "cell_type": "code",
   "execution_count": 74,
   "metadata": {
    "ExecuteTime": {
     "end_time": "2024-03-30T22:46:25.138264Z",
     "start_time": "2024-03-30T22:46:25.135301Z"
    },
    "execution": {
     "iopub.execute_input": "2024-04-15T20:31:42.494758Z",
     "iopub.status.busy": "2024-04-15T20:31:42.493759Z",
     "iopub.status.idle": "2024-04-15T20:31:42.509760Z",
     "shell.execute_reply": "2024-04-15T20:31:42.507776Z",
     "shell.execute_reply.started": "2024-04-15T20:31:42.494758Z"
    }
   },
   "outputs": [],
   "source": [
    "start_tokens = torch.tensor([\n",
    "    lm_model.vocab.lookup_indices(['<sos>', '<pad>', '<pad>', '<pad>']),\n",
    "    lm_model.vocab.lookup_indices(['<sos>', 'my', 'favorite', 'movie']),\n",
    "    lm_model.vocab.lookup_indices(['<sos>', 'the', 'best', 'movie']),\n",
    "    lm_model.vocab.lookup_indices(['<sos>', 'the', 'worst', 'movie']),\n",
    "]).T\n",
    "\n",
    "start_tokens_lens = torch.tensor([1, 4, 4, 4])"
   ]
  },
  {
   "cell_type": "code",
   "execution_count": 75,
   "metadata": {
    "ExecuteTime": {
     "end_time": "2024-03-30T22:46:25.775584Z",
     "start_time": "2024-03-30T22:46:25.524089Z"
    },
    "execution": {
     "iopub.execute_input": "2024-04-15T20:32:02.624416Z",
     "iopub.status.busy": "2024-04-15T20:32:02.623416Z",
     "iopub.status.idle": "2024-04-15T20:32:03.344188Z",
     "shell.execute_reply": "2024-04-15T20:32:03.343187Z",
     "shell.execute_reply.started": "2024-04-15T20:32:02.624416Z"
    }
   },
   "outputs": [],
   "source": [
    "lm_model = lm_model.cpu()\n",
    "lm_model.eval()\n",
    "decoded_tokens, decoded_lens = decode(lm_model, start_tokens, start_tokens_lens, max_generated_len=10, top_k=5)"
   ]
  },
  {
   "cell_type": "code",
   "execution_count": 76,
   "metadata": {
    "ExecuteTime": {
     "end_time": "2024-03-30T22:46:25.826630Z",
     "start_time": "2024-03-30T22:46:25.777128Z"
    },
    "execution": {
     "iopub.execute_input": "2024-04-15T20:32:15.180383Z",
     "iopub.status.busy": "2024-04-15T20:32:15.177384Z",
     "iopub.status.idle": "2024-04-15T20:32:15.368573Z",
     "shell.execute_reply": "2024-04-15T20:32:15.367595Z",
     "shell.execute_reply.started": "2024-04-15T20:32:15.180383Z"
    }
   },
   "outputs": [
    {
     "data": {
      "text/markdown": [
       "<div class=\"alert alert-block alert-info\"> <b>&lt;sos&gt; movie bad acting horrible acting bad script bad acting good</b></div>"
      ],
      "text/plain": [
       "<IPython.core.display.Markdown object>"
      ]
     },
     "metadata": {},
     "output_type": "display_data"
    },
    {
     "data": {
      "text/markdown": [
       "<div class=\"alert alert-block alert-info\"> <b>&lt;sos&gt; &lt;unk&gt; favorite movie ever seen one funniest movie ever made plot &lt;unk&gt; one</b></div>"
      ],
      "text/plain": [
       "<IPython.core.display.Markdown object>"
      ]
     },
     "metadata": {},
     "output_type": "display_data"
    },
    {
     "data": {
      "text/markdown": [
       "<div class=\"alert alert-block alert-info\"> <b>&lt;sos&gt; &lt;unk&gt; best movie ever seen &lt;unk&gt; &lt;unk&gt; &lt;unk&gt; &lt;unk&gt; &lt;unk&gt; &lt;unk&gt; movie made</b></div>"
      ],
      "text/plain": [
       "<IPython.core.display.Markdown object>"
      ]
     },
     "metadata": {},
     "output_type": "display_data"
    },
    {
     "data": {
      "text/markdown": [
       "<div class=\"alert alert-block alert-info\"> <b>&lt;sos&gt; &lt;unk&gt; worst movie ever made &lt;unk&gt; &lt;unk&gt; movie bad &lt;unk&gt; acting good acting</b></div>"
      ],
      "text/plain": [
       "<IPython.core.display.Markdown object>"
      ]
     },
     "metadata": {},
     "output_type": "display_data"
    }
   ],
   "source": [
    "for text_idx in range(start_tokens.shape[1]):\n",
    "    decoded_text_tokens = decoded_tokens[:decoded_lens[text_idx], text_idx]\n",
    "    tokens = start_tokens[:start_tokens_lens[text_idx], text_idx].tolist() + decoded_text_tokens.tolist()\n",
    "    words = np.array(lm_model.vocab.get_itos())[np.array(tokens)]\n",
    "    \n",
    "    text = ' '.join(words).replace('<', '&lt;').replace('>', '&gt;')\n",
    "    display(Markdown(f'<div class=\"alert alert-block alert-info\"> <b>{text}</b></div>'))"
   ]
  },
  {
   "cell_type": "markdown",
   "metadata": {},
   "source": [
    "Попробуйте выполнить семплирование для разных $k$. Сравните результаты top-k семплирования с жадным декодированием. Опишите ваши наблюдения."
   ]
  },
  {
   "cell_type": "code",
   "execution_count": 77,
   "metadata": {
    "ExecuteTime": {
     "end_time": "2024-03-30T22:46:28.556188Z",
     "start_time": "2024-03-30T22:46:28.553997Z"
    },
    "execution": {
     "iopub.execute_input": "2024-04-15T20:38:16.843386Z",
     "iopub.status.busy": "2024-04-15T20:38:16.837779Z",
     "iopub.status.idle": "2024-04-15T20:38:17.362138Z",
     "shell.execute_reply": "2024-04-15T20:38:17.359136Z",
     "shell.execute_reply.started": "2024-04-15T20:38:16.843386Z"
    }
   },
   "outputs": [
    {
     "data": {
      "text/markdown": [
       "<div class=\"alert alert-block alert-info\"> <b>&lt;sos&gt; movie &lt;unk&gt; one funniest movies ever seen one bad films</b></div>"
      ],
      "text/plain": [
       "<IPython.core.display.Markdown object>"
      ]
     },
     "metadata": {},
     "output_type": "display_data"
    },
    {
     "data": {
      "text/markdown": [
       "<div class=\"alert alert-block alert-info\"> <b>&lt;sos&gt; &lt;unk&gt; favorite movie &lt;unk&gt; based movie one best films ever made one worst</b></div>"
      ],
      "text/plain": [
       "<IPython.core.display.Markdown object>"
      ]
     },
     "metadata": {},
     "output_type": "display_data"
    },
    {
     "data": {
      "text/markdown": [
       "<div class=\"alert alert-block alert-info\"> <b>&lt;sos&gt; &lt;unk&gt; best movie ever seen bad bad even though good bad movies bad</b></div>"
      ],
      "text/plain": [
       "<IPython.core.display.Markdown object>"
      ]
     },
     "metadata": {},
     "output_type": "display_data"
    },
    {
     "data": {
      "text/markdown": [
       "<div class=\"alert alert-block alert-info\"> <b>&lt;sos&gt; &lt;unk&gt; worst movie ever ever seen one greatest comedies ever made life movie</b></div>"
      ],
      "text/plain": [
       "<IPython.core.display.Markdown object>"
      ]
     },
     "metadata": {},
     "output_type": "display_data"
    }
   ],
   "source": [
    "top_k = 10\n",
    "\n",
    "decoded_tokens, decoded_lens = decode(lm_model, start_tokens, start_tokens_lens, max_generated_len=10, top_k=top_k)\n",
    "\n",
    "for text_idx in range(start_tokens.shape[1]):\n",
    "    decoded_text_tokens = decoded_tokens[:decoded_lens[text_idx], text_idx]\n",
    "    tokens = start_tokens[:start_tokens_lens[text_idx], text_idx].tolist() + decoded_text_tokens.tolist()\n",
    "    words = np.array(lm_model.vocab.get_itos())[np.array(tokens)]\n",
    "    \n",
    "    text = ' '.join(words).replace('<', '&lt;').replace('>', '&gt;')\n",
    "    display(Markdown(f'<div class=\"alert alert-block alert-info\"> <b>{text}</b></div>'))"
   ]
  },
  {
   "cell_type": "code",
   "execution_count": 84,
   "metadata": {
    "execution": {
     "iopub.execute_input": "2024-04-15T20:51:40.416779Z",
     "iopub.status.busy": "2024-04-15T20:51:40.409774Z",
     "iopub.status.idle": "2024-04-15T20:51:41.344180Z",
     "shell.execute_reply": "2024-04-15T20:51:41.342180Z",
     "shell.execute_reply.started": "2024-04-15T20:51:40.415781Z"
    }
   },
   "outputs": [
    {
     "data": {
      "text/markdown": [
       "<div class=\"alert alert-block alert-info\"> <b>&lt;sos&gt; saw film came night store didnt know would say &lt;unk&gt;</b></div>"
      ],
      "text/plain": [
       "<IPython.core.display.Markdown object>"
      ]
     },
     "metadata": {},
     "output_type": "display_data"
    },
    {
     "data": {
      "text/markdown": [
       "<div class=\"alert alert-block alert-info\"> <b>&lt;sos&gt; &lt;unk&gt; favorite movie &lt;unk&gt; time think many main reasons watching one worst movies</b></div>"
      ],
      "text/plain": [
       "<IPython.core.display.Markdown object>"
      ]
     },
     "metadata": {},
     "output_type": "display_data"
    },
    {
     "data": {
      "text/markdown": [
       "<div class=\"alert alert-block alert-info\"> <b>&lt;sos&gt; &lt;unk&gt; best movie ever made ive seen movie im afraid movie dont know</b></div>"
      ],
      "text/plain": [
       "<IPython.core.display.Markdown object>"
      ]
     },
     "metadata": {},
     "output_type": "display_data"
    },
    {
     "data": {
      "text/markdown": [
       "<div class=\"alert alert-block alert-info\"> <b>&lt;sos&gt; &lt;unk&gt; worst movie ever seen entire movies ever made plot flimsy directing acting</b></div>"
      ],
      "text/plain": [
       "<IPython.core.display.Markdown object>"
      ]
     },
     "metadata": {},
     "output_type": "display_data"
    }
   ],
   "source": [
    "top_k = 20\n",
    "\n",
    "decoded_tokens, decoded_lens = decode(lm_model, start_tokens, start_tokens_lens, max_generated_len=10, top_k=top_k)\n",
    "\n",
    "for text_idx in range(start_tokens.shape[1]):\n",
    "    decoded_text_tokens = decoded_tokens[:decoded_lens[text_idx], text_idx]\n",
    "    tokens = start_tokens[:start_tokens_lens[text_idx], text_idx].tolist() + decoded_text_tokens.tolist()\n",
    "    words = np.array(lm_model.vocab.get_itos())[np.array(tokens)]\n",
    "    \n",
    "    text = ' '.join(words).replace('<', '&lt;').replace('>', '&gt;')\n",
    "    display(Markdown(f'<div class=\"alert alert-block alert-info\"> <b>{text}</b></div>'))"
   ]
  },
  {
   "cell_type": "code",
   "execution_count": 81,
   "metadata": {
    "execution": {
     "iopub.execute_input": "2024-04-15T20:41:16.750751Z",
     "iopub.status.busy": "2024-04-15T20:41:16.749781Z",
     "iopub.status.idle": "2024-04-15T20:41:17.195169Z",
     "shell.execute_reply": "2024-04-15T20:41:17.193167Z",
     "shell.execute_reply.started": "2024-04-15T20:41:16.750751Z"
    }
   },
   "outputs": [
    {
     "data": {
      "text/markdown": [
       "<div class=\"alert alert-block alert-info\"> <b>&lt;sos&gt; movie one worst movies ever watched &lt;unk&gt; like end see</b></div>"
      ],
      "text/plain": [
       "<IPython.core.display.Markdown object>"
      ]
     },
     "metadata": {},
     "output_type": "display_data"
    },
    {
     "data": {
      "text/markdown": [
       "<div class=\"alert alert-block alert-info\"> <b>&lt;sos&gt; &lt;unk&gt; favorite movie made time &lt;unk&gt; bad think film bad acting bad sets</b></div>"
      ],
      "text/plain": [
       "<IPython.core.display.Markdown object>"
      ]
     },
     "metadata": {},
     "output_type": "display_data"
    },
    {
     "data": {
      "text/markdown": [
       "<div class=\"alert alert-block alert-info\"> <b>&lt;sos&gt; &lt;unk&gt; best movie ever seen good story story full people know &lt;unk&gt; script</b></div>"
      ],
      "text/plain": [
       "<IPython.core.display.Markdown object>"
      ]
     },
     "metadata": {},
     "output_type": "display_data"
    },
    {
     "data": {
      "text/markdown": [
       "<div class=\"alert alert-block alert-info\"> <b>&lt;sos&gt; &lt;unk&gt; worst movie ever made time watching &lt;unk&gt; &lt;unk&gt; made film based novel</b></div>"
      ],
      "text/plain": [
       "<IPython.core.display.Markdown object>"
      ]
     },
     "metadata": {},
     "output_type": "display_data"
    }
   ],
   "source": [
    "top_k = 50\n",
    "\n",
    "decoded_tokens, decoded_lens = decode(lm_model, start_tokens, start_tokens_lens, max_generated_len=10, top_k=top_k)\n",
    "\n",
    "for text_idx in range(start_tokens.shape[1]):\n",
    "    decoded_text_tokens = decoded_tokens[:decoded_lens[text_idx], text_idx]\n",
    "    tokens = start_tokens[:start_tokens_lens[text_idx], text_idx].tolist() + decoded_text_tokens.tolist()\n",
    "    words = np.array(lm_model.vocab.get_itos())[np.array(tokens)]\n",
    "    \n",
    "    text = ' '.join(words).replace('<', '&lt;').replace('>', '&gt;')\n",
    "    display(Markdown(f'<div class=\"alert alert-block alert-info\"> <b>{text}</b></div>'))"
   ]
  },
  {
   "cell_type": "code",
   "execution_count": 85,
   "metadata": {
    "execution": {
     "iopub.execute_input": "2024-04-15T20:52:09.214420Z",
     "iopub.status.busy": "2024-04-15T20:52:09.214420Z",
     "iopub.status.idle": "2024-04-15T20:52:09.664505Z",
     "shell.execute_reply": "2024-04-15T20:52:09.650505Z",
     "shell.execute_reply.started": "2024-04-15T20:52:09.214420Z"
    }
   },
   "outputs": [
    {
     "data": {
      "text/markdown": [
       "<div class=\"alert alert-block alert-info\"> <b>&lt;sos&gt; another &lt;unk&gt; tv film television loved plot one day cant</b></div>"
      ],
      "text/plain": [
       "<IPython.core.display.Markdown object>"
      ]
     },
     "metadata": {},
     "output_type": "display_data"
    },
    {
     "data": {
      "text/markdown": [
       "<div class=\"alert alert-block alert-info\"> <b>&lt;sos&gt; &lt;unk&gt; favorite movie movie ever made seen could easily go see low budget</b></div>"
      ],
      "text/plain": [
       "<IPython.core.display.Markdown object>"
      ]
     },
     "metadata": {},
     "output_type": "display_data"
    },
    {
     "data": {
      "text/markdown": [
       "<div class=\"alert alert-block alert-info\"> <b>&lt;sos&gt; &lt;unk&gt; best movie ever made actually great way ever told story revolves around</b></div>"
      ],
      "text/plain": [
       "<IPython.core.display.Markdown object>"
      ]
     },
     "metadata": {},
     "output_type": "display_data"
    },
    {
     "data": {
      "text/markdown": [
       "<div class=\"alert alert-block alert-info\"> <b>&lt;sos&gt; &lt;unk&gt; worst movie ever seen made worse bad movie ever made story predictable</b></div>"
      ],
      "text/plain": [
       "<IPython.core.display.Markdown object>"
      ]
     },
     "metadata": {},
     "output_type": "display_data"
    }
   ],
   "source": [
    "top_k = 100\n",
    "\n",
    "decoded_tokens, decoded_lens = decode(lm_model, start_tokens, start_tokens_lens, max_generated_len=10, top_k=top_k)\n",
    "\n",
    "for text_idx in range(start_tokens.shape[1]):\n",
    "    decoded_text_tokens = decoded_tokens[:decoded_lens[text_idx], text_idx]\n",
    "    tokens = start_tokens[:start_tokens_lens[text_idx], text_idx].tolist() + decoded_text_tokens.tolist()\n",
    "    words = np.array(lm_model.vocab.get_itos())[np.array(tokens)]\n",
    "    \n",
    "    text = ' '.join(words).replace('<', '&lt;').replace('>', '&gt;')\n",
    "    display(Markdown(f'<div class=\"alert alert-block alert-info\"> <b>{text}</b></div>'))"
   ]
  },
  {
   "cell_type": "code",
   "execution_count": 83,
   "metadata": {
    "execution": {
     "iopub.execute_input": "2024-04-15T20:45:13.118002Z",
     "iopub.status.busy": "2024-04-15T20:45:13.118002Z",
     "iopub.status.idle": "2024-04-15T20:45:13.531169Z",
     "shell.execute_reply": "2024-04-15T20:45:13.528177Z",
     "shell.execute_reply.started": "2024-04-15T20:45:13.118002Z"
    }
   },
   "outputs": [
    {
     "data": {
      "text/markdown": [
       "<div class=\"alert alert-block alert-info\"> <b>&lt;sos&gt; movie really good movie good acting good acting good casting</b></div>"
      ],
      "text/plain": [
       "<IPython.core.display.Markdown object>"
      ]
     },
     "metadata": {},
     "output_type": "display_data"
    },
    {
     "data": {
      "text/markdown": [
       "<div class=\"alert alert-block alert-info\"> <b>&lt;sos&gt; &lt;unk&gt; favorite movie &lt;unk&gt; &lt;unk&gt; &lt;unk&gt; &lt;unk&gt; &lt;unk&gt; &lt;unk&gt; &lt;unk&gt; &lt;unk&gt; &lt;unk&gt; &lt;unk&gt;</b></div>"
      ],
      "text/plain": [
       "<IPython.core.display.Markdown object>"
      ]
     },
     "metadata": {},
     "output_type": "display_data"
    },
    {
     "data": {
      "text/markdown": [
       "<div class=\"alert alert-block alert-info\"> <b>&lt;sos&gt; &lt;unk&gt; best movie ever seen movie bad acting bad acting bad script bad</b></div>"
      ],
      "text/plain": [
       "<IPython.core.display.Markdown object>"
      ]
     },
     "metadata": {},
     "output_type": "display_data"
    },
    {
     "data": {
      "text/markdown": [
       "<div class=\"alert alert-block alert-info\"> <b>&lt;sos&gt; &lt;unk&gt; worst movie ever seen movie bad acting bad acting bad script bad</b></div>"
      ],
      "text/plain": [
       "<IPython.core.display.Markdown object>"
      ]
     },
     "metadata": {},
     "output_type": "display_data"
    }
   ],
   "source": [
    "top_k = 1\n",
    "\n",
    "decoded_tokens, decoded_lens = decode(lm_model, start_tokens, start_tokens_lens, max_generated_len=10, top_k=top_k)\n",
    "\n",
    "for text_idx in range(start_tokens.shape[1]):\n",
    "    decoded_text_tokens = decoded_tokens[:decoded_lens[text_idx], text_idx]\n",
    "    tokens = start_tokens[:start_tokens_lens[text_idx], text_idx].tolist() + decoded_text_tokens.tolist()\n",
    "    words = np.array(lm_model.vocab.get_itos())[np.array(tokens)]\n",
    "    \n",
    "    text = ' '.join(words).replace('<', '&lt;').replace('>', '&gt;')\n",
    "    display(Markdown(f'<div class=\"alert alert-block alert-info\"> <b>{text}</b></div>'))"
   ]
  },
  {
   "cell_type": "code",
   "execution_count": 78,
   "metadata": {
    "execution": {
     "iopub.execute_input": "2024-04-15T20:39:04.842999Z",
     "iopub.status.busy": "2024-04-15T20:39:04.842999Z",
     "iopub.status.idle": "2024-04-15T20:39:05.236834Z",
     "shell.execute_reply": "2024-04-15T20:39:05.235325Z",
     "shell.execute_reply.started": "2024-04-15T20:39:04.842999Z"
    }
   },
   "outputs": [
    {
     "data": {
      "text/markdown": [
       "<div class=\"alert alert-block alert-info\"> <b>&lt;sos&gt; movie really good movie good acting good acting good casting</b></div>"
      ],
      "text/plain": [
       "<IPython.core.display.Markdown object>"
      ]
     },
     "metadata": {},
     "output_type": "display_data"
    },
    {
     "data": {
      "text/markdown": [
       "<div class=\"alert alert-block alert-info\"> <b>&lt;sos&gt; &lt;unk&gt; favorite movie &lt;unk&gt; &lt;unk&gt; &lt;unk&gt; &lt;unk&gt; &lt;unk&gt; &lt;unk&gt; &lt;unk&gt; &lt;unk&gt; &lt;unk&gt; &lt;unk&gt;</b></div>"
      ],
      "text/plain": [
       "<IPython.core.display.Markdown object>"
      ]
     },
     "metadata": {},
     "output_type": "display_data"
    },
    {
     "data": {
      "text/markdown": [
       "<div class=\"alert alert-block alert-info\"> <b>&lt;sos&gt; &lt;unk&gt; best movie ever seen movie bad acting bad acting bad script bad</b></div>"
      ],
      "text/plain": [
       "<IPython.core.display.Markdown object>"
      ]
     },
     "metadata": {},
     "output_type": "display_data"
    },
    {
     "data": {
      "text/markdown": [
       "<div class=\"alert alert-block alert-info\"> <b>&lt;sos&gt; &lt;unk&gt; worst movie ever seen movie bad acting bad acting bad script bad</b></div>"
      ],
      "text/plain": [
       "<IPython.core.display.Markdown object>"
      ]
     },
     "metadata": {},
     "output_type": "display_data"
    }
   ],
   "source": [
    "top_k = None\n",
    "\n",
    "decoded_tokens, decoded_lens = decode(lm_model, start_tokens, start_tokens_lens, max_generated_len=10, top_k=top_k)\n",
    "\n",
    "for text_idx in range(start_tokens.shape[1]):\n",
    "    decoded_text_tokens = decoded_tokens[:decoded_lens[text_idx], text_idx]\n",
    "    tokens = start_tokens[:start_tokens_lens[text_idx], text_idx].tolist() + decoded_text_tokens.tolist()\n",
    "    words = np.array(lm_model.vocab.get_itos())[np.array(tokens)]\n",
    "    \n",
    "    text = ' '.join(words).replace('<', '&lt;').replace('>', '&gt;')\n",
    "    display(Markdown(f'<div class=\"alert alert-block alert-info\"> <b>{text}</b></div>'))"
   ]
  },
  {
   "cell_type": "markdown",
   "metadata": {},
   "source": [
    "**Ответ:**\n",
    "\n",
    "1. Если взять top_k $= 1$, то top-k семплирование переходит в жадное декодирование.\n",
    "2. В случае жадного декодирования часто генерируется токен \\<unk\\> и повторяющиеся цепочки.\n",
    "3. В случае top-k семплирования с увеличением top_k повторяющихся цепочек и токенов \\<unk\\> становится меньше, текст становится более разнообразным. Но слишком большое top_k может вести к менее предсказуемому тексту.\n",
    "4. Таким образом, top-k семплирование c достаточно большим top_k показывает себя заметно лучше, чем жадное декодирование."
   ]
  },
  {
   "cell_type": "markdown",
   "metadata": {},
   "source": [
    "## `Beam Search (2 балла)`"
   ]
  },
  {
   "cell_type": "markdown",
   "metadata": {},
   "source": [
    "Рассмотрим более продвинутый алгоритм для декодирования. Реализуйте алгоритм Beam Search."
   ]
  },
  {
   "cell_type": "markdown",
   "metadata": {},
   "source": [
    "Несколько замечаний по имплементации:\n",
    "\n",
    "1. При больших размерах `beam_size` число гипотез ($B \\times \\text{beam\\_size}$) на очередном шаге может быть слишком большим. Поэтому может потребоваться разбить все гипотезы на отдельные батчи и делать forward-pass в несколько итераций. Используйте [`torch.split`](https://pytorch.org/docs/stable/generated/torch.split.html)\n",
    "2. Для выбора лучших гипотез используйте [`torch.topk`](https://pytorch.org/docs/stable/generated/torch.topk.html). Обратите внимание на индексы, которые возвращает эта функция (может пригодиться метод [`torch.remainder`](https://pytorch.org/docs/stable/generated/torch.remainder.html))\n",
    "3. Можно отслеживать, какие элементы в батче (или какие гипотезы) закончили генерацию. Делая forward-pass только для незавершённых гипотез, можно ускорить декодинг, однако, это усложнит реализацию"
   ]
  },
  {
   "cell_type": "code",
   "execution_count": 68,
   "metadata": {
    "ExecuteTime": {
     "end_time": "2024-03-30T22:46:29.834960Z",
     "start_time": "2024-03-30T22:46:29.824795Z"
    }
   },
   "outputs": [],
   "source": [
    "@torch.no_grad()\n",
    "def decode_beam_search(model, start_tokens, start_tokens_lens, max_generated_len=20, beam_size=5):\n",
    "    \"\"\"\n",
    "    :param RNNLM model: Model\n",
    "    :param torch.Tensor start_tokens: Batch of seed tokens. Shape: [T, B]\n",
    "    :param torch.Tensor start_tokens_lens: Length of each sequence in batch. Shape: [B]\n",
    "    :param int max_generated_len: Maximum length of generated samples\n",
    "    :param int beam_size: Size of beam\n",
    "    :return Tuple[torch.Tensor, torch.Tensor, torch.Tensor]. \n",
    "        Newly predicted tokens, lengths of generated parts and log probabilities for each hypotheses \n",
    "        Shape [T*, B, beam_size], [T*, beam_size], [T*, beam_size]\n",
    "    \"\"\"\n",
    "    \n",
    "    # L — number of RNN layers in the model, H — hidden size, BS — beam size\n",
    "    #\n",
    "    # 1. Make forward pass of start_tokens through the model. \n",
    "    #      Obtain the last cell and hidden state for each element in the batch \n",
    "    #          (i.e. tensors of shape [L, B, H])\n",
    "    #      Use those states as the initialization for each hypotheses in the beam \n",
    "    #          (i.e. tensors of shape [L, B * BS, H])\n",
    "    #      Initialize probabilities for each hypotheses in the beam with 1.0\n",
    "    #          (i.e. tensor of shape [B * BS])\n",
    "    #      Initialize vector that show whether hypothesis is finished\n",
    "    #          (i.e. tensor of shape [B * BS])\n",
    "    # 2. While all sequences do not end with <eos> and their length less than max_generated_len\n",
    "    #      1. Get probabilities for the next token for each hypothesis \n",
    "    #          (i.e. tensor of shape [B * BS, V])\n",
    "    #      2. Use those probabilities to compute probability for each extension of each hypothesis\n",
    "    #          (i.e. tensor of shape [B * BS, V])\n",
    "    #      3. For each element in the batch select new BS best hypotheses\n",
    "    #          Note, that some of the hypotheses on the previous step have been finished\n",
    "    #            so their probability should not change. So you have to select BS best hypotheses\n",
    "    #            among all extension of unfinished hypotheses and finished hypotheses\n",
    "    #          As a result you will have a new token for best extensions of unfinished hypotheses\n",
    "    #          For simplisity you can use <EOS> token if you select finished hypothesis in the beam\n",
    "    #            i.e. tensor of shape [B * BS] of indices for selected hypotheses and\n",
    "    #                 tensor of shape [B * BS] of extension tokens for each hypothesis\n",
    "    #      4. Update probabilities for each hypotheses and is_finished state for each hypothesis\n",
    "    #          Concat new tokens to the existing prefixes\n",
    "    #      5. Update hidden and cell state to correspond to the selected hypothesis\n",
    "\n",
    "    eos_idx = model.vocab.get_stoi()['<eos>']\n",
    "    \n",
    "    # Get embeddings for the start tokens\n",
    "    # YOUR CODE HERE\n",
    "    ...\n",
    "    \n",
    "    # Make forward pass through the RNN and \n",
    "    #   obtain the last cell and hidden state for each element in the batch\n",
    "    # YOUR CODE HERE\n",
    "    ...\n",
    "\n",
    "    start_h = ... # [L, B, H]\n",
    "    start_c = ... # [L, B, H]\n",
    "\n",
    "    # Use those states as the initialization for each hypotheses in the beam\n",
    "    # YOUR CODE HERE\n",
    "    ...\n",
    "    h = ... # [L, B * BS, H]\n",
    "    c = ... # [L, B * BS, H]\n",
    "    \n",
    "    # Select initial tokens for each hypotheses in the beam\n",
    "    #   Compute log probabilities and select top-beam_size tokens for each element\n",
    "    #   Use them to initialize beam search state\n",
    "    # YOUR CODE HERE\n",
    "    ...\n",
    "    \n",
    "    new_tokens = ... # [B * BS]\n",
    "    log_probas = ... # [B * BS]\n",
    "    hypotesis = ... # [1, B * BS]\n",
    "    \n",
    "    is_finished = ... # [B * BS]\n",
    "    decoded_lens = ... # [B * BS]\n",
    "\n",
    "    while not torch.all(is_finished) and hypotesis.shape[0] < max_generated_len:\n",
    "        # Get probabilities for the next token for each hypothesis\n",
    "        # YOUR CODE HERE\n",
    "        ...\n",
    "\n",
    "        next_token_log_probas = ... # [B * BS, V]\n",
    "        \n",
    "        # Use those probabilities to compute probability for each extension of each hypothesis\n",
    "        # YOUR CODE HERE\n",
    "        ...\n",
    "        extension_log_probas = ... # [B * BS, V]\n",
    "\n",
    "        # For each element in the batch select new BS best hypotheses\n",
    "        #   You can use loop over different beams\n",
    "        # YOUR CODE HERE\n",
    "        ...\n",
    "\n",
    "        # Update probabilities for each hypotheses and is_finished state and decoded_lens for each hypothesis\n",
    "        # YOUR CODE HERE\n",
    "        ...\n",
    "\n",
    "        # Concat new tokens to the existing prefixes\n",
    "        # YOUR CODE HERE\n",
    "        ...\n",
    "        \n",
    "        # Update hidden and cell state to correspond to the selected hypothesis\n",
    "        # YOUR CODE HERE\n",
    "        ...\n",
    "        \n",
    "    return (\n",
    "        hypotesis.view(-1, start_tokens.shape[1], beam_size), \n",
    "        decoded_lens.view(start_tokens.shape[1], beam_size),\n",
    "        log_probas.view(start_tokens.shape[1], beam_size)\n",
    "    )"
   ]
  },
  {
   "cell_type": "code",
   "execution_count": 69,
   "metadata": {
    "ExecuteTime": {
     "end_time": "2024-03-30T22:46:30.504262Z",
     "start_time": "2024-03-30T22:46:30.501331Z"
    }
   },
   "outputs": [],
   "source": [
    "start_tokens = torch.tensor([\n",
    "    lm_model.vocab.lookup_indices(['<sos>', '<pad>', '<pad>', '<pad>']),\n",
    "    lm_model.vocab.lookup_indices(['<sos>', 'my', 'favorite', 'movie']),\n",
    "    lm_model.vocab.lookup_indices(['<sos>', 'the', 'best', 'movie']),\n",
    "    lm_model.vocab.lookup_indices(['<sos>', 'the', 'worst', 'movie']),\n",
    "]).T\n",
    "\n",
    "start_tokens_lens = torch.tensor([1, 4, 4, 4])"
   ]
  },
  {
   "cell_type": "code",
   "execution_count": 70,
   "metadata": {
    "ExecuteTime": {
     "end_time": "2024-03-30T22:46:31.081687Z",
     "start_time": "2024-03-30T22:46:30.966597Z"
    }
   },
   "outputs": [],
   "source": [
    "lm_model.to(device).eval()\n",
    "start_tokens = start_tokens.to(device)\n",
    "start_tokens_lens = start_tokens_lens.to(device)"
   ]
  },
  {
   "cell_type": "code",
   "execution_count": 71,
   "metadata": {
    "ExecuteTime": {
     "end_time": "2024-03-30T22:46:31.910807Z",
     "start_time": "2024-03-30T22:46:31.646253Z"
    }
   },
   "outputs": [],
   "source": [
    "beam_size = 100\n",
    "decoded_tokens, decoded_lens, log_probas = decode_beam_search(\n",
    "    lm_model, start_tokens, start_tokens_lens, max_generated_len=10, beam_size=beam_size\n",
    ")"
   ]
  },
  {
   "cell_type": "code",
   "execution_count": 72,
   "metadata": {
    "ExecuteTime": {
     "end_time": "2024-03-30T22:46:32.320606Z",
     "start_time": "2024-03-30T22:46:32.169949Z"
    }
   },
   "outputs": [
    {
     "data": {
      "text/markdown": [
       "<div class=\"alert alert-block alert-info\"> <b>&lt;sos&gt;</b></div>"
      ],
      "text/plain": [
       "<IPython.core.display.Markdown object>"
      ]
     },
     "metadata": {},
     "output_type": "display_data"
    },
    {
     "data": {
      "text/markdown": [
       "<div class=\"alert alert-block alert-success\"> <b>-14.700: one worst movies ever seen one worst movies ever seen</b></div>"
      ],
      "text/plain": [
       "<IPython.core.display.Markdown object>"
      ]
     },
     "metadata": {},
     "output_type": "display_data"
    },
    {
     "data": {
      "text/markdown": [
       "<div class=\"alert alert-block alert-success\"> <b>-15.791: one worst movies ever seen bad acting bad acting bad</b></div>"
      ],
      "text/plain": [
       "<IPython.core.display.Markdown object>"
      ]
     },
     "metadata": {},
     "output_type": "display_data"
    },
    {
     "data": {
      "text/markdown": [
       "<div class=\"alert alert-block alert-success\"> <b>-16.008: one worst movies ever seen one worst movies ever made</b></div>"
      ],
      "text/plain": [
       "<IPython.core.display.Markdown object>"
      ]
     },
     "metadata": {},
     "output_type": "display_data"
    },
    {
     "data": {
      "text/markdown": [
       "<div class=\"alert alert-block alert-info\"> <b>&lt;sos&gt; &lt;unk&gt; favorite movie</b></div>"
      ],
      "text/plain": [
       "<IPython.core.display.Markdown object>"
      ]
     },
     "metadata": {},
     "output_type": "display_data"
    },
    {
     "data": {
      "text/markdown": [
       "<div class=\"alert alert-block alert-success\"> <b>-16.961: one worst movies ever seen one worst movies ever seen</b></div>"
      ],
      "text/plain": [
       "<IPython.core.display.Markdown object>"
      ]
     },
     "metadata": {},
     "output_type": "display_data"
    },
    {
     "data": {
      "text/markdown": [
       "<div class=\"alert alert-block alert-success\"> <b>-17.999: ever seen one worst movies ever seen bad acting bad</b></div>"
      ],
      "text/plain": [
       "<IPython.core.display.Markdown object>"
      ]
     },
     "metadata": {},
     "output_type": "display_data"
    },
    {
     "data": {
      "text/markdown": [
       "<div class=\"alert alert-block alert-success\"> <b>-18.038: one worst movies ever seen one worst movies ever made</b></div>"
      ],
      "text/plain": [
       "<IPython.core.display.Markdown object>"
      ]
     },
     "metadata": {},
     "output_type": "display_data"
    },
    {
     "data": {
      "text/markdown": [
       "<div class=\"alert alert-block alert-info\"> <b>&lt;sos&gt; &lt;unk&gt; best movie</b></div>"
      ],
      "text/plain": [
       "<IPython.core.display.Markdown object>"
      ]
     },
     "metadata": {},
     "output_type": "display_data"
    },
    {
     "data": {
      "text/markdown": [
       "<div class=\"alert alert-block alert-success\"> <b>-15.690: ever seen one worst movies ever seen bad acting bad</b></div>"
      ],
      "text/plain": [
       "<IPython.core.display.Markdown object>"
      ]
     },
     "metadata": {},
     "output_type": "display_data"
    },
    {
     "data": {
      "text/markdown": [
       "<div class=\"alert alert-block alert-success\"> <b>-16.193: ever seen one worst movies ever seen long time life</b></div>"
      ],
      "text/plain": [
       "<IPython.core.display.Markdown object>"
      ]
     },
     "metadata": {},
     "output_type": "display_data"
    },
    {
     "data": {
      "text/markdown": [
       "<div class=\"alert alert-block alert-success\"> <b>-16.346: ever seen one one worst movies ever seen long time</b></div>"
      ],
      "text/plain": [
       "<IPython.core.display.Markdown object>"
      ]
     },
     "metadata": {},
     "output_type": "display_data"
    },
    {
     "data": {
      "text/markdown": [
       "<div class=\"alert alert-block alert-info\"> <b>&lt;sos&gt; &lt;unk&gt; worst movie</b></div>"
      ],
      "text/plain": [
       "<IPython.core.display.Markdown object>"
      ]
     },
     "metadata": {},
     "output_type": "display_data"
    },
    {
     "data": {
      "text/markdown": [
       "<div class=\"alert alert-block alert-success\"> <b>-14.730: ever seen one worst movies ever seen bad acting bad</b></div>"
      ],
      "text/plain": [
       "<IPython.core.display.Markdown object>"
      ]
     },
     "metadata": {},
     "output_type": "display_data"
    },
    {
     "data": {
      "text/markdown": [
       "<div class=\"alert alert-block alert-success\"> <b>-14.844: ever seen bad acting bad acting bad bad acting bad</b></div>"
      ],
      "text/plain": [
       "<IPython.core.display.Markdown object>"
      ]
     },
     "metadata": {},
     "output_type": "display_data"
    },
    {
     "data": {
      "text/markdown": [
       "<div class=\"alert alert-block alert-success\"> <b>-14.857: ever seen life one worst movies ever seen long time</b></div>"
      ],
      "text/plain": [
       "<IPython.core.display.Markdown object>"
      ]
     },
     "metadata": {},
     "output_type": "display_data"
    }
   ],
   "source": [
    "for start_tokens_elem, start_tokens_lens_elem, decoded_tokens_elem, decoded_lens_elem, log_probas_elem in zip(\n",
    "    start_tokens.T, start_tokens_lens,\n",
    "    decoded_tokens.permute(1, 2, 0), decoded_lens.permute(0, 1), log_probas.permute(0, 1)\n",
    "):\n",
    "    start_tokens_elem = start_tokens_elem[:start_tokens_lens_elem].tolist()\n",
    "    start_words = np.array(lm_model.vocab.get_itos())[np.array(start_tokens_elem)]\n",
    "    \n",
    "    start_text = ' '.join(start_words).replace('<', '&lt;').replace('>', '&gt;')\n",
    "    display(Markdown(f'<div class=\"alert alert-block alert-info\"> <b>{start_text}</b></div>'))\n",
    "    \n",
    "    for idx, (hyp, hyp_len, hyp_log_prob) in enumerate(zip(decoded_tokens_elem, decoded_lens_elem, log_probas_elem)):\n",
    "        if idx >= 3:\n",
    "            break\n",
    "            \n",
    "        hyp = hyp[:hyp_len].tolist()\n",
    "        hyp_words = np.array(lm_model.vocab.get_itos())[np.array(hyp)]\n",
    "        hyp_text = ' '.join(hyp_words).replace('<', '&lt;').replace('>', '&gt;')\n",
    "        display(Markdown(\n",
    "            f'<div class=\"alert alert-block alert-success\"> <b>{hyp_log_prob:.3f}: {hyp_text}</b></div>'\n",
    "        ))"
   ]
  },
  {
   "cell_type": "markdown",
   "metadata": {},
   "source": [
    "Попробуйте выполнить декодинг для разных `beam_size`. Убедитесь, что при `beam_search=1` семплирование совпадает с top-1 (greedy decoding) подходом. \n",
    "\n",
    "Сравните результаты Beam Search с top-k семплированием и жадным декодированием. Опишите ваши наблюдения."
   ]
  },
  {
   "cell_type": "code",
   "execution_count": null,
   "metadata": {
    "ExecuteTime": {
     "end_time": "2024-03-30T22:00:59.682820Z",
     "start_time": "2024-03-30T22:00:59.682812Z"
    }
   },
   "outputs": [],
   "source": [
    "# YOUR CODE HERE"
   ]
  },
  {
   "cell_type": "markdown",
   "metadata": {
    "ExecuteTime": {
     "end_time": "2021-04-02T15:04:51.678260Z",
     "start_time": "2021-04-02T15:04:51.673587Z"
    }
   },
   "source": [
    "## `Бонус. Существенное улучшение качества (до 6 баллов)`"
   ]
  },
  {
   "cell_type": "markdown",
   "metadata": {},
   "source": [
    "Та модель, которая использовалась в предыдущей части во многом заимствует улучшения LSTM из статьи [Regularizing and Optimizing LSTM Language Models](https://arxiv.org/pdf/1708.02182.pdf). Вы можете попробовать применить другие варианты регуляризации из данной статьи для существенного улучшения качества LM.\n",
    "\n",
    "Например:\n",
    "1. Dropout для эмбеддингов **(+0.25)**\n",
    "2. Dropout входов и выходов RNN **(+0.25)**\n",
    "3. Регуляризация активаций (AR/TAR) **(+1.0)**\n",
    "4. NT-ASGD **(+1.5)**\n",
    "5. Tied веса эмбеддингов и софтмакса **(+1.0)**\n",
    "6. Attention **(+2.0)**\n",
    "\n",
    "**Полные баллы ставятся только при наличии качественного и количественного сравнения с бейзлайном.**\n",
    "\n",
    "**Для эксперимента с Attention необходимо изобразить Attention Maps для нескольких примеров.**"
   ]
  }
 ],
 "metadata": {
  "kernelspec": {
   "display_name": "Python 3 (ipykernel)",
   "language": "python",
   "name": "python3"
  },
  "language_info": {
   "codemirror_mode": {
    "name": "ipython",
    "version": 3
   },
   "file_extension": ".py",
   "mimetype": "text/x-python",
   "name": "python",
   "nbconvert_exporter": "python",
   "pygments_lexer": "ipython3",
   "version": "3.9.7"
  },
  "toc": {
   "base_numbering": 1,
   "nav_menu": {},
   "number_sections": false,
   "sideBar": true,
   "skip_h1_title": false,
   "title_cell": "Table of Contents",
   "title_sidebar": "Contents",
   "toc_cell": false,
   "toc_position": {
    "height": "804px",
    "left": "148px",
    "top": "50px",
    "width": "555.391px"
   },
   "toc_section_display": true,
   "toc_window_display": false
  },
  "varInspector": {
   "cols": {
    "lenName": 16,
    "lenType": 16,
    "lenVar": 40
   },
   "kernels_config": {
    "python": {
     "delete_cmd_postfix": "",
     "delete_cmd_prefix": "del ",
     "library": "var_list.py",
     "varRefreshCmd": "print(var_dic_list())"
    },
    "r": {
     "delete_cmd_postfix": ") ",
     "delete_cmd_prefix": "rm(",
     "library": "var_list.r",
     "varRefreshCmd": "cat(var_dic_list()) "
    }
   },
   "position": {
    "height": "313px",
    "left": "926px",
    "right": "27px",
    "top": "120px",
    "width": "343px"
   },
   "types_to_exclude": [
    "module",
    "function",
    "builtin_function_or_method",
    "instance",
    "_Feature"
   ],
   "window_display": false
  }
 },
 "nbformat": 4,
 "nbformat_minor": 4
}
